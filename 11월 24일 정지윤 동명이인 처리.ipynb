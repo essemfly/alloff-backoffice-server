{
 "cells": [
  {
   "cell_type": "code",
   "execution_count": 1,
   "id": "9c1fdd12",
   "metadata": {},
   "outputs": [],
   "source": [
    "import os\n",
    "import django\n",
    "os.environ.setdefault('DJANGO_SETTINGS_MODULE', 'rest.settings')\n",
    "os.environ[\"DJANGO_ALLOW_ASYNC_UNSAFE\"] = \"true\"\n",
    "django.setup()\n",
    "\n",
    "from tagger.models import ExtendedOrder, ShippingNoticeItem"
   ]
  },
  {
   "cell_type": "code",
   "execution_count": 4,
   "id": "6f2eb477",
   "metadata": {},
   "outputs": [],
   "source": [
    "make_all_shippables()"
   ]
  },
  {
   "cell_type": "code",
   "execution_count": 5,
   "id": "f661590d",
   "metadata": {},
   "outputs": [],
   "source": [
    "for so in ShippableOrder.objects.all():\n",
    "    print(so.eo.order.payment.buyername)\n",
    "    for soi in so.shippableorderitem_set.all():\n",
    "        print(soi.inventory.code)"
   ]
  },
  {
   "cell_type": "code",
   "execution_count": 2,
   "id": "0c05cf4a",
   "metadata": {},
   "outputs": [],
   "source": [
    "orders = ExtendedOrder.objects.filter(code__in=[\"GL6XE\", \"JAW9N\"]).all()"
   ]
  },
  {
   "cell_type": "code",
   "execution_count": 7,
   "id": "3a2f78ec",
   "metadata": {},
   "outputs": [],
   "source": [
    "items = [x.extendedorderitem_set.all()[0] for x in orders]"
   ]
  },
  {
   "cell_type": "code",
   "execution_count": 10,
   "id": "28d6e3b9",
   "metadata": {},
   "outputs": [],
   "source": [
    "for x in ShippingNoticeItem.objects.filter(item__in=items).all():\n",
    "    x.delete()"
   ]
  },
  {
   "cell_type": "code",
   "execution_count": null,
   "id": "a87a9075",
   "metadata": {},
   "outputs": [],
   "source": [
    "a.extendedorderitem_set"
   ]
  }
 ],
 "metadata": {
  "kernelspec": {
   "display_name": "Django Shell-Plus",
   "language": "python",
   "name": "django_extensions"
  },
  "language_info": {
   "codemirror_mode": {
    "name": "ipython",
    "version": 3
   },
   "file_extension": ".py",
   "mimetype": "text/x-python",
   "name": "python",
   "nbconvert_exporter": "python",
   "pygments_lexer": "ipython3",
   "version": "3.9.6"
  }
 },
 "nbformat": 4,
 "nbformat_minor": 5
}
