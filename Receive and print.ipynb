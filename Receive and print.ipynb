{
 "cells": [
  {
   "cell_type": "code",
   "execution_count": 10,
   "id": "e0b59145",
   "metadata": {},
   "outputs": [],
   "source": [
    "from tagger.core.mongo.models.order import Order, OrderCodeMap\n",
    "from datetime import datetime\n",
    "from tagger.models import Inventory\n",
    "from tagger.models.inventory import InventoryStatus, ProductType\n",
    "from tagger.core.label.receiving_label import make_receiving_label\n",
    "from tagger.core.label.print_label import print_label\n",
    "from bson import ObjectId\n",
    "from tagger.core.mongo.models.product import Product\n",
    "from tagger.core.mongo.models.alloff_product import AlloffProduct\n",
    "\n",
    "import os\n",
    "import django\n",
    "os.environ.setdefault('DJANGO_SETTINGS_MODULE', 'rest.settings')\n",
    "os.environ[\"DJANGO_ALLOW_ASYNC_UNSAFE\"] = \"true\"\n",
    "django.setup()"
   ]
  },
  {
   "cell_type": "code",
   "execution_count": 2,
   "id": "90130dfc",
   "metadata": {},
   "outputs": [],
   "source": [
    "orders = Order.objects(orderstatus__nin=[\n",
    "    \"CREATED\", \"RECREATED\", \"PAYMENT_PENDING\",\n",
    "    \"CANCEL_FINISHED\", \"DELIVERY_FINISHED\", \"CONFIRM_PAYMENT\", \"DELIVERY_STARTED\"\n",
    "])\n",
    "order_map = {}\n",
    "\n",
    "for order in orders:\n",
    "    if order.orderstatus not in order_map:\n",
    "        order_map[order.orderstatus] = []\n",
    "    order_map[order.orderstatus].append(order)"
   ]
  },
  {
   "cell_type": "code",
   "execution_count": 5,
   "id": "a35de4a5",
   "metadata": {},
   "outputs": [],
   "source": []
  },
  {
   "cell_type": "code",
   "execution_count": 3,
   "id": "4b5a1e87",
   "metadata": {},
   "outputs": [],
   "source": [
    "def make_inventory(order: Order, is_return=False, target_item_index=None):\n",
    "    if len(order.orders) > 1 and (target_item_index is None or target_item_index >= len(order.orders)):\n",
    "        raise \"Multiple items in the order... specify correct item index!\"\n",
    "    \n",
    "    item = order.orders[0 if len(order.orders) == 1 else target_item_index]\n",
    "    product = item.product if item.product is not None else item.alloffproduct\n",
    "    product_type = ProductType.NORMAL_PRODUCT if item.product is not None else ProductType.TIMEDEAL_PRODUCT\n",
    "    \n",
    "    today = datetime.now().date()\n",
    "    \n",
    "    today_inventory_count = Inventory.objects.filter(created__gte=today).count()\n",
    "    code_prefix = today.isoformat()[2:].replace(\"-\", \"\")\n",
    "    current_sequence = today_inventory_count + 1  # 0 inventories --> current is #1 (starts with 1)\n",
    "    code = f\"{code_prefix}-{str(current_sequence).zfill(3)}\"\n",
    "    if is_return:\n",
    "        code += \"-R\"\n",
    "    \n",
    "    \n",
    "    \n",
    "    return Inventory.objects.create(\n",
    "        code=code,\n",
    "        status=InventoryStatus.IN_STOCK,\n",
    "        size=item.size,\n",
    "        product_id=str(product._id),\n",
    "        product_from_order_url=f\"https://office.alloff.co/orders/{order.id}\",\n",
    "        product_name=product.name,\n",
    "        product_brand=product.brand.keyname,\n",
    "        product_type=product_type\n",
    "    )\n",
    "    "
   ]
  },
  {
   "cell_type": "code",
   "execution_count": 14,
   "id": "3d278a54",
   "metadata": {},
   "outputs": [
    {
     "name": "stderr",
     "output_type": "stream",
     "text": [
      "/Users/stephenj/Library/Caches/pypoetry/virtualenvs/alloff-backoffice-server-V9pDS2iq-py3.9/lib/python3.9/site-packages/django/db/models/fields/__init__.py:1358: RuntimeWarning: DateTimeField Inventory.created received a naive datetime (2021-11-08 00:00:00) while time zone support is active.\n",
      "  warnings.warn(\"DateTimeField %s.%s received a naive datetime \"\n"
     ]
    }
   ],
   "source": [
    "inventory = make_inventory(Order.get_by_code(\"m36bc\"))\n",
    "print_label(make_receiving_label(inventory))"
   ]
  },
  {
   "cell_type": "code",
   "execution_count": 24,
   "id": "a1da43ac",
   "metadata": {},
   "outputs": [],
   "source": [
    "is_return=False\n",
    "inventory = make_inventory(Order.objects(id=ObjectId(\"616bfc4c17fc2e5a1f9e8d24\")).first(), is_return=is_return)\n",
    "print_label(make_receiving_label(inventory))"
   ]
  },
  {
   "cell_type": "code",
   "execution_count": 12,
   "id": "58d5a502",
   "metadata": {},
   "outputs": [],
   "source": [
    "for i in Inventory.objects.all():\n",
    "    product = (\n",
    "        Product.objects(id=ObjectId(i.product_id)) if i.product_type == ProductType.NORMAL_PRODUCT \n",
    "        else AlloffProduct.objects(id=ObjectId(i.product_id))).first()\n",
    "    \n",
    "    i.product_brand = product.brand.keyname\n",
    "    i.save()\n",
    "    \n",
    "               "
   ]
  },
  {
   "cell_type": "code",
   "execution_count": null,
   "id": "816f7bde",
   "metadata": {},
   "outputs": [],
   "source": []
  }
 ],
 "metadata": {
  "kernelspec": {
   "display_name": "Django Shell-Plus",
   "language": "python",
   "name": "django_extensions"
  },
  "language_info": {
   "codemirror_mode": {
    "name": "ipython",
    "version": 3
   },
   "file_extension": ".py",
   "mimetype": "text/x-python",
   "name": "python",
   "nbconvert_exporter": "python",
   "pygments_lexer": "ipython3",
   "version": "3.9.6"
  }
 },
 "nbformat": 4,
 "nbformat_minor": 5
}
