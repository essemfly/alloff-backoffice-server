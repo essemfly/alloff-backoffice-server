{
 "cells": [
  {
   "cell_type": "code",
   "execution_count": 1,
   "id": "e0b59145",
   "metadata": {},
   "outputs": [],
   "source": [
    "from tagger.core.mongo.models.order import Order, OrderCodeMap\n",
    "from datetime import datetime\n",
    "from tagger.models import Inventory\n",
    "from tagger.models.inventory import InventoryStatus, ProductType\n",
    "from tagger.core.label.receiving_label import make_receiving_label\n",
    "from tagger.core.label.print_label import print_label\n",
    "from bson import ObjectId\n",
    "from tagger.core.mongo.models.product import Product\n",
    "from tagger.core.mongo.models.alloff_product import AlloffProduct\n",
    "\n",
    "import os\n",
    "import django\n",
    "os.environ.setdefault('DJANGO_SETTINGS_MODULE', 'rest.settings')\n",
    "os.environ[\"DJANGO_ALLOW_ASYNC_UNSAFE\"] = \"true\"\n",
    "django.setup()"
   ]
  },
  {
   "cell_type": "code",
   "execution_count": 2,
   "id": "90130dfc",
   "metadata": {},
   "outputs": [],
   "source": [
    "orders = Order.objects(orderstatus__nin=[\n",
    "    \"CREATED\", \"RECREATED\", \"PAYMENT_PENDING\",\n",
    "    \"CANCEL_FINISHED\", \"DELIVERY_FINISHED\", \"CONFIRM_PAYMENT\", \"DELIVERY_STARTED\"\n",
    "])\n",
    "order_map = {}\n",
    "\n",
    "for order in orders:\n",
    "    if order.orderstatus not in order_map:\n",
    "        order_map[order.orderstatus] = []\n",
    "    order_map[order.orderstatus].append(order)"
   ]
  },
  {
   "cell_type": "code",
   "execution_count": null,
   "id": "a35de4a5",
   "metadata": {},
   "outputs": [],
   "source": []
  },
  {
   "cell_type": "code",
   "execution_count": 5,
   "id": "4b5a1e87",
   "metadata": {},
   "outputs": [],
   "source": [
    "def make_inventory(order: Order, is_return=False, needs_processing=None, target_item_index=None):\n",
    "    if len(order.orders) > 1 and (target_item_index is None or target_item_index >= len(order.orders)):\n",
    "        raise \"Multiple items in the order... specify correct item index!\"\n",
    "    \n",
    "    item = order.orders[0 if len(order.orders) == 1 else target_item_index]\n",
    "    product = item.product if item.product is not None else item.alloffproduct\n",
    "    product_type = ProductType.NORMAL_PRODUCT if item.product is not None else ProductType.TIMEDEAL_PRODUCT\n",
    "    \n",
    "    today = datetime.now().date()\n",
    "    \n",
    "    today_inventory_count = Inventory.objects.filter(created__gte=today).count()\n",
    "    code_prefix = today.isoformat()[2:].replace(\"-\", \"\")\n",
    "    current_sequence = today_inventory_count + 1  # 0 inventories --> current is #1 (starts with 1)\n",
    "    code = f\"{code_prefix}-{str(current_sequence).zfill(3)}\"\n",
    "    if is_return:\n",
    "        code += \"-R\"\n",
    "    if needs_processing:\n",
    "        code += \"-NP\"\n",
    "    \n",
    "    \n",
    "    return Inventory.objects.create(\n",
    "        code=code,\n",
    "        status=InventoryStatus.PROCESSING_NEEDED if needs_processing else InventoryStatus.IN_STOCK,\n",
    "        size=item.size,\n",
    "        product_id=str(product._id),\n",
    "        in_order_id=order.id,\n",
    "        product_name=product.name,\n",
    "        product_brand=product.brand.keyname,\n",
    "        product_type=product_type\n",
    "    )\n",
    "    "
   ]
  },
  {
   "cell_type": "code",
   "execution_count": 6,
   "id": "3d278a54",
   "metadata": {},
   "outputs": [],
   "source": [
    "inventory = make_inventory(Order.get(\"6173e41817fc2e5a1f9e9e67\"), is_return=True)\n",
    "\n",
    "# inventory = make_inventory(Order.get_by_code(\"uewke\"), target_item_index=1)\n",
    "print_label(make_receiving_label(inventory))"
   ]
  },
  {
   "cell_type": "code",
   "execution_count": 8,
   "id": "a1da43ac",
   "metadata": {},
   "outputs": [
    {
     "data": {
      "text/plain": [
       "[<Order: Order object>]"
      ]
     },
     "execution_count": 8,
     "metadata": {},
     "output_type": "execute_result"
    }
   ],
   "source": [
    "Order.get(\"6178d20c17fc2e5a1f9ea805\")"
   ]
  },
  {
   "cell_type": "code",
   "execution_count": 12,
   "id": "58d5a502",
   "metadata": {},
   "outputs": [],
   "source": [
    "for i in Inventory.objects.all():\n",
    "    product = (\n",
    "        Product.objects(id=ObjectId(i.product_id)) if i.product_type == ProductType.NORMAL_PRODUCT \n",
    "        else AlloffProduct.objects(id=ObjectId(i.product_id))).first()\n",
    "    \n",
    "    i.product_brand = product.brand.keyname\n",
    "    i.save()\n",
    "    \n",
    "               "
   ]
  },
  {
   "cell_type": "code",
   "execution_count": 16,
   "id": "bfba1d0a",
   "metadata": {},
   "outputs": [
    {
     "data": {
      "text/plain": [
       "ObjectId('6180619517fc2e5a1f9eb42f')"
      ]
     },
     "execution_count": 16,
     "metadata": {},
     "output_type": "execute_result"
    }
   ],
   "source": [
    "Order.get_by_code(\"krjub\").id"
   ]
  },
  {
   "cell_type": "code",
   "execution_count": 8,
   "id": "0d309872",
   "metadata": {},
   "outputs": [],
   "source": [
    "print_label(make_receiving_label(Inventory.objects.get(id=37)))"
   ]
  },
  {
   "cell_type": "code",
   "execution_count": 4,
   "id": "88008f4f",
   "metadata": {
    "scrolled": true
   },
   "outputs": [
    {
     "data": {
      "text/plain": [
       "'<?xml version=\"1.0\" encoding=\"utf-8\"?><DesktopLabel Version=\"1\">  <DYMOLabel Version=\"3\">    <Description>DYMO Label</Description>    <Orientation>Landscape</Orientation>    <LabelName>Addresss0722370</LabelName>    <InitialLength>0</InitialLength>    <BorderStyle>SolidLine</BorderStyle>    <DYMORect>      <DYMOPoint>        <X>0.23</X>        <Y>0.06</Y>      </DYMOPoint>      <Size>        <Width>3.21</Width>        <Height>0.9966666</Height>      </Size>    </DYMORect>    <BorderColor>      <SolidColorBrush>        <Color A=\"1\" R=\"0\" G=\"0\" B=\"0\"></Color>      </SolidColorBrush>    </BorderColor>    <BorderThickness>1</BorderThickness>    <Show_Border>False</Show_Border>    <DynamicLayoutManager>      <RotationBehavior>ClearObjects</RotationBehavior>      <LabelObjects>        <TextObject>          <Name>InventoryCode</Name>          <Brushes>            <BackgroundBrush>              <SolidColorBrush>                <Color A=\"0\" R=\"0\" G=\"0\" B=\"0\"></Color>              </SolidColorBrush>            </BackgroundBrush>            <BorderBrush>              <SolidColorBrush>                <Color A=\"1\" R=\"0\" G=\"0\" B=\"0\"></Color>              </SolidColorBrush>            </BorderBrush>            <StrokeBrush>              <SolidColorBrush>                <Color A=\"1\" R=\"0\" G=\"0\" B=\"0\"></Color>              </SolidColorBrush>            </StrokeBrush>            <FillBrush>              <SolidColorBrush>                <Color A=\"0\" R=\"0\" G=\"0\" B=\"0\"></Color>              </SolidColorBrush>            </FillBrush>          </Brushes>          <Rotation>Rotation0</Rotation>          <OutlineThickness>1</OutlineThickness>          <IsOutlined>False</IsOutlined>          <BorderStyle>SolidLine</BorderStyle>          <Margin>            <DYMOThickness Left=\"0\" Top=\"0\" Right=\"0\" Bottom=\"0\" />          </Margin>          <HorizontalAlignment>Left</HorizontalAlignment>          <VerticalAlignment>Middle</VerticalAlignment>          <FitMode>AlwaysFit</FitMode>          <IsVertical>False</IsVertical>          <FormattedText>            <FitMode>AlwaysFit</FitMode>            <HorizontalAlignment>Left</HorizontalAlignment>            <VerticalAlignment>Middle</VerticalAlignment>            <IsVertical>False</IsVertical>            <LineTextSpan>              <TextSpan>                <Text>211109-007</Text>                <FontInfo>                  <FontName>Hack</FontName>                  <FontSize>14.4</FontSize>                  <IsBold>True</IsBold>                  <IsItalic>False</IsItalic>                  <IsUnderline>False</IsUnderline>                  <FontBrush>                    <SolidColorBrush>                      <Color A=\"1\" R=\"0\" G=\"0\" B=\"0\"></Color>                    </SolidColorBrush>                  </FontBrush>                </FontInfo>              </TextSpan>            </LineTextSpan>          </FormattedText>          <ObjectLayout>            <DYMOPoint>              <X>0.2300002</X>              <Y>0.07000001</Y>            </DYMOPoint>            <Size>              <Width>1.281011</Width>              <Height>0.289629</Height>            </Size>          </ObjectLayout>        </TextObject>        <QRCodeObject>          <Name>QR</Name>          <Brushes>            <BackgroundBrush>              <SolidColorBrush>                <Color A=\"1\" R=\"1\" G=\"1\" B=\"1\"></Color>              </SolidColorBrush>            </BackgroundBrush>            <BorderBrush>              <SolidColorBrush>                <Color A=\"1\" R=\"0\" G=\"0\" B=\"0\"></Color>              </SolidColorBrush>            </BorderBrush>            <StrokeBrush>              <SolidColorBrush>                <Color A=\"1\" R=\"0\" G=\"0\" B=\"0\"></Color>              </SolidColorBrush>            </StrokeBrush>            <FillBrush>              <SolidColorBrush>                <Color A=\"1\" R=\"0\" G=\"0\" B=\"0\"></Color>              </SolidColorBrush>            </FillBrush>          </Brushes>          <Rotation>Rotation0</Rotation>          <OutlineThickness>1</OutlineThickness>          <IsOutlined>False</IsOutlined>          <BorderStyle>SolidLine</BorderStyle>          <Margin>            <DYMOThickness Left=\"0\" Top=\"0\" Right=\"0\" Bottom=\"0\" />          </Margin>          <BarcodeFormat>QRCode</BarcodeFormat>          <Data>            <DataString>https://office.alloff.co/orders/61851cfd26685ff0517554eb</DataString>          </Data>          <HorizontalAlignment>Center</HorizontalAlignment>            <VerticalAlignment>Middle</VerticalAlignment>            <Size>Medium</Size>            <EQRCodeType>QRCodeText</EQRCodeType>            <TextDataHolder>            <Value>https://office.alloff.co/orders/61851cfd26685ff0517554eb</Value>            </TextDataHolder>          <ObjectLayout>            <DYMOPoint>              <X>2.723643</X>              <Y>0.07000001</Y>            </DYMOPoint>            <Size>              <Width>0.7163572</Width>              <Height>0.6281938</Height>            </Size>          </ObjectLayout>        </QRCodeObject>        <TextObject>          <Name>BrandKeyname</Name>          <Brushes>            <BackgroundBrush>              <SolidColorBrush>                <Color A=\"0\" R=\"0\" G=\"0\" B=\"0\"></Color>              </SolidColorBrush>            </BackgroundBrush>            <BorderBrush>              <SolidColorBrush>                <Color A=\"1\" R=\"0\" G=\"0\" B=\"0\"></Color>              </SolidColorBrush>            </BorderBrush>            <StrokeBrush>              <SolidColorBrush>                <Color A=\"1\" R=\"0\" G=\"0\" B=\"0\"></Color>              </SolidColorBrush>            </StrokeBrush>            <FillBrush>              <SolidColorBrush>                <Color A=\"0\" R=\"0\" G=\"0\" B=\"0\"></Color>              </SolidColorBrush>            </FillBrush>          </Brushes>          <Rotation>Rotation0</Rotation>          <OutlineThickness>1</OutlineThickness>          <IsOutlined>False</IsOutlined>          <BorderStyle>SolidLine</BorderStyle>          <Margin>            <DYMOThickness Left=\"0\" Top=\"0\" Right=\"0\" Bottom=\"0\" />          </Margin>          <HorizontalAlignment>Left</HorizontalAlignment>          <VerticalAlignment>Middle</VerticalAlignment>          <FitMode>AlwaysFit</FitMode>          <IsVertical>False</IsVertical>          <FormattedText>            <FitMode>AlwaysFit</FitMode>            <HorizontalAlignment>Left</HorizontalAlignment>            <VerticalAlignment>Middle</VerticalAlignment>            <IsVertical>False</IsVertical>            <LineTextSpan>              <TextSpan>                <Text>BEANPOLEL</Text>                <FontInfo>                  <FontName>Hack</FontName>                  <FontSize>14</FontSize>                  <IsBold>False</IsBold>                  <IsItalic>False</IsItalic>                  <IsUnderline>False</IsUnderline>                  <FontBrush>                    <SolidColorBrush>                      <Color A=\"1\" R=\"0\" G=\"0\" B=\"0\"></Color>                    </SolidColorBrush>                  </FontBrush>                </FontInfo>              </TextSpan>            </LineTextSpan>          </FormattedText>          <ObjectLayout>            <DYMOPoint>              <X>0.2300002</X>              <Y>0.5766463</Y>            </DYMOPoint>            <Size>              <Width>1.200184</Width>              <Height>0.243095</Height>            </Size>          </ObjectLayout>        </TextObject>        <TextObject>          <Name>ProductName</Name>          <Brushes>            <BackgroundBrush>              <SolidColorBrush>                <Color A=\"0\" R=\"0\" G=\"0\" B=\"0\"></Color>              </SolidColorBrush>            </BackgroundBrush>            <BorderBrush>              <SolidColorBrush>                <Color A=\"1\" R=\"0\" G=\"0\" B=\"0\"></Color>              </SolidColorBrush>            </BorderBrush>            <StrokeBrush>              <SolidColorBrush>                <Color A=\"1\" R=\"0\" G=\"0\" B=\"0\"></Color>              </SolidColorBrush>            </StrokeBrush>            <FillBrush>              <SolidColorBrush>                <Color A=\"0\" R=\"0\" G=\"0\" B=\"0\"></Color>              </SolidColorBrush>            </FillBrush>          </Brushes>          <Rotation>Rotation0</Rotation>          <OutlineThickness>1</OutlineThickness>          <IsOutlined>False</IsOutlined>          <BorderStyle>SolidLine</BorderStyle>          <Margin>            <DYMOThickness Left=\"0\" Top=\"0\" Right=\"0\" Bottom=\"0\" />          </Margin>          <HorizontalAlignment>Left</HorizontalAlignment>          <VerticalAlignment>Middle</VerticalAlignment>          <FitMode>None</FitMode>          <IsVertical>False</IsVertical>          <FormattedText>            <FitMode>None</FitMode>            <HorizontalAlignment>Left</HorizontalAlignment>            <VerticalAlignment>Middle</VerticalAlignment>            <IsVertical>False</IsVertical>            <LineTextSpan>              <TextSpan>                <Text>(100) 투웨이 점퍼&조끼 다운 베스트(블랙) </Text>                <FontInfo>                  <FontName>Spoqa Han Sans Neo</FontName>                  <FontSize>10</FontSize>                  <IsBold>False</IsBold>                  <IsItalic>False</IsItalic>                  <IsUnderline>False</IsUnderline>                  <FontBrush>                    <SolidColorBrush>                      <Color A=\"1\" R=\"0\" G=\"0\" B=\"0\"></Color>                    </SolidColorBrush>                  </FontBrush>                </FontInfo>              </TextSpan>            </LineTextSpan>          </FormattedText>          <ObjectLayout>            <DYMOPoint>              <X>0.2300002</X>              <Y>0.7814646</Y>            </DYMOPoint>            <Size>              <Width>3.21</Width>              <Height>0.275202</Height>            </Size>          </ObjectLayout>        </TextObject>        <TextObject>          <Name>ProductTypeId</Name>          <Brushes>            <BackgroundBrush>              <SolidColorBrush>                <Color A=\"0\" R=\"0\" G=\"0\" B=\"0\"></Color>              </SolidColorBrush>            </BackgroundBrush>            <BorderBrush>              <SolidColorBrush>                <Color A=\"1\" R=\"0\" G=\"0\" B=\"0\"></Color>              </SolidColorBrush>            </BorderBrush>            <StrokeBrush>              <SolidColorBrush>                <Color A=\"1\" R=\"0\" G=\"0\" B=\"0\"></Color>              </SolidColorBrush>            </StrokeBrush>            <FillBrush>              <SolidColorBrush>                <Color A=\"0\" R=\"0\" G=\"0\" B=\"0\"></Color>              </SolidColorBrush>            </FillBrush>          </Brushes>          <Rotation>Rotation0</Rotation>          <OutlineThickness>1</OutlineThickness>          <IsOutlined>False</IsOutlined>          <BorderStyle>SolidLine</BorderStyle>          <Margin>            <DYMOThickness Left=\"0\" Top=\"0\" Right=\"0\" Bottom=\"0\" />          </Margin>          <HorizontalAlignment>Left</HorizontalAlignment>          <VerticalAlignment>Middle</VerticalAlignment>          <FitMode>AlwaysFit</FitMode>          <IsVertical>False</IsVertical>          <FormattedText>            <FitMode>AlwaysFit</FitMode>            <HorizontalAlignment>Left</HorizontalAlignment>            <VerticalAlignment>Middle</VerticalAlignment>            <IsVertical>False</IsVertical>            <LineTextSpan>              <TextSpan>                <Text>A-61850f55ee2c39d09bebec50</Text>                <FontInfo>                  <FontName>Hack</FontName>                  <FontSize>10.4</FontSize>                  <IsBold>True</IsBold>                  <IsItalic>False</IsItalic>                  <IsUnderline>False</IsUnderline>                  <FontBrush>                    <SolidColorBrush>                      <Color A=\"1\" R=\"0\" G=\"0\" B=\"0\"></Color>                    </SolidColorBrush>                  </FontBrush>                </FontInfo>              </TextSpan>            </LineTextSpan>          </FormattedText>          <ObjectLayout>            <DYMOPoint>              <X>0.2300002</X>              <Y>0.2870173</Y>            </DYMOPoint>            <Size>              <Width>2.423784</Width>              <Height>0.289629</Height>            </Size>          </ObjectLayout>        </TextObject>      </LabelObjects>    </DynamicLayoutManager>  </DYMOLabel>  <LabelApplication>Blank</LabelApplication>  <DataTable>    <Columns></Columns>    <Rows></Rows>  </DataTable></DesktopLabel>'"
      ]
     },
     "execution_count": 4,
     "metadata": {},
     "output_type": "execute_result"
    }
   ],
   "source": []
  },
  {
   "cell_type": "code",
   "execution_count": 6,
   "id": "50dce113",
   "metadata": {},
   "outputs": [],
   "source": [
    "# For returns\n",
    "\n",
    "inventory = make_inventory(Order.get(\"61812b1d26685ff051754ce4\"), is_return=True)\n",
    "print_label(make_receiving_label(inventory))"
   ]
  },
  {
   "cell_type": "code",
   "execution_count": 24,
   "id": "75a06cc9",
   "metadata": {},
   "outputs": [],
   "source": [
    "# print_label(make_receiving_label(Inventory.objects.get(id=143)))"
   ]
  },
  {
   "cell_type": "code",
   "execution_count": 19,
   "id": "a6c6c943",
   "metadata": {},
   "outputs": [
    {
     "data": {
      "text/plain": [
       "datetime.datetime(2021, 11, 9, 4, 28, 27, 835328, tzinfo=<UTC>)"
      ]
     },
     "execution_count": 19,
     "metadata": {},
     "output_type": "execute_result"
    }
   ],
   "source": [
    "Inventory.objects.filter(product_from_order_url=f\"\"\"https://office.alloff.co/orders/{Order.get(\"KTFKF\").id}\"\"\")[0].created"
   ]
  },
  {
   "cell_type": "code",
   "execution_count": 5,
   "id": "8c07989a",
   "metadata": {},
   "outputs": [
    {
     "data": {
      "text/plain": [
       "ObjectId('6180fd6d26685ff051754c51')"
      ]
     },
     "execution_count": 5,
     "metadata": {},
     "output_type": "execute_result"
    }
   ],
   "source": [
    "Order.get(\"euveb\").id"
   ]
  },
  {
   "cell_type": "code",
   "execution_count": 23,
   "id": "ee95161c",
   "metadata": {},
   "outputs": [],
   "source": [
    "print_label(make_receiving_label(Inventory.objects.get(pk=47)))"
   ]
  },
  {
   "cell_type": "code",
   "execution_count": 22,
   "id": "218f8ce8",
   "metadata": {},
   "outputs": [
    {
     "data": {
      "text/plain": [
       "<Inventory: Inventory #30 [IN_STOCK] 볼륨 소매 니트 풀오버(민트) (201104-019)>"
      ]
     },
     "execution_count": 22,
     "metadata": {},
     "output_type": "execute_result"
    }
   ],
   "source": [
    "Inventory.objects.filter(code__startswith=\"201104\").order_by('-code').first()"
   ]
  },
  {
   "cell_type": "code",
   "execution_count": 25,
   "id": "cd91d7b7",
   "metadata": {},
   "outputs": [
    {
     "data": {
      "text/plain": [
       "157"
      ]
     },
     "execution_count": 25,
     "metadata": {},
     "output_type": "execute_result"
    }
   ],
   "source": [
    "Inventory.objects.update(location=\"\")"
   ]
  },
  {
   "cell_type": "code",
   "execution_count": 26,
   "id": "a174fa57",
   "metadata": {},
   "outputs": [],
   "source": [
    "CUBE_ROOM = [\n",
    "    \"61813fbd26685ff051754d3c\",\n",
    "    \"6185270426685ff051755530\",\n",
    "    \"61812f0626685ff051754cfa\",\n",
    "    \"6185735326685ff0517555d8\",\n",
    "    \"61813fbd26685ff051754d3c\",\n",
    "    \"618a64b026685ff051755da2\",\n",
    "    \"6185735326685ff0517555d8\",\n",
    "    \"61776a9017fc2e5a1f9ea5a4\",\n",
    "    \"6171131b17fc2e5a1f9e9754\",\n",
    "    \"616e1b5917fc2e5a1f9e91e6\",\n",
    "    \"616e094917fc2e5a1f9e91bd\",\n",
    "    \"616d707617fc2e5a1f9e907d\",\n",
    "    \"617b49a017fc2e5a1f9ead04\",\n",
    "    \"61701beb17fc2e5a1f9e9597\",\n",
    "    \"6177e05817fc2e5a1f9ea668\",\n",
    "    \"61715b9817fc2e5a1f9e9842\",\n",
    "]\n",
    "\n",
    "CUBE_HANGER = [\n",
    "    \"617e246117fc2e5a1f9eb0e0\",\n",
    "    \"6178c79a17fc2e5a1f9ea7c4\",\n",
    "    \"6179f1d717fc2e5a1f9eaaa2\",\n",
    "    \"61796a8017fc2e5a1f9eaa39\",\n",
    "    \"6178fa2017fc2e5a1f9ea859\",\n",
    "    \"6178d5d217fc2e5a1f9ea810\",\n",
    "    \"6180fd6d26685ff051754c51\",\n",
    "    \"6171f2c617fc2e5a1f9e997b\",\n",
    "]\n",
    "\n",
    "SPARK_PLUS = [\n",
    "    \"6172b39017fc2e5a1f9e9c30\",\n",
    "    \"6171f2c617fc2e5a1f9e997b\",\n",
    "    \"6168ff9e17fc2e5a1f9e893c\",\n",
    "    \"617a2e6917fc2e5a1f9eaae8\",\n",
    "    \"616259aea789fd943b7ce0f6\",\n",
    "]"
   ]
  },
  {
   "cell_type": "code",
   "execution_count": 31,
   "id": "7bfa6b60",
   "metadata": {},
   "outputs": [
    {
     "data": {
      "text/plain": [
       "2"
      ]
     },
     "execution_count": 31,
     "metadata": {},
     "output_type": "execute_result"
    }
   ],
   "source": [
    "Inventory.objects.filter(in_order_id__in=CUBE_ROOM, status=\"IN_STOCK\").update(location=\"큐브-박스\")\n",
    "Inventory.objects.filter(in_order_id__in=CUBE_HANGER, status=\"IN_STOCK\").update(location=\"큐브-행거\")\n",
    "Inventory.objects.filter(in_order_id__in=SPARK_PLUS, status=\"IN_STOCK\").update(location=\"본사\")"
   ]
  },
  {
   "cell_type": "code",
   "execution_count": null,
   "id": "71365d40",
   "metadata": {},
   "outputs": [],
   "source": []
  }
 ],
 "metadata": {
  "kernelspec": {
   "display_name": "Django Shell-Plus",
   "language": "python",
   "name": "django_extensions"
  },
  "language_info": {
   "codemirror_mode": {
    "name": "ipython",
    "version": 3
   },
   "file_extension": ".py",
   "mimetype": "text/x-python",
   "name": "python",
   "nbconvert_exporter": "python",
   "pygments_lexer": "ipython3",
   "version": "3.9.6"
  }
 },
 "nbformat": 4,
 "nbformat_minor": 5
}
