{
 "cells": [
  {
   "cell_type": "code",
   "execution_count": 1,
   "id": "a050840c",
   "metadata": {},
   "outputs": [],
   "source": [
    "import os\n",
    "import pandas as pd\n",
    "import django\n",
    "os.environ.setdefault('DJANGO_SETTINGS_MODULE', 'rest.settings')\n",
    "os.environ[\"DJANGO_ALLOW_ASYNC_UNSAFE\"] = \"true\"\n",
    "django.setup()\n",
    "\n",
    "from tagger.core.mongo.models.order import Order, OrderType, Payment\n",
    "from tagger.models.inventory import Inventory, InventoryStatus\n",
    "from tagger.core.label.print_label import print_label\n",
    "from tagger.core.label.shipping_label import make_shipping_label\n",
    "from tagger.models import ShippingNotice\n",
    "from bson import ObjectId\n"
   ]
  },
  {
   "cell_type": "code",
   "execution_count": 2,
   "id": "1bf24549",
   "metadata": {},
   "outputs": [],
   "source": [
    "notice = ShippingNotice.objects.all().first()"
   ]
  },
  {
   "cell_type": "code",
   "execution_count": 4,
   "id": "55e8dc17",
   "metadata": {},
   "outputs": [],
   "source": [
    "for item in notice.items.all():\n",
    "    item.inventory.status = InventoryStatus.IN_STOCK\n",
    "    item.inventory.save()"
   ]
  },
  {
   "cell_type": "code",
   "execution_count": 3,
   "id": "8a0b3ba6",
   "metadata": {},
   "outputs": [],
   "source": [
    "print_label(make_shipping_label(notice.packages.first()))"
   ]
  },
  {
   "cell_type": "code",
   "execution_count": 6,
   "id": "417f4477",
   "metadata": {},
   "outputs": [
    {
     "data": {
      "text/plain": [
       "True"
      ]
     },
     "execution_count": 6,
     "metadata": {},
     "output_type": "execute_result"
    }
   ],
   "source": [
    "REVERTS = [\n",
    "    \"211117-021\",\n",
    "    \"211117-008\",\n",
    "    \"211117-007\",\n",
    "    \"211117-018\",\n",
    "    \"211117-001\",\n",
    "    \"211117-013\",\n",
    "    \"211117-017\",\n",
    "    \"211117-009\",\n",
    "    \"211117-011\",\n",
    "    \"211117-012\",\n",
    "    \"211117-003\",\n",
    "    \"211117-002-R\",\n",
    "    \"211117-015\",\n",
    "    \"211117-014\",\n",
    "    \"211117-005\",\n",
    "    \"211117-022-R\",\n",
    "    \"211117-010\",\n",
    "    \"211117-006\",\n",
    "    \"211117-004\",\n",
    "]\n",
    "inventories = Inventory.objects.filter(code__in=REVERTS).all()\n"
   ]
  },
  {
   "cell_type": "code",
   "execution_count": 7,
   "id": "f3543e67",
   "metadata": {},
   "outputs": [],
   "source": [
    "for i in inventories:\n",
    "    i.status = InventoryStatus.IN_STOCK\n",
    "    i.save()"
   ]
  },
  {
   "cell_type": "code",
   "execution_count": null,
   "id": "9dbd2121",
   "metadata": {},
   "outputs": [],
   "source": []
  }
 ],
 "metadata": {
  "kernelspec": {
   "display_name": "Django Shell-Plus",
   "language": "python",
   "name": "django_extensions"
  },
  "language_info": {
   "codemirror_mode": {
    "name": "ipython",
    "version": 3
   },
   "file_extension": ".py",
   "mimetype": "text/x-python",
   "name": "python",
   "nbconvert_exporter": "python",
   "pygments_lexer": "ipython3",
   "version": "3.9.6"
  }
 },
 "nbformat": 4,
 "nbformat_minor": 5
}
