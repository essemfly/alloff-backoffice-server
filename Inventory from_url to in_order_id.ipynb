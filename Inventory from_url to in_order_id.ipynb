{
 "cells": [
  {
   "cell_type": "code",
   "execution_count": 1,
   "id": "7f6e859f",
   "metadata": {},
   "outputs": [],
   "source": [
    "import os\n",
    "import pandas as pd\n",
    "import django\n",
    "os.environ.setdefault('DJANGO_SETTINGS_MODULE', 'rest.settings')\n",
    "os.environ[\"DJANGO_ALLOW_ASYNC_UNSAFE\"] = \"true\"\n",
    "django.setup()\n",
    "\n",
    "from tagger.models.inventory import Inventory"
   ]
  },
  {
   "cell_type": "code",
   "execution_count": 2,
   "id": "b57d2f56",
   "metadata": {},
   "outputs": [],
   "source": [
    "for i in Inventory.objects.all():\n",
    "    i.in_order_id = i.product_from_order_url.split(\"/\")[-1]\n",
    "    i.save()"
   ]
  },
  {
   "cell_type": "code",
   "execution_count": null,
   "id": "69febbd1",
   "metadata": {},
   "outputs": [],
   "source": []
  }
 ],
 "metadata": {
  "kernelspec": {
   "display_name": "Django Shell-Plus",
   "language": "python",
   "name": "django_extensions"
  },
  "language_info": {
   "codemirror_mode": {
    "name": "ipython",
    "version": 3
   },
   "file_extension": ".py",
   "mimetype": "text/x-python",
   "name": "python",
   "nbconvert_exporter": "python",
   "pygments_lexer": "ipython3",
   "version": "3.9.6"
  }
 },
 "nbformat": 4,
 "nbformat_minor": 5
}
