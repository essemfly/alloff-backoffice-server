{
 "cells": [
  {
   "cell_type": "code",
   "execution_count": 1,
   "id": "75344a9d",
   "metadata": {},
   "outputs": [],
   "source": [
    "import os\n",
    "import pandas as pd\n",
    "import django\n",
    "os.environ.setdefault('DJANGO_SETTINGS_MODULE', 'rest.settings')\n",
    "os.environ[\"DJANGO_ALLOW_ASYNC_UNSAFE\"] = \"true\"\n",
    "django.setup()\n",
    "from tagger.core.mongo.models.order import Order\n",
    "from bson import ObjectId\n",
    "from datetime import datetime\n",
    "from tagger.models.inventory import Inventory, InventoryStatus"
   ]
  },
  {
   "cell_type": "code",
   "execution_count": 5,
   "id": "7996c23c",
   "metadata": {},
   "outputs": [
    {
     "name": "stdout",
     "output_type": "stream",
     "text": [
      "언밸런스 울 스커트  원혜림 https://office.alloff.co/orders/6185270426685ff051755530 IN_STOCK\n",
      "하이넥 울 니트 탑  박미화  https://office.alloff.co/orders/61813fbd26685ff051754d3c IN_STOCK\n",
      "벨티드 플리츠 니트 드레스  박미화 https://office.alloff.co/orders/6181415426685ff051754d4d SHIPPED\n"
     ]
    }
   ],
   "source": [
    "refunds = Inventory.objects.filter(\n",
    "    created__gte=datetime.now().date(),\n",
    "    code__contains=\"-R\"\n",
    ").all()\n",
    "\n",
    "for r in refunds:\n",
    "    order = Order.objects(id=ObjectId(r.product_from_order_url.split(\"/\")[-1])).first()\n",
    "    print(r.product_name, order.payment.buyername, r.product_from_order_url, r.status)\n",
    "#     print(r.product_name, order.payment.buyername, r.product_from_order_url, r.status, r.out_order_id, f\"https://office.alloff.co/orders/{r.out_order_id}\")    "
   ]
  },
  {
   "cell_type": "code",
   "execution_count": null,
   "id": "3974fcd3",
   "metadata": {},
   "outputs": [],
   "source": []
  }
 ],
 "metadata": {
  "kernelspec": {
   "display_name": "Django Shell-Plus",
   "language": "python",
   "name": "django_extensions"
  },
  "language_info": {
   "codemirror_mode": {
    "name": "ipython",
    "version": 3
   },
   "file_extension": ".py",
   "mimetype": "text/x-python",
   "name": "python",
   "nbconvert_exporter": "python",
   "pygments_lexer": "ipython3",
   "version": "3.9.6"
  }
 },
 "nbformat": 4,
 "nbformat_minor": 5
}
