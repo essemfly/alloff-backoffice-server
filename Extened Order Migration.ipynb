{
 "cells": [
  {
   "cell_type": "code",
   "execution_count": 1,
   "id": "14564560",
   "metadata": {},
   "outputs": [],
   "source": [
    "from tagger.core.mongo.models.order import Order, OrderCodeMap\n",
    "from tagger.models import ExtendedOrder\n",
    "\n",
    "\n",
    "import os\n",
    "import django\n",
    "os.environ.setdefault('DJANGO_SETTINGS_MODULE', 'rest.settings')\n",
    "os.environ[\"DJANGO_ALLOW_ASYNC_UNSAFE\"] = \"true\"\n",
    "django.setup()"
   ]
  },
  {
   "cell_type": "code",
   "execution_count": 2,
   "id": "a917dca0",
   "metadata": {},
   "outputs": [],
   "source": [
    "valid_orders = Order.objects(orderstatus__nin=[\n",
    "    \"CREATED\",\n",
    "    \"RECREATED\",\n",
    "    \"PAYMENT_PENDING\"\n",
    "]).all()"
   ]
  },
  {
   "cell_type": "code",
   "execution_count": 6,
   "id": "cfdaec29",
   "metadata": {},
   "outputs": [
    {
     "name": "stdout",
     "output_type": "stream",
     "text": [
      "Changing extended order 6189236026685ff051755ba8 code from TMWR7 to UA3TM\n",
      "Order 61892b5e26685ff051755bca has been extended with code NKTA3! (Given code: NKTA3)\n",
      "Order 61893d7a26685ff051755c0f has been extended with code BTMJY! (Given code: BTMJY)\n",
      "Order 6189414326685ff051755c18 has been extended with code KTDY3! (Given code: KTDY3)\n",
      "Order 61899c9f26685ff051755c53 has been extended with code TAQXD! (Given code: TAQXD)\n",
      "Order 6189baa126685ff051755c70 has been extended with code L6MTY! (Given code: L6MTY)\n",
      "Order 6189f73b26685ff051755cb4 has been extended with code 9LCLN! (Given code: 9LCLN)\n",
      "Order 6189f88826685ff051755cb7 has been extended with code 6AEGG! (Given code: 6AEGG)\n",
      "Order 618a1a8126685ff051755ce3 has been extended with code 7KXXG! (Given code: 7KXXG)\n",
      "Order 618a1c7626685ff051755cec has been extended with code RVRG3! (Given code: RVRG3)\n"
     ]
    },
    {
     "name": "stderr",
     "output_type": "stream",
     "text": [
      "/Users/stephenj/Library/Caches/pypoetry/virtualenvs/alloff-backoffice-server-V9pDS2iq-py3.9/lib/python3.9/site-packages/django/db/models/fields/__init__.py:1416: RuntimeWarning: DateTimeField ExtendedOrder.ordered_at received a naive datetime (2021-11-08 13:51:26.430000) while time zone support is active.\n",
      "  warnings.warn(\"DateTimeField %s received a naive datetime (%s)\"\n",
      "/Users/stephenj/Library/Caches/pypoetry/virtualenvs/alloff-backoffice-server-V9pDS2iq-py3.9/lib/python3.9/site-packages/django/db/models/fields/__init__.py:1416: RuntimeWarning: DateTimeField ExtendedOrder.ordered_at received a naive datetime (2021-11-08 15:08:42.520000) while time zone support is active.\n",
      "  warnings.warn(\"DateTimeField %s received a naive datetime (%s)\"\n",
      "/Users/stephenj/Library/Caches/pypoetry/virtualenvs/alloff-backoffice-server-V9pDS2iq-py3.9/lib/python3.9/site-packages/django/db/models/fields/__init__.py:1416: RuntimeWarning: DateTimeField ExtendedOrder.ordered_at received a naive datetime (2021-11-08 15:24:51.324000) while time zone support is active.\n",
      "  warnings.warn(\"DateTimeField %s received a naive datetime (%s)\"\n",
      "/Users/stephenj/Library/Caches/pypoetry/virtualenvs/alloff-backoffice-server-V9pDS2iq-py3.9/lib/python3.9/site-packages/django/db/models/fields/__init__.py:1416: RuntimeWarning: DateTimeField ExtendedOrder.ordered_at received a naive datetime (2021-11-08 21:54:39.575000) while time zone support is active.\n",
      "  warnings.warn(\"DateTimeField %s received a naive datetime (%s)\"\n",
      "/Users/stephenj/Library/Caches/pypoetry/virtualenvs/alloff-backoffice-server-V9pDS2iq-py3.9/lib/python3.9/site-packages/django/db/models/fields/__init__.py:1416: RuntimeWarning: DateTimeField ExtendedOrder.ordered_at received a naive datetime (2021-11-09 00:02:41.394000) while time zone support is active.\n",
      "  warnings.warn(\"DateTimeField %s received a naive datetime (%s)\"\n",
      "/Users/stephenj/Library/Caches/pypoetry/virtualenvs/alloff-backoffice-server-V9pDS2iq-py3.9/lib/python3.9/site-packages/django/db/models/fields/__init__.py:1416: RuntimeWarning: DateTimeField ExtendedOrder.ordered_at received a naive datetime (2021-11-09 04:21:15.990000) while time zone support is active.\n",
      "  warnings.warn(\"DateTimeField %s received a naive datetime (%s)\"\n",
      "/Users/stephenj/Library/Caches/pypoetry/virtualenvs/alloff-backoffice-server-V9pDS2iq-py3.9/lib/python3.9/site-packages/django/db/models/fields/__init__.py:1416: RuntimeWarning: DateTimeField ExtendedOrder.ordered_at received a naive datetime (2021-11-09 04:26:48.156000) while time zone support is active.\n",
      "  warnings.warn(\"DateTimeField %s received a naive datetime (%s)\"\n",
      "/Users/stephenj/Library/Caches/pypoetry/virtualenvs/alloff-backoffice-server-V9pDS2iq-py3.9/lib/python3.9/site-packages/django/db/models/fields/__init__.py:1416: RuntimeWarning: DateTimeField ExtendedOrder.ordered_at received a naive datetime (2021-11-09 06:51:45.882000) while time zone support is active.\n",
      "  warnings.warn(\"DateTimeField %s received a naive datetime (%s)\"\n",
      "/Users/stephenj/Library/Caches/pypoetry/virtualenvs/alloff-backoffice-server-V9pDS2iq-py3.9/lib/python3.9/site-packages/django/db/models/fields/__init__.py:1416: RuntimeWarning: DateTimeField ExtendedOrder.ordered_at received a naive datetime (2021-11-09 07:00:06.238000) while time zone support is active.\n",
      "  warnings.warn(\"DateTimeField %s received a naive datetime (%s)\"\n",
      "/Users/stephenj/Library/Caches/pypoetry/virtualenvs/alloff-backoffice-server-V9pDS2iq-py3.9/lib/python3.9/site-packages/django/db/models/fields/__init__.py:1416: RuntimeWarning: DateTimeField ExtendedOrder.ordered_at received a naive datetime (2021-11-09 07:28:31.123000) while time zone support is active.\n",
      "  warnings.warn(\"DateTimeField %s received a naive datetime (%s)\"\n"
     ]
    },
    {
     "name": "stdout",
     "output_type": "stream",
     "text": [
      "Order 618a231f26685ff051755cf9 has been extended with code J4A4N! (Given code: J4A4N)\n",
      "Order 618a33a726685ff051755d08 has been extended with code CAU93! (Given code: CAU93)\n",
      "Order 618a399726685ff051755d16 has been extended with code EHQB6! (Given code: EHQB6)\n",
      "Order 618a3c6e26685ff051755d2f has been extended with code CGTCW! (Given code: CGTCW)\n",
      "Order 618a3df226685ff051755d37 has been extended with code HUFLX! (Given code: HUFLX)\n",
      "Order 618a3e6826685ff051755d3c has been extended with code UHYVG! (Given code: UHYVG)\n",
      "Order 618a40c526685ff051755d44 has been extended with code Q9QVQ! (Given code: Q9QVQ)\n",
      "Order 618a452226685ff051755d4a has been extended with code YHYFJ! (Given code: YHYFJ)\n",
      "Order 618a4c2f26685ff051755d56 has been extended with code JDB6V! (Given code: JDB6V)\n",
      "Order 618a4ca126685ff051755d58 has been extended with code 9YUM9! (Given code: 9YUM9)\n"
     ]
    },
    {
     "name": "stderr",
     "output_type": "stream",
     "text": [
      "/Users/stephenj/Library/Caches/pypoetry/virtualenvs/alloff-backoffice-server-V9pDS2iq-py3.9/lib/python3.9/site-packages/django/db/models/fields/__init__.py:1416: RuntimeWarning: DateTimeField ExtendedOrder.ordered_at received a naive datetime (2021-11-09 08:39:03.733000) while time zone support is active.\n",
      "  warnings.warn(\"DateTimeField %s received a naive datetime (%s)\"\n",
      "/Users/stephenj/Library/Caches/pypoetry/virtualenvs/alloff-backoffice-server-V9pDS2iq-py3.9/lib/python3.9/site-packages/django/db/models/fields/__init__.py:1416: RuntimeWarning: DateTimeField ExtendedOrder.ordered_at received a naive datetime (2021-11-09 09:04:23.947000) while time zone support is active.\n",
      "  warnings.warn(\"DateTimeField %s received a naive datetime (%s)\"\n",
      "/Users/stephenj/Library/Caches/pypoetry/virtualenvs/alloff-backoffice-server-V9pDS2iq-py3.9/lib/python3.9/site-packages/django/db/models/fields/__init__.py:1416: RuntimeWarning: DateTimeField ExtendedOrder.ordered_at received a naive datetime (2021-11-09 09:16:30.743000) while time zone support is active.\n",
      "  warnings.warn(\"DateTimeField %s received a naive datetime (%s)\"\n",
      "/Users/stephenj/Library/Caches/pypoetry/virtualenvs/alloff-backoffice-server-V9pDS2iq-py3.9/lib/python3.9/site-packages/django/db/models/fields/__init__.py:1416: RuntimeWarning: DateTimeField ExtendedOrder.ordered_at received a naive datetime (2021-11-09 09:22:58.012000) while time zone support is active.\n",
      "  warnings.warn(\"DateTimeField %s received a naive datetime (%s)\"\n",
      "/Users/stephenj/Library/Caches/pypoetry/virtualenvs/alloff-backoffice-server-V9pDS2iq-py3.9/lib/python3.9/site-packages/django/db/models/fields/__init__.py:1416: RuntimeWarning: DateTimeField ExtendedOrder.ordered_at received a naive datetime (2021-11-09 09:24:56.413000) while time zone support is active.\n",
      "  warnings.warn(\"DateTimeField %s received a naive datetime (%s)\"\n",
      "/Users/stephenj/Library/Caches/pypoetry/virtualenvs/alloff-backoffice-server-V9pDS2iq-py3.9/lib/python3.9/site-packages/django/db/models/fields/__init__.py:1416: RuntimeWarning: DateTimeField ExtendedOrder.ordered_at received a naive datetime (2021-11-09 09:35:01.203000) while time zone support is active.\n",
      "  warnings.warn(\"DateTimeField %s received a naive datetime (%s)\"\n",
      "/Users/stephenj/Library/Caches/pypoetry/virtualenvs/alloff-backoffice-server-V9pDS2iq-py3.9/lib/python3.9/site-packages/django/db/models/fields/__init__.py:1416: RuntimeWarning: DateTimeField ExtendedOrder.ordered_at received a naive datetime (2021-11-09 09:53:38.197000) while time zone support is active.\n",
      "  warnings.warn(\"DateTimeField %s received a naive datetime (%s)\"\n",
      "/Users/stephenj/Library/Caches/pypoetry/virtualenvs/alloff-backoffice-server-V9pDS2iq-py3.9/lib/python3.9/site-packages/django/db/models/fields/__init__.py:1416: RuntimeWarning: DateTimeField ExtendedOrder.ordered_at received a naive datetime (2021-11-09 10:23:43.526000) while time zone support is active.\n",
      "  warnings.warn(\"DateTimeField %s received a naive datetime (%s)\"\n",
      "/Users/stephenj/Library/Caches/pypoetry/virtualenvs/alloff-backoffice-server-V9pDS2iq-py3.9/lib/python3.9/site-packages/django/db/models/fields/__init__.py:1416: RuntimeWarning: DateTimeField ExtendedOrder.ordered_at received a naive datetime (2021-11-09 10:25:37.523000) while time zone support is active.\n",
      "  warnings.warn(\"DateTimeField %s received a naive datetime (%s)\"\n",
      "/Users/stephenj/Library/Caches/pypoetry/virtualenvs/alloff-backoffice-server-V9pDS2iq-py3.9/lib/python3.9/site-packages/django/db/models/fields/__init__.py:1416: RuntimeWarning: DateTimeField ExtendedOrder.ordered_at received a naive datetime (2021-11-09 11:31:52.401000) while time zone support is active.\n",
      "  warnings.warn(\"DateTimeField %s received a naive datetime (%s)\"\n"
     ]
    },
    {
     "name": "stdout",
     "output_type": "stream",
     "text": [
      "Order 618a5c2826685ff051755d81 has been extended with code KW43Y! (Given code: KW43Y)\n",
      "Order 618a643826685ff051755d9e has been extended with code 48MEJ! (Given code: 48MEJ)\n",
      "Order 618a64b026685ff051755da2 has been extended with code GJGRK! (Given code: GJGRK)\n",
      "Order 618a667d26685ff051755dad has been extended with code XWLTM! (Given code: XWLTM)\n",
      "Order 618a691b26685ff051755db6 has been extended with code 6RBWW! (Given code: 6RBWW)\n",
      "Order 618a827426685ff051755e00 has been extended with code M34MY! (Given code: M34MY)\n",
      "Order 618a91e826685ff051755e26 has been extended with code PPUHY! (Given code: PPUHY)\n",
      "Order 618a933c26685ff051755e2c has been extended with code B49G4! (Given code: B49G4)\n",
      "Order 618ab21e26685ff051755e4a has been extended with code 47EDC! (Given code: 47EDC)\n",
      "Order 618b242d26685ff051755e9c has been extended with code 8G7L9! (Given code: 8G7L9)\n",
      "Order 618b318b26685ff051755ea9 has been extended with code RCTHP! (Given code: RCTHP)\n"
     ]
    },
    {
     "name": "stderr",
     "output_type": "stream",
     "text": [
      "/Users/stephenj/Library/Caches/pypoetry/virtualenvs/alloff-backoffice-server-V9pDS2iq-py3.9/lib/python3.9/site-packages/django/db/models/fields/__init__.py:1416: RuntimeWarning: DateTimeField ExtendedOrder.ordered_at received a naive datetime (2021-11-09 12:06:16.493000) while time zone support is active.\n",
      "  warnings.warn(\"DateTimeField %s received a naive datetime (%s)\"\n",
      "/Users/stephenj/Library/Caches/pypoetry/virtualenvs/alloff-backoffice-server-V9pDS2iq-py3.9/lib/python3.9/site-packages/django/db/models/fields/__init__.py:1416: RuntimeWarning: DateTimeField ExtendedOrder.ordered_at received a naive datetime (2021-11-09 12:08:16.599000) while time zone support is active.\n",
      "  warnings.warn(\"DateTimeField %s received a naive datetime (%s)\"\n",
      "/Users/stephenj/Library/Caches/pypoetry/virtualenvs/alloff-backoffice-server-V9pDS2iq-py3.9/lib/python3.9/site-packages/django/db/models/fields/__init__.py:1416: RuntimeWarning: DateTimeField ExtendedOrder.ordered_at received a naive datetime (2021-11-09 12:15:57.444000) while time zone support is active.\n",
      "  warnings.warn(\"DateTimeField %s received a naive datetime (%s)\"\n",
      "/Users/stephenj/Library/Caches/pypoetry/virtualenvs/alloff-backoffice-server-V9pDS2iq-py3.9/lib/python3.9/site-packages/django/db/models/fields/__init__.py:1416: RuntimeWarning: DateTimeField ExtendedOrder.ordered_at received a naive datetime (2021-11-09 12:27:07.612000) while time zone support is active.\n",
      "  warnings.warn(\"DateTimeField %s received a naive datetime (%s)\"\n",
      "/Users/stephenj/Library/Caches/pypoetry/virtualenvs/alloff-backoffice-server-V9pDS2iq-py3.9/lib/python3.9/site-packages/django/db/models/fields/__init__.py:1416: RuntimeWarning: DateTimeField ExtendedOrder.ordered_at received a naive datetime (2021-11-09 14:15:16.847000) while time zone support is active.\n",
      "  warnings.warn(\"DateTimeField %s received a naive datetime (%s)\"\n",
      "/Users/stephenj/Library/Caches/pypoetry/virtualenvs/alloff-backoffice-server-V9pDS2iq-py3.9/lib/python3.9/site-packages/django/db/models/fields/__init__.py:1416: RuntimeWarning: DateTimeField ExtendedOrder.ordered_at received a naive datetime (2021-11-09 15:21:12.823000) while time zone support is active.\n",
      "  warnings.warn(\"DateTimeField %s received a naive datetime (%s)\"\n",
      "/Users/stephenj/Library/Caches/pypoetry/virtualenvs/alloff-backoffice-server-V9pDS2iq-py3.9/lib/python3.9/site-packages/django/db/models/fields/__init__.py:1416: RuntimeWarning: DateTimeField ExtendedOrder.ordered_at received a naive datetime (2021-11-09 15:26:52.639000) while time zone support is active.\n",
      "  warnings.warn(\"DateTimeField %s received a naive datetime (%s)\"\n",
      "/Users/stephenj/Library/Caches/pypoetry/virtualenvs/alloff-backoffice-server-V9pDS2iq-py3.9/lib/python3.9/site-packages/django/db/models/fields/__init__.py:1416: RuntimeWarning: DateTimeField ExtendedOrder.ordered_at received a naive datetime (2021-11-09 17:38:38.459000) while time zone support is active.\n",
      "  warnings.warn(\"DateTimeField %s received a naive datetime (%s)\"\n",
      "/Users/stephenj/Library/Caches/pypoetry/virtualenvs/alloff-backoffice-server-V9pDS2iq-py3.9/lib/python3.9/site-packages/django/db/models/fields/__init__.py:1416: RuntimeWarning: DateTimeField ExtendedOrder.ordered_at received a naive datetime (2021-11-10 01:45:17.513000) while time zone support is active.\n",
      "  warnings.warn(\"DateTimeField %s received a naive datetime (%s)\"\n",
      "/Users/stephenj/Library/Caches/pypoetry/virtualenvs/alloff-backoffice-server-V9pDS2iq-py3.9/lib/python3.9/site-packages/django/db/models/fields/__init__.py:1416: RuntimeWarning: DateTimeField ExtendedOrder.ordered_at received a naive datetime (2021-11-10 02:42:19.919000) while time zone support is active.\n",
      "  warnings.warn(\"DateTimeField %s received a naive datetime (%s)\"\n",
      "/Users/stephenj/Library/Caches/pypoetry/virtualenvs/alloff-backoffice-server-V9pDS2iq-py3.9/lib/python3.9/site-packages/django/db/models/fields/__init__.py:1416: RuntimeWarning: DateTimeField ExtendedOrder.ordered_at received a naive datetime (2021-11-10 02:46:28.144000) while time zone support is active.\n",
      "  warnings.warn(\"DateTimeField %s received a naive datetime (%s)\"\n"
     ]
    },
    {
     "name": "stdout",
     "output_type": "stream",
     "text": [
      "Order 618b328426685ff051755eae has been extended with code E3HN8! (Given code: E3HN8)\n",
      "Order 618b337e26685ff051755eb5 has been extended with code AGNW6! (Given code: AGNW6)\n",
      "Order 618b33ad26685ff051755eb8 has been extended with code AVT6A! (Given code: AVT6A)\n",
      "Order 618b478326685ff051755ee7 has been extended with code TCX6W! (Given code: TCX6W)\n",
      "Order 618b595426685ff051755f09 has been extended with code LEV7Y! (Given code: LEV7Y)\n",
      "Order 618b666226685ff051755f23 has been extended with code VMTLG! (Given code: VMTLG)\n",
      "Order 618b6a9f26685ff051755f2e has been extended with code 8XRFR! (Given code: 8XRFR)\n",
      "Order 618bb32926685ff051755f8a has been extended with code KXBYF! (Given code: KXBYF)\n",
      "Order 618bb75726685ff051755f97 has been extended with code PVQKV! (Given code: PVQKV)\n",
      "Order 618bceeb26685ff051755ff7 has been extended with code 8NEEY! (Given code: 8NEEY)\n",
      "Order 618bd50426685ff05175600a has been extended with code LTPBQ! (Given code: LTPBQ)\n"
     ]
    },
    {
     "name": "stderr",
     "output_type": "stream",
     "text": [
      "/Users/stephenj/Library/Caches/pypoetry/virtualenvs/alloff-backoffice-server-V9pDS2iq-py3.9/lib/python3.9/site-packages/django/db/models/fields/__init__.py:1416: RuntimeWarning: DateTimeField ExtendedOrder.ordered_at received a naive datetime (2021-11-10 02:50:38.009000) while time zone support is active.\n",
      "  warnings.warn(\"DateTimeField %s received a naive datetime (%s)\"\n",
      "/Users/stephenj/Library/Caches/pypoetry/virtualenvs/alloff-backoffice-server-V9pDS2iq-py3.9/lib/python3.9/site-packages/django/db/models/fields/__init__.py:1416: RuntimeWarning: DateTimeField ExtendedOrder.ordered_at received a naive datetime (2021-11-10 02:51:25.915000) while time zone support is active.\n",
      "  warnings.warn(\"DateTimeField %s received a naive datetime (%s)\"\n",
      "/Users/stephenj/Library/Caches/pypoetry/virtualenvs/alloff-backoffice-server-V9pDS2iq-py3.9/lib/python3.9/site-packages/django/db/models/fields/__init__.py:1416: RuntimeWarning: DateTimeField ExtendedOrder.ordered_at received a naive datetime (2021-11-10 04:16:03.700000) while time zone support is active.\n",
      "  warnings.warn(\"DateTimeField %s received a naive datetime (%s)\"\n",
      "/Users/stephenj/Library/Caches/pypoetry/virtualenvs/alloff-backoffice-server-V9pDS2iq-py3.9/lib/python3.9/site-packages/django/db/models/fields/__init__.py:1416: RuntimeWarning: DateTimeField ExtendedOrder.ordered_at received a naive datetime (2021-11-10 05:32:04.751000) while time zone support is active.\n",
      "  warnings.warn(\"DateTimeField %s received a naive datetime (%s)\"\n",
      "/Users/stephenj/Library/Caches/pypoetry/virtualenvs/alloff-backoffice-server-V9pDS2iq-py3.9/lib/python3.9/site-packages/django/db/models/fields/__init__.py:1416: RuntimeWarning: DateTimeField ExtendedOrder.ordered_at received a naive datetime (2021-11-10 06:27:46.368000) while time zone support is active.\n",
      "  warnings.warn(\"DateTimeField %s received a naive datetime (%s)\"\n",
      "/Users/stephenj/Library/Caches/pypoetry/virtualenvs/alloff-backoffice-server-V9pDS2iq-py3.9/lib/python3.9/site-packages/django/db/models/fields/__init__.py:1416: RuntimeWarning: DateTimeField ExtendedOrder.ordered_at received a naive datetime (2021-11-10 06:45:51.573000) while time zone support is active.\n",
      "  warnings.warn(\"DateTimeField %s received a naive datetime (%s)\"\n",
      "/Users/stephenj/Library/Caches/pypoetry/virtualenvs/alloff-backoffice-server-V9pDS2iq-py3.9/lib/python3.9/site-packages/django/db/models/fields/__init__.py:1416: RuntimeWarning: DateTimeField ExtendedOrder.ordered_at received a naive datetime (2021-11-10 11:55:21.815000) while time zone support is active.\n",
      "  warnings.warn(\"DateTimeField %s received a naive datetime (%s)\"\n",
      "/Users/stephenj/Library/Caches/pypoetry/virtualenvs/alloff-backoffice-server-V9pDS2iq-py3.9/lib/python3.9/site-packages/django/db/models/fields/__init__.py:1416: RuntimeWarning: DateTimeField ExtendedOrder.ordered_at received a naive datetime (2021-11-10 12:13:11.543000) while time zone support is active.\n",
      "  warnings.warn(\"DateTimeField %s received a naive datetime (%s)\"\n",
      "/Users/stephenj/Library/Caches/pypoetry/virtualenvs/alloff-backoffice-server-V9pDS2iq-py3.9/lib/python3.9/site-packages/django/db/models/fields/__init__.py:1416: RuntimeWarning: DateTimeField ExtendedOrder.ordered_at received a naive datetime (2021-11-10 13:53:47.543000) while time zone support is active.\n",
      "  warnings.warn(\"DateTimeField %s received a naive datetime (%s)\"\n",
      "/Users/stephenj/Library/Caches/pypoetry/virtualenvs/alloff-backoffice-server-V9pDS2iq-py3.9/lib/python3.9/site-packages/django/db/models/fields/__init__.py:1416: RuntimeWarning: DateTimeField ExtendedOrder.ordered_at received a naive datetime (2021-11-10 14:19:48.534000) while time zone support is active.\n",
      "  warnings.warn(\"DateTimeField %s received a naive datetime (%s)\"\n",
      "/Users/stephenj/Library/Caches/pypoetry/virtualenvs/alloff-backoffice-server-V9pDS2iq-py3.9/lib/python3.9/site-packages/django/db/models/fields/__init__.py:1416: RuntimeWarning: DateTimeField ExtendedOrder.ordered_at received a naive datetime (2021-11-10 14:40:20.082000) while time zone support is active.\n",
      "  warnings.warn(\"DateTimeField %s received a naive datetime (%s)\"\n",
      "/Users/stephenj/Library/Caches/pypoetry/virtualenvs/alloff-backoffice-server-V9pDS2iq-py3.9/lib/python3.9/site-packages/django/db/models/fields/__init__.py:1416: RuntimeWarning: DateTimeField ExtendedOrder.ordered_at received a naive datetime (2021-11-10 14:54:53.329000) while time zone support is active.\n",
      "  warnings.warn(\"DateTimeField %s received a naive datetime (%s)\"\n",
      "/Users/stephenj/Library/Caches/pypoetry/virtualenvs/alloff-backoffice-server-V9pDS2iq-py3.9/lib/python3.9/site-packages/django/db/models/fields/__init__.py:1416: RuntimeWarning: DateTimeField ExtendedOrder.ordered_at received a naive datetime (2021-11-10 14:56:11.976000) while time zone support is active.\n",
      "  warnings.warn(\"DateTimeField %s received a naive datetime (%s)\"\n",
      "/Users/stephenj/Library/Caches/pypoetry/virtualenvs/alloff-backoffice-server-V9pDS2iq-py3.9/lib/python3.9/site-packages/django/db/models/fields/__init__.py:1416: RuntimeWarning: DateTimeField ExtendedOrder.ordered_at received a naive datetime (2021-11-10 15:14:32.111000) while time zone support is active.\n",
      "  warnings.warn(\"DateTimeField %s received a naive datetime (%s)\"\n",
      "/Users/stephenj/Library/Caches/pypoetry/virtualenvs/alloff-backoffice-server-V9pDS2iq-py3.9/lib/python3.9/site-packages/django/db/models/fields/__init__.py:1416: RuntimeWarning: DateTimeField ExtendedOrder.ordered_at received a naive datetime (2021-11-10 16:05:22.596000) while time zone support is active.\n",
      "  warnings.warn(\"DateTimeField %s received a naive datetime (%s)\"\n",
      "/Users/stephenj/Library/Caches/pypoetry/virtualenvs/alloff-backoffice-server-V9pDS2iq-py3.9/lib/python3.9/site-packages/django/db/models/fields/__init__.py:1416: RuntimeWarning: DateTimeField ExtendedOrder.ordered_at received a naive datetime (2021-11-10 23:14:33.166000) while time zone support is active.\n",
      "  warnings.warn(\"DateTimeField %s received a naive datetime (%s)\"\n",
      "/Users/stephenj/Library/Caches/pypoetry/virtualenvs/alloff-backoffice-server-V9pDS2iq-py3.9/lib/python3.9/site-packages/django/db/models/fields/__init__.py:1416: RuntimeWarning: DateTimeField ExtendedOrder.ordered_at received a naive datetime (2021-11-10 23:27:12.020000) while time zone support is active.\n",
      "  warnings.warn(\"DateTimeField %s received a naive datetime (%s)\"\n",
      "/Users/stephenj/Library/Caches/pypoetry/virtualenvs/alloff-backoffice-server-V9pDS2iq-py3.9/lib/python3.9/site-packages/django/db/models/fields/__init__.py:1416: RuntimeWarning: DateTimeField ExtendedOrder.ordered_at received a naive datetime (2021-11-10 23:34:06.436000) while time zone support is active.\n",
      "  warnings.warn(\"DateTimeField %s received a naive datetime (%s)\"\n",
      "/Users/stephenj/Library/Caches/pypoetry/virtualenvs/alloff-backoffice-server-V9pDS2iq-py3.9/lib/python3.9/site-packages/django/db/models/fields/__init__.py:1416: RuntimeWarning: DateTimeField ExtendedOrder.ordered_at received a naive datetime (2021-11-10 23:40:01.657000) while time zone support is active.\n",
      "  warnings.warn(\"DateTimeField %s received a naive datetime (%s)\"\n",
      "/Users/stephenj/Library/Caches/pypoetry/virtualenvs/alloff-backoffice-server-V9pDS2iq-py3.9/lib/python3.9/site-packages/django/db/models/fields/__init__.py:1416: RuntimeWarning: DateTimeField ExtendedOrder.ordered_at received a naive datetime (2021-11-10 23:42:48.886000) while time zone support is active.\n",
      "  warnings.warn(\"DateTimeField %s received a naive datetime (%s)\"\n"
     ]
    },
    {
     "name": "stdout",
     "output_type": "stream",
     "text": [
      "Order 618bd9d426685ff051756017 has been extended with code 9JMKV! (Given code: 9JMKV)\n",
      "Order 618bdd3d26685ff05175601e has been extended with code WAHUH! (Given code: WAHUH)\n",
      "Order 618bdd8b26685ff051756022 has been extended with code WULJ8! (Given code: WULJ8)\n",
      "Order 618be1d826685ff051756030 has been extended with code MDVK7! (Given code: MDVK7)\n",
      "Order 618bedc226685ff05175605e has been extended with code 8KYUA! (Given code: 8KYUA)\n",
      "Order 618c525926685ff0517560b3 has been extended with code NTRVR! (Given code: NTRVR)\n",
      "Order 618c555026685ff0517560ba has been extended with code C8CXK! (Given code: C8CXK)\n",
      "Order 618c56ee26685ff0517560bf has been extended with code UP47J! (Given code: UP47J)\n",
      "Order 618c585126685ff0517560c3 has been extended with code PQ6J7! (Given code: PQ6J7)\n",
      "Order 618c58f826685ff0517560c8 has been extended with code 4TRTK! (Given code: 4TRTK)\n"
     ]
    },
    {
     "name": "stderr",
     "output_type": "stream",
     "text": [
      "/Users/stephenj/Library/Caches/pypoetry/virtualenvs/alloff-backoffice-server-V9pDS2iq-py3.9/lib/python3.9/site-packages/django/db/models/fields/__init__.py:1416: RuntimeWarning: DateTimeField ExtendedOrder.ordered_at received a naive datetime (2021-11-10 23:51:34.728000) while time zone support is active.\n",
      "  warnings.warn(\"DateTimeField %s received a naive datetime (%s)\"\n",
      "/Users/stephenj/Library/Caches/pypoetry/virtualenvs/alloff-backoffice-server-V9pDS2iq-py3.9/lib/python3.9/site-packages/django/db/models/fields/__init__.py:1416: RuntimeWarning: DateTimeField ExtendedOrder.ordered_at received a naive datetime (2021-11-11 04:32:42.039000) while time zone support is active.\n",
      "  warnings.warn(\"DateTimeField %s received a naive datetime (%s)\"\n",
      "/Users/stephenj/Library/Caches/pypoetry/virtualenvs/alloff-backoffice-server-V9pDS2iq-py3.9/lib/python3.9/site-packages/django/db/models/fields/__init__.py:1416: RuntimeWarning: DateTimeField ExtendedOrder.ordered_at received a naive datetime (2021-11-11 05:58:04.470000) while time zone support is active.\n",
      "  warnings.warn(\"DateTimeField %s received a naive datetime (%s)\"\n",
      "/Users/stephenj/Library/Caches/pypoetry/virtualenvs/alloff-backoffice-server-V9pDS2iq-py3.9/lib/python3.9/site-packages/django/db/models/fields/__init__.py:1416: RuntimeWarning: DateTimeField ExtendedOrder.ordered_at received a naive datetime (2021-11-11 06:25:55.596000) while time zone support is active.\n",
      "  warnings.warn(\"DateTimeField %s received a naive datetime (%s)\"\n",
      "/Users/stephenj/Library/Caches/pypoetry/virtualenvs/alloff-backoffice-server-V9pDS2iq-py3.9/lib/python3.9/site-packages/django/db/models/fields/__init__.py:1416: RuntimeWarning: DateTimeField ExtendedOrder.ordered_at received a naive datetime (2021-11-11 06:32:08.423000) while time zone support is active.\n",
      "  warnings.warn(\"DateTimeField %s received a naive datetime (%s)\"\n",
      "/Users/stephenj/Library/Caches/pypoetry/virtualenvs/alloff-backoffice-server-V9pDS2iq-py3.9/lib/python3.9/site-packages/django/db/models/fields/__init__.py:1416: RuntimeWarning: DateTimeField ExtendedOrder.ordered_at received a naive datetime (2021-11-11 06:36:04.752000) while time zone support is active.\n",
      "  warnings.warn(\"DateTimeField %s received a naive datetime (%s)\"\n",
      "/Users/stephenj/Library/Caches/pypoetry/virtualenvs/alloff-backoffice-server-V9pDS2iq-py3.9/lib/python3.9/site-packages/django/db/models/fields/__init__.py:1416: RuntimeWarning: DateTimeField ExtendedOrder.ordered_at received a naive datetime (2021-11-11 07:28:23.196000) while time zone support is active.\n",
      "  warnings.warn(\"DateTimeField %s received a naive datetime (%s)\"\n",
      "/Users/stephenj/Library/Caches/pypoetry/virtualenvs/alloff-backoffice-server-V9pDS2iq-py3.9/lib/python3.9/site-packages/django/db/models/fields/__init__.py:1416: RuntimeWarning: DateTimeField ExtendedOrder.ordered_at received a naive datetime (2021-11-11 08:04:53.137000) while time zone support is active.\n",
      "  warnings.warn(\"DateTimeField %s received a naive datetime (%s)\"\n",
      "/Users/stephenj/Library/Caches/pypoetry/virtualenvs/alloff-backoffice-server-V9pDS2iq-py3.9/lib/python3.9/site-packages/django/db/models/fields/__init__.py:1416: RuntimeWarning: DateTimeField ExtendedOrder.ordered_at received a naive datetime (2021-11-11 09:31:54.570000) while time zone support is active.\n",
      "  warnings.warn(\"DateTimeField %s received a naive datetime (%s)\"\n",
      "/Users/stephenj/Library/Caches/pypoetry/virtualenvs/alloff-backoffice-server-V9pDS2iq-py3.9/lib/python3.9/site-packages/django/db/models/fields/__init__.py:1416: RuntimeWarning: DateTimeField ExtendedOrder.ordered_at received a naive datetime (2021-11-11 09:39:41.268000) while time zone support is active.\n",
      "  warnings.warn(\"DateTimeField %s received a naive datetime (%s)\"\n"
     ]
    },
    {
     "name": "stdout",
     "output_type": "stream",
     "text": [
      "Order 618c5b0626685ff0517560cd has been extended with code 7WX4R! (Given code: 7WX4R)\n",
      "Order 618c9cea26685ff051756145 has been extended with code NBUFH! (Given code: NBUFH)\n",
      "Order 618cb0ec26685ff051756160 has been extended with code UR4B3! (Given code: UR4B3)\n",
      "Order 618cb77326685ff05175617c has been extended with code LUWWM! (Given code: LUWWM)\n",
      "Order 618cb8e826685ff051756180 has been extended with code UYEW4! (Given code: UYEW4)\n",
      "Order 618cb9d426685ff051756183 has been extended with code ACND4! (Given code: ACND4)\n",
      "Order 618cc61726685ff0517561a1 has been extended with code JHTHN! (Given code: JHTHN)\n",
      "Order 618ccea526685ff0517561b5 has been extended with code TEJ4J! (Given code: TEJ4J)\n",
      "Order 618ce30a26685ff0517561da has been extended with code FR9GP! (Given code: FR9GP)\n",
      "Order 618ce4dd26685ff0517561df has been extended with code MH4UX! (Given code: MH4UX)\n",
      "Order 618cfdaa26685ff051756208 has been extended with code CD667! (Given code: CD667)\n"
     ]
    },
    {
     "name": "stderr",
     "output_type": "stream",
     "text": [
      "/Users/stephenj/Library/Caches/pypoetry/virtualenvs/alloff-backoffice-server-V9pDS2iq-py3.9/lib/python3.9/site-packages/django/db/models/fields/__init__.py:1416: RuntimeWarning: DateTimeField ExtendedOrder.ordered_at received a naive datetime (2021-11-11 11:25:30.731000) while time zone support is active.\n",
      "  warnings.warn(\"DateTimeField %s received a naive datetime (%s)\"\n",
      "/Users/stephenj/Library/Caches/pypoetry/virtualenvs/alloff-backoffice-server-V9pDS2iq-py3.9/lib/python3.9/site-packages/django/db/models/fields/__init__.py:1416: RuntimeWarning: DateTimeField ExtendedOrder.ordered_at received a naive datetime (2021-11-11 11:34:24.499000) while time zone support is active.\n",
      "  warnings.warn(\"DateTimeField %s received a naive datetime (%s)\"\n",
      "/Users/stephenj/Library/Caches/pypoetry/virtualenvs/alloff-backoffice-server-V9pDS2iq-py3.9/lib/python3.9/site-packages/django/db/models/fields/__init__.py:1416: RuntimeWarning: DateTimeField ExtendedOrder.ordered_at received a naive datetime (2021-11-11 11:42:21.921000) while time zone support is active.\n",
      "  warnings.warn(\"DateTimeField %s received a naive datetime (%s)\"\n",
      "/Users/stephenj/Library/Caches/pypoetry/virtualenvs/alloff-backoffice-server-V9pDS2iq-py3.9/lib/python3.9/site-packages/django/db/models/fields/__init__.py:1416: RuntimeWarning: DateTimeField ExtendedOrder.ordered_at received a naive datetime (2021-11-11 12:05:18.642000) while time zone support is active.\n",
      "  warnings.warn(\"DateTimeField %s received a naive datetime (%s)\"\n",
      "/Users/stephenj/Library/Caches/pypoetry/virtualenvs/alloff-backoffice-server-V9pDS2iq-py3.9/lib/python3.9/site-packages/django/db/models/fields/__init__.py:1416: RuntimeWarning: DateTimeField ExtendedOrder.ordered_at received a naive datetime (2021-11-11 12:31:25.059000) while time zone support is active.\n",
      "  warnings.warn(\"DateTimeField %s received a naive datetime (%s)\"\n",
      "/Users/stephenj/Library/Caches/pypoetry/virtualenvs/alloff-backoffice-server-V9pDS2iq-py3.9/lib/python3.9/site-packages/django/db/models/fields/__init__.py:1416: RuntimeWarning: DateTimeField ExtendedOrder.ordered_at received a naive datetime (2021-11-11 13:49:41.133000) while time zone support is active.\n",
      "  warnings.warn(\"DateTimeField %s received a naive datetime (%s)\"\n",
      "/Users/stephenj/Library/Caches/pypoetry/virtualenvs/alloff-backoffice-server-V9pDS2iq-py3.9/lib/python3.9/site-packages/django/db/models/fields/__init__.py:1416: RuntimeWarning: DateTimeField ExtendedOrder.ordered_at received a naive datetime (2021-11-11 14:13:27.514000) while time zone support is active.\n",
      "  warnings.warn(\"DateTimeField %s received a naive datetime (%s)\"\n",
      "/Users/stephenj/Library/Caches/pypoetry/virtualenvs/alloff-backoffice-server-V9pDS2iq-py3.9/lib/python3.9/site-packages/django/db/models/fields/__init__.py:1416: RuntimeWarning: DateTimeField ExtendedOrder.ordered_at received a naive datetime (2021-11-11 14:13:33.808000) while time zone support is active.\n",
      "  warnings.warn(\"DateTimeField %s received a naive datetime (%s)\"\n"
     ]
    },
    {
     "name": "stdout",
     "output_type": "stream",
     "text": [
      "Order 618cffc026685ff051756211 has been extended with code GCTQB! (Given code: GCTQB)\n",
      "Order 618d019d26685ff051756218 has been extended with code CANMD! (Given code: CANMD)\n",
      "Order 618d06fe26685ff05175622e has been extended with code MHWD4! (Given code: MHWD4)\n",
      "Order 618d0d1d26685ff051756244 has been extended with code 4G3DC! (Given code: 4G3DC)\n",
      "Order 618d1f7526685ff05175627e has been extended with code QCPKK! (Given code: QCPKK)\n",
      "Order 618d250726685ff05175628a has been extended with code RMUU9! (Given code: RMUU9)\n",
      "Order 618d250d26685ff05175628b has been extended with code GQFMV! (Given code: GQFMV)\n"
     ]
    },
    {
     "name": "stderr",
     "output_type": "stream",
     "text": [
      "/Users/stephenj/Library/Caches/pypoetry/virtualenvs/alloff-backoffice-server-V9pDS2iq-py3.9/lib/python3.9/site-packages/django/db/models/fields/__init__.py:1416: RuntimeWarning: DateTimeField ExtendedOrder.ordered_at received a naive datetime (2021-11-11 15:09:54.810000) while time zone support is active.\n",
      "  warnings.warn(\"DateTimeField %s received a naive datetime (%s)\"\n",
      "/Users/stephenj/Library/Caches/pypoetry/virtualenvs/alloff-backoffice-server-V9pDS2iq-py3.9/lib/python3.9/site-packages/django/db/models/fields/__init__.py:1416: RuntimeWarning: DateTimeField ExtendedOrder.ordered_at received a naive datetime (2021-11-11 20:43:33.952000) while time zone support is active.\n",
      "  warnings.warn(\"DateTimeField %s received a naive datetime (%s)\"\n",
      "/Users/stephenj/Library/Caches/pypoetry/virtualenvs/alloff-backoffice-server-V9pDS2iq-py3.9/lib/python3.9/site-packages/django/db/models/fields/__init__.py:1416: RuntimeWarning: DateTimeField ExtendedOrder.ordered_at received a naive datetime (2021-11-11 22:02:12.680000) while time zone support is active.\n",
      "  warnings.warn(\"DateTimeField %s received a naive datetime (%s)\"\n",
      "/Users/stephenj/Library/Caches/pypoetry/virtualenvs/alloff-backoffice-server-V9pDS2iq-py3.9/lib/python3.9/site-packages/django/db/models/fields/__init__.py:1416: RuntimeWarning: DateTimeField ExtendedOrder.ordered_at received a naive datetime (2021-11-11 23:46:48.708000) while time zone support is active.\n",
      "  warnings.warn(\"DateTimeField %s received a naive datetime (%s)\"\n",
      "/Users/stephenj/Library/Caches/pypoetry/virtualenvs/alloff-backoffice-server-V9pDS2iq-py3.9/lib/python3.9/site-packages/django/db/models/fields/__init__.py:1416: RuntimeWarning: DateTimeField ExtendedOrder.ordered_at received a naive datetime (2021-11-12 00:49:34.823000) while time zone support is active.\n",
      "  warnings.warn(\"DateTimeField %s received a naive datetime (%s)\"\n",
      "/Users/stephenj/Library/Caches/pypoetry/virtualenvs/alloff-backoffice-server-V9pDS2iq-py3.9/lib/python3.9/site-packages/django/db/models/fields/__init__.py:1416: RuntimeWarning: DateTimeField ExtendedOrder.ordered_at received a naive datetime (2021-11-12 01:42:03.531000) while time zone support is active.\n",
      "  warnings.warn(\"DateTimeField %s received a naive datetime (%s)\"\n",
      "/Users/stephenj/Library/Caches/pypoetry/virtualenvs/alloff-backoffice-server-V9pDS2iq-py3.9/lib/python3.9/site-packages/django/db/models/fields/__init__.py:1416: RuntimeWarning: DateTimeField ExtendedOrder.ordered_at received a naive datetime (2021-11-12 02:14:48.219000) while time zone support is active.\n",
      "  warnings.warn(\"DateTimeField %s received a naive datetime (%s)\"\n",
      "/Users/stephenj/Library/Caches/pypoetry/virtualenvs/alloff-backoffice-server-V9pDS2iq-py3.9/lib/python3.9/site-packages/django/db/models/fields/__init__.py:1416: RuntimeWarning: DateTimeField ExtendedOrder.ordered_at received a naive datetime (2021-11-12 02:24:43.703000) while time zone support is active.\n",
      "  warnings.warn(\"DateTimeField %s received a naive datetime (%s)\"\n",
      "/Users/stephenj/Library/Caches/pypoetry/virtualenvs/alloff-backoffice-server-V9pDS2iq-py3.9/lib/python3.9/site-packages/django/db/models/fields/__init__.py:1416: RuntimeWarning: DateTimeField ExtendedOrder.ordered_at received a naive datetime (2021-11-12 03:31:36.874000) while time zone support is active.\n",
      "  warnings.warn(\"DateTimeField %s received a naive datetime (%s)\"\n"
     ]
    },
    {
     "name": "stdout",
     "output_type": "stream",
     "text": [
      "Order 618d324226685ff0517562a3 has been extended with code PPRGH! (Given code: PPRGH)\n",
      "Order 618d807526685ff0517562d7 has been extended with code VBRDM! (Given code: VBRDM)\n",
      "Order 618d92e426685ff0517562e3 has been extended with code 73FE7! (Given code: 73FE7)\n",
      "Order 618dab6826685ff051756308 has been extended with code 6MM7D! (Given code: 6MM7D)\n",
      "Order 618dba1e26685ff051756328 has been extended with code BEUHA! (Given code: BEUHA)\n",
      "Order 618dc66b26685ff051756339 has been extended with code EAENR! (Given code: EAENR)\n",
      "Order 618dce1826685ff05175634a has been extended with code LFRTQ! (Given code: LFRTQ)\n",
      "Order 618dd06b26685ff05175634f has been extended with code YL9CE! (Given code: YL9CE)\n",
      "Order 618de01826685ff051756368 has been extended with code TGT66! (Given code: TGT66)\n",
      "Order 618de69c26685ff051756371 has been extended with code 6CC98! (Given code: 6CC98)\n",
      "Order 618de6d826685ff051756373 has been extended with code 9AKFU! (Given code: 9AKFU)\n",
      "Order 618de76626685ff051756377 has been extended with code AE847! (Given code: AE847)\n",
      "Order 618def7226685ff051756387 has been extended with code 9GEJQ! (Given code: 9GEJQ)\n",
      "Order 618df04026685ff05175638a has been extended with code 99EMM! (Given code: 99EMM)\n",
      "Order 618df0dc26685ff05175638d has been extended with code 6A79X! (Given code: 6A79X)\n",
      "Order 618dfc5226685ff0517563a2 has been extended with code AJRYB! (Given code: AJRYB)\n",
      "Order 618e05f726685ff0517563ae has been extended with code FNHFT! (Given code: FNHFT)\n",
      "Order 618e065626685ff0517563b0 has been extended with code GF7J6! (Given code: GF7J6)\n"
     ]
    },
    {
     "name": "stderr",
     "output_type": "stream",
     "text": [
      "/Users/stephenj/Library/Caches/pypoetry/virtualenvs/alloff-backoffice-server-V9pDS2iq-py3.9/lib/python3.9/site-packages/django/db/models/fields/__init__.py:1416: RuntimeWarning: DateTimeField ExtendedOrder.ordered_at received a naive datetime (2021-11-12 03:59:24.795000) while time zone support is active.\n",
      "  warnings.warn(\"DateTimeField %s received a naive datetime (%s)\"\n",
      "/Users/stephenj/Library/Caches/pypoetry/virtualenvs/alloff-backoffice-server-V9pDS2iq-py3.9/lib/python3.9/site-packages/django/db/models/fields/__init__.py:1416: RuntimeWarning: DateTimeField ExtendedOrder.ordered_at received a naive datetime (2021-11-12 04:00:24.246000) while time zone support is active.\n",
      "  warnings.warn(\"DateTimeField %s received a naive datetime (%s)\"\n",
      "/Users/stephenj/Library/Caches/pypoetry/virtualenvs/alloff-backoffice-server-V9pDS2iq-py3.9/lib/python3.9/site-packages/django/db/models/fields/__init__.py:1416: RuntimeWarning: DateTimeField ExtendedOrder.ordered_at received a naive datetime (2021-11-12 04:02:46.682000) while time zone support is active.\n",
      "  warnings.warn(\"DateTimeField %s received a naive datetime (%s)\"\n",
      "/Users/stephenj/Library/Caches/pypoetry/virtualenvs/alloff-backoffice-server-V9pDS2iq-py3.9/lib/python3.9/site-packages/django/db/models/fields/__init__.py:1416: RuntimeWarning: DateTimeField ExtendedOrder.ordered_at received a naive datetime (2021-11-12 04:37:06.364000) while time zone support is active.\n",
      "  warnings.warn(\"DateTimeField %s received a naive datetime (%s)\"\n",
      "/Users/stephenj/Library/Caches/pypoetry/virtualenvs/alloff-backoffice-server-V9pDS2iq-py3.9/lib/python3.9/site-packages/django/db/models/fields/__init__.py:1416: RuntimeWarning: DateTimeField ExtendedOrder.ordered_at received a naive datetime (2021-11-12 04:40:32.961000) while time zone support is active.\n",
      "  warnings.warn(\"DateTimeField %s received a naive datetime (%s)\"\n",
      "/Users/stephenj/Library/Caches/pypoetry/virtualenvs/alloff-backoffice-server-V9pDS2iq-py3.9/lib/python3.9/site-packages/django/db/models/fields/__init__.py:1416: RuntimeWarning: DateTimeField ExtendedOrder.ordered_at received a naive datetime (2021-11-12 04:43:08.436000) while time zone support is active.\n",
      "  warnings.warn(\"DateTimeField %s received a naive datetime (%s)\"\n",
      "/Users/stephenj/Library/Caches/pypoetry/virtualenvs/alloff-backoffice-server-V9pDS2iq-py3.9/lib/python3.9/site-packages/django/db/models/fields/__init__.py:1416: RuntimeWarning: DateTimeField ExtendedOrder.ordered_at received a naive datetime (2021-11-12 05:32:02.902000) while time zone support is active.\n",
      "  warnings.warn(\"DateTimeField %s received a naive datetime (%s)\"\n",
      "/Users/stephenj/Library/Caches/pypoetry/virtualenvs/alloff-backoffice-server-V9pDS2iq-py3.9/lib/python3.9/site-packages/django/db/models/fields/__init__.py:1416: RuntimeWarning: DateTimeField ExtendedOrder.ordered_at received a naive datetime (2021-11-12 06:13:11.615000) while time zone support is active.\n",
      "  warnings.warn(\"DateTimeField %s received a naive datetime (%s)\"\n",
      "/Users/stephenj/Library/Caches/pypoetry/virtualenvs/alloff-backoffice-server-V9pDS2iq-py3.9/lib/python3.9/site-packages/django/db/models/fields/__init__.py:1416: RuntimeWarning: DateTimeField ExtendedOrder.ordered_at received a naive datetime (2021-11-12 06:14:46.645000) while time zone support is active.\n",
      "  warnings.warn(\"DateTimeField %s received a naive datetime (%s)\"\n",
      "/Users/stephenj/Library/Caches/pypoetry/virtualenvs/alloff-backoffice-server-V9pDS2iq-py3.9/lib/python3.9/site-packages/django/db/models/fields/__init__.py:1416: RuntimeWarning: DateTimeField ExtendedOrder.ordered_at received a naive datetime (2021-11-12 08:42:55.039000) while time zone support is active.\n",
      "  warnings.warn(\"DateTimeField %s received a naive datetime (%s)\"\n"
     ]
    },
    {
     "name": "stdout",
     "output_type": "stream",
     "text": [
      "Order 618e290f26685ff0517563f1 has been extended with code YWKA6! (Given code: YWKA6)\n",
      "Order 618e42ea26685ff05175640f has been extended with code LXC3F! (Given code: LXC3F)\n",
      "Order 618e5b1d26685ff051756462 has been extended with code 7AEV6! (Given code: 7AEV6)\n",
      "Order 618e5bfb26685ff051756465 has been extended with code F4V43! (Given code: F4V43)\n",
      "Order 618e89c226685ff0517564bb has been extended with code MP8LY! (Given code: MP8LY)\n",
      "Order 618e8ba926685ff0517564c2 has been extended with code L9TBM! (Given code: L9TBM)\n",
      "Order 618eb91f26685ff0517564e2 has been extended with code VYDUR! (Given code: VYDUR)\n",
      "Order 618ecc4c26685ff0517564ea has been extended with code T9Y4G! (Given code: T9Y4G)\n",
      "Order 618ee15326685ff0517564f6 has been extended with code CTTDV! (Given code: CTTDV)\n",
      "Order 618f1bc426685ff051756559 has been extended with code LB4W7! (Given code: LB4W7)\n",
      "Order 618f1e4a26685ff05175655e has been extended with code YHDV4! (Given code: YHDV4)\n"
     ]
    },
    {
     "name": "stderr",
     "output_type": "stream",
     "text": [
      "/Users/stephenj/Library/Caches/pypoetry/virtualenvs/alloff-backoffice-server-V9pDS2iq-py3.9/lib/python3.9/site-packages/django/db/models/fields/__init__.py:1416: RuntimeWarning: DateTimeField ExtendedOrder.ordered_at received a naive datetime (2021-11-12 10:33:14.735000) while time zone support is active.\n",
      "  warnings.warn(\"DateTimeField %s received a naive datetime (%s)\"\n",
      "/Users/stephenj/Library/Caches/pypoetry/virtualenvs/alloff-backoffice-server-V9pDS2iq-py3.9/lib/python3.9/site-packages/django/db/models/fields/__init__.py:1416: RuntimeWarning: DateTimeField ExtendedOrder.ordered_at received a naive datetime (2021-11-12 12:16:29.934000) while time zone support is active.\n",
      "  warnings.warn(\"DateTimeField %s received a naive datetime (%s)\"\n",
      "/Users/stephenj/Library/Caches/pypoetry/virtualenvs/alloff-backoffice-server-V9pDS2iq-py3.9/lib/python3.9/site-packages/django/db/models/fields/__init__.py:1416: RuntimeWarning: DateTimeField ExtendedOrder.ordered_at received a naive datetime (2021-11-12 12:20:11.204000) while time zone support is active.\n",
      "  warnings.warn(\"DateTimeField %s received a naive datetime (%s)\"\n",
      "/Users/stephenj/Library/Caches/pypoetry/virtualenvs/alloff-backoffice-server-V9pDS2iq-py3.9/lib/python3.9/site-packages/django/db/models/fields/__init__.py:1416: RuntimeWarning: DateTimeField ExtendedOrder.ordered_at received a naive datetime (2021-11-12 15:35:30.032000) while time zone support is active.\n",
      "  warnings.warn(\"DateTimeField %s received a naive datetime (%s)\"\n",
      "/Users/stephenj/Library/Caches/pypoetry/virtualenvs/alloff-backoffice-server-V9pDS2iq-py3.9/lib/python3.9/site-packages/django/db/models/fields/__init__.py:1416: RuntimeWarning: DateTimeField ExtendedOrder.ordered_at received a naive datetime (2021-11-12 15:43:37.337000) while time zone support is active.\n",
      "  warnings.warn(\"DateTimeField %s received a naive datetime (%s)\"\n",
      "/Users/stephenj/Library/Caches/pypoetry/virtualenvs/alloff-backoffice-server-V9pDS2iq-py3.9/lib/python3.9/site-packages/django/db/models/fields/__init__.py:1416: RuntimeWarning: DateTimeField ExtendedOrder.ordered_at received a naive datetime (2021-11-12 18:57:35.012000) while time zone support is active.\n",
      "  warnings.warn(\"DateTimeField %s received a naive datetime (%s)\"\n",
      "/Users/stephenj/Library/Caches/pypoetry/virtualenvs/alloff-backoffice-server-V9pDS2iq-py3.9/lib/python3.9/site-packages/django/db/models/fields/__init__.py:1416: RuntimeWarning: DateTimeField ExtendedOrder.ordered_at received a naive datetime (2021-11-12 20:19:24.443000) while time zone support is active.\n",
      "  warnings.warn(\"DateTimeField %s received a naive datetime (%s)\"\n",
      "/Users/stephenj/Library/Caches/pypoetry/virtualenvs/alloff-backoffice-server-V9pDS2iq-py3.9/lib/python3.9/site-packages/django/db/models/fields/__init__.py:1416: RuntimeWarning: DateTimeField ExtendedOrder.ordered_at received a naive datetime (2021-11-12 21:49:07.746000) while time zone support is active.\n",
      "  warnings.warn(\"DateTimeField %s received a naive datetime (%s)\"\n",
      "/Users/stephenj/Library/Caches/pypoetry/virtualenvs/alloff-backoffice-server-V9pDS2iq-py3.9/lib/python3.9/site-packages/django/db/models/fields/__init__.py:1416: RuntimeWarning: DateTimeField ExtendedOrder.ordered_at received a naive datetime (2021-11-13 01:58:28.717000) while time zone support is active.\n",
      "  warnings.warn(\"DateTimeField %s received a naive datetime (%s)\"\n",
      "/Users/stephenj/Library/Caches/pypoetry/virtualenvs/alloff-backoffice-server-V9pDS2iq-py3.9/lib/python3.9/site-packages/django/db/models/fields/__init__.py:1416: RuntimeWarning: DateTimeField ExtendedOrder.ordered_at received a naive datetime (2021-11-13 02:09:14.083000) while time zone support is active.\n",
      "  warnings.warn(\"DateTimeField %s received a naive datetime (%s)\"\n",
      "/Users/stephenj/Library/Caches/pypoetry/virtualenvs/alloff-backoffice-server-V9pDS2iq-py3.9/lib/python3.9/site-packages/django/db/models/fields/__init__.py:1416: RuntimeWarning: DateTimeField ExtendedOrder.ordered_at received a naive datetime (2021-11-13 03:36:46.556000) while time zone support is active.\n",
      "  warnings.warn(\"DateTimeField %s received a naive datetime (%s)\"\n"
     ]
    },
    {
     "name": "stdout",
     "output_type": "stream",
     "text": [
      "Order 618f32ce26685ff051756577 has been extended with code HWP8C! (Given code: HWP8C)\n",
      "Order 618f571426685ff0517565c1 has been extended with code 736RP! (Given code: 736RP)\n",
      "Order 618f7ecb26685ff0517565ef has been extended with code NBB9C! (Given code: NBB9C)\n",
      "Order 618f819a26685ff0517565f6 has been extended with code AYQDL! (Given code: AYQDL)\n",
      "Order 618f850e26685ff051756604 has been extended with code MXNGV! (Given code: MXNGV)\n",
      "Order 618f8c0026685ff051756612 has been extended with code WRUCH! (Given code: WRUCH)\n",
      "Order 618f8fce26685ff051756621 has been extended with code FDVPK! (Given code: FDVPK)\n",
      "Order 618f915826685ff05175662c has been extended with code NHRL4! (Given code: NHRL4)\n",
      "Order 618f920526685ff051756630 has been extended with code L3MQB! (Given code: L3MQB)\n"
     ]
    },
    {
     "name": "stderr",
     "output_type": "stream",
     "text": [
      "/Users/stephenj/Library/Caches/pypoetry/virtualenvs/alloff-backoffice-server-V9pDS2iq-py3.9/lib/python3.9/site-packages/django/db/models/fields/__init__.py:1416: RuntimeWarning: DateTimeField ExtendedOrder.ordered_at received a naive datetime (2021-11-13 06:11:32.040000) while time zone support is active.\n",
      "  warnings.warn(\"DateTimeField %s received a naive datetime (%s)\"\n",
      "/Users/stephenj/Library/Caches/pypoetry/virtualenvs/alloff-backoffice-server-V9pDS2iq-py3.9/lib/python3.9/site-packages/django/db/models/fields/__init__.py:1416: RuntimeWarning: DateTimeField ExtendedOrder.ordered_at received a naive datetime (2021-11-13 09:00:59.374000) while time zone support is active.\n",
      "  warnings.warn(\"DateTimeField %s received a naive datetime (%s)\"\n",
      "/Users/stephenj/Library/Caches/pypoetry/virtualenvs/alloff-backoffice-server-V9pDS2iq-py3.9/lib/python3.9/site-packages/django/db/models/fields/__init__.py:1416: RuntimeWarning: DateTimeField ExtendedOrder.ordered_at received a naive datetime (2021-11-13 09:12:58.890000) while time zone support is active.\n",
      "  warnings.warn(\"DateTimeField %s received a naive datetime (%s)\"\n",
      "/Users/stephenj/Library/Caches/pypoetry/virtualenvs/alloff-backoffice-server-V9pDS2iq-py3.9/lib/python3.9/site-packages/django/db/models/fields/__init__.py:1416: RuntimeWarning: DateTimeField ExtendedOrder.ordered_at received a naive datetime (2021-11-13 09:27:43) while time zone support is active.\n",
      "  warnings.warn(\"DateTimeField %s received a naive datetime (%s)\"\n",
      "/Users/stephenj/Library/Caches/pypoetry/virtualenvs/alloff-backoffice-server-V9pDS2iq-py3.9/lib/python3.9/site-packages/django/db/models/fields/__init__.py:1416: RuntimeWarning: DateTimeField ExtendedOrder.ordered_at received a naive datetime (2021-11-13 09:57:20.648000) while time zone support is active.\n",
      "  warnings.warn(\"DateTimeField %s received a naive datetime (%s)\"\n",
      "/Users/stephenj/Library/Caches/pypoetry/virtualenvs/alloff-backoffice-server-V9pDS2iq-py3.9/lib/python3.9/site-packages/django/db/models/fields/__init__.py:1416: RuntimeWarning: DateTimeField ExtendedOrder.ordered_at received a naive datetime (2021-11-13 10:13:34.008000) while time zone support is active.\n",
      "  warnings.warn(\"DateTimeField %s received a naive datetime (%s)\"\n",
      "/Users/stephenj/Library/Caches/pypoetry/virtualenvs/alloff-backoffice-server-V9pDS2iq-py3.9/lib/python3.9/site-packages/django/db/models/fields/__init__.py:1416: RuntimeWarning: DateTimeField ExtendedOrder.ordered_at received a naive datetime (2021-11-13 10:20:08.593000) while time zone support is active.\n",
      "  warnings.warn(\"DateTimeField %s received a naive datetime (%s)\"\n",
      "/Users/stephenj/Library/Caches/pypoetry/virtualenvs/alloff-backoffice-server-V9pDS2iq-py3.9/lib/python3.9/site-packages/django/db/models/fields/__init__.py:1416: RuntimeWarning: DateTimeField ExtendedOrder.ordered_at received a naive datetime (2021-11-13 10:23:01.180000) while time zone support is active.\n",
      "  warnings.warn(\"DateTimeField %s received a naive datetime (%s)\"\n",
      "/Users/stephenj/Library/Caches/pypoetry/virtualenvs/alloff-backoffice-server-V9pDS2iq-py3.9/lib/python3.9/site-packages/django/db/models/fields/__init__.py:1416: RuntimeWarning: DateTimeField ExtendedOrder.ordered_at received a naive datetime (2021-11-13 10:24:09.464000) while time zone support is active.\n",
      "  warnings.warn(\"DateTimeField %s received a naive datetime (%s)\"\n",
      "/Users/stephenj/Library/Caches/pypoetry/virtualenvs/alloff-backoffice-server-V9pDS2iq-py3.9/lib/python3.9/site-packages/django/db/models/fields/__init__.py:1416: RuntimeWarning: DateTimeField ExtendedOrder.ordered_at received a naive datetime (2021-11-13 10:28:15.732000) while time zone support is active.\n",
      "  warnings.warn(\"DateTimeField %s received a naive datetime (%s)\"\n",
      "/Users/stephenj/Library/Caches/pypoetry/virtualenvs/alloff-backoffice-server-V9pDS2iq-py3.9/lib/python3.9/site-packages/django/db/models/fields/__init__.py:1416: RuntimeWarning: DateTimeField ExtendedOrder.ordered_at received a naive datetime (2021-11-13 10:30:03.519000) while time zone support is active.\n",
      "  warnings.warn(\"DateTimeField %s received a naive datetime (%s)\"\n",
      "/Users/stephenj/Library/Caches/pypoetry/virtualenvs/alloff-backoffice-server-V9pDS2iq-py3.9/lib/python3.9/site-packages/django/db/models/fields/__init__.py:1416: RuntimeWarning: DateTimeField ExtendedOrder.ordered_at received a naive datetime (2021-11-13 10:36:07.958000) while time zone support is active.\n",
      "  warnings.warn(\"DateTimeField %s received a naive datetime (%s)\"\n",
      "/Users/stephenj/Library/Caches/pypoetry/virtualenvs/alloff-backoffice-server-V9pDS2iq-py3.9/lib/python3.9/site-packages/django/db/models/fields/__init__.py:1416: RuntimeWarning: DateTimeField ExtendedOrder.ordered_at received a naive datetime (2021-11-13 10:36:31.749000) while time zone support is active.\n",
      "  warnings.warn(\"DateTimeField %s received a naive datetime (%s)\"\n",
      "/Users/stephenj/Library/Caches/pypoetry/virtualenvs/alloff-backoffice-server-V9pDS2iq-py3.9/lib/python3.9/site-packages/django/db/models/fields/__init__.py:1416: RuntimeWarning: DateTimeField ExtendedOrder.ordered_at received a naive datetime (2021-11-13 10:40:02.780000) while time zone support is active.\n",
      "  warnings.warn(\"DateTimeField %s received a naive datetime (%s)\"\n",
      "/Users/stephenj/Library/Caches/pypoetry/virtualenvs/alloff-backoffice-server-V9pDS2iq-py3.9/lib/python3.9/site-packages/django/db/models/fields/__init__.py:1416: RuntimeWarning: DateTimeField ExtendedOrder.ordered_at received a naive datetime (2021-11-13 10:40:10.992000) while time zone support is active.\n",
      "  warnings.warn(\"DateTimeField %s received a naive datetime (%s)\"\n",
      "/Users/stephenj/Library/Caches/pypoetry/virtualenvs/alloff-backoffice-server-V9pDS2iq-py3.9/lib/python3.9/site-packages/django/db/models/fields/__init__.py:1416: RuntimeWarning: DateTimeField ExtendedOrder.ordered_at received a naive datetime (2021-11-13 10:46:46.518000) while time zone support is active.\n",
      "  warnings.warn(\"DateTimeField %s received a naive datetime (%s)\"\n",
      "/Users/stephenj/Library/Caches/pypoetry/virtualenvs/alloff-backoffice-server-V9pDS2iq-py3.9/lib/python3.9/site-packages/django/db/models/fields/__init__.py:1416: RuntimeWarning: DateTimeField ExtendedOrder.ordered_at received a naive datetime (2021-11-13 11:59:16.907000) while time zone support is active.\n",
      "  warnings.warn(\"DateTimeField %s received a naive datetime (%s)\"\n",
      "/Users/stephenj/Library/Caches/pypoetry/virtualenvs/alloff-backoffice-server-V9pDS2iq-py3.9/lib/python3.9/site-packages/django/db/models/fields/__init__.py:1416: RuntimeWarning: DateTimeField ExtendedOrder.ordered_at received a naive datetime (2021-11-13 12:07:40.558000) while time zone support is active.\n",
      "  warnings.warn(\"DateTimeField %s received a naive datetime (%s)\"\n",
      "/Users/stephenj/Library/Caches/pypoetry/virtualenvs/alloff-backoffice-server-V9pDS2iq-py3.9/lib/python3.9/site-packages/django/db/models/fields/__init__.py:1416: RuntimeWarning: DateTimeField ExtendedOrder.ordered_at received a naive datetime (2021-11-13 12:55:16.136000) while time zone support is active.\n",
      "  warnings.warn(\"DateTimeField %s received a naive datetime (%s)\"\n"
     ]
    },
    {
     "name": "stdout",
     "output_type": "stream",
     "text": [
      "Order 618f924926685ff051756634 has been extended with code QYKDV! (Given code: QYKDV)\n",
      "Order 618f933f26685ff05175663c has been extended with code 4RK8N! (Given code: 4RK8N)\n",
      "Order 618f93ab26685ff051756640 has been extended with code NKPME! (Given code: NKPME)\n",
      "Order 618f951726685ff05175664d has been extended with code JCXXL! (Given code: JCXXL)\n",
      "Order 618f952f26685ff05175664f has been extended with code X7XYW! (Given code: X7XYW)\n",
      "Order 618f960226685ff051756657 has been extended with code DLU4R! (Given code: DLU4R)\n",
      "Order 618f960a26685ff051756659 has been extended with code 77CYA! (Given code: 77CYA)\n",
      "Order 618f979626685ff051756669 has been extended with code XTMTU! (Given code: XTMTU)\n",
      "Order 618fa89426685ff051756691 has been extended with code AEAAN! (Given code: AEAAN)\n",
      "Order 618faa8c26685ff05175669e has been extended with code XVBKC! (Given code: XVBKC)\n",
      "Order 618fb5b426685ff0517566c0 has been extended with code 9L7LP! (Given code: 9L7LP)\n"
     ]
    },
    {
     "name": "stderr",
     "output_type": "stream",
     "text": [
      "/Users/stephenj/Library/Caches/pypoetry/virtualenvs/alloff-backoffice-server-V9pDS2iq-py3.9/lib/python3.9/site-packages/django/db/models/fields/__init__.py:1416: RuntimeWarning: DateTimeField ExtendedOrder.ordered_at received a naive datetime (2021-11-13 12:58:12.046000) while time zone support is active.\n",
      "  warnings.warn(\"DateTimeField %s received a naive datetime (%s)\"\n",
      "/Users/stephenj/Library/Caches/pypoetry/virtualenvs/alloff-backoffice-server-V9pDS2iq-py3.9/lib/python3.9/site-packages/django/db/models/fields/__init__.py:1416: RuntimeWarning: DateTimeField ExtendedOrder.ordered_at received a naive datetime (2021-11-13 13:16:12.629000) while time zone support is active.\n",
      "  warnings.warn(\"DateTimeField %s received a naive datetime (%s)\"\n",
      "/Users/stephenj/Library/Caches/pypoetry/virtualenvs/alloff-backoffice-server-V9pDS2iq-py3.9/lib/python3.9/site-packages/django/db/models/fields/__init__.py:1416: RuntimeWarning: DateTimeField ExtendedOrder.ordered_at received a naive datetime (2021-11-13 13:23:14.424000) while time zone support is active.\n",
      "  warnings.warn(\"DateTimeField %s received a naive datetime (%s)\"\n",
      "/Users/stephenj/Library/Caches/pypoetry/virtualenvs/alloff-backoffice-server-V9pDS2iq-py3.9/lib/python3.9/site-packages/django/db/models/fields/__init__.py:1416: RuntimeWarning: DateTimeField ExtendedOrder.ordered_at received a naive datetime (2021-11-13 13:28:32.339000) while time zone support is active.\n",
      "  warnings.warn(\"DateTimeField %s received a naive datetime (%s)\"\n",
      "/Users/stephenj/Library/Caches/pypoetry/virtualenvs/alloff-backoffice-server-V9pDS2iq-py3.9/lib/python3.9/site-packages/django/db/models/fields/__init__.py:1416: RuntimeWarning: DateTimeField ExtendedOrder.ordered_at received a naive datetime (2021-11-13 13:39:58.994000) while time zone support is active.\n",
      "  warnings.warn(\"DateTimeField %s received a naive datetime (%s)\"\n",
      "/Users/stephenj/Library/Caches/pypoetry/virtualenvs/alloff-backoffice-server-V9pDS2iq-py3.9/lib/python3.9/site-packages/django/db/models/fields/__init__.py:1416: RuntimeWarning: DateTimeField ExtendedOrder.ordered_at received a naive datetime (2021-11-13 14:07:04.968000) while time zone support is active.\n",
      "  warnings.warn(\"DateTimeField %s received a naive datetime (%s)\"\n",
      "/Users/stephenj/Library/Caches/pypoetry/virtualenvs/alloff-backoffice-server-V9pDS2iq-py3.9/lib/python3.9/site-packages/django/db/models/fields/__init__.py:1416: RuntimeWarning: DateTimeField ExtendedOrder.ordered_at received a naive datetime (2021-11-13 15:17:46.377000) while time zone support is active.\n",
      "  warnings.warn(\"DateTimeField %s received a naive datetime (%s)\"\n",
      "/Users/stephenj/Library/Caches/pypoetry/virtualenvs/alloff-backoffice-server-V9pDS2iq-py3.9/lib/python3.9/site-packages/django/db/models/fields/__init__.py:1416: RuntimeWarning: DateTimeField ExtendedOrder.ordered_at received a naive datetime (2021-11-13 23:41:42.235000) while time zone support is active.\n",
      "  warnings.warn(\"DateTimeField %s received a naive datetime (%s)\"\n"
     ]
    },
    {
     "name": "stdout",
     "output_type": "stream",
     "text": [
      "Order 618fb66426685ff0517566c9 has been extended with code 4LATL! (Given code: 4LATL)\n",
      "Order 618fba9c26685ff0517566d8 has been extended with code 7ULLV! (Given code: 7ULLV)\n",
      "Order 618fbc4226685ff0517566e7 has been extended with code 33VUR! (Given code: 33VUR)\n",
      "Order 618fbd8026685ff0517566f3 has been extended with code QC6LJ! (Given code: QC6LJ)\n",
      "Order 618fc02e26685ff0517566fc has been extended with code PTEE3! (Given code: PTEE3)\n",
      "Order 618fc68826685ff051756721 has been extended with code X3KAU! (Given code: X3KAU)\n",
      "Order 618fd71a26685ff051756767 has been extended with code MHJAP! (Given code: MHJAP)\n",
      "Order 61904d3626685ff0517567a5 has been extended with code LDVMJ! (Given code: LDVMJ)\n"
     ]
    },
    {
     "name": "stderr",
     "output_type": "stream",
     "text": [
      "/Users/stephenj/Library/Caches/pypoetry/virtualenvs/alloff-backoffice-server-V9pDS2iq-py3.9/lib/python3.9/site-packages/django/db/models/fields/__init__.py:1416: RuntimeWarning: DateTimeField ExtendedOrder.ordered_at received a naive datetime (2021-11-14 00:42:32.535000) while time zone support is active.\n",
      "  warnings.warn(\"DateTimeField %s received a naive datetime (%s)\"\n",
      "/Users/stephenj/Library/Caches/pypoetry/virtualenvs/alloff-backoffice-server-V9pDS2iq-py3.9/lib/python3.9/site-packages/django/db/models/fields/__init__.py:1416: RuntimeWarning: DateTimeField ExtendedOrder.ordered_at received a naive datetime (2021-11-14 00:47:25.930000) while time zone support is active.\n",
      "  warnings.warn(\"DateTimeField %s received a naive datetime (%s)\"\n",
      "/Users/stephenj/Library/Caches/pypoetry/virtualenvs/alloff-backoffice-server-V9pDS2iq-py3.9/lib/python3.9/site-packages/django/db/models/fields/__init__.py:1416: RuntimeWarning: DateTimeField ExtendedOrder.ordered_at received a naive datetime (2021-11-14 02:04:06.896000) while time zone support is active.\n",
      "  warnings.warn(\"DateTimeField %s received a naive datetime (%s)\"\n",
      "/Users/stephenj/Library/Caches/pypoetry/virtualenvs/alloff-backoffice-server-V9pDS2iq-py3.9/lib/python3.9/site-packages/django/db/models/fields/__init__.py:1416: RuntimeWarning: DateTimeField ExtendedOrder.ordered_at received a naive datetime (2021-11-14 03:03:54.962000) while time zone support is active.\n",
      "  warnings.warn(\"DateTimeField %s received a naive datetime (%s)\"\n",
      "/Users/stephenj/Library/Caches/pypoetry/virtualenvs/alloff-backoffice-server-V9pDS2iq-py3.9/lib/python3.9/site-packages/django/db/models/fields/__init__.py:1416: RuntimeWarning: DateTimeField ExtendedOrder.ordered_at received a naive datetime (2021-11-14 04:09:54.105000) while time zone support is active.\n",
      "  warnings.warn(\"DateTimeField %s received a naive datetime (%s)\"\n",
      "/Users/stephenj/Library/Caches/pypoetry/virtualenvs/alloff-backoffice-server-V9pDS2iq-py3.9/lib/python3.9/site-packages/django/db/models/fields/__init__.py:1416: RuntimeWarning: DateTimeField ExtendedOrder.ordered_at received a naive datetime (2021-11-14 04:19:48.658000) while time zone support is active.\n",
      "  warnings.warn(\"DateTimeField %s received a naive datetime (%s)\"\n",
      "/Users/stephenj/Library/Caches/pypoetry/virtualenvs/alloff-backoffice-server-V9pDS2iq-py3.9/lib/python3.9/site-packages/django/db/models/fields/__init__.py:1416: RuntimeWarning: DateTimeField ExtendedOrder.ordered_at received a naive datetime (2021-11-14 04:41:50.931000) while time zone support is active.\n",
      "  warnings.warn(\"DateTimeField %s received a naive datetime (%s)\"\n",
      "/Users/stephenj/Library/Caches/pypoetry/virtualenvs/alloff-backoffice-server-V9pDS2iq-py3.9/lib/python3.9/site-packages/django/db/models/fields/__init__.py:1416: RuntimeWarning: DateTimeField ExtendedOrder.ordered_at received a naive datetime (2021-11-14 05:40:48.604000) while time zone support is active.\n",
      "  warnings.warn(\"DateTimeField %s received a naive datetime (%s)\"\n",
      "/Users/stephenj/Library/Caches/pypoetry/virtualenvs/alloff-backoffice-server-V9pDS2iq-py3.9/lib/python3.9/site-packages/django/db/models/fields/__init__.py:1416: RuntimeWarning: DateTimeField ExtendedOrder.ordered_at received a naive datetime (2021-11-14 06:04:03.573000) while time zone support is active.\n",
      "  warnings.warn(\"DateTimeField %s received a naive datetime (%s)\"\n",
      "/Users/stephenj/Library/Caches/pypoetry/virtualenvs/alloff-backoffice-server-V9pDS2iq-py3.9/lib/python3.9/site-packages/django/db/models/fields/__init__.py:1416: RuntimeWarning: DateTimeField ExtendedOrder.ordered_at received a naive datetime (2021-11-14 07:53:55.370000) while time zone support is active.\n",
      "  warnings.warn(\"DateTimeField %s received a naive datetime (%s)\"\n"
     ]
    },
    {
     "name": "stdout",
     "output_type": "stream",
     "text": [
      "Order 61905b7826685ff0517567b8 has been extended with code T4CKJ! (Given code: T4CKJ)\n",
      "Order 61905c9d26685ff0517567bc has been extended with code AQRE4! (Given code: AQRE4)\n",
      "Order 61906e9626685ff0517567cc has been extended with code VPQUA! (Given code: VPQUA)\n",
      "Order 61907c9a26685ff0517567da has been extended with code DQEY6! (Given code: DQEY6)\n",
      "Order 61908c1226685ff0517567e1 has been extended with code XFNV4! (Given code: XFNV4)\n",
      "Order 61908e6426685ff0517567e6 has been extended with code 7XCTA! (Given code: 7XCTA)\n",
      "Order 6190938e26685ff0517567ea has been extended with code 64XYT! (Given code: 64XYT)\n",
      "Order 6190a16026685ff0517567fb has been extended with code WN73Y! (Given code: WN73Y)\n",
      "Order 6190a6d326685ff051756800 has been extended with code UXCHH! (Given code: UXCHH)\n",
      "Order 6190c09326685ff051756810 has been extended with code FMF3M! (Given code: FMF3M)\n",
      "Order 6190d47326685ff051756819 has been extended with code VYQQ3! (Given code: VYQQ3)\n",
      "Order 6190f92526685ff05175682a has been extended with code D64L8! (Given code: D64L8)\n",
      "Order 6190f9f226685ff05175682f has been extended with code AWCN6! (Given code: AWCN6)\n",
      "Order 6190fb8226685ff051756839 has been extended with code D9GF9! (Given code: D9GF9)\n",
      "Order 61910d8126685ff05175684b has been extended with code WTACP! (Given code: WTACP)\n",
      "Order 619119c126685ff05175685a has been extended with code TNPBY! (Given code: TNPBY)\n",
      "Order 619131d726685ff05175687a has been extended with code ARHHX! (Given code: ARHHX)\n",
      "Order 6191565e26685ff051756891 has been extended with code R3EJK! (Given code: R3EJK)\n",
      "Order 6191a30d26685ff0517568a1 has been extended with code K4QU8! (Given code: K4QU8)\n"
     ]
    },
    {
     "name": "stderr",
     "output_type": "stream",
     "text": [
      "/Users/stephenj/Library/Caches/pypoetry/virtualenvs/alloff-backoffice-server-V9pDS2iq-py3.9/lib/python3.9/site-packages/django/db/models/fields/__init__.py:1416: RuntimeWarning: DateTimeField ExtendedOrder.ordered_at received a naive datetime (2021-11-14 09:18:43.811000) while time zone support is active.\n",
      "  warnings.warn(\"DateTimeField %s received a naive datetime (%s)\"\n",
      "/Users/stephenj/Library/Caches/pypoetry/virtualenvs/alloff-backoffice-server-V9pDS2iq-py3.9/lib/python3.9/site-packages/django/db/models/fields/__init__.py:1416: RuntimeWarning: DateTimeField ExtendedOrder.ordered_at received a naive datetime (2021-11-14 11:55:17.651000) while time zone support is active.\n",
      "  warnings.warn(\"DateTimeField %s received a naive datetime (%s)\"\n",
      "/Users/stephenj/Library/Caches/pypoetry/virtualenvs/alloff-backoffice-server-V9pDS2iq-py3.9/lib/python3.9/site-packages/django/db/models/fields/__init__.py:1416: RuntimeWarning: DateTimeField ExtendedOrder.ordered_at received a naive datetime (2021-11-14 11:58:42.120000) while time zone support is active.\n",
      "  warnings.warn(\"DateTimeField %s received a naive datetime (%s)\"\n",
      "/Users/stephenj/Library/Caches/pypoetry/virtualenvs/alloff-backoffice-server-V9pDS2iq-py3.9/lib/python3.9/site-packages/django/db/models/fields/__init__.py:1416: RuntimeWarning: DateTimeField ExtendedOrder.ordered_at received a naive datetime (2021-11-14 12:05:22.109000) while time zone support is active.\n",
      "  warnings.warn(\"DateTimeField %s received a naive datetime (%s)\"\n",
      "/Users/stephenj/Library/Caches/pypoetry/virtualenvs/alloff-backoffice-server-V9pDS2iq-py3.9/lib/python3.9/site-packages/django/db/models/fields/__init__.py:1416: RuntimeWarning: DateTimeField ExtendedOrder.ordered_at received a naive datetime (2021-11-14 13:22:09.711000) while time zone support is active.\n",
      "  warnings.warn(\"DateTimeField %s received a naive datetime (%s)\"\n",
      "/Users/stephenj/Library/Caches/pypoetry/virtualenvs/alloff-backoffice-server-V9pDS2iq-py3.9/lib/python3.9/site-packages/django/db/models/fields/__init__.py:1416: RuntimeWarning: DateTimeField ExtendedOrder.ordered_at received a naive datetime (2021-11-14 14:14:25.959000) while time zone support is active.\n",
      "  warnings.warn(\"DateTimeField %s received a naive datetime (%s)\"\n",
      "/Users/stephenj/Library/Caches/pypoetry/virtualenvs/alloff-backoffice-server-V9pDS2iq-py3.9/lib/python3.9/site-packages/django/db/models/fields/__init__.py:1416: RuntimeWarning: DateTimeField ExtendedOrder.ordered_at received a naive datetime (2021-11-14 15:57:11.817000) while time zone support is active.\n",
      "  warnings.warn(\"DateTimeField %s received a naive datetime (%s)\"\n",
      "/Users/stephenj/Library/Caches/pypoetry/virtualenvs/alloff-backoffice-server-V9pDS2iq-py3.9/lib/python3.9/site-packages/django/db/models/fields/__init__.py:1416: RuntimeWarning: DateTimeField ExtendedOrder.ordered_at received a naive datetime (2021-11-14 18:33:02.565000) while time zone support is active.\n",
      "  warnings.warn(\"DateTimeField %s received a naive datetime (%s)\"\n",
      "/Users/stephenj/Library/Caches/pypoetry/virtualenvs/alloff-backoffice-server-V9pDS2iq-py3.9/lib/python3.9/site-packages/django/db/models/fields/__init__.py:1416: RuntimeWarning: DateTimeField ExtendedOrder.ordered_at received a naive datetime (2021-11-15 00:00:13.062000) while time zone support is active.\n",
      "  warnings.warn(\"DateTimeField %s received a naive datetime (%s)\"\n"
     ]
    }
   ],
   "source": [
    "for o in valid_orders:\n",
    "    _code = o.code\n",
    "    code = _code.replace(\"ORD-\", \"\") if _code[:4] == \"ORD-\" else None\n",
    "\n",
    "    if ExtendedOrder.objects.filter(order_id=o.id).count() > 0:\n",
    "        eo = ExtendedOrder.objects.get(order_id=o.id)\n",
    "        if eo.code != code and code is not None:\n",
    "            print(f\"Changing extended order {o.id} code from {eo.code} to {code}\")\n",
    "            eo.code = code\n",
    "            eo.save()\n",
    "        elif eo.code is None:\n",
    "            new_code = ExtendedOrder.generate_usable_code()\n",
    "            print(f\"Changing extended order {o.id} code from {eo.code} to {new_code}\")\n",
    "            eo.code = new_code\n",
    "            eo.save()\n",
    "    else:\n",
    "        e = ExtendedOrder.make_from(o, code=code)\n",
    "        print(f\"Order {o.id} has been extended with code {e.code}! (Given code: {code})\")"
   ]
  },
  {
   "cell_type": "code",
   "execution_count": 7,
   "id": "9463ddbe",
   "metadata": {},
   "outputs": [
    {
     "data": {
      "text/plain": [
       "<QuerySet []>"
      ]
     },
     "execution_count": 7,
     "metadata": {},
     "output_type": "execute_result"
    }
   ],
   "source": [
    "ExtendedOrder.objects.filter(code=None)"
   ]
  },
  {
   "cell_type": "code",
   "execution_count": null,
   "id": "a991a493",
   "metadata": {},
   "outputs": [],
   "source": []
  }
 ],
 "metadata": {
  "kernelspec": {
   "display_name": "Django Shell-Plus",
   "language": "python",
   "name": "django_extensions"
  },
  "language_info": {
   "codemirror_mode": {
    "name": "ipython",
    "version": 3
   },
   "file_extension": ".py",
   "mimetype": "text/x-python",
   "name": "python",
   "nbconvert_exporter": "python",
   "pygments_lexer": "ipython3",
   "version": "3.9.6"
  }
 },
 "nbformat": 4,
 "nbformat_minor": 5
}
