{
 "cells": [
  {
   "cell_type": "code",
   "execution_count": 6,
   "id": "14564560",
   "metadata": {},
   "outputs": [],
   "source": [
    "from tagger.core.mongo.models.order import Order, OrderCodeMap\n",
    "from tagger.models import ExtendedOrder\n",
    "\n",
    "\n",
    "import os\n",
    "import django\n",
    "os.environ.setdefault('DJANGO_SETTINGS_MODULE', 'rest.settings')\n",
    "os.environ[\"DJANGO_ALLOW_ASYNC_UNSAFE\"] = \"true\"\n",
    "django.setup()"
   ]
  },
  {
   "cell_type": "code",
   "execution_count": 7,
   "id": "a917dca0",
   "metadata": {},
   "outputs": [],
   "source": [
    "valid_orders = Order.objects(orderstatus__nin=[\n",
    "    \"CREATED\",\n",
    "    \"RECREATED\",\n",
    "    \"PAYMENT_PENDING\"\n",
    "]).all()"
   ]
  },
  {
   "cell_type": "code",
   "execution_count": 8,
   "id": "cfdaec29",
   "metadata": {},
   "outputs": [
    {
     "name": "stdout",
     "output_type": "stream",
     "text": [
      "Order 6189236026685ff051755ba8 has been extended with code TMWR7! (Given code: None)\n"
     ]
    },
    {
     "name": "stderr",
     "output_type": "stream",
     "text": [
      "/Users/stephenj/Library/Caches/pypoetry/virtualenvs/alloff-backoffice-server-V9pDS2iq-py3.9/lib/python3.9/site-packages/django/db/models/fields/__init__.py:1416: RuntimeWarning: DateTimeField ExtendedOrder.ordered_at received a naive datetime (2021-11-08 13:17:20.609000) while time zone support is active.\n",
      "  warnings.warn(\"DateTimeField %s received a naive datetime (%s)\"\n"
     ]
    }
   ],
   "source": [
    "for o in valid_orders:\n",
    "    _code = o.code\n",
    "    code = _code.replace(\"ORD-\", \"\") if _code[:4] == \"ORD-\" else None\n",
    "\n",
    "    if ExtendedOrder.objects.filter(order_id=o.id).count() > 0:\n",
    "        continue\n",
    "        \n",
    "    e = ExtendedOrder.make_from(o, code=code)\n",
    "    print(f\"Order {o.id} has been extended with code {e.code}! (Given code: {code})\")"
   ]
  },
  {
   "cell_type": "code",
   "execution_count": 12,
   "id": "9463ddbe",
   "metadata": {},
   "outputs": [
    {
     "data": {
      "text/plain": [
       "'K6LJL'"
      ]
     },
     "execution_count": 12,
     "metadata": {},
     "output_type": "execute_result"
    }
   ],
   "source": []
  },
  {
   "cell_type": "code",
   "execution_count": null,
   "id": "a991a493",
   "metadata": {},
   "outputs": [],
   "source": []
  }
 ],
 "metadata": {
  "kernelspec": {
   "display_name": "Django Shell-Plus",
   "language": "python",
   "name": "django_extensions"
  },
  "language_info": {
   "codemirror_mode": {
    "name": "ipython",
    "version": 3
   },
   "file_extension": ".py",
   "mimetype": "text/x-python",
   "name": "python",
   "nbconvert_exporter": "python",
   "pygments_lexer": "ipython3",
   "version": "3.9.6"
  }
 },
 "nbformat": 4,
 "nbformat_minor": 5
}
