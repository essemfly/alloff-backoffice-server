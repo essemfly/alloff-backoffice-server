{
 "cells": [
  {
   "cell_type": "code",
   "execution_count": 1,
   "id": "14564560",
   "metadata": {},
   "outputs": [],
   "source": [
    "from tagger.core.mongo.models.order import Order\n",
    "from tagger.models import ExtendedOrder, ExtendedOrderItem\n",
    "\n",
    "\n",
    "import os\n",
    "import django\n",
    "os.environ.setdefault('DJANGO_SETTINGS_MODULE', 'rest.settings')\n",
    "os.environ[\"DJANGO_ALLOW_ASYNC_UNSAFE\"] = \"true\"\n",
    "django.setup()"
   ]
  },
  {
   "cell_type": "code",
   "execution_count": 2,
   "id": "a917dca0",
   "metadata": {},
   "outputs": [],
   "source": [
    "valid_orders = Order.objects(orderstatus__nin=[\n",
    "    \"CREATED\",\n",
    "    \"RECREATED\",\n",
    "    \"PAYMENT_PENDING\"\n",
    "]).all()"
   ]
  },
  {
   "cell_type": "code",
   "execution_count": 3,
   "id": "cfdaec29",
   "metadata": {},
   "outputs": [
    {
     "name": "stdout",
     "output_type": "stream",
     "text": [
      "order items not extended correctly for eo 6RNQL.. purging and remaking\n",
      "6RNQL - SANDRO___OSAN배색가디건___1\n",
      "order items not extended correctly for eo JAW9N.. purging and remaking\n",
      "JAW9N - BEANPOLEL___울캐시미어케이프핸드메이드리버시블코트___FREE\n",
      "order items not extended correctly for eo 4CR8M.. purging and remaking\n",
      "4CR8M - BEANPOLEL___리버시블체크후드케이프코트___FREE\n"
     ]
    }
   ],
   "source": [
    "for o in valid_orders:\n",
    "    ExtendedOrder.make(o, force_update=True)"
   ]
  },
  {
   "cell_type": "code",
   "execution_count": 4,
   "id": "9463ddbe",
   "metadata": {},
   "outputs": [
    {
     "name": "stdout",
     "output_type": "stream",
     "text": [
      "X9YJM\n",
      "61303c68a93cdd965c8cf222\n",
      "X9YJM\n"
     ]
    }
   ],
   "source": [
    "# 6JUTV"
   ]
  },
  {
   "cell_type": "code",
   "execution_count": null,
   "id": "a991a493",
   "metadata": {},
   "outputs": [],
   "source": [
    "for o in valid_orders:\n",
    "    if ExtendedOrder.objects.filter(order_id=o.id).count() > 0:\n",
    "        eo = ExtendedOrder.objects.get(order_id=o.id)\n",
    "        if eo.code != code and code is not None:\n",
    "            print(f\"Changing extended order {o.id} code from {eo.code} to {code}\")\n",
    "            eo.code = code\n",
    "            eo.save()\n",
    "        elif eo.code is None:\n",
    "            new_code = ExtendedOrder.generate_usable_code()\n",
    "            print(f\"Changing extended order {o.id} code from {eo.code} to {new_code}\")\n",
    "            eo.code = new_code\n",
    "            eo.save()\n",
    "    else:\n",
    "        e = ExtendedOrder.make_from(o, code=code)\n",
    "        print(f\"Order {o.id} has been extended with code {e.code}! (Given code: {code})\")"
   ]
  }
 ],
 "metadata": {
  "kernelspec": {
   "display_name": "Django Shell-Plus",
   "language": "python",
   "name": "django_extensions"
  },
  "language_info": {
   "codemirror_mode": {
    "name": "ipython",
    "version": 3
   },
   "file_extension": ".py",
   "mimetype": "text/x-python",
   "name": "python",
   "nbconvert_exporter": "python",
   "pygments_lexer": "ipython3",
   "version": "3.9.6"
  }
 },
 "nbformat": 4,
 "nbformat_minor": 5
}
