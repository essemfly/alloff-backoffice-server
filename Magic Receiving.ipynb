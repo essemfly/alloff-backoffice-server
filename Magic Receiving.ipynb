{
 "cells": [
  {
   "cell_type": "code",
   "execution_count": 1,
   "id": "e6aa1efb",
   "metadata": {},
   "outputs": [],
   "source": [
    "from tagger.core.mongo.models.order import Order, OrderCodeMap\n",
    "from datetime import datetime\n",
    "from tagger.models import Inventory\n",
    "from tagger.models.inventory import InventoryStatus, ProductType\n",
    "from tagger.core.label.receiving_label import make_receiving_label\n",
    "from tagger.core.label.print_label import print_label\n",
    "from bson import ObjectId\n",
    "from tagger.core.mongo.models.product import Product\n",
    "from tagger.core.mongo.models.alloff_product import AlloffProduct\n",
    "\n",
    "import os\n",
    "import django\n",
    "os.environ.setdefault('DJANGO_SETTINGS_MODULE', 'rest.settings')\n",
    "os.environ[\"DJANGO_ALLOW_ASYNC_UNSAFE\"] = \"true\"\n",
    "django.setup()\n",
    "\n",
    "def make_inventory(order: Order, is_return=False, target_item_index=None):\n",
    "    if len(order.orders) > 1 and (target_item_index is None or target_item_index >= len(order.orders)):\n",
    "        raise \"Multiple items in the order... specify correct item index!\"\n",
    "    \n",
    "    item = order.orders[0 if len(order.orders) == 1 else target_item_index]\n",
    "    product = item.product if item.product is not None else item.alloffproduct\n",
    "    product_type = ProductType.NORMAL_PRODUCT if item.product is not None else ProductType.TIMEDEAL_PRODUCT\n",
    "    \n",
    "    today = datetime.now().date()\n",
    "    \n",
    "    today_inventory_count = Inventory.objects.filter(created__gte=today).count()\n",
    "    code_prefix = today.isoformat()[2:].replace(\"-\", \"\")\n",
    "    current_sequence = today_inventory_count + 1  # 0 inventories --> current is #1 (starts with 1)\n",
    "    code = f\"{code_prefix}-{str(current_sequence).zfill(3)}\"\n",
    "    if is_return:\n",
    "        code += \"-R\"\n",
    "    \n",
    "    \n",
    "    \n",
    "    return Inventory.objects.create(\n",
    "        code=code,\n",
    "        status=InventoryStatus.IN_STOCK,\n",
    "        size=item.size,\n",
    "        product_id=str(product._id),\n",
    "        product_from_order_url=f\"https://office.alloff.co/orders/{order.id}\",\n",
    "        product_name=product.name,\n",
    "        product_brand=product.brand.keyname,\n",
    "        product_type=product_type\n",
    "    )\n",
    "    "
   ]
  },
  {
   "cell_type": "code",
   "execution_count": null,
   "id": "cd1f4b3c",
   "metadata": {},
   "outputs": [],
   "source": [
    "inventory = make_inventory(Order.get(\"3uryr\"))"
   ]
  }
 ],
 "metadata": {
  "kernelspec": {
   "display_name": "Django Shell-Plus",
   "language": "python",
   "name": "django_extensions"
  },
  "language_info": {
   "codemirror_mode": {
    "name": "ipython",
    "version": 3
   },
   "file_extension": ".py",
   "mimetype": "text/x-python",
   "name": "python",
   "nbconvert_exporter": "python",
   "pygments_lexer": "ipython3",
   "version": "3.9.6"
  }
 },
 "nbformat": 4,
 "nbformat_minor": 5
}
