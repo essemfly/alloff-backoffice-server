{
 "cells": [
  {
   "cell_type": "code",
   "execution_count": 1,
   "id": "b164706e",
   "metadata": {},
   "outputs": [],
   "source": [
    "from tagger.models.inventory import Inventory\n",
    "import os\n",
    "import django\n",
    "os.environ.setdefault('DJANGO_SETTINGS_MODULE', 'rest.settings')\n",
    "os.environ[\"DJANGO_ALLOW_ASYNC_UNSAFE\"] = \"true\"\n",
    "django.setup()"
   ]
  },
  {
   "cell_type": "code",
   "execution_count": 9,
   "id": "f9ecffc9",
   "metadata": {},
   "outputs": [],
   "source": [
    "inventories = [\n",
    "    (\"[Re-order] 알파카 블렌드 니트 가디건(스모크 핑크)\", \"타임\", \"90(F)\", \"https://office.alloff.co/orders/617b49a017fc2e5a1f9ead04\", \"617783c8ee2c39d09bebead6\", \"TIMEDEAL\"),\n",
    "    (\"[기획] 핸드메이드 벨티드 코트\", \"에스제이에스제이\", \"82(55)\", \"https://office.alloff.co/orders/6171f2c617fc2e5a1f9e997b\", \"616e8f94ee2c39d09bebe9f9\", \"TIMEDEAL\"),\n",
    "    (\"[빈폴스포츠] 듀얼 후드 코어 쇼트 다운(옐로우)\", \"빈폴 레이디스\", \"85\", \"https://office.alloff.co/orders/61701beb17fc2e5a1f9e9597\", \"616fa337ee2c39d09bebea08\", \"TIMEDEAL\"),\n",
    "    (\"러플 칼라 블라우스(페일 베이지)\", \"마인\", \"82(55)\", \"https://office.alloff.co/orders/6146d3294b20da9d98eceee8\", \"614543cd2eb836206fef15ee\", \"TIMEDEAL\"),\n",
    "    (\"리브 블록 후드 구스다운 점퍼\", \"마인\", \"82(55)\", \"https://office.alloff.co/orders/6180fd6d26685ff051754c51\", \"617fd67bee2c39d09bebebd5\", \"TIMEDEAL\"),\n",
    "    (\"볼륨 소매 니트 풀오버(민트)\", \"듀엘\", \"FREE(99)\", \"https://office.alloff.co/orders/6177e05817fc2e5a1f9ea668\", \"6168157bee2c39d09bebe97e\", \"TIMEDEAL\"),\n",
    "    (\"스티치 디테일 핸드메이드 코트(그린)\", \"씨씨콜렉트\", \"88(66)\", \"https://office.alloff.co/orders/61796a8017fc2e5a1f9eaa39\", \"6178ba4aee2c39d09bebeb28\", \"TIMEDEAL\"),\n",
    "    (\"스플릿 드레스\", \"타임\", \"82(55)\", \"https://office.alloff.co/orders/6172b39017fc2e5a1f9e9c30\", \"6169383fee2c39d09bebe982\", \"TIMEDEAL\"),\n",
    "    (\"아노락 퀼팅 점퍼(오렌지)\", \"더 캐시미어\", \"82(F)\", \"https://office.alloff.co/orders/61776a9017fc2e5a1f9ea5a4\", \"6164d5a0ee2c39d09bebe8bf\", \"TIMEDEAL\"),\n",
    "    (\"울 캐시미어 하이넥 니트 드레스\", \"빈폴 레이디스\", \"95\", \"https://office.alloff.co/orders/617cb70617fc2e5a1f9eaf78\", \"617c94d5ee2c39d09bebeb9b\", \"TIMEDEAL\"),\n",
    "    (\"워싱 코튼 패딩 점퍼(그레이)\", \"씨씨콜렉트\", \"82(55)\", \"https://office.alloff.co/orders/6178d5d217fc2e5a1f9ea810\", \"6178bf0dee2c39d09bebeb2d\", \"TIMEDEAL\"),\n",
    "    (\"이너 드레스\", \"타임\", \"82(55)\", \"https://office.alloff.co/orders/617e860d17fc2e5a1f9eb12e\", \"617ba717ee2c39d09bebeb73\", \"TIMEDEAL\"),\n",
    "    (\"캐시미어 니트 롱 드레스\", \"시스템\", \"90(F)\", \"https://office.alloff.co/orders/617570b817fc2e5a1f9ea18f\", \"616d4816ee2c39d09bebe9e3\", \"TIMEDEAL\"),\n",
    "    (\"캐시미어 니트 롱 드레스\", \"시스템\", \"90(F)\", \"https://office.alloff.co/orders/6172505a17fc2e5a1f9e9a55\", \"616d4816ee2c39d09bebe9e3\", \"TIMEDEAL\"),\n",
    "    (\"캐시미어 니트 롱 드레스\", \"시스템\", \"90(F)\", \"https://office.alloff.co/orders/616e1b5917fc2e5a1f9e91e6\", \"616d4816ee2c39d09bebe9e3\", \"TIMEDEAL\"),\n",
    "    (\"캐시미어 니트 롱 드레스\", \"시스템\", \"90(F)\", \"https://office.alloff.co/orders/616e094917fc2e5a1f9e91bd\", \"616d4816ee2c39d09bebe9e3\", \"TIMEDEAL\"),\n",
    "    (\"캐시미어 니트 롱 드레스\", \"시스템\", \"90(F)\", \"https://office.alloff.co/orders/616d707617fc2e5a1f9e907d\", \"616d4816ee2c39d09bebe9e3\", \"TIMEDEAL\"),\n",
    "    (\"컬러 블록 페이크 무스탕 자켓(그레이)\", \"씨씨콜렉트\", \"82(55)\", \"https://office.alloff.co/orders/6178fa2017fc2e5a1f9ea859\", \"6178b937ee2c39d09bebeb27\", \"TIMEDEAL\"),\n",
    "    (\"프레이드 트위드 드레스(다크네이비)\", \"씨씨콜렉트\",\" 82(55)\", \"https://office.alloff.co/orders/61556a364b20da9d98ecfa86\", \"61552265cbbf370681058fb0\", \"TIMEDEAL\"),\n",
    "    (\"핸드메이드 더블 코트\", \"시스템\", \"82(55)\", \"https://office.alloff.co/orders/6173f22f17fc2e5a1f9e9eaa\", \"6165b805ee2c39d09bebe91b\", \"TIMEDEAL\"),\n",
    "    (\"핸드메이드 더블 코트\", \"시스템\", \"88(66)\", \"https://office.alloff.co/orders/618145d826685ff051754d89\", \"617790e2ee2c39d09bebeae5\", \"TIMEDEAL\"),\n",
    "    (\"핸드메이드 더블 코트\", \"타임\", \"82(55)\", \"https://office.alloff.co/orders/6171131b17fc2e5a1f9e9754\", \"61706259ee2c39d09bebea14\", \"TIMEDEAL\"),\n",
    "    (\"핸드메이드 더블 코트\", \"타임\", \"82(55)\", \"https://office.alloff.co/orders/61715b9817fc2e5a1f9e9842\", \"61706259ee2c39d09bebea14\", \"TIMEDEAL\"),\n",
    "    (\"핸드메이드 캐시미어 코트\", \"빈폴 레이디스\", \"95\", \"https://office.alloff.co/orders/617cb59e17fc2e5a1f9eaf75\", \"617ca47bee2c39d09bebeba1\", \"TIMEDEAL\")\n",
    "]"
   ]
  },
  {
   "cell_type": "code",
   "execution_count": 11,
   "id": "b9ebb827",
   "metadata": {},
   "outputs": [],
   "source": [
    "for i, (pname, pbrand, psize, order_url, pid, ptype) in enumerate(inventories):\n",
    "    inv = Inventory(\n",
    "        code= \"201104\",\n",
    "        status=\"IN_STOCK\",\n",
    "        size= psize,\n",
    "        product_id=pid,\n",
    "        product_from_order_url=order_url,\n",
    "        product_name=pname,\n",
    "        product_brand=pbrand,\n",
    "        product_type=ptype,\n",
    "    )\n",
    "    inv.save()"
   ]
  },
  {
   "cell_type": "code",
   "execution_count": 14,
   "id": "7a793c92",
   "metadata": {},
   "outputs": [
    {
     "name": "stdout",
     "output_type": "stream",
     "text": [
      "[<OrderItem: OrderItem object>]\n"
     ]
    }
   ],
   "source": [
    "box_code = \"ORD-U8NGA\"\n",
    "order_code_map = OrderCodeMap.objects(code=box_code).first()\n",
    "order = Order.objects(id=order_code_map.orderid).first()\n",
    "print(order.orders)"
   ]
  },
  {
   "cell_type": "code",
   "execution_count": 46,
   "id": "e3ee48c2",
   "metadata": {},
   "outputs": [],
   "source": [
    "def create_inv(box_code):\n",
    "    order_code_map = OrderCodeMap.objects(code=box_code).first()\n",
    "    order = Order.objects(id=order_code_map.orderid).first()\n",
    "    if len(order.orders) > 1:\n",
    "        print(\"Duplicate Items Added\")\n",
    "    for item in order.orders:\n",
    "        if item.alloffproduct:\n",
    "            print(\"ID\", order.id)\n",
    "            inv = Inventory(\n",
    "                code= \"201105\",\n",
    "                status=\"IN_STOCK\",\n",
    "                size= item.size,\n",
    "                product_id=item.alloffproduct._id,\n",
    "                product_from_order_url=\"https://office.alloff.co/orders/\" + str(order.id),\n",
    "                product_name=item.alloffproduct.name,\n",
    "                product_brand=item.alloffproduct.brand.korname,\n",
    "                product_type=\"TIMEDEAL\",\n",
    "            )\n",
    "\n",
    "        elif item.product:\n",
    "            inv = Inventory(\n",
    "                code= \"201105\",\n",
    "                status=\"IN_STOCK\",\n",
    "                size= item.size,\n",
    "                product_id=item.product._id,\n",
    "                product_from_order_url=\"https://office.alloff.co/orders/\" + str(order.id),\n",
    "                product_name=item.product.name,\n",
    "                product_brand=item.product.brand.korname,\n",
    "                product_type=\"NORMAL\",\n",
    "            )\n",
    "\n",
    "        print(\"product.name\", inv.product_name, inv.size, inv.product_from_order_url)\n",
    "        inv.save()\n",
    "\n",
    "        \n",
    "def create_inv_from_order_id(order_id):\n",
    "    order = Order.objects(id=order_id).first()\n",
    "    if len(order.orders) > 1:\n",
    "        print(\"Duplicate Items Added\")\n",
    "    for item in order.orders:\n",
    "        if item.alloffproduct:\n",
    "            print(\"ID\", order.id)\n",
    "            inv = Inventory(\n",
    "                code= \"201105\",\n",
    "                status=\"IN_STOCK\",\n",
    "                size= item.size,\n",
    "                product_id=item.alloffproduct._id,\n",
    "                product_from_order_url=\"https://office.alloff.co/orders/\" + str(order.id),\n",
    "                product_name=item.alloffproduct.name,\n",
    "                product_brand=item.alloffproduct.brand.korname,\n",
    "                product_type=\"TIMEDEAL\",\n",
    "            )\n",
    "\n",
    "        elif item.product:\n",
    "            inv = Inventory(\n",
    "                code= \"201105\",\n",
    "                status=\"IN_STOCK\",\n",
    "                size= item.size,\n",
    "                product_id=item.product._id,\n",
    "                product_from_order_url=\"https://office.alloff.co/orders/\" + str(order.id),\n",
    "                product_name=item.product.name,\n",
    "                product_brand=item.product.brand.korname,\n",
    "                product_type=\"NORMAL\",\n",
    "            )\n",
    "\n",
    "        print(\"product.name\", inv.product_name, inv.size, inv.product_from_order_url)\n",
    "        inv.save()\n",
    "    "
   ]
  },
  {
   "cell_type": "code",
   "execution_count": 36,
   "id": "0d318e70",
   "metadata": {},
   "outputs": [
    {
     "name": "stdout",
     "output_type": "stream",
     "text": [
      "ID 6181b5bb26685ff051754e24\n",
      "product.name 벨티드 후드 구스다운 점퍼  88(66) \n"
     ]
    }
   ],
   "source": [
    "create_inv(\"ORD-A99JE\")"
   ]
  },
  {
   "cell_type": "code",
   "execution_count": 37,
   "id": "0074e28d",
   "metadata": {},
   "outputs": [
    {
     "name": "stdout",
     "output_type": "stream",
     "text": [
      "ID 6181f71d26685ff051754eb9\n",
      "product.name [Re-order]부클레 트위드 드레스  88(66)\n"
     ]
    }
   ],
   "source": [
    "create_inv(\"ORD-TQBL4\")"
   ]
  },
  {
   "cell_type": "code",
   "execution_count": 42,
   "id": "0c4c4fac",
   "metadata": {},
   "outputs": [
    {
     "name": "stdout",
     "output_type": "stream",
     "text": [
      "ID 617f725517fc2e5a1f9eb22a\n",
      "product.name 벨티드 플랩 코트(멜란지 그레이)  82(55) https://office.alloff.co/orders/617f725517fc2e5a1f9eb22a\n"
     ]
    }
   ],
   "source": [
    "create_inv(\"ORD-GY8D9\")"
   ]
  },
  {
   "cell_type": "code",
   "execution_count": 47,
   "id": "d2153f74",
   "metadata": {},
   "outputs": [
    {
     "name": "stdout",
     "output_type": "stream",
     "text": [
      "Duplicate Items Added\n",
      "product.name H라인 울 캐시미어 슬릿 코트 (CAMEL) 55 https://office.alloff.co/orders/61822b8726685ff051754ef0\n",
      "product.name ★럭키템★ 핸드메이드 벨티드 더블 코트 C204MSG584 55 https://office.alloff.co/orders/61822b8726685ff051754ef0\n"
     ]
    }
   ],
   "source": [
    "create_inv(\"ORD-4TYHJ\")"
   ]
  },
  {
   "cell_type": "code",
   "execution_count": 49,
   "id": "a0c649a3",
   "metadata": {},
   "outputs": [
    {
     "ename": "SyntaxError",
     "evalue": "invalid syntax (69403399.py, line 1)",
     "output_type": "error",
     "traceback": [
      "\u001b[0;36m  File \u001b[0;32m\"/var/folders/6k/hryn3z554b52y885297mr7rh0000gp/T/ipykernel_72253/69403399.py\"\u001b[0;36m, line \u001b[0;32m1\u001b[0m\n\u001b[0;31m    위에거 미싱\u001b[0m\n\u001b[0m        ^\u001b[0m\n\u001b[0;31mSyntaxError\u001b[0m\u001b[0;31m:\u001b[0m invalid syntax\n"
     ]
    }
   ],
   "source": [
    "위에거 미싱"
   ]
  },
  {
   "cell_type": "code",
   "execution_count": 48,
   "id": "419fdb79",
   "metadata": {},
   "outputs": [
    {
     "name": "stdout",
     "output_type": "stream",
     "text": [
      "ID 61812c3226685ff051754cec\n",
      "product.name 스티치 디테일 핸드메이드 코트(그린) 82(55) https://office.alloff.co/orders/61812c3226685ff051754cec\n"
     ]
    }
   ],
   "source": [
    "create_inv(\"ORD-C3R6B\")"
   ]
  },
  {
   "cell_type": "code",
   "execution_count": 50,
   "id": "655da307",
   "metadata": {},
   "outputs": [
    {
     "name": "stdout",
     "output_type": "stream",
     "text": [
      "ID 61812b1d26685ff051754ce4\n",
      "product.name 퀄팅 구스다운 점퍼  88(66)  https://office.alloff.co/orders/61812b1d26685ff051754ce4\n"
     ]
    }
   ],
   "source": [
    "create_inv(\"ORD-YYNFV\")"
   ]
  },
  {
   "cell_type": "code",
   "execution_count": null,
   "id": "5e535cf0",
   "metadata": {},
   "outputs": [],
   "source": []
  }
 ],
 "metadata": {
  "kernelspec": {
   "display_name": "Django Shell-Plus",
   "language": "python",
   "name": "django_extensions"
  },
  "language_info": {
   "codemirror_mode": {
    "name": "ipython",
    "version": 3
   },
   "file_extension": ".py",
   "mimetype": "text/x-python",
   "name": "python",
   "nbconvert_exporter": "python",
   "pygments_lexer": "ipython3",
   "version": "3.9.2"
  }
 },
 "nbformat": 4,
 "nbformat_minor": 5
}
