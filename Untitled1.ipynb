{
 "cells": [
  {
   "cell_type": "code",
   "execution_count": 1,
   "id": "9c1fdd12",
   "metadata": {},
   "outputs": [],
   "source": [
    "import os\n",
    "import django\n",
    "os.environ.setdefault('DJANGO_SETTINGS_MODULE', 'rest.settings')\n",
    "os.environ[\"DJANGO_ALLOW_ASYNC_UNSAFE\"] = \"true\"\n",
    "django.setup()\n",
    "\n",
    "from tagger.viewsets.shippables import make_all_shippables\n",
    "from tagger.models import ShippableOrder"
   ]
  },
  {
   "cell_type": "code",
   "execution_count": 4,
   "id": "6f2eb477",
   "metadata": {},
   "outputs": [],
   "source": [
    "make_all_shippables()"
   ]
  },
  {
   "cell_type": "code",
   "execution_count": 5,
   "id": "f661590d",
   "metadata": {},
   "outputs": [],
   "source": [
    "for so in ShippableOrder.objects.all():\n",
    "    print(so.eo.order.payment.buyername)\n",
    "    for soi in so.shippableorderitem_set.all():\n",
    "        print(soi.inventory.code)"
   ]
  },
  {
   "cell_type": "code",
   "execution_count": null,
   "id": "0c05cf4a",
   "metadata": {},
   "outputs": [],
   "source": []
  }
 ],
 "metadata": {
  "kernelspec": {
   "display_name": "Django Shell-Plus",
   "language": "python",
   "name": "django_extensions"
  },
  "language_info": {
   "codemirror_mode": {
    "name": "ipython",
    "version": 3
   },
   "file_extension": ".py",
   "mimetype": "text/x-python",
   "name": "python",
   "nbconvert_exporter": "python",
   "pygments_lexer": "ipython3",
   "version": "3.9.6"
  }
 },
 "nbformat": 4,
 "nbformat_minor": 5
}
