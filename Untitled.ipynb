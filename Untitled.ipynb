{
 "cells": [
  {
   "cell_type": "code",
   "execution_count": 8,
   "id": "6512ea0c",
   "metadata": {},
   "outputs": [],
   "source": [
    "import os\n",
    "import pandas as pd\n",
    "import django\n",
    "os.environ.setdefault('DJANGO_SETTINGS_MODULE', 'rest.settings')\n",
    "os.environ[\"DJANGO_ALLOW_ASYNC_UNSAFE\"] = \"true\"\n",
    "django.setup()\n",
    "\n",
    "from tagger.core.mongo.models.order import Order, OrderType, OrderCodeMap, Payment\n",
    "from tagger.models.inventory import Inventory, InventoryStatus\n",
    "from tagger.core.label.print_label import print_label\n",
    "from tagger.core.label.shipping_label import make_shipping_label\n",
    "from tagger.models.received_item import ReceivedItem\n",
    "from bson import ObjectId"
   ]
  },
  {
   "cell_type": "code",
   "execution_count": 3,
   "id": "0dcbe043",
   "metadata": {},
   "outputs": [
    {
     "data": {
      "text/plain": [
       "ObjectId('6180623717fc2e5a1f9eb433')"
      ]
     },
     "execution_count": 3,
     "metadata": {},
     "output_type": "execute_result"
    }
   ],
   "source": [
    "Order.get_by_code(\"m36bc\").id"
   ]
  },
  {
   "cell_type": "code",
   "execution_count": 5,
   "id": "66bebe67",
   "metadata": {},
   "outputs": [],
   "source": [
    "from tagger.viewsets.received_items import ReceivedItemViewSet "
   ]
  },
  {
   "cell_type": "code",
   "execution_count": 6,
   "id": "a049a575",
   "metadata": {},
   "outputs": [],
   "source": [
    "v = ReceivedItemViewSet()"
   ]
  },
  {
   "cell_type": "code",
   "execution_count": 7,
   "id": "7b10dd28",
   "metadata": {},
   "outputs": [],
   "source": [
    "v.insert_all_order_items()"
   ]
  },
  {
   "cell_type": "code",
   "execution_count": 10,
   "id": "f62214f0",
   "metadata": {},
   "outputs": [],
   "source": [
    "systems = [\n",
    "    x for x in ReceivedItem.objects.all()\n",
    "    if x.product.brand.keyname == \"SYSTEM\"\n",
    "]\n",
    "    "
   ]
  },
  {
   "cell_type": "code",
   "execution_count": 17,
   "id": "79c73b18",
   "metadata": {},
   "outputs": [
    {
     "name": "stdout",
     "output_type": "stream",
     "text": [
      "핸드메이드 더블 코트@6175fb2e17fc2e5a1f9ea2a7@82(55)\n",
      "캐시미어 더블 코트 @6178f81017fc2e5a1f9ea851@82(55) \n",
      "언밸런스 후드 점퍼 @617bb1e017fc2e5a1f9eada3@88(66)\n",
      "캐시미어 더블 코트 @617fff3117fc2e5a1f9eb3b8@88(66)\n",
      "체크 트위드 자켓 @6180623717fc2e5a1f9eb433@82(55) \n",
      "[SYSTEM23º] 칼라 니트 가디건@6180bd1317fc2e5a1f9eb4ca@CHARCOAL GREY - 90\n",
      "후드 배색 니트 드레스 @6180fe1b26685ff051754c57@90(F) \n",
      "컬러 블록 스웻셔츠(스모크 블루)@618106f426685ff051754c79@90(F) \n",
      "언밸런스 니트 스커트 @618116fc26685ff051754ca1@64(55)\n",
      "언밸런스 울 스커트 @61811bc226685ff051754cae@55\n",
      "퀄팅 구스다운 점퍼 @61812b1d26685ff051754ce4@88(66) \n",
      "벨티드 후드 구스다운 점퍼 @6181b5bb26685ff051754e24@88(66) \n",
      "컬러 블록 스웻셔츠(스모크 블루)@618264fe26685ff051754f2b@90(F) \n",
      "알파카 니트 드레스(WHITENED PINK)@61826e1926685ff051754f4d@90(F) \n",
      "플리츠 레더 스커트@6183ba3126685ff0517551c2@BLACK - 64 (55)\n",
      "언밸런스 니트 스커트 @6184696326685ff051755368@64(55)\n",
      "하이넥 울 니트 탑 @61813fbd26685ff051754d3c@90(F)\n",
      "언밸런스 울 스커트 @6184b54c26685ff0517553ea@55\n",
      "언밸런스 울 스커트 @6185270426685ff051755530@64(66) \n",
      "케이블 블렌드 니트 탑 @61854bb026685ff0517555ab@90(F)\n",
      "퀄팅 구스다운 점퍼(BLACK) @6185ace326685ff051755600@88(66)\n",
      " 벨티드 후드 코트 @6187947a26685ff05175591c@88(66) \n",
      "[SYSTEM23º] 벨티드 체크 후드 코트@6188a31326685ff051755a9b@GREY - 88 (66)\n"
     ]
    }
   ],
   "source": [
    "for s in systems:\n",
    "    print(s.item_name, s.order_id, s.size, sep=\"@\")"
   ]
  },
  {
   "cell_type": "code",
   "execution_count": null,
   "id": "cc3e356d",
   "metadata": {},
   "outputs": [],
   "source": []
  }
 ],
 "metadata": {
  "kernelspec": {
   "display_name": "Django Shell-Plus",
   "language": "python",
   "name": "django_extensions"
  },
  "language_info": {
   "codemirror_mode": {
    "name": "ipython",
    "version": 3
   },
   "file_extension": ".py",
   "mimetype": "text/x-python",
   "name": "python",
   "nbconvert_exporter": "python",
   "pygments_lexer": "ipython3",
   "version": "3.9.6"
  }
 },
 "nbformat": 4,
 "nbformat_minor": 5
}
