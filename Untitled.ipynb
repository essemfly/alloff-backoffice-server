{
 "cells": [
  {
   "cell_type": "code",
   "execution_count": 1,
   "id": "e0b59145",
   "metadata": {},
   "outputs": [],
   "source": [
    "from tagger.core.mongo.models.order import Order"
   ]
  },
  {
   "cell_type": "code",
   "execution_count": 14,
   "id": "90130dfc",
   "metadata": {},
   "outputs": [],
   "source": [
    "orders = Order.objects(orderstatus__nin=[\n",
    "    \"CREATED\", \"RECREATED\", \"PAYMENT_PENDING\",\n",
    "    \"CANCEL_FINISHED\", \"DELIVERY_FINISHED\", \"CONFIRM_PAYMENT\", \"DELIVERY_STARTED\"\n",
    "])"
   ]
  },
  {
   "cell_type": "code",
   "execution_count": 15,
   "id": "a35de4a5",
   "metadata": {},
   "outputs": [
    {
     "data": {
      "text/plain": [
       "127"
      ]
     },
     "execution_count": 15,
     "metadata": {},
     "output_type": "execute_result"
    }
   ],
   "source": [
    "len(orders)"
   ]
  },
  {
   "cell_type": "code",
   "execution_count": 16,
   "id": "4b5a1e87",
   "metadata": {},
   "outputs": [],
   "source": [
    "order_map = {}\n",
    "\n",
    "for order in orders:\n",
    "    if order.orderstatus not in order_map:\n",
    "        order_map[order.orderstatus] = []\n",
    "    order_map[order.orderstatus].append(order)"
   ]
  },
  {
   "cell_type": "code",
   "execution_count": 17,
   "id": "3d278a54",
   "metadata": {},
   "outputs": [
    {
     "data": {
      "text/plain": [
       "{'PRODUCT_PREPARING': [<Order: Order object>,\n",
       "  <Order: Order object>,\n",
       "  <Order: Order object>,\n",
       "  <Order: Order object>,\n",
       "  <Order: Order object>,\n",
       "  <Order: Order object>,\n",
       "  <Order: Order object>,\n",
       "  <Order: Order object>,\n",
       "  <Order: Order object>,\n",
       "  <Order: Order object>,\n",
       "  <Order: Order object>,\n",
       "  <Order: Order object>,\n",
       "  <Order: Order object>,\n",
       "  <Order: Order object>,\n",
       "  <Order: Order object>,\n",
       "  <Order: Order object>],\n",
       " 'DELIVERY_PREPARING': [<Order: Order object>,\n",
       "  <Order: Order object>,\n",
       "  <Order: Order object>,\n",
       "  <Order: Order object>,\n",
       "  <Order: Order object>,\n",
       "  <Order: Order object>,\n",
       "  <Order: Order object>,\n",
       "  <Order: Order object>,\n",
       "  <Order: Order object>,\n",
       "  <Order: Order object>,\n",
       "  <Order: Order object>,\n",
       "  <Order: Order object>,\n",
       "  <Order: Order object>,\n",
       "  <Order: Order object>,\n",
       "  <Order: Order object>,\n",
       "  <Order: Order object>,\n",
       "  <Order: Order object>,\n",
       "  <Order: Order object>,\n",
       "  <Order: Order object>,\n",
       "  <Order: Order object>,\n",
       "  <Order: Order object>,\n",
       "  <Order: Order object>,\n",
       "  <Order: Order object>,\n",
       "  <Order: Order object>,\n",
       "  <Order: Order object>,\n",
       "  <Order: Order object>,\n",
       "  <Order: Order object>,\n",
       "  <Order: Order object>,\n",
       "  <Order: Order object>,\n",
       "  <Order: Order object>,\n",
       "  <Order: Order object>,\n",
       "  <Order: Order object>,\n",
       "  <Order: Order object>,\n",
       "  <Order: Order object>,\n",
       "  <Order: Order object>,\n",
       "  <Order: Order object>,\n",
       "  <Order: Order object>,\n",
       "  <Order: Order object>,\n",
       "  <Order: Order object>,\n",
       "  <Order: Order object>,\n",
       "  <Order: Order object>,\n",
       "  <Order: Order object>,\n",
       "  <Order: Order object>,\n",
       "  <Order: Order object>,\n",
       "  <Order: Order object>,\n",
       "  <Order: Order object>,\n",
       "  <Order: Order object>,\n",
       "  <Order: Order object>,\n",
       "  <Order: Order object>,\n",
       "  <Order: Order object>,\n",
       "  <Order: Order object>,\n",
       "  <Order: Order object>,\n",
       "  <Order: Order object>,\n",
       "  <Order: Order object>,\n",
       "  <Order: Order object>,\n",
       "  <Order: Order object>,\n",
       "  <Order: Order object>,\n",
       "  <Order: Order object>,\n",
       "  <Order: Order object>,\n",
       "  <Order: Order object>,\n",
       "  <Order: Order object>,\n",
       "  <Order: Order object>,\n",
       "  <Order: Order object>,\n",
       "  <Order: Order object>,\n",
       "  <Order: Order object>,\n",
       "  <Order: Order object>,\n",
       "  <Order: Order object>,\n",
       "  <Order: Order object>,\n",
       "  <Order: Order object>,\n",
       "  <Order: Order object>,\n",
       "  <Order: Order object>,\n",
       "  <Order: Order object>,\n",
       "  <Order: Order object>,\n",
       "  <Order: Order object>,\n",
       "  <Order: Order object>,\n",
       "  <Order: Order object>,\n",
       "  <Order: Order object>,\n",
       "  <Order: Order object>,\n",
       "  <Order: Order object>,\n",
       "  <Order: Order object>,\n",
       "  <Order: Order object>,\n",
       "  <Order: Order object>,\n",
       "  <Order: Order object>,\n",
       "  <Order: Order object>,\n",
       "  <Order: Order object>,\n",
       "  <Order: Order object>,\n",
       "  <Order: Order object>],\n",
       " 'CANCEL_REQUESTED': [<Order: Order object>,\n",
       "  <Order: Order object>,\n",
       "  <Order: Order object>,\n",
       "  <Order: Order object>,\n",
       "  <Order: Order object>,\n",
       "  <Order: Order object>,\n",
       "  <Order: Order object>,\n",
       "  <Order: Order object>,\n",
       "  <Order: Order object>,\n",
       "  <Order: Order object>],\n",
       " 'CANCEL_PENDING': [<Order: Order object>,\n",
       "  <Order: Order object>,\n",
       "  <Order: Order object>,\n",
       "  <Order: Order object>,\n",
       "  <Order: Order object>,\n",
       "  <Order: Order object>,\n",
       "  <Order: Order object>,\n",
       "  <Order: Order object>,\n",
       "  <Order: Order object>,\n",
       "  <Order: Order object>,\n",
       "  <Order: Order object>,\n",
       "  <Order: Order object>,\n",
       "  <Order: Order object>],\n",
       " 'PAYMENT_FINISHED': [<Order: Order object>]}"
      ]
     },
     "execution_count": 17,
     "metadata": {},
     "output_type": "execute_result"
    }
   ],
   "source": [
    "order_map"
   ]
  },
  {
   "cell_type": "code",
   "execution_count": null,
   "id": "a1da43ac",
   "metadata": {},
   "outputs": [],
   "source": []
  },
  {
   "cell_type": "code",
   "execution_count": null,
   "id": "58d5a502",
   "metadata": {},
   "outputs": [],
   "source": []
  }
 ],
 "metadata": {
  "kernelspec": {
   "display_name": "Django Shell-Plus",
   "language": "python",
   "name": "django_extensions"
  },
  "language_info": {
   "codemirror_mode": {
    "name": "ipython",
    "version": 3
   },
   "file_extension": ".py",
   "mimetype": "text/x-python",
   "name": "python",
   "nbconvert_exporter": "python",
   "pygments_lexer": "ipython3",
   "version": "3.9.6"
  }
 },
 "nbformat": 4,
 "nbformat_minor": 5
}
