{
 "cells": [
  {
   "cell_type": "code",
   "execution_count": 1,
   "id": "f6e9977d",
   "metadata": {},
   "outputs": [],
   "source": [
    "import os\n",
    "import pandas as pd\n",
    "import django\n",
    "os.environ.setdefault('DJANGO_SETTINGS_MODULE', 'rest.settings')\n",
    "os.environ[\"DJANGO_ALLOW_ASYNC_UNSAFE\"] = \"true\"\n",
    "django.setup()\n",
    "\n",
    "from tagger.core.mongo.models.order import Order, OrderType, OrderCodeMap, Payment\n",
    "from tagger.models.inventory import Inventory, InventoryStatus\n",
    "from tagger.core.label.print_label import print_label\n",
    "from tagger.core.label.shipping_label import make_shipping_label\n",
    "from tagger.models.received_item import ReceivedItem\n",
    "from bson import ObjectId"
   ]
  },
  {
   "cell_type": "code",
   "execution_count": 3,
   "id": "54cc3b06",
   "metadata": {},
   "outputs": [
    {
     "data": {
      "text/plain": [
       "ObjectId('6180623717fc2e5a1f9eb433')"
      ]
     },
     "execution_count": 3,
     "metadata": {},
     "output_type": "execute_result"
    }
   ],
   "source": [
    "Order.get_by_code(\"m36bc\").id"
   ]
  },
  {
   "cell_type": "code",
   "execution_count": 2,
   "id": "d7a26b1b",
   "metadata": {},
   "outputs": [],
   "source": [
    "from tagger.viewsets.received_items import ReceivedItemViewSet "
   ]
  },
  {
   "cell_type": "code",
   "execution_count": 3,
   "id": "7daa62fe",
   "metadata": {},
   "outputs": [],
   "source": [
    "v = ReceivedItemViewSet()"
   ]
  },
  {
   "cell_type": "code",
   "execution_count": 4,
   "id": "ea8dfb6d",
   "metadata": {},
   "outputs": [],
   "source": [
    "v.insert_all_order_items()"
   ]
  },
  {
   "cell_type": "code",
   "execution_count": 10,
   "id": "dc23e9e8",
   "metadata": {},
   "outputs": [],
   "source": []
  },
  {
   "cell_type": "code",
   "execution_count": 5,
   "id": "e373fe5a",
   "metadata": {},
   "outputs": [
    {
     "name": "stdout",
     "output_type": "stream",
     "text": [
      "[Re-order]부클레 트위드 드레스  6181f71d26685ff051754eb9 88(66)\n",
      "디테쳐블 플리츠 후드 드레스(SEPIA BEIGE) 617fda0317fc2e5a1f9eb311 82(55)\n",
      "핸드메이드 히든 버튼 코트 6184d8b326685ff05175540a 82(55)\n",
      "커프스 레이어 니트 6187956f26685ff051755922 90(F)\n"
     ]
    }
   ],
   "source": [
    "for s in [\n",
    "    x for x in ReceivedItem.objects.all()\n",
    "    if x.product.brand.keyname == \"MINE\"\n",
    "]:\n",
    "    print(s.item_name, s.order_id, s.size)"
   ]
  },
  {
   "cell_type": "code",
   "execution_count": 5,
   "id": "d2cdb599",
   "metadata": {},
   "outputs": [
    {
     "name": "stdout",
     "output_type": "stream",
     "text": [
      "컬러 블록 스웻셔츠(스모크 블루) https://office.alloff.co/orders/618264fe26685ff051754f2b IN_STOCK None\n",
      "라벨링 롱 코트  https://office.alloff.co/orders/6173e1ac17fc2e5a1f9e9e50 SHIPPED 61840ba426685ff05175532a\n",
      "언밸런스 후드 점퍼  https://office.alloff.co/orders/617bb1e017fc2e5a1f9eada3 IN_STOCK None\n",
      "벨티드 플랩 코트(카멜)  https://office.alloff.co/orders/6178c79a17fc2e5a1f9ea7c4 IN_STOCK None\n",
      "테일러드 더블 코트(블랙)  https://office.alloff.co/orders/6179f1d717fc2e5a1f9eaaa2 IN_STOCK None\n"
     ]
    }
   ],
   "source": [
    "for i in Inventory.objects.filter(code__endswith=\"-R\").all():\n",
    "    print(i.product_name, i.product_from_order_url, i.status, i.out_order_id)"
   ]
  },
  {
   "cell_type": "code",
   "execution_count": null,
   "id": "608d9c59",
   "metadata": {},
   "outputs": [],
   "source": []
  }
 ],
 "metadata": {
  "kernelspec": {
   "display_name": "Django Shell-Plus",
   "language": "python",
   "name": "django_extensions"
  },
  "language_info": {
   "codemirror_mode": {
    "name": "ipython",
    "version": 3
   },
   "file_extension": ".py",
   "mimetype": "text/x-python",
   "name": "python",
   "nbconvert_exporter": "python",
   "pygments_lexer": "ipython3",
   "version": "3.9.6"
  }
 },
 "nbformat": 4,
 "nbformat_minor": 5
}
