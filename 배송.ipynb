{
 "cells": [
  {
   "cell_type": "code",
   "execution_count": 1,
   "id": "66586751",
   "metadata": {},
   "outputs": [],
   "source": [
    "import os\n",
    "import pandas as pd\n",
    "import django\n",
    "os.environ.setdefault('DJANGO_SETTINGS_MODULE', 'rest.settings')\n",
    "os.environ[\"DJANGO_ALLOW_ASYNC_UNSAFE\"] = \"true\"\n",
    "django.setup()\n",
    "from tagger.core.mongo.models.order import Order\n",
    "from pytz import timezone\n",
    "from datetime import datetime\n",
    "from tagger.models.inventory import Inventory, InventoryStatus\n",
    "\n",
    "\n",
    "TZ = timezone(\"Asia/Seoul\")\n",
    "# TARGETS = [\n",
    "#     \"61812c7d26685ff051754cee\",\n",
    "# ]\n",
    "\n",
    "PENDING_FOR_BUNDLING = [\n",
    "]\n",
    "\n",
    "to_be_shipped = Inventory.objects.filter(\n",
    "    status=InventoryStatus.SHIPPING_PENDING\n",
    ").exclude(\n",
    "    out_order_id__in=PENDING_FOR_BUNDLING\n",
    ").all()\n",
    "\n",
    "TARGETS = [x.out_order_id for x in to_be_shipped]\n",
    "\n",
    "\n",
    "CJ_COLUMNS = [\n",
    "    \"주문번호\", \"주문일\", \"수령자명\", \"수령자 우편번호\", \"수령자 연락처\", \"수령자주소\", \"상품명\", \"옵션명\", \"수량\", \"배송메모\", \"박스타입\"\n",
    "]\n",
    "\n",
    "\n",
    "\n",
    "def get_cj_row(order):\n",
    "    payment = order.payment\n",
    "    return [\n",
    "        order.code.replace(\"ORD-\", \"\"),\n",
    "        order.created.astimezone(TZ).date().isoformat().replace(\"-\", \"/\"),\n",
    "        payment.buyername,\n",
    "        payment.buyerpostcode,\n",
    "        f\"{payment.buyermobile[:3]}-{payment.buyermobile[3:7]}-{payment.buyermobile[7:11]}\",\n",
    "        payment.buyeraddress,\n",
    "        payment.name,\n",
    "        \",\".join([f\"{item.size}/{item.quantity}EA\" for item in order.orders]),\n",
    "        1,\n",
    "        order.memo,\n",
    "        \"소\"\n",
    "    ]\n",
    "\n",
    "def get_cu_row(order):\n",
    "    payment = order.get_payment()\n",
    "    return [\n",
    "        payment.buyername,\n",
    "        payment.buyerpostcode,\n",
    "        payment.buyeraddress,\n",
    "        payment.buyeraddress,\n",
    "        f\"{payment.buyermobile[:3]}-{payment.buyermobile[3:7]}-{payment.buyermobile[7:11]}\",\n",
    "        \"\",\n",
    "        order.memo,\n",
    "        \"선불\"\n",
    "    ]\n",
    "\n",
    "def copy_cu():\n",
    "    orders = Order.objects(id__in=TARGETS)\n",
    "    df = pd.DataFrame([get_cu_row(order) for order in orders])\n",
    "    df[1] = df[1].apply(lambda x: x.zfill(5))\n",
    "    df.to_clipboard()\n",
    "\n",
    "def make_cj(orders):\n",
    "    raw_items = [get_cj_row(order) for order in orders]\n",
    "    \n",
    "    # 합배처리\n",
    "    item_map = {}\n",
    "    for item in raw_items:\n",
    "        key = (item[2], item[3], item[4])  # name, post, mobile\n",
    "        if key not in item_map:\n",
    "            item_map[key] = item\n",
    "        else:\n",
    "            new_item = [*item_map[key]]\n",
    "            new_item[0] = new_item[0] + item[0]  # order code\n",
    "            new_item[6] = new_item[6] + \", \" + item[6]  # payment name\n",
    "            new_item[7] = new_item[7] + \", \" + item[7]  # sizes\n",
    "            item_map[key] = new_item\n",
    "            \n",
    "        \n",
    "    df = pd.DataFrame(item_map.values(), columns=CJ_COLUMNS).sort_values(by=\"수령자명\")\n",
    "    df[\"수령자 우편번호\"] = df[\"수령자 우편번호\"].apply(lambda x: x.zfill(5))\n",
    "    with open(f\"../Downloads/cj_upload_{datetime.now().date().isoformat()}.xlsx\", \"wb\") as file:\n",
    "        df.to_excel(file, index=None)\n"
   ]
  },
  {
   "cell_type": "code",
   "execution_count": 2,
   "id": "ebb2e832",
   "metadata": {},
   "outputs": [
    {
     "name": "stdout",
     "output_type": "stream",
     "text": [
      "황태실 https://office.alloff.co/orders/617bcaf817fc2e5a1f9eade4\n",
      "한미나 https://office.alloff.co/orders/617bed3017fc2e5a1f9eae91\n",
      "조정수 https://office.alloff.co/orders/6187f34826685ff051755a02\n",
      "김효영 https://office.alloff.co/orders/618882f226685ff051755a6c\n",
      "김은지 https://office.alloff.co/orders/618d019d26685ff051756218\n",
      "박은숙  https://office.alloff.co/orders/618dce1826685ff05175634a\n"
     ]
    },
    {
     "data": {
      "text/plain": [
       "6"
      ]
     },
     "execution_count": 2,
     "metadata": {},
     "output_type": "execute_result"
    }
   ],
   "source": [
    "shipment_redy = Order.objects(id__in=TARGETS).all()\n",
    "for o in shipment_redy:\n",
    "    print(o.payment.buyername, f\"https://office.alloff.co/orders/{o.id}\")\n",
    "len(shipment_redy)"
   ]
  },
  {
   "cell_type": "code",
   "execution_count": null,
   "id": "10fcb4eb",
   "metadata": {},
   "outputs": [],
   "source": []
  },
  {
   "cell_type": "code",
   "execution_count": 3,
   "id": "8341e882",
   "metadata": {},
   "outputs": [],
   "source": [
    "make_cj(shipment_redy)"
   ]
  },
  {
   "cell_type": "code",
   "execution_count": 17,
   "id": "d024a835",
   "metadata": {},
   "outputs": [
    {
     "data": {
      "text/plain": [
       "'43D3W'"
      ]
     },
     "execution_count": 17,
     "metadata": {},
     "output_type": "execute_result"
    }
   ],
   "source": []
  },
  {
   "cell_type": "code",
   "execution_count": 2,
   "id": "2c38b4c6",
   "metadata": {},
   "outputs": [
    {
     "data": {
      "text/plain": [
       "<Inventory: Inventory #167 [SHIPPED] 퀄팅 구스다운 점퍼  (211112-023-R)>"
      ]
     },
     "execution_count": 2,
     "metadata": {},
     "output_type": "execute_result"
    }
   ],
   "source": [
    "Inventory.objects.filter(out_order_id=\"618ccea526685ff0517561b5\").first()"
   ]
  },
  {
   "cell_type": "code",
   "execution_count": null,
   "id": "896944fa",
   "metadata": {},
   "outputs": [],
   "source": []
  }
 ],
 "metadata": {
  "kernelspec": {
   "display_name": "Django Shell-Plus",
   "language": "python",
   "name": "django_extensions"
  },
  "language_info": {
   "codemirror_mode": {
    "name": "ipython",
    "version": 3
   },
   "file_extension": ".py",
   "mimetype": "text/x-python",
   "name": "python",
   "nbconvert_exporter": "python",
   "pygments_lexer": "ipython3",
   "version": "3.9.6"
  }
 },
 "nbformat": 4,
 "nbformat_minor": 5
}
