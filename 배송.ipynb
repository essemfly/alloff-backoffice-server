{
 "cells": [
  {
   "cell_type": "code",
   "execution_count": 2,
   "id": "66586751",
   "metadata": {},
   "outputs": [],
   "source": [
    "from tagger.core.mongo.models.order import Order\n",
    "import pandas as pd\n",
    "from pytz import timezone\n",
    "\n",
    "TZ = timezone(\"Asia/Seoul\")\n",
    "TARGETS = [\n",
    "    # labels\n",
    "    \"617cc2b317fc2e5a1f9eaf94\",\n",
    "    \"6178cbba17fc2e5a1f9ea7d2\",\n",
    "    \"6178ce4117fc2e5a1f9ea7f5\",\n",
    "    \"6181691526685ff051754dda\",\n",
    "    \"6178d20c17fc2e5a1f9ea805\",\n",
    "    \"617914d917fc2e5a1f9ea896\",\n",
    "    \"6178d3ad17fc2e5a1f9ea80a\",\n",
    "    \"6178c79a17fc2e5a1f9ea7c4\",\n",
    "    \"617c1e5c17fc2e5a1f9eaf0a\",\n",
    "    \"617ca0aa17fc2e5a1f9eaf66\",\n",
    "    \"617fda0317fc2e5a1f9eb311\",\n",
    "#     pad\n",
    "    \"617fa15b17fc2e5a1f9eb26e\",\n",
    "    \"617cbfd617fc2e5a1f9eaf8e\",\n",
    "    \"6178da2a17fc2e5a1f9ea819\",\n",
    "    \"6181691526685ff051754dda\",\n",
    "    \n",
    "#     강영순 합배\n",
    "    \"617ca0aa17fc2e5a1f9eaf66\",\n",
    "    \"617821d017fc2e5a1f9ea716\"\n",
    "]\n",
    "CJ_COLUMNS = [\n",
    "    \"주문번호\", \"주문일\", \"수령자명\", \"수령자 우편번호\", \"수령자 연락처\", \"수령자주소\", \"상품명\", \"옵션명\", \"수량\", \"배송메모\", \"박스타입\"\n",
    "]\n",
    "\n",
    "\n",
    "\n",
    "def get_cj_row(order):\n",
    "    payment = order.get_payment()\n",
    "    return [\n",
    "        str(order.id),\n",
    "        order.created.astimezone(TZ).date().isoformat().replace(\"-\", \"/\"),\n",
    "        payment.buyername,\n",
    "        payment.buyerpostcode,\n",
    "        f\"{payment.buyermobile[:3]}-{payment.buyermobile[3:7]}-{payment.buyermobile[7:11]}\",\n",
    "        payment.buyeraddress,\n",
    "        payment.name,\n",
    "        \",\".join([f\"{item.size}/{item.quantity}EA\" for item in order.orders]),\n",
    "        1,\n",
    "        order.memo,\n",
    "        \"소\"\n",
    "    ]\n",
    "\n",
    "def get_cu_row(order):\n",
    "    payment = order.get_payment()\n",
    "    return [\n",
    "        payment.buyername,\n",
    "        payment.buyerpostcode,\n",
    "        payment.buyeraddress,\n",
    "        payment.buyeraddress,\n",
    "        f\"{payment.buyermobile[:3]}-{payment.buyermobile[3:7]}-{payment.buyermobile[7:11]}\",\n",
    "        \"\",\n",
    "        order.memo,\n",
    "        \"선불\"\n",
    "    ]\n",
    "\n",
    "def copy_cu():\n",
    "    orders = Order.objects(id__in=TARGETS)\n",
    "    df = pd.DataFrame([get_cu_row(order) for order in orders])\n",
    "    df[1] = df[1].apply(lambda x: x.zfill(5))\n",
    "    df.to_clipboard()\n",
    "\n",
    "def make_cj():\n",
    "    orders = Order.objects(id__in=TARGETS)\n",
    "    df = pd.DataFrame([get_cj_row(order) for order in orders], columns=CJ_COLUMNS)\n",
    "    df[\"수령자 우편번호\"] = df[\"수령자 우편번호\"].apply(lambda x: x.zfill(5))\n",
    "    with open(\"../Downloads/cj_upload.xls\", \"wb\") as file:\n",
    "        df.to_excel(file, index=None)\n"
   ]
  },
  {
   "cell_type": "code",
   "execution_count": 3,
   "id": "ebb2e832",
   "metadata": {},
   "outputs": [],
   "source": [
    "make_cj()"
   ]
  },
  {
   "cell_type": "code",
   "execution_count": 78,
   "id": "10fcb4eb",
   "metadata": {},
   "outputs": [
    {
     "ename": "FileNotFoundError",
     "evalue": "[Errno 2] No such file or directory: '~/cj_upload.xls'",
     "output_type": "error",
     "traceback": [
      "\u001b[0;31m---------------------------------------------------------------------------\u001b[0m",
      "\u001b[0;31mFileNotFoundError\u001b[0m                         Traceback (most recent call last)",
      "\u001b[0;32m/var/folders/gn/z090n3wn6bj0y949f1kjzy940000gn/T/ipykernel_71685/4234144065.py\u001b[0m in \u001b[0;36m<module>\u001b[0;34m\u001b[0m\n\u001b[0;32m----> 1\u001b[0;31m \u001b[0;32mwith\u001b[0m \u001b[0mopen\u001b[0m\u001b[0;34m(\u001b[0m\u001b[0;34m\"~/cj_upload.xls\"\u001b[0m\u001b[0;34m,\u001b[0m \u001b[0;34m\"wb\"\u001b[0m\u001b[0;34m)\u001b[0m \u001b[0;32mas\u001b[0m \u001b[0mfile\u001b[0m\u001b[0;34m:\u001b[0m\u001b[0;34m\u001b[0m\u001b[0;34m\u001b[0m\u001b[0m\n\u001b[0m\u001b[1;32m      2\u001b[0m     \u001b[0mdf\u001b[0m\u001b[0;34m.\u001b[0m\u001b[0mto_excel\u001b[0m\u001b[0;34m(\u001b[0m\u001b[0mfile\u001b[0m\u001b[0;34m,\u001b[0m \u001b[0mindex\u001b[0m\u001b[0;34m=\u001b[0m\u001b[0;32mNone\u001b[0m\u001b[0;34m)\u001b[0m\u001b[0;34m\u001b[0m\u001b[0;34m\u001b[0m\u001b[0m\n",
      "\u001b[0;31mFileNotFoundError\u001b[0m: [Errno 2] No such file or directory: '~/cj_upload.xls'"
     ]
    }
   ],
   "source": []
  },
  {
   "cell_type": "code",
   "execution_count": 28,
   "id": "8341e882",
   "metadata": {},
   "outputs": [],
   "source": []
  },
  {
   "cell_type": "code",
   "execution_count": 32,
   "id": "d024a835",
   "metadata": {},
   "outputs": [
    {
     "data": {
      "text/plain": [
       "'2021-10-17'"
      ]
     },
     "execution_count": 32,
     "metadata": {},
     "output_type": "execute_result"
    }
   ],
   "source": []
  },
  {
   "cell_type": "code",
   "execution_count": null,
   "id": "2c38b4c6",
   "metadata": {},
   "outputs": [],
   "source": []
  }
 ],
 "metadata": {
  "kernelspec": {
   "display_name": "Django Shell-Plus",
   "language": "python",
   "name": "django_extensions"
  },
  "language_info": {
   "codemirror_mode": {
    "name": "ipython",
    "version": 3
   },
   "file_extension": ".py",
   "mimetype": "text/x-python",
   "name": "python",
   "nbconvert_exporter": "python",
   "pygments_lexer": "ipython3",
   "version": "3.9.6"
  }
 },
 "nbformat": 4,
 "nbformat_minor": 5
}
