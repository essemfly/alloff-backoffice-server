{
 "cells": [
  {
   "cell_type": "code",
   "execution_count": 14,
   "id": "66586751",
   "metadata": {},
   "outputs": [],
   "source": [
    "import os\n",
    "import pandas as pd\n",
    "import django\n",
    "os.environ.setdefault('DJANGO_SETTINGS_MODULE', 'rest.settings')\n",
    "os.environ[\"DJANGO_ALLOW_ASYNC_UNSAFE\"] = \"true\"\n",
    "django.setup()\n",
    "from tagger.core.mongo.models.order import Order\n",
    "from pytz import timezone\n",
    "from datetime import datetime, date\n",
    "from tagger.models.inventory import Inventory, InventoryStatus\n",
    "from tagger.models.shipping_notice import ShippingNotice, ShippingNoticeStatus\n",
    "\n",
    "TZ = timezone(\"Asia/Seoul\")\n",
    "\n",
    "notice = ShippingNotice.objects.get(id=6)\n",
    "\n",
    "\n",
    "CJ_COLUMNS = [\n",
    "    \"주문번호\", \"주문일\", \"수령자명\", \"수령자 우편번호\", \"수령자 연락처\", \"수령자주소\", \"상품명\", \"옵션명\", \"수량\", \"배송메모\", \"박스타입\"\n",
    "]\n",
    "\n",
    "\n",
    "\n",
    "def get_cj_row(package):\n",
    "    items = package.shipping_notice_items.all()\n",
    "    \n",
    "    item_name = items[0].item.name\n",
    "    item_size = items[0].item.size\n",
    "    \n",
    "    item_count = len(items)\n",
    "    if item_count > 1:\n",
    "        item_name += f\"외 {item_count - 1}\"\n",
    "        item_size += f\"외 {item_count - 1}\"\n",
    "        \n",
    "    return [\n",
    "        package.code,\n",
    "        date.today().isoformat().replace(\"-\", \"/\"),\n",
    "        package.recipient_name,\n",
    "        package.postcode,\n",
    "        f\"{package.recipient_mobile[:3]}-{package.recipient_mobile[3:7]}-{package.recipient_mobile[7:11]}\",\n",
    "        package.address,\n",
    "        item_name,\n",
    "        item_size,\n",
    "        1,\n",
    "        items[0].item.extended_order.order.memo,\n",
    "        \"소\"\n",
    "    ]\n",
    "\n",
    "def make_cj(orders):\n",
    "    data = [get_cj_row(package) for package in notice.packages.all()]\n",
    "            \n",
    "    df = pd.DataFrame(data, columns=CJ_COLUMNS).sort_values(by=\"수령자명\")\n",
    "    df[\"수령자 우편번호\"] = df[\"수령자 우편번호\"].apply(lambda x: x.zfill(5))\n",
    "    with open(f\"../Downloads/cj_upload_{datetime.now().date().isoformat()}.xlsx\", \"wb\") as file:\n",
    "        df.to_excel(file, index=None)\n"
   ]
  },
  {
   "cell_type": "code",
   "execution_count": 8,
   "id": "ebb2e832",
   "metadata": {},
   "outputs": [
    {
     "name": "stdout",
     "output_type": "stream",
     "text": [
      "정지영\n",
      "ITEM MAXMARA___[MaxMara]WSDALIA___onesize / INV MAXMARA___[MaxMara]WSDALIA___onesize\n",
      "CROSSCHECK DELIVERY_PREPARING [MaxMara] WSDALIA\n",
      "손경희\n",
      "ITEM SJSJ___언밸런스니트롱드레스___76(44) / INV SJSJ___언밸런스니트롱드레스___76(44)\n",
      "CROSSCHECK DELIVERY_PREPARING 언밸런스 니트 롱 드레스 \n",
      "김기량\n",
      "ITEM MAXMARA___[택제거상품]Teca___42 / INV MAXMARA___[택제거상품]Teca___42\n",
      "CROSSCHECK DELIVERY_PREPARING [택 제거 상품] Teca\n",
      "김희경\n",
      "ITEM MAXMARA___[WeekendMaxMara]PATNER(Camel)___42 / INV MAXMARA___[WeekendMaxMara]PATNER(Camel)___42\n",
      "CROSSCHECK DELIVERY_PREPARING [Weekend MaxMara] PATNER(Camel)\n",
      "이지오\n",
      "ITEM BEANPOLEL___[빈폴스포츠]리브퀄팅구스다운점퍼(화이트)___90 / INV BEANPOLEL___[빈폴스포츠]리브퀄팅구스다운점퍼(화이트)___90\n",
      "CROSSCHECK DELIVERY_PREPARING [빈폴스포츠] 리브 퀄팅 구스 다운 점퍼(화이트) \n",
      "김현주\n",
      "ITEM BEANPOLEL___[빈폴스포츠]리브퀄팅구스다운점퍼(블랙)___95 / INV BEANPOLEL___[빈폴스포츠]리브퀄팅구스다운점퍼(블랙)___95\n",
      "CROSSCHECK DELIVERY_PREPARING [빈폴스포츠] 리브 퀄팅 구스 다운 점퍼(블랙) \n",
      "장정임\n",
      "ITEM BEANPOLEL___[빈폴스포츠](MEN)올라운더보아구스롱다운___100 / INV BEANPOLEL___[빈폴스포츠](MEN)올라운더보아구스롱다운___100\n",
      "CROSSCHECK DELIVERY_PREPARING [빈폴스포츠] (MEN) 올라운더 보아 구스 롱 다운\n",
      "김나나\n",
      "ITEM BEANPOLEL___[빈폴스포츠](MEN)올라운더보아구스롱다운___95 / INV BEANPOLEL___[빈폴스포츠](MEN)올라운더보아구스롱다운___95\n",
      "CROSSCHECK DELIVERY_PREPARING [빈폴스포츠] (MEN) 올라운더 보아 구스 롱 다운\n",
      "권지연\n",
      "ITEM BEANPOLEL___[빈폴스포츠](MEN)올라운더보아구스롱다운___95 / INV BEANPOLEL___[빈폴스포츠](MEN)올라운더보아구스롱다운___95\n",
      "CROSSCHECK DELIVERY_PREPARING [빈폴스포츠] (MEN) 올라운더 보아 구스 롱 다운\n",
      "인지현\n",
      "ITEM BEANPOLEL___클래식롱다운코트___95 / INV BEANPOLEL___클래식롱다운코트___95\n",
      "CROSSCHECK DELIVERY_PREPARING 클래식 롱 다운 코트 \n",
      "김미선 \n",
      "ITEM POLO___[로렌랄프로렌]프린티드터틀넥탑___M(66) / INV POLO___[로렌랄프로렌]프린티드터틀넥탑___M(66)\n",
      "CROSSCHECK DELIVERY_PREPARING [로렌 랄프로렌] 프린티드 터틀넥 탑\n",
      "오현숙\n",
      "ITEM BEANPOLEL___[빈폴스포츠](MEN)푸퍼다운점퍼(블랙)___90 / INV BEANPOLEL___[빈폴스포츠](MEN)푸퍼다운점퍼(블랙)___90\n",
      "CROSSCHECK DELIVERY_PREPARING [빈폴스포츠] (MEN) 푸퍼 다운 점퍼(블랙) \n",
      "한신경\n",
      "ITEM BEANPOLEL___[빈폴스포츠](MEN)포켓구스점퍼(아이보리)___100 / INV BEANPOLEL___[빈폴스포츠](MEN)포켓구스점퍼(아이보리)___100\n",
      "CROSSCHECK DELIVERY_PREPARING [빈폴스포츠] (MEN) 포켓 구스 점퍼(아이보리)  \n",
      "허윤정\n",
      "ITEM BEANPOLEL___[빈폴스포츠](MEN)포켓구스점퍼(아이보리)___100 / INV BEANPOLEL___[빈폴스포츠](MEN)포켓구스점퍼(아이보리)___100\n",
      "CROSSCHECK DELIVERY_PREPARING [빈폴스포츠] (MEN) 포켓 구스 점퍼(아이보리)  \n",
      "강영순 \n",
      "ITEM BEANPOLEL___[빈폴스포츠](MEN)듀얼구스다운점퍼(네이비)___100 / INV BEANPOLEL___[빈폴스포츠](MEN)듀얼구스다운점퍼(네이비)___100\n",
      "CROSSCHECK DELIVERY_PREPARING [빈폴스포츠] (MEN) 듀얼 구스 다운 점퍼(네이비) \n",
      "한윤경\n",
      "ITEM BEANPOLEL___벨티드후드푸퍼다운점퍼(카키)___90 / INV BEANPOLEL___벨티드후드푸퍼다운점퍼(카키)___90\n",
      "CROSSCHECK DELIVERY_PREPARING 벨티드 후드 푸퍼 다운점퍼(카키)\n",
      "구춘화\n",
      "ITEM BEANPOLEL___[빈폴스포츠]리브퀄팅구스다운점퍼(블랙)___95 / INV BEANPOLEL___[빈폴스포츠]리브퀄팅구스다운점퍼(블랙)___95\n",
      "CROSSCHECK DELIVERY_PREPARING [빈폴스포츠] 리브 퀄팅 구스 다운 점퍼(블랙) \n",
      "김정임\n",
      "ITEM SYSTEM___벨티드후드구스다운점퍼___88(66) / INV SYSTEM___벨티드후드구스다운점퍼___88(66)\n",
      "CROSSCHECK DELIVERY_PREPARING 벨티드 후드 구스다운 점퍼\n",
      "이다래\n",
      "ITEM CCCOLLECT___오버사이즈헤링본싱글자켓___55 / INV CCCOLLECT___오버사이즈헤링본싱글자켓___55\n",
      "CROSSCHECK PRODUCT_PREPARING 오버사이즈 헤링본 싱글 자켓 \n"
     ]
    }
   ],
   "source": [
    "for p in notice.packages.all():\n",
    "    print(p.recipient_name)\n",
    "    for item in p.shipping_notice_items.all():\n",
    "        print(f\"\"\"ITEM {item.item.product_code} / INV {item.inventory.product_code}\"\"\")\n",
    "        print(f\"\"\"CROSSCHECK {item.item.extended_order.order.orderstatus} {item.item.extended_order.order.payment.name}\"\"\")\n"
   ]
  },
  {
   "cell_type": "code",
   "execution_count": null,
   "id": "10fcb4eb",
   "metadata": {},
   "outputs": [],
   "source": []
  },
  {
   "cell_type": "code",
   "execution_count": 15,
   "id": "8341e882",
   "metadata": {},
   "outputs": [
    {
     "name": "stderr",
     "output_type": "stream",
     "text": [
      "/Users/stephenj/Library/Caches/pypoetry/virtualenvs/alloff-backoffice-server-V9pDS2iq-py3.9/lib/python3.9/site-packages/django/db/models/fields/__init__.py:1416: RuntimeWarning: DateTimeField ShippingNotice.shipped_at received a naive datetime (2021-11-17 06:06:47.745142) while time zone support is active.\n",
      "  warnings.warn(\"DateTimeField %s received a naive datetime (%s)\"\n"
     ]
    }
   ],
   "source": [
    "make_cj(notice)\n",
    "notice.status = ShippingNoticeStatus.SHIPPED\n",
    "notice.save()"
   ]
  },
  {
   "cell_type": "code",
   "execution_count": 17,
   "id": "d024a835",
   "metadata": {},
   "outputs": [
    {
     "data": {
      "text/plain": [
       "'43D3W'"
      ]
     },
     "execution_count": 17,
     "metadata": {},
     "output_type": "execute_result"
    }
   ],
   "source": []
  },
  {
   "cell_type": "code",
   "execution_count": 2,
   "id": "2c38b4c6",
   "metadata": {},
   "outputs": [
    {
     "data": {
      "text/plain": [
       "<Inventory: Inventory #167 [SHIPPED] 퀄팅 구스다운 점퍼  (211112-023-R)>"
      ]
     },
     "execution_count": 2,
     "metadata": {},
     "output_type": "execute_result"
    }
   ],
   "source": [
    "Inventory.objects.filter(out_order_id=\"618ccea526685ff0517561b5\").first()"
   ]
  },
  {
   "cell_type": "code",
   "execution_count": null,
   "id": "896944fa",
   "metadata": {},
   "outputs": [],
   "source": []
  }
 ],
 "metadata": {
  "kernelspec": {
   "display_name": "Django Shell-Plus",
   "language": "python",
   "name": "django_extensions"
  },
  "language_info": {
   "codemirror_mode": {
    "name": "ipython",
    "version": 3
   },
   "file_extension": ".py",
   "mimetype": "text/x-python",
   "name": "python",
   "nbconvert_exporter": "python",
   "pygments_lexer": "ipython3",
   "version": "3.9.6"
  }
 },
 "nbformat": 4,
 "nbformat_minor": 5
}
