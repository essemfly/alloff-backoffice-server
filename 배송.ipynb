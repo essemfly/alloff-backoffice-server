{
 "cells": [
  {
   "cell_type": "code",
   "execution_count": 11,
   "id": "66586751",
   "metadata": {},
   "outputs": [],
   "source": [
    "import os\n",
    "import pandas as pd\n",
    "import django\n",
    "os.environ.setdefault('DJANGO_SETTINGS_MODULE', 'rest.settings')\n",
    "os.environ[\"DJANGO_ALLOW_ASYNC_UNSAFE\"] = \"true\"\n",
    "django.setup()\n",
    "from tagger.core.mongo.models.order import Order\n",
    "from pytz import timezone\n",
    "from datetime import datetime\n",
    "from tagger.models.inventory import Inventory, InventoryStatus\n",
    "\n",
    "\n",
    "TZ = timezone(\"Asia/Seoul\")\n",
    "# TARGETS = [\n",
    "#     \"61812c7d26685ff051754cee\",\n",
    "# ]\n",
    "\n",
    "PENDING_FOR_BUNDLING = [\n",
    "    \"6187956f26685ff051755922\"\n",
    "]\n",
    "to_be_shipped = Inventory.objects.filter(\n",
    "    status=InventoryStatus.SHIPPING_PENDING\n",
    ").exclude(\n",
    "    out_order_id__in=PENDING_FOR_BUNDLING\n",
    ").all()\n",
    "TARGETS = [x.out_order_id for x in to_be_shipped]\n",
    "\n",
    "\n",
    "CJ_COLUMNS = [\n",
    "    \"주문번호\", \"주문일\", \"수령자명\", \"수령자 우편번호\", \"수령자 연락처\", \"수령자주소\", \"상품명\", \"옵션명\", \"수량\", \"배송메모\", \"박스타입\"\n",
    "]\n",
    "\n",
    "\n",
    "\n",
    "def get_cj_row(order):\n",
    "    payment = order.payment\n",
    "    return [\n",
    "        order.code.replace(\"ORD-\", \"\"),\n",
    "        order.created.astimezone(TZ).date().isoformat().replace(\"-\", \"/\"),\n",
    "        payment.buyername,\n",
    "        payment.buyerpostcode,\n",
    "        f\"{payment.buyermobile[:3]}-{payment.buyermobile[3:7]}-{payment.buyermobile[7:11]}\",\n",
    "        payment.buyeraddress,\n",
    "        payment.name,\n",
    "        \",\".join([f\"{item.size}/{item.quantity}EA\" for item in order.orders]),\n",
    "        1,\n",
    "        order.memo,\n",
    "        \"소\"\n",
    "    ]\n",
    "\n",
    "def get_cu_row(order):\n",
    "    payment = order.get_payment()\n",
    "    return [\n",
    "        payment.buyername,\n",
    "        payment.buyerpostcode,\n",
    "        payment.buyeraddress,\n",
    "        payment.buyeraddress,\n",
    "        f\"{payment.buyermobile[:3]}-{payment.buyermobile[3:7]}-{payment.buyermobile[7:11]}\",\n",
    "        \"\",\n",
    "        order.memo,\n",
    "        \"선불\"\n",
    "    ]\n",
    "\n",
    "def copy_cu():\n",
    "    orders = Order.objects(id__in=TARGETS)\n",
    "    df = pd.DataFrame([get_cu_row(order) for order in orders])\n",
    "    df[1] = df[1].apply(lambda x: x.zfill(5))\n",
    "    df.to_clipboard()\n",
    "\n",
    "def make_cj():\n",
    "    orders = Order.objects(id__in=TARGETS)\n",
    "    raw_items = [get_cj_row(order) for order in orders]\n",
    "    \n",
    "    # 합배처리\n",
    "    item_map = {}\n",
    "    for item in raw_items:\n",
    "        key = (item[2], item[3], item[4])  # name, post, mobile\n",
    "        if key not in item_map:\n",
    "            item_map[key] = item\n",
    "        else:\n",
    "            new_item = [*item_map[key]]\n",
    "            new_item[0] = new_item[0] + item[0]  # order code\n",
    "            new_item[6] = new_item[6] + \", \" + item[6]  # payment name\n",
    "            new_item[7] = new_item[7] + \", \" + item[7]  # sizes\n",
    "            item_map[key] = new_item\n",
    "            \n",
    "        \n",
    "    df = pd.DataFrame(item_map.values(), columns=CJ_COLUMNS)\n",
    "    df[\"수령자 우편번호\"] = df[\"수령자 우편번호\"].apply(lambda x: x.zfill(5))\n",
    "    with open(f\"../Downloads/cj_upload_{datetime.now().date().isoformat()}.xlsx\", \"wb\") as file:\n",
    "        df.to_excel(file, index=None)\n"
   ]
  },
  {
   "cell_type": "code",
   "execution_count": 13,
   "id": "ebb2e832",
   "metadata": {},
   "outputs": [
    {
     "name": "stdout",
     "output_type": "stream",
     "text": [
      "주보배 https://office.alloff.co/orders/617a795b17fc2e5a1f9eab42\n",
      "윤인주 https://office.alloff.co/orders/617fcaf517fc2e5a1f9eb2e6\n",
      "하준희 https://office.alloff.co/orders/6180d7e817fc2e5a1f9eb4ea\n",
      "정민지 https://office.alloff.co/orders/6183a76a26685ff051755184\n",
      "윤경 https://office.alloff.co/orders/6183a95226685ff05175518d\n",
      "신지혜 https://office.alloff.co/orders/6183b82426685ff0517551bc\n",
      "김미진 https://office.alloff.co/orders/6184d8b326685ff05175540a\n",
      "김주연 https://office.alloff.co/orders/6184ef7e26685ff05175542f\n",
      "홍인경  https://office.alloff.co/orders/6185018c26685ff051755440\n",
      "김미진 https://office.alloff.co/orders/6185165726685ff0517554c2\n",
      "민은정 https://office.alloff.co/orders/618516ef26685ff0517554c5\n",
      "민은정 https://office.alloff.co/orders/61851cfd26685ff0517554eb\n",
      "채은희 https://office.alloff.co/orders/6185323426685ff051755544\n",
      "이정원 https://office.alloff.co/orders/61853ac026685ff051755565\n",
      "이정원 https://office.alloff.co/orders/61853b3026685ff051755569\n",
      "정나영 https://office.alloff.co/orders/6185ace326685ff051755600\n",
      "김민선 https://office.alloff.co/orders/6186bc1826685ff051755833\n",
      "김민선 https://office.alloff.co/orders/6186c23026685ff051755839\n"
     ]
    }
   ],
   "source": [
    " for o in Order.objects(id__in=TARGETS).all():\n",
    "    print(o.payment.buyername, f\"https://office.alloff.co/orders/{o.id}\")\n"
   ]
  },
  {
   "cell_type": "code",
   "execution_count": 78,
   "id": "10fcb4eb",
   "metadata": {},
   "outputs": [
    {
     "ename": "FileNotFoundError",
     "evalue": "[Errno 2] No such file or directory: '~/cj_upload.xls'",
     "output_type": "error",
     "traceback": [
      "\u001b[0;31m---------------------------------------------------------------------------\u001b[0m",
      "\u001b[0;31mFileNotFoundError\u001b[0m                         Traceback (most recent call last)",
      "\u001b[0;32m/var/folders/gn/z090n3wn6bj0y949f1kjzy940000gn/T/ipykernel_71685/4234144065.py\u001b[0m in \u001b[0;36m<module>\u001b[0;34m\u001b[0m\n\u001b[0;32m----> 1\u001b[0;31m \u001b[0;32mwith\u001b[0m \u001b[0mopen\u001b[0m\u001b[0;34m(\u001b[0m\u001b[0;34m\"~/cj_upload.xls\"\u001b[0m\u001b[0;34m,\u001b[0m \u001b[0;34m\"wb\"\u001b[0m\u001b[0;34m)\u001b[0m \u001b[0;32mas\u001b[0m \u001b[0mfile\u001b[0m\u001b[0;34m:\u001b[0m\u001b[0;34m\u001b[0m\u001b[0;34m\u001b[0m\u001b[0m\n\u001b[0m\u001b[1;32m      2\u001b[0m     \u001b[0mdf\u001b[0m\u001b[0;34m.\u001b[0m\u001b[0mto_excel\u001b[0m\u001b[0;34m(\u001b[0m\u001b[0mfile\u001b[0m\u001b[0;34m,\u001b[0m \u001b[0mindex\u001b[0m\u001b[0;34m=\u001b[0m\u001b[0;32mNone\u001b[0m\u001b[0;34m)\u001b[0m\u001b[0;34m\u001b[0m\u001b[0;34m\u001b[0m\u001b[0m\n",
      "\u001b[0;31mFileNotFoundError\u001b[0m: [Errno 2] No such file or directory: '~/cj_upload.xls'"
     ]
    }
   ],
   "source": []
  },
  {
   "cell_type": "code",
   "execution_count": 8,
   "id": "8341e882",
   "metadata": {},
   "outputs": [],
   "source": [
    "make_cj()"
   ]
  },
  {
   "cell_type": "code",
   "execution_count": 17,
   "id": "d024a835",
   "metadata": {},
   "outputs": [
    {
     "data": {
      "text/plain": [
       "'43D3W'"
      ]
     },
     "execution_count": 17,
     "metadata": {},
     "output_type": "execute_result"
    }
   ],
   "source": []
  },
  {
   "cell_type": "code",
   "execution_count": null,
   "id": "2c38b4c6",
   "metadata": {},
   "outputs": [],
   "source": []
  }
 ],
 "metadata": {
  "kernelspec": {
   "display_name": "Django Shell-Plus",
   "language": "python",
   "name": "django_extensions"
  },
  "language_info": {
   "codemirror_mode": {
    "name": "ipython",
    "version": 3
   },
   "file_extension": ".py",
   "mimetype": "text/x-python",
   "name": "python",
   "nbconvert_exporter": "python",
   "pygments_lexer": "ipython3",
   "version": "3.9.6"
  }
 },
 "nbformat": 4,
 "nbformat_minor": 5
}
