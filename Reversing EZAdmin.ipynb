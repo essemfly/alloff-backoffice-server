{
 "cells": [
  {
   "cell_type": "code",
   "execution_count": 1,
   "id": "68d2c3d7",
   "metadata": {},
   "outputs": [],
   "source": [
    "import pandas as pd\n",
    "import xlrd, xlwt\n",
    "from bs4 import BeautifulSoup"
   ]
  },
  {
   "cell_type": "code",
   "execution_count": 3,
   "id": "b00bd3d5",
   "metadata": {},
   "outputs": [],
   "source": [
    "wb = xlrd.open_workbook_xls(\"../Downloads/basic 211117.xls\")"
   ]
  },
  {
   "cell_type": "code",
   "execution_count": 4,
   "id": "07e8ea44",
   "metadata": {},
   "outputs": [
    {
     "data": {
      "text/plain": [
       "<xlrd.book.Book at 0x12d588bb0>"
      ]
     },
     "execution_count": 4,
     "metadata": {},
     "output_type": "execute_result"
    }
   ],
   "source": [
    "wb"
   ]
  },
  {
   "cell_type": "code",
   "execution_count": 8,
   "id": "dffc048e",
   "metadata": {},
   "outputs": [],
   "source": [
    "ws = wb.sheets()[0]"
   ]
  },
  {
   "cell_type": "code",
   "execution_count": 11,
   "id": "0ac8d62b",
   "metadata": {},
   "outputs": [
    {
     "name": "stdout",
     "output_type": "stream",
     "text": [
      "[text:'주문번호', text:'주문일', text:'수령자명', text:'수령자 우편번호', text:'수령자 연락처', text:'수령자주소', text:'상품명', text:'옵션명', text:'수량', text:'배송메모', text:'박스타입']\n",
      "[text:'PKG-211117-4U', text:'2021/11/17', text:'강영순 ', text:'63101', text:'010-2690-4085', text:'제주특별자치도 제주시 수덕로 44 201동802호', text:'[빈폴스포츠] (MEN) 듀얼 구스 다운 점퍼(네이비) ', text:'100', number:1.0, text:'부재 시 집 앞에 놔주세요.', text:'소']\n",
      "[text:'PKG-211117-6M', text:'2021/11/17', text:'구춘화', text:'05831', text:'010-2866-6180', text:'서울 송파구 송파대로 220 102동 310호', text:'[빈폴스포츠] 리브 퀄팅 구스 다운 점퍼(블랙) ', text:'95', number:1.0, empty:'', text:'소']\n",
      "[text:'PKG-211117-6J', text:'2021/11/17', text:'권지연', text:'28387', text:'010-3539-4227', text:'충북 청주시 서원구 대림로 493 305동1105호', text:'[빈폴스포츠] (MEN) 올라운더 보아 구스 롱 다운', text:'95', number:1.0, text:'문앞', text:'소']\n",
      "[text:'PKG-211117-6K', text:'2021/11/17', text:'김기량', text:'41451', text:'010-2701-7776', text:'대구 북구 영송로 70 2층 큐티샵 ', text:'[택 제거 상품] Teca', text:'42', number:1.0, text:'배송 전에 미리 연락 바랍니다.', text:'소']\n",
      "[text:'PKG-211117-7D', text:'2021/11/17', text:'김나나', text:'16543', text:'010-2747-9396', text:'경기 수원시 영통구 효원로 363 113-1701', text:'[빈폴스포츠] (MEN) 올라운더 보아 구스 롱 다운', text:'95', number:1.0, text:'부재 시 집 앞에 놔주세요.', text:'소']\n",
      "[text:'PKG-211117-4L', text:'2021/11/17', text:'김미선 ', text:'06544', text:'010-9150-3609', text:'서울 서초구 신반포로 270 반포자아파트   137~1601', text:'[로렌 랄프로렌] 프린티드 터틀넥 탑', text:'M(66)', number:1.0, text:'부재 시 집 앞에 놔주세요.', text:'소']\n",
      "[text:'PKG-211117-43', text:'2021/11/17', text:'김정임', text:'03966', text:'010-4792-3049', text:'서울 마포구 성산로4길 75 206호', text:'벨티드 후드 구스다운 점퍼', text:'88(66) ', number:1.0, text:'배송 전에 미리 연락 바랍니다.', text:'소']\n",
      "[text:'PKG-211117-QK', text:'2021/11/17', text:'김현주', text:'15815', text:'010-3213-0564', text:'경기 군포시 금산로 91 120동 3301호', text:'[빈폴스포츠] 리브 퀄팅 구스 다운 점퍼(블랙) ', text:'95', number:1.0, empty:'', text:'소']\n",
      "[text:'PKG-211117-4V', text:'2021/11/17', text:'김희경', text:'22839', text:'010-6242-3658', text:'인천 서구 염곡로 26 린나이인천물류센터 ', text:'[Weekend MaxMara] PATNER(Camel)', text:'42', number:1.0, text:'배송 전에 미리 연락 바랍니다.', text:'소']\n",
      "[text:'PKG-211117-VF', text:'2021/11/17', text:'손경희', text:'03709', text:'010-9506-3680', text:'서울 서대문구 가재울미래로 2 DMC파크뷰자이 130동 2404호', text:'언밸런스 니트 롱 드레스 ', text:'76(44) ', number:1.0, empty:'', text:'소']\n",
      "[text:'PKG-211117-C3', text:'2021/11/17', text:'오현숙', text:'10893', text:'010-5564-0731', text:'경기 파주시 해솔로 20 410동 103호', text:'[빈폴스포츠] (MEN) 푸퍼 다운 점퍼(블랙) ', text:'90', number:1.0, empty:'', text:'소']\n",
      "[text:'PKG-211117-4N', text:'2021/11/17', text:'이다래', text:'11133', text:'010-3006-1280', text:'경기 포천시 창수면 창동로 205-66  ', text:'오버사이즈 헤링본 싱글 자켓 ', text:'55', number:1.0, empty:'', text:'소']\n",
      "[text:'PKG-211117-DA', text:'2021/11/17', text:'이지오', text:'05628', text:'010-9358-3587', text:'서울 송파구 백제고분로50길 29-14 301호', text:'[빈폴스포츠] 리브 퀄팅 구스 다운 점퍼(화이트) ', text:'90', number:1.0, empty:'', text:'소']\n",
      "[text:'PKG-211117-6P', text:'2021/11/17', text:'인지현', text:'10597', text:'010-9437-3922', text:'경기 고양시 덕양구 세솔로 25 호반베르디움2216동902호', text:'클래식 롱 다운 코트 ', text:'95', number:1.0, text:'부재 시 집 앞에 놔주세요.', text:'소']\n",
      "[text:'PKG-211117-6V', text:'2021/11/17', text:'장정임', text:'05738', text:'010-3302-5953', text:'서울 송파구 성내천로 103 101동 2803호 ', text:'[빈폴스포츠] (MEN) 올라운더 보아 구스 롱 다운', text:'100', number:1.0, text:'부재 시 집 앞에 놔주세요.', text:'소']\n",
      "[text:'PKG-211117-6T', text:'2021/11/17', text:'정지영', text:'62004', text:'010-3620-9940', text:'광주 서구 금호운천길 43 코아루아파트 105-403 ', text:'[MaxMara] WSDALIA', text:'one size', number:1.0, text:'부재 시 집 앞에 놔주세요.', text:'소']\n",
      "[text:'PKG-211117-6B', text:'2021/11/17', text:'한신경', text:'01913', text:'010-5544-6146', text:'서울 노원구 마들로 31 119동 1501호', text:'[빈폴스포츠] (MEN) 포켓 구스 점퍼(아이보리)  ', text:'100 ', number:1.0, empty:'', text:'소']\n",
      "[text:'PKG-211117-QX', text:'2021/11/17', text:'한윤경', text:'54952', text:'010-8223-0130', text:'전북 전주시 완산구 서신천변9길 7-3 서문빌라 4층 관리실 ', text:'벨티드 후드 푸퍼 다운점퍼(카키)', text:'90', number:1.0, empty:'', text:'소']\n",
      "[text:'PKG-211117-4J', text:'2021/11/17', text:'허윤정', text:'05247', text:'010-4290-0019', text:'서울 강동구 구천면로14길 3 3츠', text:'[빈폴스포츠] (MEN) 포켓 구스 점퍼(아이보리)  ', text:'100 ', number:1.0, empty:'', text:'소']\n"
     ]
    }
   ],
   "source": [
    "for row in ws.get_rows():\n",
    "    print(row)"
   ]
  },
  {
   "cell_type": "code",
   "execution_count": 12,
   "id": "9c1d3d81",
   "metadata": {},
   "outputs": [],
   "source": [
    "wb = xlwt.Workbook()"
   ]
  },
  {
   "cell_type": "code",
   "execution_count": 13,
   "id": "02e2ece5",
   "metadata": {},
   "outputs": [],
   "source": [
    "ws = wb.add_sheet(\"Sheet1\")"
   ]
  },
  {
   "cell_type": "code",
   "execution_count": 14,
   "id": "9503d52c",
   "metadata": {},
   "outputs": [
    {
     "data": {
      "text/plain": [
       "<xlwt.Worksheet.Worksheet at 0x131799b20>"
      ]
     },
     "execution_count": 14,
     "metadata": {},
     "output_type": "execute_result"
    }
   ],
   "source": [
    "ws."
   ]
  },
  {
   "cell_type": "code",
   "execution_count": 19,
   "id": "3771dc4c",
   "metadata": {},
   "outputs": [
    {
     "ename": "TypeError",
     "evalue": "'_io.TextIOWrapper' object is not subscriptable",
     "output_type": "error",
     "traceback": [
      "\u001b[0;31m---------------------------------------------------------------------------\u001b[0m",
      "\u001b[0;31mTypeError\u001b[0m                                 Traceback (most recent call last)",
      "\u001b[0;32m/var/folders/gn/z090n3wn6bj0y949f1kjzy940000gn/T/ipykernel_26426/1808573758.py\u001b[0m in \u001b[0;36m<module>\u001b[0;34m\u001b[0m\n\u001b[1;32m      1\u001b[0m \u001b[0;32mwith\u001b[0m \u001b[0mopen\u001b[0m\u001b[0;34m(\u001b[0m\u001b[0;34m\"../Downloads/확장주문검색_20211118_163649.xls\"\u001b[0m\u001b[0;34m,\u001b[0m \u001b[0;34m\"r\"\u001b[0m\u001b[0;34m)\u001b[0m \u001b[0;32mas\u001b[0m \u001b[0mf\u001b[0m\u001b[0;34m:\u001b[0m\u001b[0;34m\u001b[0m\u001b[0;34m\u001b[0m\u001b[0m\n\u001b[0;32m----> 2\u001b[0;31m     \u001b[0mwb\u001b[0m \u001b[0;34m=\u001b[0m \u001b[0mxlrd\u001b[0m\u001b[0;34m.\u001b[0m\u001b[0mopen_workbook\u001b[0m\u001b[0;34m(\u001b[0m\u001b[0mfile_contents\u001b[0m\u001b[0;34m=\u001b[0m\u001b[0mf\u001b[0m\u001b[0;34m)\u001b[0m\u001b[0;34m\u001b[0m\u001b[0;34m\u001b[0m\u001b[0m\n\u001b[0m",
      "\u001b[0;32m~/Library/Caches/pypoetry/virtualenvs/alloff-backoffice-server-V9pDS2iq-py3.9/lib/python3.9/site-packages/xlrd/__init__.py\u001b[0m in \u001b[0;36mopen_workbook\u001b[0;34m(filename, logfile, verbosity, use_mmap, file_contents, encoding_override, formatting_info, on_demand, ragged_rows, ignore_workbook_corruption)\u001b[0m\n\u001b[1;32m    164\u001b[0m     \"\"\"\n\u001b[1;32m    165\u001b[0m \u001b[0;34m\u001b[0m\u001b[0m\n\u001b[0;32m--> 166\u001b[0;31m     \u001b[0mfile_format\u001b[0m \u001b[0;34m=\u001b[0m \u001b[0minspect_format\u001b[0m\u001b[0;34m(\u001b[0m\u001b[0mfilename\u001b[0m\u001b[0;34m,\u001b[0m \u001b[0mfile_contents\u001b[0m\u001b[0;34m)\u001b[0m\u001b[0;34m\u001b[0m\u001b[0;34m\u001b[0m\u001b[0m\n\u001b[0m\u001b[1;32m    167\u001b[0m     \u001b[0;31m# We have to let unknown file formats pass through here, as some ancient\u001b[0m\u001b[0;34m\u001b[0m\u001b[0;34m\u001b[0m\u001b[0;34m\u001b[0m\u001b[0m\n\u001b[1;32m    168\u001b[0m     \u001b[0;31m# files that xlrd can parse don't start with the expected signature.\u001b[0m\u001b[0;34m\u001b[0m\u001b[0;34m\u001b[0m\u001b[0;34m\u001b[0m\u001b[0m\n",
      "\u001b[0;32m~/Library/Caches/pypoetry/virtualenvs/alloff-backoffice-server-V9pDS2iq-py3.9/lib/python3.9/site-packages/xlrd/__init__.py\u001b[0m in \u001b[0;36minspect_format\u001b[0;34m(path, content)\u001b[0m\n\u001b[1;32m     55\u001b[0m     \"\"\"\n\u001b[1;32m     56\u001b[0m     \u001b[0;32mif\u001b[0m \u001b[0mcontent\u001b[0m\u001b[0;34m:\u001b[0m\u001b[0;34m\u001b[0m\u001b[0;34m\u001b[0m\u001b[0m\n\u001b[0;32m---> 57\u001b[0;31m         \u001b[0mpeek\u001b[0m \u001b[0;34m=\u001b[0m \u001b[0mcontent\u001b[0m\u001b[0;34m[\u001b[0m\u001b[0;34m:\u001b[0m\u001b[0mPEEK_SIZE\u001b[0m\u001b[0;34m]\u001b[0m\u001b[0;34m\u001b[0m\u001b[0;34m\u001b[0m\u001b[0m\n\u001b[0m\u001b[1;32m     58\u001b[0m     \u001b[0;32melse\u001b[0m\u001b[0;34m:\u001b[0m\u001b[0;34m\u001b[0m\u001b[0;34m\u001b[0m\u001b[0m\n\u001b[1;32m     59\u001b[0m         \u001b[0mpath\u001b[0m \u001b[0;34m=\u001b[0m \u001b[0mos\u001b[0m\u001b[0;34m.\u001b[0m\u001b[0mpath\u001b[0m\u001b[0;34m.\u001b[0m\u001b[0mexpanduser\u001b[0m\u001b[0;34m(\u001b[0m\u001b[0mpath\u001b[0m\u001b[0;34m)\u001b[0m\u001b[0;34m\u001b[0m\u001b[0;34m\u001b[0m\u001b[0m\n",
      "\u001b[0;31mTypeError\u001b[0m: '_io.TextIOWrapper' object is not subscriptable"
     ]
    }
   ],
   "source": [
    "with open(\"../Downloads/확장주문검색_20211118_163649.xls\", \"rb\") as f:\n",
    "    wb = xlrd.open_workbook(file_contents=f.read())"
   ]
  },
  {
   "cell_type": "code",
   "execution_count": 21,
   "id": "c3d3dcec",
   "metadata": {},
   "outputs": [
    {
     "ename": "XLRDError",
     "evalue": "Unsupported format, or corrupt file: Expected BOF record; found b'<meta ht'",
     "output_type": "error",
     "traceback": [
      "\u001b[0;31m---------------------------------------------------------------------------\u001b[0m",
      "\u001b[0;31mXLRDError\u001b[0m                                 Traceback (most recent call last)",
      "\u001b[0;32m/var/folders/gn/z090n3wn6bj0y949f1kjzy940000gn/T/ipykernel_26426/3824373100.py\u001b[0m in \u001b[0;36m<module>\u001b[0;34m\u001b[0m\n\u001b[0;32m----> 1\u001b[0;31m \u001b[0mxlrd\u001b[0m\u001b[0;34m.\u001b[0m\u001b[0mopen_workbook\u001b[0m\u001b[0;34m(\u001b[0m\u001b[0;34m\"../Downloads/확장주문검색_20211118_163649.xls\"\u001b[0m\u001b[0;34m)\u001b[0m\u001b[0;34m\u001b[0m\u001b[0;34m\u001b[0m\u001b[0m\n\u001b[0m",
      "\u001b[0;32m~/Library/Caches/pypoetry/virtualenvs/alloff-backoffice-server-V9pDS2iq-py3.9/lib/python3.9/site-packages/xlrd/__init__.py\u001b[0m in \u001b[0;36mopen_workbook\u001b[0;34m(filename, logfile, verbosity, use_mmap, file_contents, encoding_override, formatting_info, on_demand, ragged_rows, ignore_workbook_corruption)\u001b[0m\n\u001b[1;32m    170\u001b[0m         \u001b[0;32mraise\u001b[0m \u001b[0mXLRDError\u001b[0m\u001b[0;34m(\u001b[0m\u001b[0mFILE_FORMAT_DESCRIPTIONS\u001b[0m\u001b[0;34m[\u001b[0m\u001b[0mfile_format\u001b[0m\u001b[0;34m]\u001b[0m\u001b[0;34m+\u001b[0m\u001b[0;34m'; not supported'\u001b[0m\u001b[0;34m)\u001b[0m\u001b[0;34m\u001b[0m\u001b[0;34m\u001b[0m\u001b[0m\n\u001b[1;32m    171\u001b[0m \u001b[0;34m\u001b[0m\u001b[0m\n\u001b[0;32m--> 172\u001b[0;31m     bk = open_workbook_xls(\n\u001b[0m\u001b[1;32m    173\u001b[0m         \u001b[0mfilename\u001b[0m\u001b[0;34m=\u001b[0m\u001b[0mfilename\u001b[0m\u001b[0;34m,\u001b[0m\u001b[0;34m\u001b[0m\u001b[0;34m\u001b[0m\u001b[0m\n\u001b[1;32m    174\u001b[0m         \u001b[0mlogfile\u001b[0m\u001b[0;34m=\u001b[0m\u001b[0mlogfile\u001b[0m\u001b[0;34m,\u001b[0m\u001b[0;34m\u001b[0m\u001b[0;34m\u001b[0m\u001b[0m\n",
      "\u001b[0;32m~/Library/Caches/pypoetry/virtualenvs/alloff-backoffice-server-V9pDS2iq-py3.9/lib/python3.9/site-packages/xlrd/book.py\u001b[0m in \u001b[0;36mopen_workbook_xls\u001b[0;34m(filename, logfile, verbosity, use_mmap, file_contents, encoding_override, formatting_info, on_demand, ragged_rows, ignore_workbook_corruption)\u001b[0m\n\u001b[1;32m     77\u001b[0m         \u001b[0mt1\u001b[0m \u001b[0;34m=\u001b[0m \u001b[0mperf_counter\u001b[0m\u001b[0;34m(\u001b[0m\u001b[0;34m)\u001b[0m\u001b[0;34m\u001b[0m\u001b[0;34m\u001b[0m\u001b[0m\n\u001b[1;32m     78\u001b[0m         \u001b[0mbk\u001b[0m\u001b[0;34m.\u001b[0m\u001b[0mload_time_stage_1\u001b[0m \u001b[0;34m=\u001b[0m \u001b[0mt1\u001b[0m \u001b[0;34m-\u001b[0m \u001b[0mt0\u001b[0m\u001b[0;34m\u001b[0m\u001b[0;34m\u001b[0m\u001b[0m\n\u001b[0;32m---> 79\u001b[0;31m         \u001b[0mbiff_version\u001b[0m \u001b[0;34m=\u001b[0m \u001b[0mbk\u001b[0m\u001b[0;34m.\u001b[0m\u001b[0mgetbof\u001b[0m\u001b[0;34m(\u001b[0m\u001b[0mXL_WORKBOOK_GLOBALS\u001b[0m\u001b[0;34m)\u001b[0m\u001b[0;34m\u001b[0m\u001b[0;34m\u001b[0m\u001b[0m\n\u001b[0m\u001b[1;32m     80\u001b[0m         \u001b[0;32mif\u001b[0m \u001b[0;32mnot\u001b[0m \u001b[0mbiff_version\u001b[0m\u001b[0;34m:\u001b[0m\u001b[0;34m\u001b[0m\u001b[0;34m\u001b[0m\u001b[0m\n\u001b[1;32m     81\u001b[0m             \u001b[0;32mraise\u001b[0m \u001b[0mXLRDError\u001b[0m\u001b[0;34m(\u001b[0m\u001b[0;34m\"Can't determine file's BIFF version\"\u001b[0m\u001b[0;34m)\u001b[0m\u001b[0;34m\u001b[0m\u001b[0;34m\u001b[0m\u001b[0m\n",
      "\u001b[0;32m~/Library/Caches/pypoetry/virtualenvs/alloff-backoffice-server-V9pDS2iq-py3.9/lib/python3.9/site-packages/xlrd/book.py\u001b[0m in \u001b[0;36mgetbof\u001b[0;34m(self, rqd_stream)\u001b[0m\n\u001b[1;32m   1282\u001b[0m             \u001b[0mbof_error\u001b[0m\u001b[0;34m(\u001b[0m\u001b[0;34m'Expected BOF record; met end of file'\u001b[0m\u001b[0;34m)\u001b[0m\u001b[0;34m\u001b[0m\u001b[0;34m\u001b[0m\u001b[0m\n\u001b[1;32m   1283\u001b[0m         \u001b[0;32mif\u001b[0m \u001b[0mopcode\u001b[0m \u001b[0;32mnot\u001b[0m \u001b[0;32min\u001b[0m \u001b[0mbofcodes\u001b[0m\u001b[0;34m:\u001b[0m\u001b[0;34m\u001b[0m\u001b[0;34m\u001b[0m\u001b[0m\n\u001b[0;32m-> 1284\u001b[0;31m             \u001b[0mbof_error\u001b[0m\u001b[0;34m(\u001b[0m\u001b[0;34m'Expected BOF record; found %r'\u001b[0m \u001b[0;34m%\u001b[0m \u001b[0mself\u001b[0m\u001b[0;34m.\u001b[0m\u001b[0mmem\u001b[0m\u001b[0;34m[\u001b[0m\u001b[0msavpos\u001b[0m\u001b[0;34m:\u001b[0m\u001b[0msavpos\u001b[0m\u001b[0;34m+\u001b[0m\u001b[0;36m8\u001b[0m\u001b[0;34m]\u001b[0m\u001b[0;34m)\u001b[0m\u001b[0;34m\u001b[0m\u001b[0;34m\u001b[0m\u001b[0m\n\u001b[0m\u001b[1;32m   1285\u001b[0m         \u001b[0mlength\u001b[0m \u001b[0;34m=\u001b[0m \u001b[0mself\u001b[0m\u001b[0;34m.\u001b[0m\u001b[0mget2bytes\u001b[0m\u001b[0;34m(\u001b[0m\u001b[0;34m)\u001b[0m\u001b[0;34m\u001b[0m\u001b[0;34m\u001b[0m\u001b[0m\n\u001b[1;32m   1286\u001b[0m         \u001b[0;32mif\u001b[0m \u001b[0mlength\u001b[0m \u001b[0;34m==\u001b[0m \u001b[0mMY_EOF\u001b[0m\u001b[0;34m:\u001b[0m\u001b[0;34m\u001b[0m\u001b[0;34m\u001b[0m\u001b[0m\n",
      "\u001b[0;32m~/Library/Caches/pypoetry/virtualenvs/alloff-backoffice-server-V9pDS2iq-py3.9/lib/python3.9/site-packages/xlrd/book.py\u001b[0m in \u001b[0;36mbof_error\u001b[0;34m(msg)\u001b[0m\n\u001b[1;32m   1276\u001b[0m \u001b[0;34m\u001b[0m\u001b[0m\n\u001b[1;32m   1277\u001b[0m         \u001b[0;32mdef\u001b[0m \u001b[0mbof_error\u001b[0m\u001b[0;34m(\u001b[0m\u001b[0mmsg\u001b[0m\u001b[0;34m)\u001b[0m\u001b[0;34m:\u001b[0m\u001b[0;34m\u001b[0m\u001b[0;34m\u001b[0m\u001b[0m\n\u001b[0;32m-> 1278\u001b[0;31m             \u001b[0;32mraise\u001b[0m \u001b[0mXLRDError\u001b[0m\u001b[0;34m(\u001b[0m\u001b[0;34m'Unsupported format, or corrupt file: '\u001b[0m \u001b[0;34m+\u001b[0m \u001b[0mmsg\u001b[0m\u001b[0;34m)\u001b[0m\u001b[0;34m\u001b[0m\u001b[0;34m\u001b[0m\u001b[0m\n\u001b[0m\u001b[1;32m   1279\u001b[0m         \u001b[0msavpos\u001b[0m \u001b[0;34m=\u001b[0m \u001b[0mself\u001b[0m\u001b[0;34m.\u001b[0m\u001b[0m_position\u001b[0m\u001b[0;34m\u001b[0m\u001b[0;34m\u001b[0m\u001b[0m\n\u001b[1;32m   1280\u001b[0m         \u001b[0mopcode\u001b[0m \u001b[0;34m=\u001b[0m \u001b[0mself\u001b[0m\u001b[0;34m.\u001b[0m\u001b[0mget2bytes\u001b[0m\u001b[0;34m(\u001b[0m\u001b[0;34m)\u001b[0m\u001b[0;34m\u001b[0m\u001b[0;34m\u001b[0m\u001b[0m\n",
      "\u001b[0;31mXLRDError\u001b[0m: Unsupported format, or corrupt file: Expected BOF record; found b'<meta ht'"
     ]
    }
   ],
   "source": [
    "xlrd.open_workbook(\"../Downloads/확장주문검색_20211118_163649.xls\")"
   ]
  },
  {
   "cell_type": "code",
   "execution_count": 27,
   "id": "30301522",
   "metadata": {},
   "outputs": [],
   "source": []
  },
  {
   "cell_type": "code",
   "execution_count": 11,
   "id": "126d4254",
   "metadata": {},
   "outputs": [],
   "source": [
    "f = open(\"../Downloads/확장주문검색_20211118_163649.xls\", \"r\")\n",
    "# soup = BeautifulSoup(f)\n",
    "df = pd.read_html(f, match='주소', header=0)[0]\n",
    "df.dropna(subset=[\"주문번호\"], inplace=True)"
   ]
  },
  {
   "cell_type": "code",
   "execution_count": 13,
   "id": "af08fe48",
   "metadata": {},
   "outputs": [
    {
     "name": "stdout",
     "output_type": "stream",
     "text": [
      "--------------------------------------------------------------------------------\n"
     ]
    },
    {
     "ename": "SynchronousOnlyOperation",
     "evalue": "You cannot call this from an async context - use a thread or sync_to_async.",
     "output_type": "error",
     "traceback": [
      "\u001b[0;31m---------------------------------------------------------------------------\u001b[0m",
      "\u001b[0;31mSynchronousOnlyOperation\u001b[0m                  Traceback (most recent call last)",
      "\u001b[0;32m/var/folders/gn/z090n3wn6bj0y949f1kjzy940000gn/T/ipykernel_48663/2101472436.py\u001b[0m in \u001b[0;36m<module>\u001b[0;34m\u001b[0m\n\u001b[1;32m      2\u001b[0m     \u001b[0mprint\u001b[0m\u001b[0;34m(\u001b[0m\u001b[0;34m\"--------------------------------------------------------------------------------\"\u001b[0m\u001b[0;34m)\u001b[0m\u001b[0;34m\u001b[0m\u001b[0;34m\u001b[0m\u001b[0m\n\u001b[1;32m      3\u001b[0m     \u001b[0mpackage_code\u001b[0m \u001b[0;34m=\u001b[0m \u001b[0mrow\u001b[0m\u001b[0;34m[\u001b[0m\u001b[0;34m\"주문번호\"\u001b[0m\u001b[0;34m]\u001b[0m\u001b[0;34m\u001b[0m\u001b[0;34m\u001b[0m\u001b[0m\n\u001b[0;32m----> 4\u001b[0;31m     \u001b[0mpackage\u001b[0m \u001b[0;34m=\u001b[0m \u001b[0mPackage\u001b[0m\u001b[0;34m.\u001b[0m\u001b[0mobjects\u001b[0m\u001b[0;34m.\u001b[0m\u001b[0mget\u001b[0m\u001b[0;34m(\u001b[0m\u001b[0mcode\u001b[0m\u001b[0;34m=\u001b[0m\u001b[0mpackage_code\u001b[0m\u001b[0;34m)\u001b[0m\u001b[0;34m\u001b[0m\u001b[0;34m\u001b[0m\u001b[0m\n\u001b[0m\u001b[1;32m      5\u001b[0m     \u001b[0mprint\u001b[0m\u001b[0;34m(\u001b[0m\u001b[0mrow\u001b[0m\u001b[0;34m[\u001b[0m\u001b[0;34m\"주문번호\"\u001b[0m\u001b[0;34m]\u001b[0m\u001b[0;34m,\u001b[0m \u001b[0mrow\u001b[0m\u001b[0;34m[\u001b[0m\u001b[0;34m\"판매처 상품명\"\u001b[0m\u001b[0;34m]\u001b[0m\u001b[0;34m,\u001b[0m \u001b[0mrow\u001b[0m\u001b[0;34m[\u001b[0m\u001b[0;34m\"수령자이름\"\u001b[0m\u001b[0;34m]\u001b[0m\u001b[0;34m)\u001b[0m\u001b[0;34m\u001b[0m\u001b[0;34m\u001b[0m\u001b[0m\n\u001b[1;32m      6\u001b[0m     \u001b[0;32mfor\u001b[0m \u001b[0mitem\u001b[0m \u001b[0;32min\u001b[0m \u001b[0mpackage\u001b[0m\u001b[0;34m.\u001b[0m\u001b[0mshipping_notice_items\u001b[0m\u001b[0;34m.\u001b[0m\u001b[0mall\u001b[0m\u001b[0;34m(\u001b[0m\u001b[0;34m)\u001b[0m\u001b[0;34m:\u001b[0m\u001b[0;34m\u001b[0m\u001b[0;34m\u001b[0m\u001b[0m\n",
      "\u001b[0;32m~/Library/Caches/pypoetry/virtualenvs/alloff-backoffice-server-V9pDS2iq-py3.9/lib/python3.9/site-packages/django/db/models/manager.py\u001b[0m in \u001b[0;36mmanager_method\u001b[0;34m(self, *args, **kwargs)\u001b[0m\n\u001b[1;32m     83\u001b[0m         \u001b[0;32mdef\u001b[0m \u001b[0mcreate_method\u001b[0m\u001b[0;34m(\u001b[0m\u001b[0mname\u001b[0m\u001b[0;34m,\u001b[0m \u001b[0mmethod\u001b[0m\u001b[0;34m)\u001b[0m\u001b[0;34m:\u001b[0m\u001b[0;34m\u001b[0m\u001b[0;34m\u001b[0m\u001b[0m\n\u001b[1;32m     84\u001b[0m             \u001b[0;32mdef\u001b[0m \u001b[0mmanager_method\u001b[0m\u001b[0;34m(\u001b[0m\u001b[0mself\u001b[0m\u001b[0;34m,\u001b[0m \u001b[0;34m*\u001b[0m\u001b[0margs\u001b[0m\u001b[0;34m,\u001b[0m \u001b[0;34m**\u001b[0m\u001b[0mkwargs\u001b[0m\u001b[0;34m)\u001b[0m\u001b[0;34m:\u001b[0m\u001b[0;34m\u001b[0m\u001b[0;34m\u001b[0m\u001b[0m\n\u001b[0;32m---> 85\u001b[0;31m                 \u001b[0;32mreturn\u001b[0m \u001b[0mgetattr\u001b[0m\u001b[0;34m(\u001b[0m\u001b[0mself\u001b[0m\u001b[0;34m.\u001b[0m\u001b[0mget_queryset\u001b[0m\u001b[0;34m(\u001b[0m\u001b[0;34m)\u001b[0m\u001b[0;34m,\u001b[0m \u001b[0mname\u001b[0m\u001b[0;34m)\u001b[0m\u001b[0;34m(\u001b[0m\u001b[0;34m*\u001b[0m\u001b[0margs\u001b[0m\u001b[0;34m,\u001b[0m \u001b[0;34m**\u001b[0m\u001b[0mkwargs\u001b[0m\u001b[0;34m)\u001b[0m\u001b[0;34m\u001b[0m\u001b[0;34m\u001b[0m\u001b[0m\n\u001b[0m\u001b[1;32m     86\u001b[0m             \u001b[0mmanager_method\u001b[0m\u001b[0;34m.\u001b[0m\u001b[0m__name__\u001b[0m \u001b[0;34m=\u001b[0m \u001b[0mmethod\u001b[0m\u001b[0;34m.\u001b[0m\u001b[0m__name__\u001b[0m\u001b[0;34m\u001b[0m\u001b[0;34m\u001b[0m\u001b[0m\n\u001b[1;32m     87\u001b[0m             \u001b[0mmanager_method\u001b[0m\u001b[0;34m.\u001b[0m\u001b[0m__doc__\u001b[0m \u001b[0;34m=\u001b[0m \u001b[0mmethod\u001b[0m\u001b[0;34m.\u001b[0m\u001b[0m__doc__\u001b[0m\u001b[0;34m\u001b[0m\u001b[0;34m\u001b[0m\u001b[0m\n",
      "\u001b[0;32m~/Library/Caches/pypoetry/virtualenvs/alloff-backoffice-server-V9pDS2iq-py3.9/lib/python3.9/site-packages/django/db/models/query.py\u001b[0m in \u001b[0;36mget\u001b[0;34m(self, *args, **kwargs)\u001b[0m\n\u001b[1;32m    429\u001b[0m             \u001b[0mlimit\u001b[0m \u001b[0;34m=\u001b[0m \u001b[0mMAX_GET_RESULTS\u001b[0m\u001b[0;34m\u001b[0m\u001b[0;34m\u001b[0m\u001b[0m\n\u001b[1;32m    430\u001b[0m             \u001b[0mclone\u001b[0m\u001b[0;34m.\u001b[0m\u001b[0mquery\u001b[0m\u001b[0;34m.\u001b[0m\u001b[0mset_limits\u001b[0m\u001b[0;34m(\u001b[0m\u001b[0mhigh\u001b[0m\u001b[0;34m=\u001b[0m\u001b[0mlimit\u001b[0m\u001b[0;34m)\u001b[0m\u001b[0;34m\u001b[0m\u001b[0;34m\u001b[0m\u001b[0m\n\u001b[0;32m--> 431\u001b[0;31m         \u001b[0mnum\u001b[0m \u001b[0;34m=\u001b[0m \u001b[0mlen\u001b[0m\u001b[0;34m(\u001b[0m\u001b[0mclone\u001b[0m\u001b[0;34m)\u001b[0m\u001b[0;34m\u001b[0m\u001b[0;34m\u001b[0m\u001b[0m\n\u001b[0m\u001b[1;32m    432\u001b[0m         \u001b[0;32mif\u001b[0m \u001b[0mnum\u001b[0m \u001b[0;34m==\u001b[0m \u001b[0;36m1\u001b[0m\u001b[0;34m:\u001b[0m\u001b[0;34m\u001b[0m\u001b[0;34m\u001b[0m\u001b[0m\n\u001b[1;32m    433\u001b[0m             \u001b[0;32mreturn\u001b[0m \u001b[0mclone\u001b[0m\u001b[0;34m.\u001b[0m\u001b[0m_result_cache\u001b[0m\u001b[0;34m[\u001b[0m\u001b[0;36m0\u001b[0m\u001b[0;34m]\u001b[0m\u001b[0;34m\u001b[0m\u001b[0;34m\u001b[0m\u001b[0m\n",
      "\u001b[0;32m~/Library/Caches/pypoetry/virtualenvs/alloff-backoffice-server-V9pDS2iq-py3.9/lib/python3.9/site-packages/django/db/models/query.py\u001b[0m in \u001b[0;36m__len__\u001b[0;34m(self)\u001b[0m\n\u001b[1;32m    260\u001b[0m \u001b[0;34m\u001b[0m\u001b[0m\n\u001b[1;32m    261\u001b[0m     \u001b[0;32mdef\u001b[0m \u001b[0m__len__\u001b[0m\u001b[0;34m(\u001b[0m\u001b[0mself\u001b[0m\u001b[0;34m)\u001b[0m\u001b[0;34m:\u001b[0m\u001b[0;34m\u001b[0m\u001b[0;34m\u001b[0m\u001b[0m\n\u001b[0;32m--> 262\u001b[0;31m         \u001b[0mself\u001b[0m\u001b[0;34m.\u001b[0m\u001b[0m_fetch_all\u001b[0m\u001b[0;34m(\u001b[0m\u001b[0;34m)\u001b[0m\u001b[0;34m\u001b[0m\u001b[0;34m\u001b[0m\u001b[0m\n\u001b[0m\u001b[1;32m    263\u001b[0m         \u001b[0;32mreturn\u001b[0m \u001b[0mlen\u001b[0m\u001b[0;34m(\u001b[0m\u001b[0mself\u001b[0m\u001b[0;34m.\u001b[0m\u001b[0m_result_cache\u001b[0m\u001b[0;34m)\u001b[0m\u001b[0;34m\u001b[0m\u001b[0;34m\u001b[0m\u001b[0m\n\u001b[1;32m    264\u001b[0m \u001b[0;34m\u001b[0m\u001b[0m\n",
      "\u001b[0;32m~/Library/Caches/pypoetry/virtualenvs/alloff-backoffice-server-V9pDS2iq-py3.9/lib/python3.9/site-packages/django/db/models/query.py\u001b[0m in \u001b[0;36m_fetch_all\u001b[0;34m(self)\u001b[0m\n\u001b[1;32m   1322\u001b[0m     \u001b[0;32mdef\u001b[0m \u001b[0m_fetch_all\u001b[0m\u001b[0;34m(\u001b[0m\u001b[0mself\u001b[0m\u001b[0;34m)\u001b[0m\u001b[0;34m:\u001b[0m\u001b[0;34m\u001b[0m\u001b[0;34m\u001b[0m\u001b[0m\n\u001b[1;32m   1323\u001b[0m         \u001b[0;32mif\u001b[0m \u001b[0mself\u001b[0m\u001b[0;34m.\u001b[0m\u001b[0m_result_cache\u001b[0m \u001b[0;32mis\u001b[0m \u001b[0;32mNone\u001b[0m\u001b[0;34m:\u001b[0m\u001b[0;34m\u001b[0m\u001b[0;34m\u001b[0m\u001b[0m\n\u001b[0;32m-> 1324\u001b[0;31m             \u001b[0mself\u001b[0m\u001b[0;34m.\u001b[0m\u001b[0m_result_cache\u001b[0m \u001b[0;34m=\u001b[0m \u001b[0mlist\u001b[0m\u001b[0;34m(\u001b[0m\u001b[0mself\u001b[0m\u001b[0;34m.\u001b[0m\u001b[0m_iterable_class\u001b[0m\u001b[0;34m(\u001b[0m\u001b[0mself\u001b[0m\u001b[0;34m)\u001b[0m\u001b[0;34m)\u001b[0m\u001b[0;34m\u001b[0m\u001b[0;34m\u001b[0m\u001b[0m\n\u001b[0m\u001b[1;32m   1325\u001b[0m         \u001b[0;32mif\u001b[0m \u001b[0mself\u001b[0m\u001b[0;34m.\u001b[0m\u001b[0m_prefetch_related_lookups\u001b[0m \u001b[0;32mand\u001b[0m \u001b[0;32mnot\u001b[0m \u001b[0mself\u001b[0m\u001b[0;34m.\u001b[0m\u001b[0m_prefetch_done\u001b[0m\u001b[0;34m:\u001b[0m\u001b[0;34m\u001b[0m\u001b[0;34m\u001b[0m\u001b[0m\n\u001b[1;32m   1326\u001b[0m             \u001b[0mself\u001b[0m\u001b[0;34m.\u001b[0m\u001b[0m_prefetch_related_objects\u001b[0m\u001b[0;34m(\u001b[0m\u001b[0;34m)\u001b[0m\u001b[0;34m\u001b[0m\u001b[0;34m\u001b[0m\u001b[0m\n",
      "\u001b[0;32m~/Library/Caches/pypoetry/virtualenvs/alloff-backoffice-server-V9pDS2iq-py3.9/lib/python3.9/site-packages/django/db/models/query.py\u001b[0m in \u001b[0;36m__iter__\u001b[0;34m(self)\u001b[0m\n\u001b[1;32m     49\u001b[0m         \u001b[0;31m# Execute the query. This will also fill compiler.select, klass_info,\u001b[0m\u001b[0;34m\u001b[0m\u001b[0;34m\u001b[0m\u001b[0;34m\u001b[0m\u001b[0m\n\u001b[1;32m     50\u001b[0m         \u001b[0;31m# and annotations.\u001b[0m\u001b[0;34m\u001b[0m\u001b[0;34m\u001b[0m\u001b[0;34m\u001b[0m\u001b[0m\n\u001b[0;32m---> 51\u001b[0;31m         \u001b[0mresults\u001b[0m \u001b[0;34m=\u001b[0m \u001b[0mcompiler\u001b[0m\u001b[0;34m.\u001b[0m\u001b[0mexecute_sql\u001b[0m\u001b[0;34m(\u001b[0m\u001b[0mchunked_fetch\u001b[0m\u001b[0;34m=\u001b[0m\u001b[0mself\u001b[0m\u001b[0;34m.\u001b[0m\u001b[0mchunked_fetch\u001b[0m\u001b[0;34m,\u001b[0m \u001b[0mchunk_size\u001b[0m\u001b[0;34m=\u001b[0m\u001b[0mself\u001b[0m\u001b[0;34m.\u001b[0m\u001b[0mchunk_size\u001b[0m\u001b[0;34m)\u001b[0m\u001b[0;34m\u001b[0m\u001b[0;34m\u001b[0m\u001b[0m\n\u001b[0m\u001b[1;32m     52\u001b[0m         select, klass_info, annotation_col_map = (compiler.select, compiler.klass_info,\n\u001b[1;32m     53\u001b[0m                                                   compiler.annotation_col_map)\n",
      "\u001b[0;32m~/Library/Caches/pypoetry/virtualenvs/alloff-backoffice-server-V9pDS2iq-py3.9/lib/python3.9/site-packages/django/db/models/sql/compiler.py\u001b[0m in \u001b[0;36mexecute_sql\u001b[0;34m(self, result_type, chunked_fetch, chunk_size)\u001b[0m\n\u001b[1;32m   1171\u001b[0m             \u001b[0mcursor\u001b[0m \u001b[0;34m=\u001b[0m \u001b[0mself\u001b[0m\u001b[0;34m.\u001b[0m\u001b[0mconnection\u001b[0m\u001b[0;34m.\u001b[0m\u001b[0mchunked_cursor\u001b[0m\u001b[0;34m(\u001b[0m\u001b[0;34m)\u001b[0m\u001b[0;34m\u001b[0m\u001b[0;34m\u001b[0m\u001b[0m\n\u001b[1;32m   1172\u001b[0m         \u001b[0;32melse\u001b[0m\u001b[0;34m:\u001b[0m\u001b[0;34m\u001b[0m\u001b[0;34m\u001b[0m\u001b[0m\n\u001b[0;32m-> 1173\u001b[0;31m             \u001b[0mcursor\u001b[0m \u001b[0;34m=\u001b[0m \u001b[0mself\u001b[0m\u001b[0;34m.\u001b[0m\u001b[0mconnection\u001b[0m\u001b[0;34m.\u001b[0m\u001b[0mcursor\u001b[0m\u001b[0;34m(\u001b[0m\u001b[0;34m)\u001b[0m\u001b[0;34m\u001b[0m\u001b[0;34m\u001b[0m\u001b[0m\n\u001b[0m\u001b[1;32m   1174\u001b[0m         \u001b[0;32mtry\u001b[0m\u001b[0;34m:\u001b[0m\u001b[0;34m\u001b[0m\u001b[0;34m\u001b[0m\u001b[0m\n\u001b[1;32m   1175\u001b[0m             \u001b[0mcursor\u001b[0m\u001b[0;34m.\u001b[0m\u001b[0mexecute\u001b[0m\u001b[0;34m(\u001b[0m\u001b[0msql\u001b[0m\u001b[0;34m,\u001b[0m \u001b[0mparams\u001b[0m\u001b[0;34m)\u001b[0m\u001b[0;34m\u001b[0m\u001b[0;34m\u001b[0m\u001b[0m\n",
      "\u001b[0;32m~/Library/Caches/pypoetry/virtualenvs/alloff-backoffice-server-V9pDS2iq-py3.9/lib/python3.9/site-packages/django/utils/asyncio.py\u001b[0m in \u001b[0;36minner\u001b[0;34m(*args, **kwargs)\u001b[0m\n\u001b[1;32m     22\u001b[0m                 \u001b[0;32melse\u001b[0m\u001b[0;34m:\u001b[0m\u001b[0;34m\u001b[0m\u001b[0;34m\u001b[0m\u001b[0m\n\u001b[1;32m     23\u001b[0m                     \u001b[0;32mif\u001b[0m \u001b[0mevent_loop\u001b[0m\u001b[0;34m.\u001b[0m\u001b[0mis_running\u001b[0m\u001b[0;34m(\u001b[0m\u001b[0;34m)\u001b[0m\u001b[0;34m:\u001b[0m\u001b[0;34m\u001b[0m\u001b[0;34m\u001b[0m\u001b[0m\n\u001b[0;32m---> 24\u001b[0;31m                         \u001b[0;32mraise\u001b[0m \u001b[0mSynchronousOnlyOperation\u001b[0m\u001b[0;34m(\u001b[0m\u001b[0mmessage\u001b[0m\u001b[0;34m)\u001b[0m\u001b[0;34m\u001b[0m\u001b[0;34m\u001b[0m\u001b[0m\n\u001b[0m\u001b[1;32m     25\u001b[0m             \u001b[0;31m# Pass onwards.\u001b[0m\u001b[0;34m\u001b[0m\u001b[0;34m\u001b[0m\u001b[0;34m\u001b[0m\u001b[0m\n\u001b[1;32m     26\u001b[0m             \u001b[0;32mreturn\u001b[0m \u001b[0mfunc\u001b[0m\u001b[0;34m(\u001b[0m\u001b[0;34m*\u001b[0m\u001b[0margs\u001b[0m\u001b[0;34m,\u001b[0m \u001b[0;34m**\u001b[0m\u001b[0mkwargs\u001b[0m\u001b[0;34m)\u001b[0m\u001b[0;34m\u001b[0m\u001b[0;34m\u001b[0m\u001b[0m\n",
      "\u001b[0;31mSynchronousOnlyOperation\u001b[0m: You cannot call this from an async context - use a thread or sync_to_async."
     ]
    }
   ],
   "source": [
    "for _, row in df.iterrows():\n",
    "    print(\"--------------------------------------------------------------------------------\")\n",
    "    package_code = row[\"주문번호\"]\n",
    "    package = Package.objects.get(code=package_code)\n",
    "    print(row[\"주문번호\"], row[\"판매처 상품명\"], row[\"수령자이름\"])\n",
    "    for item in package.shipping_notice_items.all():\n",
    "        print(f\"\"\"ㄴ ORDER {item.item.extended_order.code} ({item.item.extended_order.order.payment.buyername}) : ITEM {item.item.product_code}\"\"\")\n",
    "len(df)"
   ]
  },
  {
   "cell_type": "code",
   "execution_count": 35,
   "id": "0064f2e8",
   "metadata": {},
   "outputs": [],
   "source": [
    "rows = table.find_all(\"tr\")"
   ]
  },
  {
   "cell_type": "code",
   "execution_count": 37,
   "id": "11617096",
   "metadata": {},
   "outputs": [
    {
     "data": {
      "text/plain": [
       "[<td style='font:bold 10pt \"굴림\"; white-space:nowrap; background:#CCFFCC;'>관리번호</td>,\n",
       " <td style='font:bold 10pt \"굴림\"; white-space:nowrap; background:#CCFFCC;'>판매처</td>,\n",
       " <td style='font:bold 10pt \"굴림\"; white-space:nowrap; background:#CCFFCC;'>주문번호</td>,\n",
       " <td style='font:bold 10pt \"굴림\"; white-space:nowrap; background:#CCFFCC;'>상태</td>,\n",
       " <td style='font:bold 10pt \"굴림\"; white-space:nowrap; background:#CCFFCC;'>CS</td>,\n",
       " <td style='font:bold 10pt \"굴림\"; white-space:nowrap; background:#CCFFCC;'>품절</td>,\n",
       " <td style='font:bold 10pt \"굴림\"; white-space:nowrap; background:#CCFFCC;'>사은품여부</td>,\n",
       " <td style='font:bold 10pt \"굴림\"; white-space:nowrap; background:#CCFFCC;'>배송 보류</td>,\n",
       " <td style='font:bold 10pt \"굴림\"; white-space:nowrap; background:#CCFFCC;'>선착불</td>,\n",
       " <td style='font:bold 10pt \"굴림\"; white-space:nowrap; background:#CCFFCC;'>상품코드</td>,\n",
       " <td style='font:bold 10pt \"굴림\"; white-space:nowrap; background:#CCFFCC;'>바코드</td>,\n",
       " <td style='font:bold 10pt \"굴림\"; white-space:nowrap; background:#CCFFCC;'>공급처</td>,\n",
       " <td style='font:bold 10pt \"굴림\"; white-space:nowrap; background:#CCFFCC;'>제조사</td>,\n",
       " <td style='font:bold 10pt \"굴림\"; white-space:nowrap; background:#CCFFCC;'>판매처 상품코드</td>,\n",
       " <td style='font:bold 10pt \"굴림\"; white-space:nowrap; background:#CCFFCC;'>상품명</td>,\n",
       " <td style='font:bold 10pt \"굴림\"; white-space:nowrap; background:#CCFFCC;'>옵션명</td>,\n",
       " <td style='font:bold 10pt \"굴림\"; white-space:nowrap; background:#CCFFCC;'>판매처 상품명</td>,\n",
       " <td style='font:bold 10pt \"굴림\"; white-space:nowrap; background:#CCFFCC;'>판매처 옵션</td>,\n",
       " <td style='font:bold 10pt \"굴림\"; white-space:nowrap; background:#CCFFCC;'>카테고리</td>,\n",
       " <td style='font:bold 10pt \"굴림\"; white-space:nowrap; background:#CCFFCC;'>주문수량</td>,\n",
       " <td style='font:bold 10pt \"굴림\"; white-space:nowrap; background:#CCFFCC;'>상품수량</td>,\n",
       " <td style='font:bold 10pt \"굴림\"; white-space:nowrap; background:#CCFFCC;'>판매가</td>,\n",
       " <td style='font:bold 10pt \"굴림\"; white-space:nowrap; background:#CCFFCC;'>정산금액</td>,\n",
       " <td style='font:bold 10pt \"굴림\"; white-space:nowrap; background:#CCFFCC;'>수수료</td>,\n",
       " <td style='font:bold 10pt \"굴림\"; white-space:nowrap; background:#CCFFCC;'>원가</td>,\n",
       " <td style='font:bold 10pt \"굴림\"; white-space:nowrap; background:#CCFFCC;'>원가합</td>,\n",
       " <td style='font:bold 10pt \"굴림\"; white-space:nowrap; background:#CCFFCC;'>공급가</td>,\n",
       " <td style='font:bold 10pt \"굴림\"; white-space:nowrap; background:#CCFFCC;'>총공급가</td>,\n",
       " <td style='font:bold 10pt \"굴림\"; white-space:nowrap; background:#CCFFCC;'>추가금액</td>,\n",
       " <td style='font:bold 10pt \"굴림\"; white-space:nowrap; background:#CCFFCC;'>주문일</td>,\n",
       " <td style='font:bold 10pt \"굴림\"; white-space:nowrap; background:#CCFFCC;'>주문시간</td>,\n",
       " <td style='font:bold 10pt \"굴림\"; white-space:nowrap; background:#CCFFCC;'>발주일</td>,\n",
       " <td style='font:bold 10pt \"굴림\"; white-space:nowrap; background:#CCFFCC;'>발주시간</td>,\n",
       " <td style='font:bold 10pt \"굴림\"; white-space:nowrap; background:#CCFFCC;'>송장입력일</td>,\n",
       " <td style='font:bold 10pt \"굴림\"; white-space:nowrap; background:#CCFFCC;'>송장번호</td>,\n",
       " <td style='font:bold 10pt \"굴림\"; white-space:nowrap; background:#CCFFCC;'>택배사</td>,\n",
       " <td style='font:bold 10pt \"굴림\"; white-space:nowrap; background:#CCFFCC;'>수령자우편번호</td>,\n",
       " <td style='font:bold 10pt \"굴림\"; white-space:nowrap; background:#CCFFCC;'>수령자주소</td>,\n",
       " <td style='font:bold 10pt \"굴림\"; white-space:nowrap; background:#CCFFCC;'>배송일</td>,\n",
       " <td style='font:bold 10pt \"굴림\"; white-space:nowrap; background:#CCFFCC;'>우선순위</td>,\n",
       " <td style='font:bold 10pt \"굴림\"; white-space:nowrap; background:#CCFFCC;'>주문자이름</td>,\n",
       " <td style='font:bold 10pt \"굴림\"; white-space:nowrap; background:#CCFFCC;'>주문자전화</td>,\n",
       " <td style='font:bold 10pt \"굴림\"; white-space:nowrap; background:#CCFFCC;'>주문자휴대폰</td>,\n",
       " <td style='font:bold 10pt \"굴림\"; white-space:nowrap; background:#CCFFCC;'>수령자이름</td>,\n",
       " <td style='font:bold 10pt \"굴림\"; white-space:nowrap; background:#CCFFCC;'>수령자전화</td>,\n",
       " <td style='font:bold 10pt \"굴림\"; white-space:nowrap; background:#CCFFCC;'>수령자휴대폰</td>,\n",
       " <td style='font:bold 10pt \"굴림\"; white-space:nowrap; background:#CCFFCC;'>배송메모</td>,\n",
       " <td style='font:bold 10pt \"굴림\"; white-space:nowrap; background:#CCFFCC;'>공급처 상품명</td>,\n",
       " <td style='font:bold 10pt \"굴림\"; white-space:nowrap; background:#CCFFCC;'>공급처 옵션명</td>,\n",
       " <td style='font:bold 10pt \"굴림\"; white-space:nowrap; background:#CCFFCC;'>상품 택배비</td>,\n",
       " <td style='font:bold 10pt \"굴림\"; white-space:nowrap; background:#CCFFCC;'>로케이션</td>,\n",
       " <td style='font:bold 10pt \"굴림\"; white-space:nowrap; background:#CCFFCC;'>중량</td>,\n",
       " <td style='font:bold 10pt \"굴림\"; white-space:nowrap; background:#CCFFCC;'>코드1</td>,\n",
       " <td style='font:bold 10pt \"굴림\"; white-space:nowrap; background:#CCFFCC;'>코드2</td>,\n",
       " <td style='font:bold 10pt \"굴림\"; white-space:nowrap; background:#CCFFCC;'>원산지</td>,\n",
       " <td style='font:bold 10pt \"굴림\"; white-space:nowrap; background:#CCFFCC;'>결제수단</td>,\n",
       " <td style='font:bold 10pt \"굴림\"; white-space:nowrap; background:#CCFFCC;'>주문상세번호</td>,\n",
       " <td style='font:bold 10pt \"굴림\"; white-space:nowrap; background:#CCFFCC;'>주문자 id</td>,\n",
       " <td style='font:bold 10pt \"굴림\"; white-space:nowrap; background:#CCFFCC;'>선결제 금액</td>,\n",
       " <td style='font:bold 10pt \"굴림\"; white-space:nowrap; background:#CCFFCC;'>취소교환사유</td>]"
      ]
     },
     "execution_count": 37,
     "metadata": {},
     "output_type": "execute_result"
    }
   ],
   "source": [
    "rows[0].find_all(\"td\")"
   ]
  },
  {
   "cell_type": "code",
   "execution_count": null,
   "id": "b862c25e",
   "metadata": {},
   "outputs": [],
   "source": []
  }
 ],
 "metadata": {
  "kernelspec": {
   "display_name": "Django Shell-Plus",
   "language": "python",
   "name": "django_extensions"
  },
  "language_info": {
   "codemirror_mode": {
    "name": "ipython",
    "version": 3
   },
   "file_extension": ".py",
   "mimetype": "text/x-python",
   "name": "python",
   "nbconvert_exporter": "python",
   "pygments_lexer": "ipython3",
   "version": "3.9.6"
  }
 },
 "nbformat": 4,
 "nbformat_minor": 5
}
