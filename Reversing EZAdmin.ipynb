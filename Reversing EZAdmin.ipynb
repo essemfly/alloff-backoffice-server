{
 "cells": [
  {
   "cell_type": "code",
   "execution_count": 1,
   "id": "68d2c3d7",
   "metadata": {},
   "outputs": [],
   "source": [
    "import pandas as pd\n",
    "import xlrd, xlwt"
   ]
  },
  {
   "cell_type": "code",
   "execution_count": 3,
   "id": "b00bd3d5",
   "metadata": {},
   "outputs": [],
   "source": [
    "wb = xlrd.open_workbook_xls(\"../Downloads/basic 211117.xls\")"
   ]
  },
  {
   "cell_type": "code",
   "execution_count": 4,
   "id": "07e8ea44",
   "metadata": {},
   "outputs": [
    {
     "data": {
      "text/plain": [
       "<xlrd.book.Book at 0x12d588bb0>"
      ]
     },
     "execution_count": 4,
     "metadata": {},
     "output_type": "execute_result"
    }
   ],
   "source": [
    "wb"
   ]
  },
  {
   "cell_type": "code",
   "execution_count": 8,
   "id": "dffc048e",
   "metadata": {},
   "outputs": [],
   "source": [
    "ws = wb.sheets()[0]"
   ]
  },
  {
   "cell_type": "code",
   "execution_count": 11,
   "id": "0ac8d62b",
   "metadata": {},
   "outputs": [
    {
     "name": "stdout",
     "output_type": "stream",
     "text": [
      "[text:'주문번호', text:'주문일', text:'수령자명', text:'수령자 우편번호', text:'수령자 연락처', text:'수령자주소', text:'상품명', text:'옵션명', text:'수량', text:'배송메모', text:'박스타입']\n",
      "[text:'PKG-211117-4U', text:'2021/11/17', text:'강영순 ', text:'63101', text:'010-2690-4085', text:'제주특별자치도 제주시 수덕로 44 201동802호', text:'[빈폴스포츠] (MEN) 듀얼 구스 다운 점퍼(네이비) ', text:'100', number:1.0, text:'부재 시 집 앞에 놔주세요.', text:'소']\n",
      "[text:'PKG-211117-6M', text:'2021/11/17', text:'구춘화', text:'05831', text:'010-2866-6180', text:'서울 송파구 송파대로 220 102동 310호', text:'[빈폴스포츠] 리브 퀄팅 구스 다운 점퍼(블랙) ', text:'95', number:1.0, empty:'', text:'소']\n",
      "[text:'PKG-211117-6J', text:'2021/11/17', text:'권지연', text:'28387', text:'010-3539-4227', text:'충북 청주시 서원구 대림로 493 305동1105호', text:'[빈폴스포츠] (MEN) 올라운더 보아 구스 롱 다운', text:'95', number:1.0, text:'문앞', text:'소']\n",
      "[text:'PKG-211117-6K', text:'2021/11/17', text:'김기량', text:'41451', text:'010-2701-7776', text:'대구 북구 영송로 70 2층 큐티샵 ', text:'[택 제거 상품] Teca', text:'42', number:1.0, text:'배송 전에 미리 연락 바랍니다.', text:'소']\n",
      "[text:'PKG-211117-7D', text:'2021/11/17', text:'김나나', text:'16543', text:'010-2747-9396', text:'경기 수원시 영통구 효원로 363 113-1701', text:'[빈폴스포츠] (MEN) 올라운더 보아 구스 롱 다운', text:'95', number:1.0, text:'부재 시 집 앞에 놔주세요.', text:'소']\n",
      "[text:'PKG-211117-4L', text:'2021/11/17', text:'김미선 ', text:'06544', text:'010-9150-3609', text:'서울 서초구 신반포로 270 반포자아파트   137~1601', text:'[로렌 랄프로렌] 프린티드 터틀넥 탑', text:'M(66)', number:1.0, text:'부재 시 집 앞에 놔주세요.', text:'소']\n",
      "[text:'PKG-211117-43', text:'2021/11/17', text:'김정임', text:'03966', text:'010-4792-3049', text:'서울 마포구 성산로4길 75 206호', text:'벨티드 후드 구스다운 점퍼', text:'88(66) ', number:1.0, text:'배송 전에 미리 연락 바랍니다.', text:'소']\n",
      "[text:'PKG-211117-QK', text:'2021/11/17', text:'김현주', text:'15815', text:'010-3213-0564', text:'경기 군포시 금산로 91 120동 3301호', text:'[빈폴스포츠] 리브 퀄팅 구스 다운 점퍼(블랙) ', text:'95', number:1.0, empty:'', text:'소']\n",
      "[text:'PKG-211117-4V', text:'2021/11/17', text:'김희경', text:'22839', text:'010-6242-3658', text:'인천 서구 염곡로 26 린나이인천물류센터 ', text:'[Weekend MaxMara] PATNER(Camel)', text:'42', number:1.0, text:'배송 전에 미리 연락 바랍니다.', text:'소']\n",
      "[text:'PKG-211117-VF', text:'2021/11/17', text:'손경희', text:'03709', text:'010-9506-3680', text:'서울 서대문구 가재울미래로 2 DMC파크뷰자이 130동 2404호', text:'언밸런스 니트 롱 드레스 ', text:'76(44) ', number:1.0, empty:'', text:'소']\n",
      "[text:'PKG-211117-C3', text:'2021/11/17', text:'오현숙', text:'10893', text:'010-5564-0731', text:'경기 파주시 해솔로 20 410동 103호', text:'[빈폴스포츠] (MEN) 푸퍼 다운 점퍼(블랙) ', text:'90', number:1.0, empty:'', text:'소']\n",
      "[text:'PKG-211117-4N', text:'2021/11/17', text:'이다래', text:'11133', text:'010-3006-1280', text:'경기 포천시 창수면 창동로 205-66  ', text:'오버사이즈 헤링본 싱글 자켓 ', text:'55', number:1.0, empty:'', text:'소']\n",
      "[text:'PKG-211117-DA', text:'2021/11/17', text:'이지오', text:'05628', text:'010-9358-3587', text:'서울 송파구 백제고분로50길 29-14 301호', text:'[빈폴스포츠] 리브 퀄팅 구스 다운 점퍼(화이트) ', text:'90', number:1.0, empty:'', text:'소']\n",
      "[text:'PKG-211117-6P', text:'2021/11/17', text:'인지현', text:'10597', text:'010-9437-3922', text:'경기 고양시 덕양구 세솔로 25 호반베르디움2216동902호', text:'클래식 롱 다운 코트 ', text:'95', number:1.0, text:'부재 시 집 앞에 놔주세요.', text:'소']\n",
      "[text:'PKG-211117-6V', text:'2021/11/17', text:'장정임', text:'05738', text:'010-3302-5953', text:'서울 송파구 성내천로 103 101동 2803호 ', text:'[빈폴스포츠] (MEN) 올라운더 보아 구스 롱 다운', text:'100', number:1.0, text:'부재 시 집 앞에 놔주세요.', text:'소']\n",
      "[text:'PKG-211117-6T', text:'2021/11/17', text:'정지영', text:'62004', text:'010-3620-9940', text:'광주 서구 금호운천길 43 코아루아파트 105-403 ', text:'[MaxMara] WSDALIA', text:'one size', number:1.0, text:'부재 시 집 앞에 놔주세요.', text:'소']\n",
      "[text:'PKG-211117-6B', text:'2021/11/17', text:'한신경', text:'01913', text:'010-5544-6146', text:'서울 노원구 마들로 31 119동 1501호', text:'[빈폴스포츠] (MEN) 포켓 구스 점퍼(아이보리)  ', text:'100 ', number:1.0, empty:'', text:'소']\n",
      "[text:'PKG-211117-QX', text:'2021/11/17', text:'한윤경', text:'54952', text:'010-8223-0130', text:'전북 전주시 완산구 서신천변9길 7-3 서문빌라 4층 관리실 ', text:'벨티드 후드 푸퍼 다운점퍼(카키)', text:'90', number:1.0, empty:'', text:'소']\n",
      "[text:'PKG-211117-4J', text:'2021/11/17', text:'허윤정', text:'05247', text:'010-4290-0019', text:'서울 강동구 구천면로14길 3 3츠', text:'[빈폴스포츠] (MEN) 포켓 구스 점퍼(아이보리)  ', text:'100 ', number:1.0, empty:'', text:'소']\n"
     ]
    }
   ],
   "source": [
    "for row in ws.get_rows():\n",
    "    print(row)"
   ]
  },
  {
   "cell_type": "code",
   "execution_count": 12,
   "id": "9c1d3d81",
   "metadata": {},
   "outputs": [],
   "source": [
    "wb = xlwt.Workbook()"
   ]
  },
  {
   "cell_type": "code",
   "execution_count": 13,
   "id": "02e2ece5",
   "metadata": {},
   "outputs": [],
   "source": [
    "ws = wb.add_sheet(\"Sheet1\")"
   ]
  },
  {
   "cell_type": "code",
   "execution_count": 14,
   "id": "9503d52c",
   "metadata": {},
   "outputs": [
    {
     "data": {
      "text/plain": [
       "<xlwt.Worksheet.Worksheet at 0x131799b20>"
      ]
     },
     "execution_count": 14,
     "metadata": {},
     "output_type": "execute_result"
    }
   ],
   "source": [
    "ws."
   ]
  },
  {
   "cell_type": "code",
   "execution_count": 11,
   "id": "3771dc4c",
   "metadata": {},
   "outputs": [
    {
     "ename": "TypeError",
     "evalue": "'Workbook' object is not subscriptable",
     "output_type": "error",
     "traceback": [
      "\u001b[0;31m---------------------------------------------------------------------------\u001b[0m",
      "\u001b[0;31mTypeError\u001b[0m                                 Traceback (most recent call last)",
      "\u001b[0;32m/var/folders/gn/z090n3wn6bj0y949f1kjzy940000gn/T/ipykernel_26426/51168277.py\u001b[0m in \u001b[0;36m<module>\u001b[0;34m\u001b[0m\n\u001b[0;32m----> 1\u001b[0;31m \u001b[0mwb\u001b[0m\u001b[0;34m[\u001b[0m\u001b[0;36m0\u001b[0m\u001b[0;34m]\u001b[0m\u001b[0;34m\u001b[0m\u001b[0;34m\u001b[0m\u001b[0m\n\u001b[0m",
      "\u001b[0;31mTypeError\u001b[0m: 'Workbook' object is not subscriptable"
     ]
    }
   ],
   "source": [
    "wb[0]"
   ]
  },
  {
   "cell_type": "code",
   "execution_count": null,
   "id": "c3d3dcec",
   "metadata": {},
   "outputs": [],
   "source": []
  }
 ],
 "metadata": {
  "kernelspec": {
   "display_name": "Django Shell-Plus",
   "language": "python",
   "name": "django_extensions"
  },
  "language_info": {
   "codemirror_mode": {
    "name": "ipython",
    "version": 3
   },
   "file_extension": ".py",
   "mimetype": "text/x-python",
   "name": "python",
   "nbconvert_exporter": "python",
   "pygments_lexer": "ipython3",
   "version": "3.9.6"
  }
 },
 "nbformat": 4,
 "nbformat_minor": 5
}
