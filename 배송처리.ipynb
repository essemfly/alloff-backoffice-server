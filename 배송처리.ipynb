{
 "cells": [
  {
   "cell_type": "code",
   "execution_count": 5,
   "id": "20276e30",
   "metadata": {},
   "outputs": [],
   "source": [
    "from tagger.models.received_item import ReceivedItem, ReceivedItemStatus\n",
    "from tagger.core.mongo.models.order import OrderCodeMap, Order, OrderStatus\n",
    "from tagger.viewsets.order.change_status import ChangeStatusSerializer, _change_status\n",
    "from django.contrib.auth.models import User\n",
    "from tagger.models.inventory import Inventory, InventoryStatus\n",
    "\n",
    "import os\n",
    "import django\n",
    "os.environ.setdefault('DJANGO_SETTINGS_MODULE', 'rest.settings')\n",
    "os.environ[\"DJANGO_ALLOW_ASYNC_UNSAFE\"] = \"true\"\n",
    "django.setup()\n",
    "import pandas as pd\n",
    "\n",
    "def split_codes(raw_codes):\n",
    "    codes = []\n",
    "    cursor = 0\n",
    "    while cursor < len(raw_codes):\n",
    "        codes.append(raw_codes[cursor: cursor + 5])\n",
    "        cursor = cursor + 5\n",
    "    return codes"
   ]
  },
  {
   "cell_type": "code",
   "execution_count": 2,
   "id": "97486130",
   "metadata": {},
   "outputs": [
    {
     "name": "stdout",
     "output_type": "stream",
     "text": [
      "ABC01 Wool and cashmere cardigan(Camel beige) 이남이\n",
      "CHLVA 래시 프린지 캐시미어 울 머플러 정희리ㅣ\n",
      "UCJ4A 래시 프린지 캐시미어 울 머플러 손소명\n",
      "3WF6L [재입고] 래시 프린지 캐시미어 울 머플러 조하은\n",
      "M36BC 체크 트위드 자켓 최하림\n",
      "UEA8Q 후드 배색 니트 드레스 남도연\n",
      "D7G6K 컬러 블록 스웻셔츠(스모크 블루) 최부영\n",
      "DTX3E 언밸런스 니트 스커트 이나래\n",
      "XGJN3 백 플랩 니트 드레스(COCOA) 김혜경\n",
      "K493A 알파카 니트 드레스(WHITENED PINK) 정혜영\n",
      "DWNMC 캐시미어 하이넥 니트 김지현(박숙연)\n",
      "PPCCU 라벨링 롱 코트 유연주\n",
      "N7PMH 언밸런스 울 스커트 원혜림\n",
      "WFUNM 핸드메이드 캐시미어 코트 (그레이) 나춘영\n",
      "963Y8 숄 블록 니트 탑 고서현\n"
     ]
    }
   ],
   "source": [
    "with open(\"../Downloads/확장주문검색_20211108_161813.xlsx\", \"rb\") as f:\n",
    "    df = pd.read_excel(f, dtype=str)\n",
    "    df.dropna(subset=[\"주문번호\"], inplace=True)\n",
    "    for _, row in df.iterrows():\n",
    "        print(row[\"주문번호\"], row[\"판매처 상품명\"], row[\"수령자이름\"])"
   ]
  },
  {
   "cell_type": "code",
   "execution_count": 3,
   "id": "5b0fe085",
   "metadata": {},
   "outputs": [
    {
     "name": "stdout",
     "output_type": "stream",
     "text": [
      "https://office.alloff.co/orders/616bfc4c17fc2e5a1f9e8d24 이남이\n",
      "https://office.alloff.co/orders/617ea9be17fc2e5a1f9eb1c9 정희리ㅣ\n",
      "https://office.alloff.co/orders/617f434f17fc2e5a1f9eb207 손소명\n",
      "https://office.alloff.co/orders/617f7f0817fc2e5a1f9eb240 조하은\n",
      "https://office.alloff.co/orders/6180623717fc2e5a1f9eb433 최하림\n",
      "https://office.alloff.co/orders/6180fe1b26685ff051754c57 남도연\n",
      "https://office.alloff.co/orders/618106f426685ff051754c79 최부영\n",
      "https://office.alloff.co/orders/618116fc26685ff051754ca1 이나래\n",
      "https://office.alloff.co/orders/618263b826685ff051754f24 김혜경 \n",
      "https://office.alloff.co/orders/61826e1926685ff051754f4d 정혜영\n",
      "https://office.alloff.co/orders/6183a51926685ff05175516b 김지현<박숙연>\n",
      "https://office.alloff.co/orders/61840ba426685ff05175532a 유연주\n",
      "https://office.alloff.co/orders/6185270426685ff051755530 원혜림\n",
      "https://office.alloff.co/orders/6185735326685ff0517555d8 나춘영\n",
      "https://office.alloff.co/orders/6188765726685ff051755a57 고서현\n"
     ]
    }
   ],
   "source": [
    "for _, row in df.iterrows():\n",
    "    codes = split_codes(row[\"주문번호\"])\n",
    "    tracking_no = f\"{row['택배사']} {row['송장번호']}\"\n",
    "    tracking_url = f\"https://search.naver.com/search.naver?query={tracking_no}\"\n",
    "    for code in codes:\n",
    "        code_map = OrderCodeMap.objects(code=f\"ORD-{code}\").first()\n",
    "        orderid = str(code_map.orderid)\n",
    "        order = Order.objects.get(id=orderid)\n",
    "        s = ChangeStatusSerializer(data={\n",
    "            \"status\": OrderStatus.DELIVERY_STARTED,\n",
    "            \"delivery_tracking_number\": tracking_no,\n",
    "            \"delivery_tracking_url\": tracking_url,\n",
    "        }, instance=order)\n",
    "        s.is_valid(raise_exception=True)\n",
    "        _change_status(s, order, User.objects.get(username=\"backoffice_server\"), id=orderid)\n",
    "        print(f\"https://office.alloff.co/orders/{orderid}\", order.get_payment().buyername)"
   ]
  },
  {
   "cell_type": "code",
   "execution_count": 6,
   "id": "f910718c",
   "metadata": {},
   "outputs": [
    {
     "name": "stdout",
     "output_type": "stream",
     "text": [
      "ORD-ABC01 (616bfc4c17fc2e5a1f9e8d24) - Wool and cashmere cardigan(Camel beige) has been shipped!\n",
      "ORD-CHLVA (617ea9be17fc2e5a1f9eb1c9) - 래시 프린지 캐시미어 울 머플러 has been shipped!\n",
      "ORD-UCJ4A (617f434f17fc2e5a1f9eb207) - 래시 프린지 캐시미어 울 머플러 has been shipped!\n",
      "ORD-3WF6L (617f7f0817fc2e5a1f9eb240) - [재입고] 래시 프린지 캐시미어 울 머플러 has been shipped!\n",
      "ORD-M36BC (6180623717fc2e5a1f9eb433) - 체크 트위드 자켓  has been shipped!\n",
      "ORD-UEA8Q (6180fe1b26685ff051754c57) - 후드 배색 니트 드레스  has been shipped!\n",
      "ORD-D7G6K (618106f426685ff051754c79) - 컬러 블록 스웻셔츠(스모크 블루) has been shipped!\n",
      "ORD-DTX3E (618116fc26685ff051754ca1) - 언밸런스 니트 스커트  has been shipped!\n",
      "ORD-XGJN3 (618263b826685ff051754f24) - 백 플랩 니트 드레스(COCOA) has been shipped!\n",
      "ORD-K493A (61826e1926685ff051754f4d) - 알파카 니트 드레스(WHITENED PINK) has been shipped!\n",
      "ORD-DWNMC (6183a51926685ff05175516b) - 캐시미어 하이넥 니트  has been shipped!\n",
      "ORD-PPCCU (61840ba426685ff05175532a) - 라벨링 롱 코트  has been shipped!\n",
      "ORD-N7PMH (6185270426685ff051755530) - 언밸런스 울 스커트  has been shipped!\n",
      "ORD-WFUNM (6185735326685ff0517555d8) - 핸드메이드 캐시미어 코트 has been shipped!\n",
      "ORD-963Y8 (6188765726685ff051755a57) - 숄 블록 니트 탑  has been shipped!\n"
     ]
    }
   ],
   "source": [
    "for _, row in df.iterrows():\n",
    "    codes = split_codes(row[\"주문번호\"])\n",
    "    for code in codes:\n",
    "        order = Order.get_by_code(code)\n",
    "        if order is not None:\n",
    "            inventories = Inventory.objects.filter(status=InventoryStatus.SHIPPING_PENDING, out_order_id=str(order.id)).all()\n",
    "            for i in inventories:\n",
    "                print(f\"\"\"{order.code} ({order.id}) - {i.product_name} has been shipped!\"\"\")\n",
    "                i.status = InventoryStatus.SHIPPED\n",
    "                i.save()"
   ]
  },
  {
   "cell_type": "markdown",
   "id": "4330535b",
   "metadata": {},
   "source": []
  },
  {
   "cell_type": "code",
   "execution_count": 6,
   "id": "84b84ff7",
   "metadata": {},
   "outputs": [],
   "source": []
  },
  {
   "cell_type": "code",
   "execution_count": 9,
   "id": "a9951f11",
   "metadata": {},
   "outputs": [
    {
     "data": {
      "text/plain": [
       "True"
      ]
     },
     "execution_count": 9,
     "metadata": {},
     "output_type": "execute_result"
    }
   ],
   "source": []
  },
  {
   "cell_type": "code",
   "execution_count": null,
   "id": "82ee01dd",
   "metadata": {},
   "outputs": [],
   "source": []
  }
 ],
 "metadata": {
  "kernelspec": {
   "display_name": "Django Shell-Plus",
   "language": "python",
   "name": "django_extensions"
  },
  "language_info": {
   "codemirror_mode": {
    "name": "ipython",
    "version": 3
   },
   "file_extension": ".py",
   "mimetype": "text/x-python",
   "name": "python",
   "nbconvert_exporter": "python",
   "pygments_lexer": "ipython3",
   "version": "3.9.6"
  }
 },
 "nbformat": 4,
 "nbformat_minor": 5
}
