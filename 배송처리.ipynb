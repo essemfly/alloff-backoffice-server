{
 "cells": [
  {
   "cell_type": "code",
   "execution_count": 2,
   "id": "20276e30",
   "metadata": {},
   "outputs": [],
   "source": [
    "from tagger.models.received_item import ReceivedItem, ReceivedItemStatus\n",
    "from tagger.core.mongo.models.order import Order, OrderStatus\n",
    "from tagger.viewsets.order.change_status import ChangeStatusSerializer, _change_status\n",
    "from django.contrib.auth.models import User\n",
    "from tagger.models.inventory import Inventory, InventoryStatus\n",
    "from tagger.models import ShippingNotice, Package, Courier\n",
    "from tagger.models.package import PackageStatus\n",
    "\n",
    "import os\n",
    "import django\n",
    "os.environ.setdefault('DJANGO_SETTINGS_MODULE', 'rest.settings')\n",
    "os.environ[\"DJANGO_ALLOW_ASYNC_UNSAFE\"] = \"true\"\n",
    "django.setup()\n",
    "import pandas as pd\n",
    "\n",
    "courier = Courier.objects.get(name=\"CJ대한통운\")"
   ]
  },
  {
   "cell_type": "code",
   "execution_count": 4,
   "id": "97486130",
   "metadata": {},
   "outputs": [
    {
     "name": "stdout",
     "output_type": "stream",
     "text": [
      "--------------------------------------------------------------------------------\n",
      "PKG-211117-QX 벨티드 후드 푸퍼 다운점퍼(카키) 한윤경\n",
      "ㄴ ORDER 4G3DC (한윤경) : ITEM BEANPOLEL___벨티드후드푸퍼다운점퍼(카키)___90\n",
      "--------------------------------------------------------------------------------\n",
      "PKG-211117-4J [빈폴스포츠] (MEN) 포켓 구스 점퍼(아이보리) 허윤정\n",
      "ㄴ ORDER FDVPK (허윤정) : ITEM BEANPOLEL___[빈폴스포츠](MEN)포켓구스점퍼(아이보리)___100\n",
      "--------------------------------------------------------------------------------\n",
      "PKG-211117-4U [빈폴스포츠] (MEN) 듀얼 구스 다운 점퍼(네이비) 강영순\n",
      "ㄴ ORDER AYQDL (강영순 ) : ITEM BEANPOLEL___[빈폴스포츠](MEN)듀얼구스다운점퍼(네이비)___100\n",
      "--------------------------------------------------------------------------------\n",
      "PKG-211117-6M [빈폴스포츠] 리브 퀄팅 구스 다운 점퍼(블랙) 구춘화\n",
      "ㄴ ORDER QYKDV (구춘화) : ITEM BEANPOLEL___[빈폴스포츠]리브퀄팅구스다운점퍼(블랙)___95\n",
      "--------------------------------------------------------------------------------\n",
      "PKG-211117-6J [빈폴스포츠] (MEN) 올라운더 보아 구스 롱 다운 권지연\n",
      "ㄴ ORDER AWCN6 (권지연) : ITEM BEANPOLEL___[빈폴스포츠](MEN)올라운더보아구스롱다운___95\n",
      "--------------------------------------------------------------------------------\n",
      "PKG-211117-6K [택 제거 상품] Teca 김기량\n",
      "ㄴ ORDER CXG8M (김기량) : ITEM MAXMARA___[택제거상품]Teca___42\n",
      "--------------------------------------------------------------------------------\n",
      "PKG-211117-7D [빈폴스포츠] (MEN) 올라운더 보아 구스 롱 다운 김나나\n",
      "ㄴ ORDER FMF3M (김나나) : ITEM BEANPOLEL___[빈폴스포츠](MEN)올라운더보아구스롱다운___95\n",
      "--------------------------------------------------------------------------------\n",
      "PKG-211117-4L [로렌 랄프로렌] 프린티드 터틀넥 탑 김미선\n",
      "ㄴ ORDER FH8AC (김미선 ) : ITEM POLO___[로렌랄프로렌]프린티드터틀넥탑___M(66)\n",
      "--------------------------------------------------------------------------------\n",
      "PKG-211117-43 벨티드 후드 구스다운 점퍼 김정임\n",
      "ㄴ ORDER LUWWM (김정임) : ITEM SYSTEM___벨티드후드구스다운점퍼___88(66)\n",
      "--------------------------------------------------------------------------------\n",
      "PKG-211117-QK [빈폴스포츠] 리브 퀄팅 구스 다운 점퍼(블랙) 김현주\n",
      "ㄴ ORDER AJRYB (김현주) : ITEM BEANPOLEL___[빈폴스포츠]리브퀄팅구스다운점퍼(블랙)___95\n",
      "--------------------------------------------------------------------------------\n",
      "PKG-211117-4V [Weekend MaxMara] PATNER(Camel) 김희경\n",
      "ㄴ ORDER NPYXY (김희경) : ITEM MAXMARA___[WeekendMaxMara]PATNER(Camel)___42\n",
      "--------------------------------------------------------------------------------\n",
      "PKG-211117-VF 언밸런스 니트 롱 드레스 손경희\n",
      "ㄴ ORDER 33VUR (손경희) : ITEM SJSJ___언밸런스니트롱드레스___76(44)\n",
      "--------------------------------------------------------------------------------\n",
      "PKG-211117-C3 [빈폴스포츠] (MEN) 푸퍼 다운 점퍼(블랙) 오현숙\n",
      "ㄴ ORDER T4CKJ (오현숙) : ITEM BEANPOLEL___[빈폴스포츠](MEN)푸퍼다운점퍼(블랙)___90\n",
      "--------------------------------------------------------------------------------\n",
      "PKG-211117-4N 오버사이즈 헤링본 싱글 자켓 이다래\n",
      "ㄴ ORDER X3KAU (이다래) : ITEM CCCOLLECT___오버사이즈헤링본싱글자켓___55\n",
      "--------------------------------------------------------------------------------\n",
      "PKG-211117-DA [빈폴스포츠] 리브 퀄팅 구스 다운 점퍼(화이트) 이지오\n",
      "ㄴ ORDER JCXXL (이지오) : ITEM BEANPOLEL___[빈폴스포츠]리브퀄팅구스다운점퍼(화이트)___90\n",
      "--------------------------------------------------------------------------------\n",
      "PKG-211117-6P 클래식 롱 다운 코트 인지현\n",
      "ㄴ ORDER QCPKK (인지현) : ITEM BEANPOLEL___클래식롱다운코트___95\n",
      "--------------------------------------------------------------------------------\n",
      "PKG-211117-6V [빈폴스포츠] (MEN) 올라운더 보아 구스 롱 다운 장정임\n",
      "ㄴ ORDER X7XYW (장정임) : ITEM BEANPOLEL___[빈폴스포츠](MEN)올라운더보아구스롱다운___100\n",
      "--------------------------------------------------------------------------------\n",
      "PKG-211117-6T [MaxMara] WSDALIA 정지영\n",
      "ㄴ ORDER KYQTB (정지영) : ITEM MAXMARA___[MaxMara]WSDALIA___onesize\n",
      "--------------------------------------------------------------------------------\n",
      "PKG-211117-6B [빈폴스포츠] (MEN) 포켓 구스 점퍼(아이보리) 한신경\n",
      "ㄴ ORDER MXNGV (한신경) : ITEM BEANPOLEL___[빈폴스포츠](MEN)포켓구스점퍼(아이보리)___100\n"
     ]
    }
   ],
   "source": [
    "with open(\"../Downloads/확장주문검색_20211117_154740.xlsx\", \"rb\") as f:\n",
    "    df = pd.read_excel(f, dtype=str)\n",
    "    df.dropna(subset=[\"주문번호\"], inplace=True)\n",
    "    for _, row in df.iterrows():\n",
    "        print(\"--------------------------------------------------------------------------------\")\n",
    "        package_code = row[\"주문번호\"]\n",
    "        package = Package.objects.get(code=package_code)\n",
    "        print(row[\"주문번호\"], row[\"판매처 상품명\"], row[\"수령자이름\"])\n",
    "        for item in package.shipping_notice_items.all():\n",
    "            print(f\"\"\"ㄴ ORDER {item.item.extended_order.code} ({item.item.extended_order.order.payment.buyername}) : ITEM {item.item.product_code}\"\"\")"
   ]
  },
  {
   "cell_type": "code",
   "execution_count": 21,
   "id": "5b0fe085",
   "metadata": {},
   "outputs": [
    {
     "name": "stderr",
     "output_type": "stream",
     "text": [
      "/Users/stephenj/Library/Caches/pypoetry/virtualenvs/alloff-backoffice-server-V9pDS2iq-py3.9/lib/python3.9/site-packages/django/db/models/fields/__init__.py:1416: RuntimeWarning: DateTimeField Package.shipped_at received a naive datetime (2021-11-17 07:10:36.981281) while time zone support is active.\n",
      "  warnings.warn(\"DateTimeField %s received a naive datetime (%s)\"\n"
     ]
    },
    {
     "name": "stdout",
     "output_type": "stream",
     "text": [
      "-----------------------------------------------------------------------\n",
      "[PKG-211117-QX] 한윤경 (01082230130)\n",
      "ㄴ https://office.alloff.co/orders/4G3DC\n",
      "   [INV 211117-017] 벨티드 후드 푸퍼 다운점퍼(카키)\n"
     ]
    },
    {
     "name": "stderr",
     "output_type": "stream",
     "text": [
      "/Users/stephenj/Library/Caches/pypoetry/virtualenvs/alloff-backoffice-server-V9pDS2iq-py3.9/lib/python3.9/site-packages/django/db/models/fields/__init__.py:1416: RuntimeWarning: DateTimeField Package.shipped_at received a naive datetime (2021-11-17 07:10:37.377027) while time zone support is active.\n",
      "  warnings.warn(\"DateTimeField %s received a naive datetime (%s)\"\n"
     ]
    },
    {
     "name": "stdout",
     "output_type": "stream",
     "text": [
      "-----------------------------------------------------------------------\n",
      "[PKG-211117-4J] 허윤정 (01042900019)\n",
      "ㄴ https://office.alloff.co/orders/FDVPK\n",
      "   [INV 211117-014] [빈폴스포츠] (MEN) 포켓 구스 점퍼(아이보리)  \n",
      "-----------------------------------------------------------------------\n",
      "[PKG-211117-4U] 강영순  (01026904085)\n"
     ]
    },
    {
     "name": "stderr",
     "output_type": "stream",
     "text": [
      "/Users/stephenj/Library/Caches/pypoetry/virtualenvs/alloff-backoffice-server-V9pDS2iq-py3.9/lib/python3.9/site-packages/django/db/models/fields/__init__.py:1416: RuntimeWarning: DateTimeField Package.shipped_at received a naive datetime (2021-11-17 07:10:37.593108) while time zone support is active.\n",
      "  warnings.warn(\"DateTimeField %s received a naive datetime (%s)\"\n",
      "/Users/stephenj/Library/Caches/pypoetry/virtualenvs/alloff-backoffice-server-V9pDS2iq-py3.9/lib/python3.9/site-packages/django/db/models/fields/__init__.py:1416: RuntimeWarning: DateTimeField Package.shipped_at received a naive datetime (2021-11-17 07:10:37.784442) while time zone support is active.\n",
      "  warnings.warn(\"DateTimeField %s received a naive datetime (%s)\"\n"
     ]
    },
    {
     "name": "stdout",
     "output_type": "stream",
     "text": [
      "ㄴ https://office.alloff.co/orders/AYQDL\n",
      "   [INV 211117-015] [빈폴스포츠] (MEN) 듀얼 구스 다운 점퍼(네이비) \n",
      "-----------------------------------------------------------------------\n",
      "[PKG-211117-6M] 구춘화 (01028666180)\n",
      "ㄴ https://office.alloff.co/orders/QYKDV\n",
      "   [INV 211117-018] [빈폴스포츠] 리브 퀄팅 구스 다운 점퍼(블랙) \n"
     ]
    },
    {
     "name": "stderr",
     "output_type": "stream",
     "text": [
      "/Users/stephenj/Library/Caches/pypoetry/virtualenvs/alloff-backoffice-server-V9pDS2iq-py3.9/lib/python3.9/site-packages/django/db/models/fields/__init__.py:1416: RuntimeWarning: DateTimeField Package.shipped_at received a naive datetime (2021-11-17 07:10:37.978194) while time zone support is active.\n",
      "  warnings.warn(\"DateTimeField %s received a naive datetime (%s)\"\n"
     ]
    },
    {
     "name": "stdout",
     "output_type": "stream",
     "text": [
      "-----------------------------------------------------------------------\n",
      "[PKG-211117-6J] 권지연 (01035394227)\n",
      "ㄴ https://office.alloff.co/orders/AWCN6\n",
      "   [INV 211117-010] [빈폴스포츠] (MEN) 올라운더 보아 구스 롱 다운\n",
      "-----------------------------------------------------------------------\n",
      "[PKG-211117-6K] 김기량 (01027017776)\n"
     ]
    },
    {
     "name": "stderr",
     "output_type": "stream",
     "text": [
      "/Users/stephenj/Library/Caches/pypoetry/virtualenvs/alloff-backoffice-server-V9pDS2iq-py3.9/lib/python3.9/site-packages/django/db/models/fields/__init__.py:1416: RuntimeWarning: DateTimeField Package.shipped_at received a naive datetime (2021-11-17 07:10:38.184978) while time zone support is active.\n",
      "  warnings.warn(\"DateTimeField %s received a naive datetime (%s)\"\n",
      "/Users/stephenj/Library/Caches/pypoetry/virtualenvs/alloff-backoffice-server-V9pDS2iq-py3.9/lib/python3.9/site-packages/django/db/models/fields/__init__.py:1416: RuntimeWarning: DateTimeField Package.shipped_at received a naive datetime (2021-11-17 07:10:38.374838) while time zone support is active.\n",
      "  warnings.warn(\"DateTimeField %s received a naive datetime (%s)\"\n"
     ]
    },
    {
     "name": "stdout",
     "output_type": "stream",
     "text": [
      "ㄴ https://office.alloff.co/orders/CXG8M\n",
      "   [INV 211117-004] [택 제거 상품] Teca\n",
      "-----------------------------------------------------------------------\n",
      "[PKG-211117-7D] 김나나 (01027479396)\n",
      "ㄴ https://office.alloff.co/orders/FMF3M\n",
      "   [INV 211117-009] [빈폴스포츠] (MEN) 올라운더 보아 구스 롱 다운\n"
     ]
    },
    {
     "name": "stderr",
     "output_type": "stream",
     "text": [
      "/Users/stephenj/Library/Caches/pypoetry/virtualenvs/alloff-backoffice-server-V9pDS2iq-py3.9/lib/python3.9/site-packages/django/db/models/fields/__init__.py:1416: RuntimeWarning: DateTimeField Package.shipped_at received a naive datetime (2021-11-17 07:10:38.568554) while time zone support is active.\n",
      "  warnings.warn(\"DateTimeField %s received a naive datetime (%s)\"\n",
      "/Users/stephenj/Library/Caches/pypoetry/virtualenvs/alloff-backoffice-server-V9pDS2iq-py3.9/lib/python3.9/site-packages/django/db/models/fields/__init__.py:1416: RuntimeWarning: DateTimeField Package.shipped_at received a naive datetime (2021-11-17 07:10:38.762855) while time zone support is active.\n",
      "  warnings.warn(\"DateTimeField %s received a naive datetime (%s)\"\n"
     ]
    },
    {
     "name": "stdout",
     "output_type": "stream",
     "text": [
      "-----------------------------------------------------------------------\n",
      "[PKG-211117-4L] 김미선  (01091503609)\n",
      "ㄴ https://office.alloff.co/orders/FH8AC\n",
      "   [INV 211117-001] [로렌 랄프로렌] 프린티드 터틀넥 탑\n",
      "-----------------------------------------------------------------------\n",
      "[PKG-211117-43] 김정임 (01047923049)\n",
      "ㄴ https://office.alloff.co/orders/LUWWM\n",
      "   [INV 211117-021] 벨티드 후드 구스다운 점퍼\n",
      "-----------------------------------------------------------------------\n",
      "[PKG-211117-QK] 김현주 (01032130564)\n",
      "ㄴ https://office.alloff.co/orders/AJRYB\n",
      "   [INV 211117-007] [빈폴스포츠] 리브 퀄팅 구스 다운 점퍼(블랙) \n"
     ]
    },
    {
     "name": "stderr",
     "output_type": "stream",
     "text": [
      "/Users/stephenj/Library/Caches/pypoetry/virtualenvs/alloff-backoffice-server-V9pDS2iq-py3.9/lib/python3.9/site-packages/django/db/models/fields/__init__.py:1416: RuntimeWarning: DateTimeField Package.shipped_at received a naive datetime (2021-11-17 07:10:38.942340) while time zone support is active.\n",
      "  warnings.warn(\"DateTimeField %s received a naive datetime (%s)\"\n",
      "/Users/stephenj/Library/Caches/pypoetry/virtualenvs/alloff-backoffice-server-V9pDS2iq-py3.9/lib/python3.9/site-packages/django/db/models/fields/__init__.py:1416: RuntimeWarning: DateTimeField Package.shipped_at received a naive datetime (2021-11-17 07:10:39.127747) while time zone support is active.\n",
      "  warnings.warn(\"DateTimeField %s received a naive datetime (%s)\"\n"
     ]
    },
    {
     "name": "stdout",
     "output_type": "stream",
     "text": [
      "-----------------------------------------------------------------------\n",
      "[PKG-211117-4V] 김희경 (01062423658)\n",
      "ㄴ https://office.alloff.co/orders/NPYXY\n",
      "   [INV 211117-005] [Weekend MaxMara] PATNER(Camel)\n"
     ]
    },
    {
     "name": "stderr",
     "output_type": "stream",
     "text": [
      "/Users/stephenj/Library/Caches/pypoetry/virtualenvs/alloff-backoffice-server-V9pDS2iq-py3.9/lib/python3.9/site-packages/django/db/models/fields/__init__.py:1416: RuntimeWarning: DateTimeField Package.shipped_at received a naive datetime (2021-11-17 07:10:39.340026) while time zone support is active.\n",
      "  warnings.warn(\"DateTimeField %s received a naive datetime (%s)\"\n"
     ]
    },
    {
     "name": "stdout",
     "output_type": "stream",
     "text": [
      "-----------------------------------------------------------------------\n",
      "[PKG-211117-VF] 손경희 (01095063680)\n",
      "ㄴ https://office.alloff.co/orders/33VUR\n",
      "   [INV 211117-003] 언밸런스 니트 롱 드레스 \n"
     ]
    },
    {
     "name": "stderr",
     "output_type": "stream",
     "text": [
      "/Users/stephenj/Library/Caches/pypoetry/virtualenvs/alloff-backoffice-server-V9pDS2iq-py3.9/lib/python3.9/site-packages/django/db/models/fields/__init__.py:1416: RuntimeWarning: DateTimeField Package.shipped_at received a naive datetime (2021-11-17 07:10:39.576589) while time zone support is active.\n",
      "  warnings.warn(\"DateTimeField %s received a naive datetime (%s)\"\n"
     ]
    },
    {
     "name": "stdout",
     "output_type": "stream",
     "text": [
      "-----------------------------------------------------------------------\n",
      "[PKG-211117-C3] 오현숙 (01055640731)\n",
      "ㄴ https://office.alloff.co/orders/T4CKJ\n",
      "   [INV 211117-011] [빈폴스포츠] (MEN) 푸퍼 다운 점퍼(블랙) \n",
      "-----------------------------------------------------------------------\n",
      "[PKG-211117-4N] 이다래 (01030061280)\n"
     ]
    },
    {
     "name": "stderr",
     "output_type": "stream",
     "text": [
      "/Users/stephenj/Library/Caches/pypoetry/virtualenvs/alloff-backoffice-server-V9pDS2iq-py3.9/lib/python3.9/site-packages/django/db/models/fields/__init__.py:1416: RuntimeWarning: DateTimeField Package.shipped_at received a naive datetime (2021-11-17 07:10:39.781404) while time zone support is active.\n",
      "  warnings.warn(\"DateTimeField %s received a naive datetime (%s)\"\n",
      "/Users/stephenj/Library/Caches/pypoetry/virtualenvs/alloff-backoffice-server-V9pDS2iq-py3.9/lib/python3.9/site-packages/django/db/models/fields/__init__.py:1416: RuntimeWarning: DateTimeField Package.shipped_at received a naive datetime (2021-11-17 07:10:39.969765) while time zone support is active.\n",
      "  warnings.warn(\"DateTimeField %s received a naive datetime (%s)\"\n"
     ]
    },
    {
     "name": "stdout",
     "output_type": "stream",
     "text": [
      "ㄴ https://office.alloff.co/orders/X3KAU\n",
      "   [INV 211117-022-R] 오버사이즈 헤링본 싱글 자켓 \n",
      "-----------------------------------------------------------------------\n",
      "[PKG-211117-DA] 이지오 (01093583587)\n",
      "ㄴ https://office.alloff.co/orders/JCXXL\n",
      "   [INV 211117-006] [빈폴스포츠] 리브 퀄팅 구스 다운 점퍼(화이트) \n",
      "-----------------------------------------------------------------------\n",
      "[PKG-211117-6P] 인지현 (01094373922)\n"
     ]
    },
    {
     "name": "stderr",
     "output_type": "stream",
     "text": [
      "/Users/stephenj/Library/Caches/pypoetry/virtualenvs/alloff-backoffice-server-V9pDS2iq-py3.9/lib/python3.9/site-packages/django/db/models/fields/__init__.py:1416: RuntimeWarning: DateTimeField Package.shipped_at received a naive datetime (2021-11-17 07:10:40.227695) while time zone support is active.\n",
      "  warnings.warn(\"DateTimeField %s received a naive datetime (%s)\"\n",
      "/Users/stephenj/Library/Caches/pypoetry/virtualenvs/alloff-backoffice-server-V9pDS2iq-py3.9/lib/python3.9/site-packages/django/db/models/fields/__init__.py:1416: RuntimeWarning: DateTimeField Package.shipped_at received a naive datetime (2021-11-17 07:10:40.420687) while time zone support is active.\n",
      "  warnings.warn(\"DateTimeField %s received a naive datetime (%s)\"\n"
     ]
    },
    {
     "name": "stdout",
     "output_type": "stream",
     "text": [
      "ㄴ https://office.alloff.co/orders/QCPKK\n",
      "   [INV 211117-019] 클래식 롱 다운 코트 \n",
      "-----------------------------------------------------------------------\n",
      "[PKG-211117-6V] 장정임 (01033025953)\n",
      "ㄴ https://office.alloff.co/orders/X7XYW\n",
      "   [INV 211117-008] [빈폴스포츠] (MEN) 올라운더 보아 구스 롱 다운\n",
      "-----------------------------------------------------------------------\n",
      "[PKG-211117-6T] 정지영 (01036209940)\n",
      "ㄴ https://office.alloff.co/orders/KYQTB\n"
     ]
    },
    {
     "name": "stderr",
     "output_type": "stream",
     "text": [
      "/Users/stephenj/Library/Caches/pypoetry/virtualenvs/alloff-backoffice-server-V9pDS2iq-py3.9/lib/python3.9/site-packages/django/db/models/fields/__init__.py:1416: RuntimeWarning: DateTimeField Package.shipped_at received a naive datetime (2021-11-17 07:10:40.618758) while time zone support is active.\n",
      "  warnings.warn(\"DateTimeField %s received a naive datetime (%s)\"\n"
     ]
    },
    {
     "name": "stdout",
     "output_type": "stream",
     "text": [
      "   [INV 211117-002-R] [MaxMara] WSDALIA\n",
      "-----------------------------------------------------------------------\n",
      "[PKG-211117-6B] 한신경 (01055446146)\n",
      "ㄴ https://office.alloff.co/orders/MXNGV\n",
      "   [INV 211117-013] [빈폴스포츠] (MEN) 포켓 구스 점퍼(아이보리)  \n",
      "-----------------------------------------------------------------------\n"
     ]
    },
    {
     "name": "stderr",
     "output_type": "stream",
     "text": [
      "/Users/stephenj/Library/Caches/pypoetry/virtualenvs/alloff-backoffice-server-V9pDS2iq-py3.9/lib/python3.9/site-packages/django/db/models/fields/__init__.py:1416: RuntimeWarning: DateTimeField Package.shipped_at received a naive datetime (2021-11-17 07:10:40.821637) while time zone support is active.\n",
      "  warnings.warn(\"DateTimeField %s received a naive datetime (%s)\"\n"
     ]
    }
   ],
   "source": [
    "for _, row in df.iterrows():\n",
    "    package = Package.objects.get(code=row[\"주문번호\"])\n",
    "    package.courier = courier\n",
    "    package.tracking_number = row['송장번호']\n",
    "    package.status = PackageStatus.SHIPPED\n",
    "    package.save()\n",
    "    \n",
    "    for eo in package.extended_orders:\n",
    "        order = eo.order\n",
    "        status_change_data = {\n",
    "            \"status\": OrderStatus.DELIVERY_STARTED,\n",
    "            \"delivery_tracking_number\": package.courier.name + \" \" + package.tracking_number,\n",
    "            \"delivery_tracking_url\": package.tracking_url,\n",
    "        }\n",
    "        s = ChangeStatusSerializer(data=status_change_data, instance=order)\n",
    "        s.is_valid(raise_exception=True)\n",
    "        _change_status(s, order, User.objects.get(username=\"backoffice_server\"), id=str(order.id))\n",
    "        print(\"-----------------------------------------------------------------------\")\n",
    "        print(f\"\"\"[{package.code}] {package.recipient_name} ({package.recipient_mobile})\"\"\")\n",
    "        for item in package.shipping_notice_items.all():\n",
    "            print(f\"ㄴ https://office.alloff.co/orders/{item.item.extended_order.order.code}\")\n",
    "            print(f\"\"\"   [INV {item.inventory.code}] {item.item.name}\"\"\")\n",
    "print(\"-----------------------------------------------------------------------\")        "
   ]
  },
  {
   "cell_type": "code",
   "execution_count": 10,
   "id": "f910718c",
   "metadata": {},
   "outputs": [
    {
     "name": "stdout",
     "output_type": "stream",
     "text": [
      "CANMD (618d019d26685ff051756218) - 테일러드 더블 코트 has been shipped!\n",
      "YR83V (618882f226685ff051755a6c) -  체크패턴 벨티드 코트(멜란지 그레이) has been shipped!\n",
      "LFRTQ (618dce1826685ff05175634a) - 밍크 퍼 배색 코트  has been shipped!\n",
      "NARRW (6187f34826685ff051755a02) - 벨티드 플랩 코트(카멜)  has been shipped!\n",
      "YK4FT (617bed3017fc2e5a1f9eae91) - [로렌 랄프로렌] 서플리스 데님 미디 드레스 has been shipped!\n",
      "3NYGX (617bcaf817fc2e5a1f9eade4) - [MEN] (7 colors) 울 캐시미어 스웨터 has been shipped!\n"
     ]
    }
   ],
   "source": [
    "for _, row in df.iterrows():\n",
    "    codes = split_codes(row[\"주문번호\"])\n",
    "    for code in codes:\n",
    "        order = Order.get_by_code(code)\n",
    "        if order is not None:\n",
    "            inventories = Inventory.objects.filter(status=InventoryStatus.SHIPPING_PENDING, out_order_id=str(order.id)).all()\n",
    "            for i in inventories:\n",
    "                print(f\"\"\"{order.code} ({order.id}) - {i.product_name} has been shipped!\"\"\")\n",
    "                i.status = InventoryStatus.SHIPPED\n",
    "                i.save()"
   ]
  },
  {
   "cell_type": "markdown",
   "id": "1a091bc3",
   "metadata": {},
   "source": []
  },
  {
   "cell_type": "code",
   "execution_count": 7,
   "id": "84b84ff7",
   "metadata": {},
   "outputs": [
    {
     "name": "stdout",
     "output_type": "stream",
     "text": [
      "ORD-WAHUH (618bdd3d26685ff05175601e) - 캐시미어 니트 롱 드레스 has been shipped!\n",
      "ORD-LWH3Y (617a9edb17fc2e5a1f9eabe7) - [택 제거 상품] Teca has been shipped!\n",
      "ORD-KRJUB (6180619517fc2e5a1f9eb42f) - Torto sweatshirt(네이비) has been shipped!\n",
      "ORD-X8K9D (6180d93017fc2e5a1f9eb4ee) - [로렌 랄프로렌] 브로드클로스 블루종 슬리브 셔츠 has been shipped!\n",
      "ORD-PAKK6 (6183b47226685ff0517551b1) - 네오플랜 블록 구스다운 점퍼(DARK GRAY)  has been shipped!\n",
      "ORD-GKYKH (61862bf826685ff0517556c7) - Ashurst quilted jacket(블랙) has been shipped!\n",
      "ORD-GL7NK (618265fc26685ff051754f33) - 핸드메이드 캐시미어 코트  has been shipped!\n",
      "ORD-VERXH (6182698926685ff051754f47) - 핸드메이드 캐시미어 코트  has been shipped!\n",
      "ORD-BGH46 (618659d826685ff051755731) - [빈폴스포츠] 투웨이 점퍼&조끼 다운 베스트(화이트)  has been shipped!\n",
      "ORD-9YUM9 (618a4ca126685ff051755d58) - 벨티드 구스 패딩(화이트 핑크)  has been shipped!\n",
      "ORD-8XRFR (618b6a9f26685ff051755f2e) - 프레이드 트위드 드레스(다크네이비) has been shipped!\n"
     ]
    }
   ],
   "source": [
    "for i in Inventory.objects.filter(out_order_id__in=[\n",
    "    \"618bdd3d26685ff05175601e\",\n",
    "    \"617a9edb17fc2e5a1f9eabe7\",\n",
    "    \"618b6a9f26685ff051755f2e\",\n",
    "    \"61862bf826685ff0517556c7\",\n",
    "    \"6183b47226685ff0517551b1\",\n",
    "    \"618a4ca126685ff051755d58\",\n",
    "    \"6180d93017fc2e5a1f9eb4ee\",\n",
    "    \"618659d826685ff051755731\",\n",
    "    \"618265fc26685ff051754f33\",\n",
    "    \"6180619517fc2e5a1f9eb42f\",\n",
    "    \"6182698926685ff051754f47\",\n",
    "]):\n",
    "    order = Order.get(i.out_order_id)\n",
    "    print(f\"\"\"{order.code} ({order.id}) - {i.product_name} has been shipped!\"\"\")\n",
    "    i.status = InventoryStatus.SHIPPED\n",
    "    i.save()"
   ]
  },
  {
   "cell_type": "code",
   "execution_count": 9,
   "id": "a9951f11",
   "metadata": {},
   "outputs": [
    {
     "data": {
      "text/plain": [
       "True"
      ]
     },
     "execution_count": 9,
     "metadata": {},
     "output_type": "execute_result"
    }
   ],
   "source": []
  },
  {
   "cell_type": "code",
   "execution_count": null,
   "id": "82ee01dd",
   "metadata": {},
   "outputs": [],
   "source": []
  }
 ],
 "metadata": {
  "kernelspec": {
   "display_name": "Django Shell-Plus",
   "language": "python",
   "name": "django_extensions"
  },
  "language_info": {
   "codemirror_mode": {
    "name": "ipython",
    "version": 3
   },
   "file_extension": ".py",
   "mimetype": "text/x-python",
   "name": "python",
   "nbconvert_exporter": "python",
   "pygments_lexer": "ipython3",
   "version": "3.9.6"
  }
 },
 "nbformat": 4,
 "nbformat_minor": 5
}
