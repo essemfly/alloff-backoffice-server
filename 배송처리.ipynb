{
 "cells": [
  {
   "cell_type": "code",
   "execution_count": 1,
   "id": "20276e30",
   "metadata": {},
   "outputs": [],
   "source": [
    "from tagger.models.received_item import ReceivedItem, ReceivedItemStatus\n",
    "from tagger.core.mongo.models.order import Order, OrderStatus\n",
    "from tagger.viewsets.order.change_status import ChangeStatusSerializer, _change_status\n",
    "from django.contrib.auth.models import User\n",
    "from tagger.models.inventory import Inventory, InventoryStatus\n",
    "from tagger.models import ShippingNotice, Package, Courier\n",
    "from tagger.models.package import PackageStatus\n",
    "\n",
    "import os\n",
    "import django\n",
    "os.environ.setdefault('DJANGO_SETTINGS_MODULE', 'rest.settings')\n",
    "os.environ[\"DJANGO_ALLOW_ASYNC_UNSAFE\"] = \"true\"\n",
    "django.setup()\n",
    "import pandas as pd\n",
    "\n",
    "courier = Courier.objects.get(name=\"CJ대한통운\")"
   ]
  },
  {
   "cell_type": "code",
   "execution_count": 3,
   "id": "97486130",
   "metadata": {},
   "outputs": [
    {
     "name": "stdout",
     "output_type": "stream",
     "text": [
      "--------------------------------------------------------------------------------\n",
      "PKG-211118-EK 글리터 구스 점퍼 홍은미\n",
      "ㄴ ORDER TNPBY (홍은미) : ITEM SJSJ___글리터구스점퍼___76(44)\n",
      "--------------------------------------------------------------------------------\n",
      "PKG-211118-6N 오버사이즈 소피 다운 점퍼(브라운) 송효은\n",
      "ㄴ ORDER AQRE4 (송효은) : ITEM BEANPOLEL___오버사이즈소피다운점퍼(브라운)___95\n",
      "--------------------------------------------------------------------------------\n",
      "PKG-211118-66 벨티드 플랩 코트(카멜) 김혜연\n",
      "ㄴ ORDER 6MM7D (김혜연) : ITEM CCCOLLECT___벨티드플랩코트(카멜)___55\n",
      "--------------------------------------------------------------------------------\n",
      "PKG-211118-E8 디테쳐블 플리츠 후드 드레스(SEPIA BEIGE) 안나\n",
      "ㄴ ORDER MDVK7 (안나) : ITEM MINE___디테쳐블플리츠후드드레스(SEPIABEIGE)___82(55)\n",
      "--------------------------------------------------------------------------------\n",
      "PKG-211118-4U [빈폴스포츠]푸퍼 미드 다운 점퍼(네이비) 하다정\n",
      "ㄴ ORDER QWK9J (하다정) : ITEM BEANPOLEL___[빈폴스포츠]푸퍼미드다운점퍼(네이비)___95\n",
      "--------------------------------------------------------------------------------\n",
      "PKG-211118-4K [빈폴스포츠] (MEN) 포켓 구스 점퍼(아이보리) 심용식\n",
      "ㄴ ORDER YMGC8 (심용식) : ITEM BEANPOLEL___[빈폴스포츠](MEN)포켓구스점퍼(아이보리)___100\n",
      "--------------------------------------------------------------------------------\n",
      "PKG-211118-6C Ashurst quilted jacket(블랙) 기민정\n",
      "ㄴ ORDER GUTXL (기민정) : ITEM BURBERRY___Ashurstquiltedjacket(블랙)___M\n",
      "--------------------------------------------------------------------------------\n",
      "PKG-211118-6E 후드 폭스 퍼 케이프 코트(베이지) 한신경\n",
      "ㄴ ORDER 84V4W (한신경) : ITEM BEANPOLEL___후드폭스퍼케이프코트(베이지)___85\n",
      "--------------------------------------------------------------------------------\n",
      "PKG-211118-46 배색 리버시블 무스탕 코트 외 2 은하\n",
      "ㄴ ORDER RCYPE (은하) : ITEM LINE___배색리버시블무스탕코트___BEIGE-55\n",
      "ㄴ ORDER RCYPE (은하) : ITEM LINE___니트카라스트링원피스___BRICK-F\n",
      "ㄴ ORDER RCYPE (은하) : ITEM DEWL___꽃자카드플레어원피스&니트베스트D204MSE062___FREE(55)\n",
      "--------------------------------------------------------------------------------\n",
      "PKG-211118-HY 퀄팅 구스다운 점퍼(BLACK) 유소라\n",
      "ㄴ ORDER HWP8C (유소라) : ITEM SYSTEM___퀄팅구스다운점퍼(BLACK)___82(55)\n",
      "--------------------------------------------------------------------------------\n",
      "PKG-211118-6G 후드 폭스 퍼 케이프 코트(베이지) 최경화\n",
      "ㄴ ORDER 64XYT (최경화 ) : ITEM BEANPOLEL___후드폭스퍼케이프코트(베이지)___85\n",
      "--------------------------------------------------------------------------------\n",
      "PKG-211118-6L [빈폴스포츠] 투웨이 점퍼&조끼 다운 베스트(화이트) 이정원\n",
      "ㄴ ORDER LB4W7 (이정원) : ITEM BEANPOLEL___[빈폴스포츠]투웨이점퍼&조끼다운베스트(화이트)___100\n",
      "--------------------------------------------------------------------------------\n",
      "PKG-211118-69 [빈폴스포츠] 투웨이 점퍼&조끼 다운 베스트(블랙) 남정원\n",
      "ㄴ ORDER NKPME (남정원) : ITEM BEANPOLEL___[빈폴스포츠]투웨이점퍼&조끼다운베스트(블랙)___100\n",
      "--------------------------------------------------------------------------------\n",
      "PKG-211118-XQ [빈폴스포츠] 투웨이 점퍼&조끼 다운 베스트(블랙) 장정임\n",
      "ㄴ ORDER 77CYA (장정임) : ITEM BEANPOLEL___[빈폴스포츠]투웨이점퍼&조끼다운베스트(블랙)___95\n",
      "--------------------------------------------------------------------------------\n",
      "PKG-211118-4V [빈폴스포츠] 투웨이 점퍼&조끼 다운 베스트(블랙) 신정연\n",
      "ㄴ ORDER 4LATL (신정연) : ITEM BEANPOLEL___[빈폴스포츠]투웨이점퍼&조끼다운베스트(블랙)___90\n"
     ]
    },
    {
     "data": {
      "text/plain": [
       "15"
      ]
     },
     "execution_count": 3,
     "metadata": {},
     "output_type": "execute_result"
    }
   ],
   "source": [
    "with open(\"../Downloads/확장주문검색_20211118_163649.xlsx\", \"rb\") as f:\n",
    "    df = pd.read_excel(f, dtype=str)\n",
    "    df.dropna(subset=[\"주문번호\"], inplace=True)\n",
    "    for _, row in df.iterrows():\n",
    "        print(\"--------------------------------------------------------------------------------\")\n",
    "        package_code = row[\"주문번호\"]\n",
    "        package = Package.objects.get(code=package_code)\n",
    "        print(row[\"주문번호\"], row[\"판매처 상품명\"], row[\"수령자이름\"])\n",
    "        for item in package.shipping_notice_items.all():\n",
    "            print(f\"\"\"ㄴ ORDER {item.item.extended_order.code} ({item.item.extended_order.order.payment.buyername}) : ITEM {item.item.product_code}\"\"\")\n",
    "len(df)"
   ]
  },
  {
   "cell_type": "code",
   "execution_count": 4,
   "id": "5b0fe085",
   "metadata": {},
   "outputs": [
    {
     "name": "stderr",
     "output_type": "stream",
     "text": [
      "/Users/stephenj/Library/Caches/pypoetry/virtualenvs/alloff-backoffice-server-V9pDS2iq-py3.9/lib/python3.9/site-packages/django/db/models/fields/__init__.py:1416: RuntimeWarning: DateTimeField Package.shipped_at received a naive datetime (2021-11-18 07:37:53.949553) while time zone support is active.\n",
      "  warnings.warn(\"DateTimeField %s received a naive datetime (%s)\"\n"
     ]
    },
    {
     "name": "stdout",
     "output_type": "stream",
     "text": [
      "-----------------------------------------------------------------------\n",
      "[PKG-211118-EK] 홍은미 (01031903669)\n",
      "ㄴ https://office.alloff.co/orders/TNPBY\n",
      "   [INV 211118-009] 글리터 구스 점퍼 \n",
      "-----------------------------------------------------------------------\n",
      "[PKG-211118-6N] 송효은 (01055001835)\n"
     ]
    },
    {
     "name": "stderr",
     "output_type": "stream",
     "text": [
      "/Users/stephenj/Library/Caches/pypoetry/virtualenvs/alloff-backoffice-server-V9pDS2iq-py3.9/lib/python3.9/site-packages/django/db/models/fields/__init__.py:1416: RuntimeWarning: DateTimeField Package.shipped_at received a naive datetime (2021-11-18 07:37:54.386494) while time zone support is active.\n",
      "  warnings.warn(\"DateTimeField %s received a naive datetime (%s)\"\n",
      "/Users/stephenj/Library/Caches/pypoetry/virtualenvs/alloff-backoffice-server-V9pDS2iq-py3.9/lib/python3.9/site-packages/django/db/models/fields/__init__.py:1416: RuntimeWarning: DateTimeField Package.shipped_at received a naive datetime (2021-11-18 07:37:54.581772) while time zone support is active.\n",
      "  warnings.warn(\"DateTimeField %s received a naive datetime (%s)\"\n"
     ]
    },
    {
     "name": "stdout",
     "output_type": "stream",
     "text": [
      "ㄴ https://office.alloff.co/orders/AQRE4\n",
      "   [INV 211118-017] 오버사이즈 소피 다운 점퍼(브라운) \n",
      "-----------------------------------------------------------------------\n",
      "[PKG-211118-66] 김혜연 (01066415346)\n",
      "ㄴ https://office.alloff.co/orders/6MM7D\n",
      "   [INV 211118-011] 벨티드 플랩 코트(카멜) \n"
     ]
    },
    {
     "name": "stderr",
     "output_type": "stream",
     "text": [
      "/Users/stephenj/Library/Caches/pypoetry/virtualenvs/alloff-backoffice-server-V9pDS2iq-py3.9/lib/python3.9/site-packages/django/db/models/fields/__init__.py:1416: RuntimeWarning: DateTimeField Package.shipped_at received a naive datetime (2021-11-18 07:37:54.771419) while time zone support is active.\n",
      "  warnings.warn(\"DateTimeField %s received a naive datetime (%s)\"\n",
      "/Users/stephenj/Library/Caches/pypoetry/virtualenvs/alloff-backoffice-server-V9pDS2iq-py3.9/lib/python3.9/site-packages/django/db/models/fields/__init__.py:1416: RuntimeWarning: DateTimeField Package.shipped_at received a naive datetime (2021-11-18 07:37:54.962623) while time zone support is active.\n",
      "  warnings.warn(\"DateTimeField %s received a naive datetime (%s)\"\n"
     ]
    },
    {
     "name": "stdout",
     "output_type": "stream",
     "text": [
      "-----------------------------------------------------------------------\n",
      "[PKG-211118-E8] 안나 (01077651017)\n",
      "ㄴ https://office.alloff.co/orders/MDVK7\n",
      "   [INV 211117-020] 디테쳐블 플리츠 후드 드레스(SEPIA BEIGE)\n",
      "-----------------------------------------------------------------------\n",
      "[PKG-211118-4U] 하다정 (01031503969)\n",
      "ㄴ https://office.alloff.co/orders/QWK9J\n",
      "   [INV 211118-016] [빈폴스포츠]푸퍼 미드 다운 점퍼(네이비) \n"
     ]
    },
    {
     "name": "stderr",
     "output_type": "stream",
     "text": [
      "/Users/stephenj/Library/Caches/pypoetry/virtualenvs/alloff-backoffice-server-V9pDS2iq-py3.9/lib/python3.9/site-packages/django/db/models/fields/__init__.py:1416: RuntimeWarning: DateTimeField Package.shipped_at received a naive datetime (2021-11-18 07:37:55.168455) while time zone support is active.\n",
      "  warnings.warn(\"DateTimeField %s received a naive datetime (%s)\"\n"
     ]
    },
    {
     "name": "stdout",
     "output_type": "stream",
     "text": [
      "-----------------------------------------------------------------------\n",
      "[PKG-211118-4K] 심용식 (01031824577)\n",
      "ㄴ https://office.alloff.co/orders/YMGC8\n",
      "   [INV 211118-020] [빈폴스포츠] (MEN) 포켓 구스 점퍼(아이보리)  \n"
     ]
    },
    {
     "name": "stderr",
     "output_type": "stream",
     "text": [
      "/Users/stephenj/Library/Caches/pypoetry/virtualenvs/alloff-backoffice-server-V9pDS2iq-py3.9/lib/python3.9/site-packages/django/db/models/fields/__init__.py:1416: RuntimeWarning: DateTimeField Package.shipped_at received a naive datetime (2021-11-18 07:37:55.392127) while time zone support is active.\n",
      "  warnings.warn(\"DateTimeField %s received a naive datetime (%s)\"\n"
     ]
    },
    {
     "name": "stdout",
     "output_type": "stream",
     "text": [
      "-----------------------------------------------------------------------\n",
      "[PKG-211118-6C] 기민정 (01050114756)\n",
      "ㄴ https://office.alloff.co/orders/GUTXL\n",
      "   [INV 211118-008] Ashurst quilted jacket(블랙)\n",
      "-----------------------------------------------------------------------\n",
      "[PKG-211118-6E] 한신경 (01055446146)\n"
     ]
    },
    {
     "name": "stderr",
     "output_type": "stream",
     "text": [
      "/Users/stephenj/Library/Caches/pypoetry/virtualenvs/alloff-backoffice-server-V9pDS2iq-py3.9/lib/python3.9/site-packages/django/db/models/fields/__init__.py:1416: RuntimeWarning: DateTimeField Package.shipped_at received a naive datetime (2021-11-18 07:37:55.597226) while time zone support is active.\n",
      "  warnings.warn(\"DateTimeField %s received a naive datetime (%s)\"\n",
      "/Users/stephenj/Library/Caches/pypoetry/virtualenvs/alloff-backoffice-server-V9pDS2iq-py3.9/lib/python3.9/site-packages/django/db/models/fields/__init__.py:1416: RuntimeWarning: DateTimeField Package.shipped_at received a naive datetime (2021-11-18 07:37:55.794618) while time zone support is active.\n",
      "  warnings.warn(\"DateTimeField %s received a naive datetime (%s)\"\n"
     ]
    },
    {
     "name": "stdout",
     "output_type": "stream",
     "text": [
      "ㄴ https://office.alloff.co/orders/84V4W\n",
      "   [INV 211118-019] 후드 폭스 퍼 케이프 코트(베이지) \n",
      "-----------------------------------------------------------------------\n",
      "[PKG-211118-46] 은하 (01075412313)\n",
      "ㄴ https://office.alloff.co/orders/RCYPE\n",
      "   [INV 211118-001] 배색 리버시블 무스탕 코트\n",
      "ㄴ https://office.alloff.co/orders/RCYPE\n",
      "   [INV 211118-006] 니트 카라 스트링 원피스\n",
      "ㄴ https://office.alloff.co/orders/RCYPE\n",
      "   [INV 211118-007] 꽃 자카드 플레어 원피스 & 니트 베스트 D204MSE062\n"
     ]
    },
    {
     "name": "stderr",
     "output_type": "stream",
     "text": [
      "/Users/stephenj/Library/Caches/pypoetry/virtualenvs/alloff-backoffice-server-V9pDS2iq-py3.9/lib/python3.9/site-packages/django/db/models/fields/__init__.py:1416: RuntimeWarning: DateTimeField Package.shipped_at received a naive datetime (2021-11-18 07:37:56.078841) while time zone support is active.\n",
      "  warnings.warn(\"DateTimeField %s received a naive datetime (%s)\"\n",
      "/Users/stephenj/Library/Caches/pypoetry/virtualenvs/alloff-backoffice-server-V9pDS2iq-py3.9/lib/python3.9/site-packages/django/db/models/fields/__init__.py:1416: RuntimeWarning: DateTimeField Package.shipped_at received a naive datetime (2021-11-18 07:37:56.271865) while time zone support is active.\n",
      "  warnings.warn(\"DateTimeField %s received a naive datetime (%s)\"\n"
     ]
    },
    {
     "name": "stdout",
     "output_type": "stream",
     "text": [
      "-----------------------------------------------------------------------\n",
      "[PKG-211118-HY] 유소라 (01092145711)\n",
      "ㄴ https://office.alloff.co/orders/HWP8C\n",
      "   [INV 211118-010] 퀄팅 구스다운 점퍼(BLACK) \n",
      "-----------------------------------------------------------------------\n",
      "[PKG-211118-6G] 최경화  (01053251840)\n",
      "ㄴ https://office.alloff.co/orders/64XYT\n",
      "   [INV 211118-018] 후드 폭스 퍼 케이프 코트(베이지) \n",
      "-----------------------------------------------------------------------\n",
      "[PKG-211118-6L] 이정원 (01046416708)\n",
      "ㄴ https://office.alloff.co/orders/LB4W7\n",
      "   [INV 211118-012] [빈폴스포츠] 투웨이 점퍼&조끼 다운 베스트(화이트) \n"
     ]
    },
    {
     "name": "stderr",
     "output_type": "stream",
     "text": [
      "/Users/stephenj/Library/Caches/pypoetry/virtualenvs/alloff-backoffice-server-V9pDS2iq-py3.9/lib/python3.9/site-packages/django/db/models/fields/__init__.py:1416: RuntimeWarning: DateTimeField Package.shipped_at received a naive datetime (2021-11-18 07:37:56.458332) while time zone support is active.\n",
      "  warnings.warn(\"DateTimeField %s received a naive datetime (%s)\"\n",
      "/Users/stephenj/Library/Caches/pypoetry/virtualenvs/alloff-backoffice-server-V9pDS2iq-py3.9/lib/python3.9/site-packages/django/db/models/fields/__init__.py:1416: RuntimeWarning: DateTimeField Package.shipped_at received a naive datetime (2021-11-18 07:37:56.648510) while time zone support is active.\n",
      "  warnings.warn(\"DateTimeField %s received a naive datetime (%s)\"\n"
     ]
    },
    {
     "name": "stdout",
     "output_type": "stream",
     "text": [
      "-----------------------------------------------------------------------\n",
      "[PKG-211118-69] 남정원 (01049203824)\n",
      "ㄴ https://office.alloff.co/orders/NKPME\n",
      "   [INV 211118-013] [빈폴스포츠] 투웨이 점퍼&조끼 다운 베스트(블랙) \n",
      "-----------------------------------------------------------------------\n",
      "[PKG-211118-XQ] 장정임 (01033025953)\n"
     ]
    },
    {
     "name": "stderr",
     "output_type": "stream",
     "text": [
      "/Users/stephenj/Library/Caches/pypoetry/virtualenvs/alloff-backoffice-server-V9pDS2iq-py3.9/lib/python3.9/site-packages/django/db/models/fields/__init__.py:1416: RuntimeWarning: DateTimeField Package.shipped_at received a naive datetime (2021-11-18 07:37:56.835644) while time zone support is active.\n",
      "  warnings.warn(\"DateTimeField %s received a naive datetime (%s)\"\n",
      "/Users/stephenj/Library/Caches/pypoetry/virtualenvs/alloff-backoffice-server-V9pDS2iq-py3.9/lib/python3.9/site-packages/django/db/models/fields/__init__.py:1416: RuntimeWarning: DateTimeField Package.shipped_at received a naive datetime (2021-11-18 07:37:57.030855) while time zone support is active.\n",
      "  warnings.warn(\"DateTimeField %s received a naive datetime (%s)\"\n"
     ]
    },
    {
     "name": "stdout",
     "output_type": "stream",
     "text": [
      "ㄴ https://office.alloff.co/orders/77CYA\n",
      "   [INV 211118-014] [빈폴스포츠] 투웨이 점퍼&조끼 다운 베스트(블랙) \n",
      "-----------------------------------------------------------------------\n",
      "[PKG-211118-4V] 신정연 (01041145749)\n",
      "ㄴ https://office.alloff.co/orders/4LATL\n",
      "   [INV 211118-015] [빈폴스포츠] 투웨이 점퍼&조끼 다운 베스트(블랙) \n",
      "-----------------------------------------------------------------------\n"
     ]
    }
   ],
   "source": [
    "for _, row in df.iterrows():\n",
    "    package = Package.objects.get(code=row[\"주문번호\"])\n",
    "    package.courier = courier\n",
    "    package.tracking_number = row['송장번호']\n",
    "    package.status = PackageStatus.SHIPPED\n",
    "    package.save()\n",
    "    \n",
    "    for eo in package.extended_orders:\n",
    "        order = eo.order\n",
    "        status_change_data = {\n",
    "            \"status\": OrderStatus.DELIVERY_STARTED,\n",
    "            \"delivery_tracking_number\": package.courier.name + \" \" + package.tracking_number,\n",
    "            \"delivery_tracking_url\": package.tracking_url,\n",
    "        }\n",
    "        s = ChangeStatusSerializer(data=status_change_data, instance=order)\n",
    "        s.is_valid(raise_exception=True)\n",
    "        _change_status(s, order, User.objects.get(username=\"backoffice_server\"), id=str(order.id))\n",
    "        print(\"-----------------------------------------------------------------------\")\n",
    "        print(f\"\"\"[{package.code}] {package.recipient_name} ({package.recipient_mobile})\"\"\")\n",
    "        for item in package.shipping_notice_items.all():\n",
    "            print(f\"ㄴ https://office.alloff.co/orders/{item.item.extended_order.order.code}\")\n",
    "            print(f\"\"\"   [INV {item.inventory.code}] {item.item.name}\"\"\")\n",
    "print(\"-----------------------------------------------------------------------\")        "
   ]
  },
  {
   "cell_type": "code",
   "execution_count": 5,
   "id": "f910718c",
   "metadata": {},
   "outputs": [
    {
     "name": "stdout",
     "output_type": "stream",
     "text": [
      "211118-009 has been shipped!\n",
      "211118-017 has been shipped!\n",
      "211118-011 has been shipped!\n",
      "211117-020 has been shipped!\n",
      "211118-016 has been shipped!\n",
      "211118-020 has been shipped!\n",
      "211118-008 has been shipped!\n",
      "211118-019 has been shipped!\n",
      "211118-001 has been shipped!\n",
      "211118-006 has been shipped!\n",
      "211118-007 has been shipped!\n",
      "211118-010 has been shipped!\n",
      "211118-018 has been shipped!\n",
      "211118-012 has been shipped!\n",
      "211118-013 has been shipped!\n",
      "211118-014 has been shipped!\n",
      "211118-015 has been shipped!\n"
     ]
    }
   ],
   "source": [
    "for _, row in df.iterrows():\n",
    "    package = Package.objects.get(code=row[\"주문번호\"])\n",
    "    for item in package.shipping_notice_items.all():\n",
    "        item.inventory.status = InventoryStatus.SHIPPED\n",
    "        item.inventory.save()\n",
    "        print(f\"{item.inventory.code} has been shipped!\")"
   ]
  },
  {
   "cell_type": "markdown",
   "id": "1a091bc3",
   "metadata": {},
   "source": []
  },
  {
   "cell_type": "code",
   "execution_count": 7,
   "id": "84b84ff7",
   "metadata": {},
   "outputs": [
    {
     "name": "stdout",
     "output_type": "stream",
     "text": [
      "ORD-WAHUH (618bdd3d26685ff05175601e) - 캐시미어 니트 롱 드레스 has been shipped!\n",
      "ORD-LWH3Y (617a9edb17fc2e5a1f9eabe7) - [택 제거 상품] Teca has been shipped!\n",
      "ORD-KRJUB (6180619517fc2e5a1f9eb42f) - Torto sweatshirt(네이비) has been shipped!\n",
      "ORD-X8K9D (6180d93017fc2e5a1f9eb4ee) - [로렌 랄프로렌] 브로드클로스 블루종 슬리브 셔츠 has been shipped!\n",
      "ORD-PAKK6 (6183b47226685ff0517551b1) - 네오플랜 블록 구스다운 점퍼(DARK GRAY)  has been shipped!\n",
      "ORD-GKYKH (61862bf826685ff0517556c7) - Ashurst quilted jacket(블랙) has been shipped!\n",
      "ORD-GL7NK (618265fc26685ff051754f33) - 핸드메이드 캐시미어 코트  has been shipped!\n",
      "ORD-VERXH (6182698926685ff051754f47) - 핸드메이드 캐시미어 코트  has been shipped!\n",
      "ORD-BGH46 (618659d826685ff051755731) - [빈폴스포츠] 투웨이 점퍼&조끼 다운 베스트(화이트)  has been shipped!\n",
      "ORD-9YUM9 (618a4ca126685ff051755d58) - 벨티드 구스 패딩(화이트 핑크)  has been shipped!\n",
      "ORD-8XRFR (618b6a9f26685ff051755f2e) - 프레이드 트위드 드레스(다크네이비) has been shipped!\n"
     ]
    }
   ],
   "source": [
    "for i in Inventory.objects.filter(out_order_id__in=[\n",
    "    \"618bdd3d26685ff05175601e\",\n",
    "    \"617a9edb17fc2e5a1f9eabe7\",\n",
    "    \"618b6a9f26685ff051755f2e\",\n",
    "    \"61862bf826685ff0517556c7\",\n",
    "    \"6183b47226685ff0517551b1\",\n",
    "    \"618a4ca126685ff051755d58\",\n",
    "    \"6180d93017fc2e5a1f9eb4ee\",\n",
    "    \"618659d826685ff051755731\",\n",
    "    \"618265fc26685ff051754f33\",\n",
    "    \"6180619517fc2e5a1f9eb42f\",\n",
    "    \"6182698926685ff051754f47\",\n",
    "]):\n",
    "    order = Order.get(i.out_order_id)\n",
    "    print(f\"\"\"{order.code} ({order.id}) - {i.product_name} has been shipped!\"\"\")\n",
    "    i.status = InventoryStatus.SHIPPED\n",
    "    i.save()"
   ]
  },
  {
   "cell_type": "code",
   "execution_count": 9,
   "id": "a9951f11",
   "metadata": {},
   "outputs": [
    {
     "data": {
      "text/plain": [
       "True"
      ]
     },
     "execution_count": 9,
     "metadata": {},
     "output_type": "execute_result"
    }
   ],
   "source": []
  },
  {
   "cell_type": "code",
   "execution_count": null,
   "id": "82ee01dd",
   "metadata": {},
   "outputs": [],
   "source": []
  }
 ],
 "metadata": {
  "kernelspec": {
   "display_name": "Django Shell-Plus",
   "language": "python",
   "name": "django_extensions"
  },
  "language_info": {
   "codemirror_mode": {
    "name": "ipython",
    "version": 3
   },
   "file_extension": ".py",
   "mimetype": "text/x-python",
   "name": "python",
   "nbconvert_exporter": "python",
   "pygments_lexer": "ipython3",
   "version": "3.9.6"
  }
 },
 "nbformat": 4,
 "nbformat_minor": 5
}
