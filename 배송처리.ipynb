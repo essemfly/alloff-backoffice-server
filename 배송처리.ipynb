{
 "cells": [
  {
   "cell_type": "code",
   "execution_count": 2,
   "id": "20276e30",
   "metadata": {},
   "outputs": [],
   "source": [
    "from tagger.models.received_item import ReceivedItem, ReceivedItemStatus\n",
    "from tagger.core.mongo.models.order import Order, OrderStatus\n",
    "from tagger.viewsets.order.change_status import ChangeStatusSerializer, _change_status\n",
    "from django.contrib.auth.models import User\n",
    "from tagger.models.inventory import Inventory, InventoryStatus\n",
    "\n",
    "import os\n",
    "import django\n",
    "os.environ.setdefault('DJANGO_SETTINGS_MODULE', 'rest.settings')\n",
    "os.environ[\"DJANGO_ALLOW_ASYNC_UNSAFE\"] = \"true\"\n",
    "django.setup()\n",
    "import pandas as pd\n",
    "\n",
    "def split_codes(raw_codes):\n",
    "    raw_codes = raw_codes.replace(\"_\", \"\")\n",
    "    codes = []\n",
    "    cursor = 0\n",
    "    while cursor < len(raw_codes):\n",
    "        codes.append(raw_codes[cursor: cursor + 5])\n",
    "        cursor = cursor + 5\n",
    "    return codes"
   ]
  },
  {
   "cell_type": "code",
   "execution_count": 3,
   "id": "97486130",
   "metadata": {},
   "outputs": [
    {
     "name": "stdout",
     "output_type": "stream",
     "text": [
      "['CANMD'] 테일러드 더블 코트 김은지\n",
      "['YR83V'] 체크패턴 벨티드 코트(멜란지 그레이) 김효영\n",
      "['LFRTQ'] 밍크 퍼 배색 코트 박은숙\n",
      "['NARRW'] 벨티드 플랩 코트(카멜) 조정수\n",
      "['YK4FT'] [로렌 랄프로렌] 서플리스 데님 미디 드레스 한미나\n",
      "['3NYGX'] [MEN] (7 colors) 울 캐시미어 스웨터 황태실\n"
     ]
    }
   ],
   "source": [
    "with open(\"../Downloads/확장주문검색_20211116_152516.xlsx\", \"rb\") as f:\n",
    "    df = pd.read_excel(f, dtype=str)\n",
    "    df.dropna(subset=[\"주문번호\"], inplace=True)\n",
    "    for _, row in df.iterrows():\n",
    "        print(split_codes(row[\"주문번호\"]), row[\"판매처 상품명\"], row[\"수령자이름\"])"
   ]
  },
  {
   "cell_type": "code",
   "execution_count": 9,
   "id": "5b0fe085",
   "metadata": {},
   "outputs": [
    {
     "name": "stdout",
     "output_type": "stream",
     "text": [
      "https://office.alloff.co/orders/CANMD 김은지 테일러드 더블 코트 \n",
      "https://office.alloff.co/orders/YR83V 김효영  체크패턴 벨티드 코트(멜란지 그레이)\n",
      "https://office.alloff.co/orders/LFRTQ 박은숙  밍크 퍼 배색 코트 \n",
      "https://office.alloff.co/orders/NARRW 조정수 벨티드 플랩 코트(카멜) \n",
      "https://office.alloff.co/orders/YK4FT 한미나 [로렌 랄프로렌] 서플리스 데님 미디 드레스\n",
      "https://office.alloff.co/orders/3NYGX 황태실 [MEN] (7 colors) 울 캐시미어 스웨터\n"
     ]
    }
   ],
   "source": [
    "for _, row in df.iterrows():\n",
    "    codes = split_codes(row[\"주문번호\"])\n",
    "    tracking_no = f\"{row['택배사']} {row['송장번호']}\"\n",
    "    tracking_url = f\"https://search.naver.com/search.naver?query={tracking_no}\"\n",
    "    for code in codes:\n",
    "        order = Order.get(code)\n",
    "        s = ChangeStatusSerializer(data={\n",
    "            \"status\": OrderStatus.DELIVERY_STARTED,\n",
    "            \"delivery_tracking_number\": tracking_no,\n",
    "            \"delivery_tracking_url\": tracking_url,\n",
    "        }, instance=order)\n",
    "        s.is_valid(raise_exception=True)\n",
    "        _change_status(s, order, User.objects.get(username=\"backoffice_server\"), id=str(order.id))\n",
    "        print(f\"https://office.alloff.co/orders/{code}\", order.payment.buyername, order.payment.name)"
   ]
  },
  {
   "cell_type": "code",
   "execution_count": 10,
   "id": "f910718c",
   "metadata": {},
   "outputs": [
    {
     "name": "stdout",
     "output_type": "stream",
     "text": [
      "CANMD (618d019d26685ff051756218) - 테일러드 더블 코트 has been shipped!\n",
      "YR83V (618882f226685ff051755a6c) -  체크패턴 벨티드 코트(멜란지 그레이) has been shipped!\n",
      "LFRTQ (618dce1826685ff05175634a) - 밍크 퍼 배색 코트  has been shipped!\n",
      "NARRW (6187f34826685ff051755a02) - 벨티드 플랩 코트(카멜)  has been shipped!\n",
      "YK4FT (617bed3017fc2e5a1f9eae91) - [로렌 랄프로렌] 서플리스 데님 미디 드레스 has been shipped!\n",
      "3NYGX (617bcaf817fc2e5a1f9eade4) - [MEN] (7 colors) 울 캐시미어 스웨터 has been shipped!\n"
     ]
    }
   ],
   "source": [
    "for _, row in df.iterrows():\n",
    "    codes = split_codes(row[\"주문번호\"])\n",
    "    for code in codes:\n",
    "        order = Order.get_by_code(code)\n",
    "        if order is not None:\n",
    "            inventories = Inventory.objects.filter(status=InventoryStatus.SHIPPING_PENDING, out_order_id=str(order.id)).all()\n",
    "            for i in inventories:\n",
    "                print(f\"\"\"{order.code} ({order.id}) - {i.product_name} has been shipped!\"\"\")\n",
    "                i.status = InventoryStatus.SHIPPED\n",
    "                i.save()"
   ]
  },
  {
   "cell_type": "markdown",
   "id": "1a091bc3",
   "metadata": {},
   "source": []
  },
  {
   "cell_type": "code",
   "execution_count": 7,
   "id": "84b84ff7",
   "metadata": {},
   "outputs": [
    {
     "name": "stdout",
     "output_type": "stream",
     "text": [
      "ORD-WAHUH (618bdd3d26685ff05175601e) - 캐시미어 니트 롱 드레스 has been shipped!\n",
      "ORD-LWH3Y (617a9edb17fc2e5a1f9eabe7) - [택 제거 상품] Teca has been shipped!\n",
      "ORD-KRJUB (6180619517fc2e5a1f9eb42f) - Torto sweatshirt(네이비) has been shipped!\n",
      "ORD-X8K9D (6180d93017fc2e5a1f9eb4ee) - [로렌 랄프로렌] 브로드클로스 블루종 슬리브 셔츠 has been shipped!\n",
      "ORD-PAKK6 (6183b47226685ff0517551b1) - 네오플랜 블록 구스다운 점퍼(DARK GRAY)  has been shipped!\n",
      "ORD-GKYKH (61862bf826685ff0517556c7) - Ashurst quilted jacket(블랙) has been shipped!\n",
      "ORD-GL7NK (618265fc26685ff051754f33) - 핸드메이드 캐시미어 코트  has been shipped!\n",
      "ORD-VERXH (6182698926685ff051754f47) - 핸드메이드 캐시미어 코트  has been shipped!\n",
      "ORD-BGH46 (618659d826685ff051755731) - [빈폴스포츠] 투웨이 점퍼&조끼 다운 베스트(화이트)  has been shipped!\n",
      "ORD-9YUM9 (618a4ca126685ff051755d58) - 벨티드 구스 패딩(화이트 핑크)  has been shipped!\n",
      "ORD-8XRFR (618b6a9f26685ff051755f2e) - 프레이드 트위드 드레스(다크네이비) has been shipped!\n"
     ]
    }
   ],
   "source": [
    "for i in Inventory.objects.filter(out_order_id__in=[\n",
    "    \"618bdd3d26685ff05175601e\",\n",
    "    \"617a9edb17fc2e5a1f9eabe7\",\n",
    "    \"618b6a9f26685ff051755f2e\",\n",
    "    \"61862bf826685ff0517556c7\",\n",
    "    \"6183b47226685ff0517551b1\",\n",
    "    \"618a4ca126685ff051755d58\",\n",
    "    \"6180d93017fc2e5a1f9eb4ee\",\n",
    "    \"618659d826685ff051755731\",\n",
    "    \"618265fc26685ff051754f33\",\n",
    "    \"6180619517fc2e5a1f9eb42f\",\n",
    "    \"6182698926685ff051754f47\",\n",
    "]):\n",
    "    order = Order.get(i.out_order_id)\n",
    "    print(f\"\"\"{order.code} ({order.id}) - {i.product_name} has been shipped!\"\"\")\n",
    "    i.status = InventoryStatus.SHIPPED\n",
    "    i.save()"
   ]
  },
  {
   "cell_type": "code",
   "execution_count": 9,
   "id": "a9951f11",
   "metadata": {},
   "outputs": [
    {
     "data": {
      "text/plain": [
       "True"
      ]
     },
     "execution_count": 9,
     "metadata": {},
     "output_type": "execute_result"
    }
   ],
   "source": []
  },
  {
   "cell_type": "code",
   "execution_count": null,
   "id": "82ee01dd",
   "metadata": {},
   "outputs": [],
   "source": []
  }
 ],
 "metadata": {
  "kernelspec": {
   "display_name": "Django Shell-Plus",
   "language": "python",
   "name": "django_extensions"
  },
  "language_info": {
   "codemirror_mode": {
    "name": "ipython",
    "version": 3
   },
   "file_extension": ".py",
   "mimetype": "text/x-python",
   "name": "python",
   "nbconvert_exporter": "python",
   "pygments_lexer": "ipython3",
   "version": "3.9.6"
  }
 },
 "nbformat": 4,
 "nbformat_minor": 5
}
