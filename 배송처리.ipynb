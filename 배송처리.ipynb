{
 "cells": [
  {
   "cell_type": "code",
   "execution_count": 1,
   "id": "20276e30",
   "metadata": {},
   "outputs": [],
   "source": [
    "from tagger.models.received_item import ReceivedItem, ReceivedItemStatus\n",
    "from tagger.core.mongo.models.order import OrderCodeMap, Order, OrderStatus\n",
    "from tagger.viewsets.order.change_status import ChangeStatusSerializer, _change_status\n",
    "from django.contrib.auth.models import User\n",
    "from tagger.models.inventory import Inventory, InventoryStatus\n",
    "\n",
    "import os\n",
    "import django\n",
    "os.environ.setdefault('DJANGO_SETTINGS_MODULE', 'rest.settings')\n",
    "os.environ[\"DJANGO_ALLOW_ASYNC_UNSAFE\"] = \"true\"\n",
    "django.setup()\n",
    "import pandas as pd\n",
    "\n",
    "def split_codes(raw_codes):\n",
    "    codes = []\n",
    "    cursor = 0\n",
    "    while cursor < len(raw_codes):\n",
    "        codes.append(raw_codes[cursor: cursor + 5])\n",
    "        cursor = cursor + 5\n",
    "    return codes"
   ]
  },
  {
   "cell_type": "code",
   "execution_count": 3,
   "id": "97486130",
   "metadata": {},
   "outputs": [
    {
     "name": "stdout",
     "output_type": "stream",
     "text": [
      "['U6PUD'] 오버사이즈 와이드 칼라 코트(라임) 주보배\n",
      "['CGQ4H'] Torto sweatshirt(네이비) 윤인주\n",
      "['A6J8J'] 벨티드 플랩 코트(카멜) 하준희\n",
      "['CUCEG'] 폭스 퍼 후드 벨티드 롱 구스 다운 정민지\n",
      "['KWVD6'] 덤블 블록 페이크 무스탕 점퍼(베이지) 윤경\n",
      "['VL4WR'] 폭스 퍼 후드 벨티드 롱 구스 다운 신지혜\n",
      "['TKVHG', 'DVAQ6'] 핸드메이드 히든 버튼 코트, 리브 퀄팅 구스 다운 점퍼(블랙) 김미진\n",
      "['K7ERU'] 더블 핸드메이드 자켓 김주연\n",
      "['7TD77'] 하이넥 리버시블 무스탕 코트 홍인경\n",
      "['NMVHJ', 'BQ3NU'] 리브 퀄팅 구스 다운 점퍼(블랙) , 투웨이 점퍼&조끼 다운 베스트(블랙) 민은정\n",
      "['BPGMX'] [빈폴스포츠]푸퍼 미드 다운 점퍼(네이비) 채은희\n",
      "['JTNUG', 'UUAGX'] [빈폴스포츠] 투웨이 점퍼&조끼 다운 베스트(화이트) , [빈폴스포츠] 투웨이 점퍼&조끼 다운 베스트(블랙) 이정원\n",
      "['YRWJB'] 퀄팅 구스다운 점퍼(BLACK) 정나영\n",
      "['UEWKE', '8RDAR'] 모던 벨티드 트렌치 코트_TWWBYK70030외 1 건, 와이드 칼라 앙고라 울 코트 (CAMEL) 김민선\n"
     ]
    }
   ],
   "source": [
    "with open(\"../Downloads/확장주문검색_20211109_151907.xlsx\", \"rb\") as f:\n",
    "    df = pd.read_excel(f, dtype=str)\n",
    "    df.dropna(subset=[\"주문번호\"], inplace=True)\n",
    "    for _, row in df.iterrows():\n",
    "        print(split_codes(row[\"주문번호\"]), row[\"판매처 상품명\"], row[\"수령자이름\"])"
   ]
  },
  {
   "cell_type": "code",
   "execution_count": 5,
   "id": "5b0fe085",
   "metadata": {},
   "outputs": [
    {
     "name": "stdout",
     "output_type": "stream",
     "text": [
      "https://office.alloff.co/orders/617a795b17fc2e5a1f9eab42 주보배\n",
      "https://office.alloff.co/orders/617fcaf517fc2e5a1f9eb2e6 윤인주\n",
      "https://office.alloff.co/orders/6180d7e817fc2e5a1f9eb4ea 하준희\n",
      "https://office.alloff.co/orders/6183a76a26685ff051755184 정민지\n",
      "https://office.alloff.co/orders/6183a95226685ff05175518d 윤경\n",
      "https://office.alloff.co/orders/6183b82426685ff0517551bc 신지혜\n",
      "https://office.alloff.co/orders/6184d8b326685ff05175540a 김미진\n",
      "https://office.alloff.co/orders/6185165726685ff0517554c2 김미진\n",
      "https://office.alloff.co/orders/6184ef7e26685ff05175542f 김주연\n",
      "https://office.alloff.co/orders/6185018c26685ff051755440 홍인경 \n",
      "https://office.alloff.co/orders/618516ef26685ff0517554c5 민은정\n",
      "https://office.alloff.co/orders/61851cfd26685ff0517554eb 민은정\n",
      "https://office.alloff.co/orders/6185323426685ff051755544 채은희\n",
      "https://office.alloff.co/orders/61853ac026685ff051755565 이정원\n",
      "https://office.alloff.co/orders/61853b3026685ff051755569 이정원\n",
      "https://office.alloff.co/orders/6185ace326685ff051755600 정나영\n",
      "https://office.alloff.co/orders/6186bc1826685ff051755833 김민선\n",
      "https://office.alloff.co/orders/6186c23026685ff051755839 김민선\n"
     ]
    }
   ],
   "source": [
    "for _, row in df.iterrows():\n",
    "    codes = split_codes(row[\"주문번호\"])\n",
    "    tracking_no = f\"{row['택배사']} {row['송장번호']}\"\n",
    "    tracking_url = f\"https://search.naver.com/search.naver?query={tracking_no}\"\n",
    "    for code in codes:\n",
    "        code_map = OrderCodeMap.objects(code=f\"ORD-{code}\").first()\n",
    "        orderid = str(code_map.orderid)\n",
    "        order = Order.objects.get(id=orderid)\n",
    "        s = ChangeStatusSerializer(data={\n",
    "            \"status\": OrderStatus.DELIVERY_STARTED,\n",
    "            \"delivery_tracking_number\": tracking_no,\n",
    "            \"delivery_tracking_url\": tracking_url,\n",
    "        }, instance=order)\n",
    "        s.is_valid(raise_exception=True)\n",
    "        _change_status(s, order, User.objects.get(username=\"backoffice_server\"), id=orderid)\n",
    "        print(f\"https://office.alloff.co/orders/{orderid}\", order.payment.buyername)"
   ]
  },
  {
   "cell_type": "code",
   "execution_count": 6,
   "id": "f910718c",
   "metadata": {},
   "outputs": [
    {
     "name": "stdout",
     "output_type": "stream",
     "text": [
      "ORD-U6PUD (617a795b17fc2e5a1f9eab42) - 오버사이즈 와이드 칼라 코트(라임) has been shipped!\n",
      "ORD-CGQ4H (617fcaf517fc2e5a1f9eb2e6) - Torto sweatshirt(네이비) has been shipped!\n",
      "ORD-A6J8J (6180d7e817fc2e5a1f9eb4ea) - 벨티드 플랩 코트(카멜)  has been shipped!\n",
      "ORD-CUCEG (6183a76a26685ff051755184) - 폭스 퍼 후드 벨티드 롱 구스 다운  has been shipped!\n",
      "ORD-KWVD6 (6183a95226685ff05175518d) - 덤블 블록 페이크 무스탕 점퍼(베이지)  has been shipped!\n",
      "ORD-VL4WR (6183b82426685ff0517551bc) - 폭스 퍼 후드 벨티드 롱 구스 다운 has been shipped!\n",
      "ORD-TKVHG (6184d8b326685ff05175540a) - 핸드메이드 히든 버튼 코트 has been shipped!\n",
      "ORD-DVAQ6 (6185165726685ff0517554c2) - 리브 퀄팅 구스 다운 점퍼(블랙)  has been shipped!\n",
      "ORD-K7ERU (6184ef7e26685ff05175542f) - 더블 핸드메이드 자켓  has been shipped!\n",
      "ORD-7TD77 (6185018c26685ff051755440) - 하이넥 리버시블 무스탕 코트 has been shipped!\n",
      "ORD-NMVHJ (618516ef26685ff0517554c5) - 리브 퀄팅 구스 다운 점퍼(블랙)  has been shipped!\n",
      "ORD-BQ3NU (61851cfd26685ff0517554eb) - 투웨이 점퍼&조끼 다운 베스트(블랙)  has been shipped!\n",
      "ORD-BPGMX (6185323426685ff051755544) - [빈폴스포츠]푸퍼 미드 다운 점퍼(네이비)  has been shipped!\n",
      "ORD-JTNUG (61853ac026685ff051755565) - [빈폴스포츠] 투웨이 점퍼&조끼 다운 베스트(화이트)  has been shipped!\n",
      "ORD-UUAGX (61853b3026685ff051755569) - [빈폴스포츠] 투웨이 점퍼&조끼 다운 베스트(블랙)  has been shipped!\n",
      "ORD-YRWJB (6185ace326685ff051755600) - 퀄팅 구스다운 점퍼(BLACK)  has been shipped!\n",
      "ORD-UEWKE (6186bc1826685ff051755833) - 모던 벨티드 트렌치 코트_TWWBYK70030 has been shipped!\n",
      "ORD-UEWKE (6186bc1826685ff051755833) - 플랩 포켓 울 트렌치 코트 (CAMEL) has been shipped!\n",
      "ORD-8RDAR (6186c23026685ff051755839) - 와이드 칼라 앙고라 울 코트 (CAMEL) has been shipped!\n"
     ]
    }
   ],
   "source": [
    "for _, row in df.iterrows():\n",
    "    codes = split_codes(row[\"주문번호\"])\n",
    "    for code in codes:\n",
    "        order = Order.get_by_code(code)\n",
    "        if order is not None:\n",
    "            inventories = Inventory.objects.filter(status=InventoryStatus.SHIPPING_PENDING, out_order_id=str(order.id)).all()\n",
    "            for i in inventories:\n",
    "                print(f\"\"\"{order.code} ({order.id}) - {i.product_name} has been shipped!\"\"\")\n",
    "                i.status = InventoryStatus.SHIPPED\n",
    "                i.save()"
   ]
  },
  {
   "cell_type": "markdown",
   "id": "1a091bc3",
   "metadata": {},
   "source": []
  },
  {
   "cell_type": "code",
   "execution_count": 6,
   "id": "84b84ff7",
   "metadata": {},
   "outputs": [],
   "source": []
  },
  {
   "cell_type": "code",
   "execution_count": 9,
   "id": "a9951f11",
   "metadata": {},
   "outputs": [
    {
     "data": {
      "text/plain": [
       "True"
      ]
     },
     "execution_count": 9,
     "metadata": {},
     "output_type": "execute_result"
    }
   ],
   "source": []
  },
  {
   "cell_type": "code",
   "execution_count": null,
   "id": "82ee01dd",
   "metadata": {},
   "outputs": [],
   "source": []
  }
 ],
 "metadata": {
  "kernelspec": {
   "display_name": "Django Shell-Plus",
   "language": "python",
   "name": "django_extensions"
  },
  "language_info": {
   "codemirror_mode": {
    "name": "ipython",
    "version": 3
   },
   "file_extension": ".py",
   "mimetype": "text/x-python",
   "name": "python",
   "nbconvert_exporter": "python",
   "pygments_lexer": "ipython3",
   "version": "3.9.6"
  }
 },
 "nbformat": 4,
 "nbformat_minor": 5
}
