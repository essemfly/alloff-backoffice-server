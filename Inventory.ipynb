{
 "cells": [
  {
   "cell_type": "code",
   "execution_count": 33,
   "id": "ee802fcf",
   "metadata": {},
   "outputs": [],
   "source": [
    "from tagger.models.received_item import ReceivedItem, ReceivedItemStatus\n",
    "from tagger.core.mongo.models.order import OrderCodeMap, Order\n",
    "import os\n",
    "import django\n",
    "os.environ.setdefault('DJANGO_SETTINGS_MODULE', 'rest.settings')\n",
    "os.environ[\"DJANGO_ALLOW_ASYNC_UNSAFE\"] = \"true\"\n",
    "django.setup()\n",
    "import pandas as pd"
   ]
  },
  {
   "cell_type": "code",
   "execution_count": 40,
   "id": "5579db2b",
   "metadata": {},
   "outputs": [
    {
     "ename": "ImportError",
     "evalue": "cannot import name 'ObjectId' from 'mongoengine' (/Users/stephenj/Library/Caches/pypoetry/virtualenvs/alloff-backoffice-server-V9pDS2iq-py3.9/lib/python3.9/site-packages/mongoengine/__init__.py)",
     "output_type": "error",
     "traceback": [
      "\u001b[0;31m---------------------------------------------------------------------------\u001b[0m",
      "\u001b[0;31mImportError\u001b[0m                               Traceback (most recent call last)",
      "\u001b[0;32m/var/folders/gn/z090n3wn6bj0y949f1kjzy940000gn/T/ipykernel_45013/3623304794.py\u001b[0m in \u001b[0;36m<module>\u001b[0;34m\u001b[0m\n\u001b[0;32m----> 1\u001b[0;31m \u001b[0;32mfrom\u001b[0m \u001b[0mmongoengine\u001b[0m \u001b[0;32mimport\u001b[0m \u001b[0mObjectId\u001b[0m\u001b[0;34m\u001b[0m\u001b[0;34m\u001b[0m\u001b[0m\n\u001b[0m",
      "\u001b[0;31mImportError\u001b[0m: cannot import name 'ObjectId' from 'mongoengine' (/Users/stephenj/Library/Caches/pypoetry/virtualenvs/alloff-backoffice-server-V9pDS2iq-py3.9/lib/python3.9/site-packages/mongoengine/__init__.py)"
     ]
    }
   ],
   "source": [
    "from mongoengine import ObjectId"
   ]
  },
  {
   "cell_type": "code",
   "execution_count": 24,
   "id": "7da8aad7",
   "metadata": {},
   "outputs": [],
   "source": [
    "def get_row(r: ReceivedItem):\n",
    "    payment = r.order.get_payment()\n",
    "    return {\n",
    "        \"item_name\": r.item_name,\n",
    "        \"size\": r.size,\n",
    "        \"order_url\": f\"https://office.alloff.co/orders/{r.order_id}\",\n",
    "        \"current_order_status\": r.order.orderstatus,\n",
    "        \"brand_name\": r.product.brand.korname,\n",
    "        \"order_code\": r.order.code,\n",
    "        \"order_created\": r.order.created,\n",
    "        \"buyername\": payment.buyername\n",
    "    }"
   ]
  },
  {
   "cell_type": "code",
   "execution_count": 25,
   "id": "bb927fa0",
   "metadata": {},
   "outputs": [],
   "source": [
    "rows = [get_row(r) for r in ReceivedItem.objects.all()]\n",
    "    "
   ]
  },
  {
   "cell_type": "code",
   "execution_count": 26,
   "id": "0865d443",
   "metadata": {},
   "outputs": [],
   "source": [
    "df = pd.DataFrame(rows)"
   ]
  },
  {
   "cell_type": "code",
   "execution_count": 22,
   "id": "9b72ab1a",
   "metadata": {},
   "outputs": [],
   "source": [
    "with open(\"../Desktop/test.xlsx\", \"wb\") as f:\n",
    "    df.to_excel(f)"
   ]
  },
  {
   "cell_type": "code",
   "execution_count": 27,
   "id": "a4ca5a47",
   "metadata": {},
   "outputs": [
    {
     "data": {
      "text/html": [
       "<div>\n",
       "<style scoped>\n",
       "    .dataframe tbody tr th:only-of-type {\n",
       "        vertical-align: middle;\n",
       "    }\n",
       "\n",
       "    .dataframe tbody tr th {\n",
       "        vertical-align: top;\n",
       "    }\n",
       "\n",
       "    .dataframe thead th {\n",
       "        text-align: right;\n",
       "    }\n",
       "</style>\n",
       "<table border=\"1\" class=\"dataframe\">\n",
       "  <thead>\n",
       "    <tr style=\"text-align: right;\">\n",
       "      <th></th>\n",
       "      <th>item_name</th>\n",
       "      <th>size</th>\n",
       "      <th>order_url</th>\n",
       "      <th>current_order_status</th>\n",
       "      <th>brand_name</th>\n",
       "      <th>order_code</th>\n",
       "      <th>order_created</th>\n",
       "      <th>buyername</th>\n",
       "    </tr>\n",
       "  </thead>\n",
       "  <tbody>\n",
       "    <tr>\n",
       "      <th>0</th>\n",
       "      <td>꽈배기 짜임 포인트 양말</td>\n",
       "      <td>FREE</td>\n",
       "      <td>https://office.alloff.co/orders/615d7eac22b2fd...</td>\n",
       "      <td>CANCEL_FINISHED</td>\n",
       "      <td>나이스클랍</td>\n",
       "      <td></td>\n",
       "      <td>2021-10-06 10:47:08.801</td>\n",
       "      <td>테스트이석민</td>\n",
       "    </tr>\n",
       "    <tr>\n",
       "      <th>1</th>\n",
       "      <td>Tiam</td>\n",
       "      <td>0</td>\n",
       "      <td>https://office.alloff.co/orders/616a04ef17fc2e...</td>\n",
       "      <td>DELIVERY_PREPARING</td>\n",
       "      <td>몽클레르</td>\n",
       "      <td></td>\n",
       "      <td>2021-10-15 22:47:11.189</td>\n",
       "      <td>류일향</td>\n",
       "    </tr>\n",
       "    <tr>\n",
       "      <th>2</th>\n",
       "      <td>Frankby quilted jacket(블랙)</td>\n",
       "      <td>XS</td>\n",
       "      <td>https://office.alloff.co/orders/616ac84717fc2e...</td>\n",
       "      <td>CANCEL_REQUESTED</td>\n",
       "      <td>버버리</td>\n",
       "      <td></td>\n",
       "      <td>2021-10-16 12:40:39.110</td>\n",
       "      <td>조현주</td>\n",
       "    </tr>\n",
       "    <tr>\n",
       "      <th>3</th>\n",
       "      <td>Wool and cashmere cardigan(Camel beige)</td>\n",
       "      <td>M</td>\n",
       "      <td>https://office.alloff.co/orders/616bfc4c17fc2e...</td>\n",
       "      <td>DELIVERY_PREPARING</td>\n",
       "      <td>막스마라</td>\n",
       "      <td></td>\n",
       "      <td>2021-10-17 10:34:52.678</td>\n",
       "      <td>이남이</td>\n",
       "    </tr>\n",
       "    <tr>\n",
       "      <th>4</th>\n",
       "      <td>캐시미어 니트 롱 드레스</td>\n",
       "      <td>90(F)</td>\n",
       "      <td>https://office.alloff.co/orders/616d707617fc2e...</td>\n",
       "      <td>CANCEL_PENDING</td>\n",
       "      <td>시스템</td>\n",
       "      <td></td>\n",
       "      <td>2021-10-18 13:02:46.986</td>\n",
       "      <td>박미옥</td>\n",
       "    </tr>\n",
       "    <tr>\n",
       "      <th>...</th>\n",
       "      <td>...</td>\n",
       "      <td>...</td>\n",
       "      <td>...</td>\n",
       "      <td>...</td>\n",
       "      <td>...</td>\n",
       "      <td>...</td>\n",
       "      <td>...</td>\n",
       "      <td>...</td>\n",
       "    </tr>\n",
       "    <tr>\n",
       "      <th>135</th>\n",
       "      <td>[로렌 랄프로렌] 브로드클로스 블루종 슬리브 셔츠</td>\n",
       "      <td>M(66)</td>\n",
       "      <td>https://office.alloff.co/orders/6182768926685f...</td>\n",
       "      <td>PRODUCT_PREPARING</td>\n",
       "      <td>폴로 랄프로렌</td>\n",
       "      <td>ORD-EFU79</td>\n",
       "      <td>2021-11-03 11:46:17.742</td>\n",
       "      <td>김유미</td>\n",
       "    </tr>\n",
       "    <tr>\n",
       "      <th>136</th>\n",
       "      <td>스티치 니트 스웻셔츠</td>\n",
       "      <td>85</td>\n",
       "      <td>https://office.alloff.co/orders/6182834026685f...</td>\n",
       "      <td>PAYMENT_FINISHED</td>\n",
       "      <td>에스제이에스제이</td>\n",
       "      <td>ORD-94DYH</td>\n",
       "      <td>2021-11-03 12:40:32.342</td>\n",
       "      <td>김은진</td>\n",
       "    </tr>\n",
       "    <tr>\n",
       "      <th>137</th>\n",
       "      <td>Ashurst quilted jacket(블랙)</td>\n",
       "      <td>S</td>\n",
       "      <td>https://office.alloff.co/orders/6183173b26685f...</td>\n",
       "      <td>PAYMENT_FINISHED</td>\n",
       "      <td>버버리</td>\n",
       "      <td>ORD-3NVHL</td>\n",
       "      <td>2021-11-03 23:11:55.234</td>\n",
       "      <td>김태연</td>\n",
       "    </tr>\n",
       "    <tr>\n",
       "      <th>138</th>\n",
       "      <td>벨티드 플랩 코트(카멜)</td>\n",
       "      <td>82(55)</td>\n",
       "      <td>https://office.alloff.co/orders/6183372e26685f...</td>\n",
       "      <td>PAYMENT_FINISHED</td>\n",
       "      <td>씨씨콜렉트</td>\n",
       "      <td>ORD-BX36R</td>\n",
       "      <td>2021-11-04 01:28:14.399</td>\n",
       "      <td>박선정</td>\n",
       "    </tr>\n",
       "    <tr>\n",
       "      <th>139</th>\n",
       "      <td>숄 블록 니트 탑</td>\n",
       "      <td>90(F)</td>\n",
       "      <td>https://office.alloff.co/orders/61833fd726685f...</td>\n",
       "      <td>PAYMENT_FINISHED</td>\n",
       "      <td>타임</td>\n",
       "      <td>ORD-3EXHL</td>\n",
       "      <td>2021-11-04 02:05:11.372</td>\n",
       "      <td>정인영</td>\n",
       "    </tr>\n",
       "  </tbody>\n",
       "</table>\n",
       "<p>140 rows × 8 columns</p>\n",
       "</div>"
      ],
      "text/plain": [
       "                                   item_name    size  \\\n",
       "0                              꽈배기 짜임 포인트 양말    FREE   \n",
       "1                                       Tiam       0   \n",
       "2                 Frankby quilted jacket(블랙)      XS   \n",
       "3    Wool and cashmere cardigan(Camel beige)       M   \n",
       "4                             캐시미어 니트 롱 드레스    90(F)   \n",
       "..                                       ...     ...   \n",
       "135              [로렌 랄프로렌] 브로드클로스 블루종 슬리브 셔츠   M(66)   \n",
       "136                             스티치 니트 스웻셔츠       85   \n",
       "137               Ashurst quilted jacket(블랙)       S   \n",
       "138                           벨티드 플랩 코트(카멜)   82(55)   \n",
       "139                               숄 블록 니트 탑    90(F)   \n",
       "\n",
       "                                             order_url current_order_status  \\\n",
       "0    https://office.alloff.co/orders/615d7eac22b2fd...      CANCEL_FINISHED   \n",
       "1    https://office.alloff.co/orders/616a04ef17fc2e...   DELIVERY_PREPARING   \n",
       "2    https://office.alloff.co/orders/616ac84717fc2e...     CANCEL_REQUESTED   \n",
       "3    https://office.alloff.co/orders/616bfc4c17fc2e...   DELIVERY_PREPARING   \n",
       "4    https://office.alloff.co/orders/616d707617fc2e...       CANCEL_PENDING   \n",
       "..                                                 ...                  ...   \n",
       "135  https://office.alloff.co/orders/6182768926685f...    PRODUCT_PREPARING   \n",
       "136  https://office.alloff.co/orders/6182834026685f...     PAYMENT_FINISHED   \n",
       "137  https://office.alloff.co/orders/6183173b26685f...     PAYMENT_FINISHED   \n",
       "138  https://office.alloff.co/orders/6183372e26685f...     PAYMENT_FINISHED   \n",
       "139  https://office.alloff.co/orders/61833fd726685f...     PAYMENT_FINISHED   \n",
       "\n",
       "    brand_name order_code           order_created buyername  \n",
       "0        나이스클랍            2021-10-06 10:47:08.801    테스트이석민  \n",
       "1         몽클레르            2021-10-15 22:47:11.189       류일향  \n",
       "2          버버리            2021-10-16 12:40:39.110       조현주  \n",
       "3         막스마라            2021-10-17 10:34:52.678       이남이  \n",
       "4          시스템            2021-10-18 13:02:46.986       박미옥  \n",
       "..         ...        ...                     ...       ...  \n",
       "135    폴로 랄프로렌  ORD-EFU79 2021-11-03 11:46:17.742      김유미   \n",
       "136   에스제이에스제이  ORD-94DYH 2021-11-03 12:40:32.342       김은진  \n",
       "137        버버리  ORD-3NVHL 2021-11-03 23:11:55.234       김태연  \n",
       "138      씨씨콜렉트  ORD-BX36R 2021-11-04 01:28:14.399       박선정  \n",
       "139         타임  ORD-3EXHL 2021-11-04 02:05:11.372       정인영  \n",
       "\n",
       "[140 rows x 8 columns]"
      ]
     },
     "execution_count": 27,
     "metadata": {},
     "output_type": "execute_result"
    }
   ],
   "source": [
    " df"
   ]
  },
  {
   "cell_type": "code",
   "execution_count": 36,
   "id": "2a56446b",
   "metadata": {},
   "outputs": [],
   "source": [
    "items = Order.objects(\n",
    "    id=OrderCodeMap.objects(code=\"ORD-CGA6M\").first().orderid\n",
    ").first().orders"
   ]
  },
  {
   "cell_type": "code",
   "execution_count": 39,
   "id": "8e21dd15",
   "metadata": {},
   "outputs": [
    {
     "name": "stdout",
     "output_type": "stream",
     "text": [
      "82(55) 1 워싱 코튼 패딩 점퍼(그레이)  None\n"
     ]
    }
   ],
   "source": []
  },
  {
   "cell_type": "code",
   "execution_count": 70,
   "id": "a0c37921",
   "metadata": {},
   "outputs": [],
   "source": [
    "from bson import ObjectId\n",
    "inventories = [\n",
    "    \"616e094917fc2e5a1f9e91bd\",\n",
    "    \"6172505a17fc2e5a1f9e9a55\",\n",
    "    \"616e1b5917fc2e5a1f9e91e6\",\n",
    "    \"6173f22f17fc2e5a1f9e9eaa\",\n",
    "    \"6171131b17fc2e5a1f9e9754\",\n",
    "    \"61715b9817fc2e5a1f9e9842\",\n",
    "    \"617570b817fc2e5a1f9ea18f\",\n",
    "    \"617b49a017fc2e5a1f9ead04\",\n",
    "    \"617cb59e17fc2e5a1f9eaf75\",\n",
    "    \"617cb70617fc2e5a1f9eaf78\",\n",
    "    \"6178c60017fc2e5a1f9ea7bb\",\n",
    "    \"61796a8017fc2e5a1f9eaa39\",\n",
    "    \"6178fa2017fc2e5a1f9ea859\",\n",
    "    \"616d707617fc2e5a1f9e907d\",\n",
    "    \"617e860d17fc2e5a1f9eb12e\",\n",
    "    \"617e86b317fc2e5a1f9eb135\",\n",
    "    \"61776a9017fc2e5a1f9ea5a4\",\n",
    "    \"61701beb17fc2e5a1f9e9597\",\n",
    "    \"6175fb2e17fc2e5a1f9ea2a7\",\n",
    "]\n",
    "\n",
    "inv_ords = [x for x in Order.objects(id__in=[ObjectId(i) for i in inventories])]\n",
    "\n",
    "products = {}\n",
    "alloffproducts = {}\n",
    "for i in inv_ords:\n",
    "    for item in i.orders:\n",
    "        if item.alloffproduct is not None:\n",
    "            key = (str(item.alloffproduct._id), item.size)\n",
    "            if key in alloffproducts:\n",
    "                alloffproducts[key].append(str(i.id))\n",
    "            else:\n",
    "                alloffproducts[key] = [str(i.id)]\n",
    "        if item.product is not None:\n",
    "            key = (str(item.product._id), item.size)\n",
    "            if key in products:\n",
    "                products[key].append(str(i.id))\n",
    "            else:\n",
    "                products[key] = [str(i.id)]"
   ]
  },
  {
   "cell_type": "code",
   "execution_count": 71,
   "id": "3a7373b7",
   "metadata": {},
   "outputs": [],
   "source": [
    "hungry_orders = Order.objects(orderstatus__in=[\n",
    "    \"PRODUCT_PREPARING\",\n",
    "    \"PAYMENT_FINISHED\",\n",
    "    \"DELIVERY_PREPARING\"\n",
    "], ordertype=\"TIMEDEAL_ORDER\").all()\n",
    "\n",
    "shippables = []\n",
    "\n",
    "\n",
    "for h in hungry_orders:\n",
    "    key = (str(h.orders[0].alloffproduct._id), h.orders[0].size)\n",
    "    if key in alloffproducts:\n",
    "        shippables.append(h)"
   ]
  },
  {
   "cell_type": "code",
   "execution_count": 72,
   "id": "83304020",
   "metadata": {},
   "outputs": [
    {
     "name": "stdout",
     "output_type": "stream",
     "text": [
      "617a086e17fc2e5a1f9eaaba 오버사이즈 와이드 칼라 코트(라임) 이진영 82(55) 2021-10-28 02:18:22.229000 ORD-KTFKF\n",
      "617a795b17fc2e5a1f9eab42 오버사이즈 와이드 칼라 코트(라임) 주보배 82(55) 2021-10-28 10:20:11.057000 ORD-U6PUD\n",
      "61813fbd26685ff051754d3c 하이넥 울 니트 탑  박미화  90(F) 2021-11-02 13:40:13.471000 ORD-E7RP4\n"
     ]
    }
   ],
   "source": [
    "for s in shippables:\n",
    "    p = s.get_payment()\n",
    "    print(str(s.id), p.name, p.buyername, s.orders[0].size, s.created, s.code)"
   ]
  },
  {
   "cell_type": "code",
   "execution_count": 51,
   "id": "b7f734e1",
   "metadata": {},
   "outputs": [
    {
     "data": {
      "text/plain": [
       "[<Order: Order object>,\n",
       " <Order: Order object>,\n",
       " <Order: Order object>,\n",
       " <Order: Order object>,\n",
       " <Order: Order object>,\n",
       " <Order: Order object>,\n",
       " <Order: Order object>,\n",
       " <Order: Order object>,\n",
       " <Order: Order object>,\n",
       " <Order: Order object>,\n",
       " <Order: Order object>,\n",
       " <Order: Order object>,\n",
       " <Order: Order object>,\n",
       " <Order: Order object>,\n",
       " <Order: Order object>,\n",
       " <Order: Order object>,\n",
       " <Order: Order object>,\n",
       " <Order: Order object>,\n",
       " <Order: Order object>]"
      ]
     },
     "execution_count": 51,
     "metadata": {},
     "output_type": "execute_result"
    }
   ],
   "source": []
  },
  {
   "cell_type": "code",
   "execution_count": 80,
   "id": "cb4b7225",
   "metadata": {},
   "outputs": [
    {
     "name": "stdout",
     "output_type": "stream",
     "text": [
      "하이넥 울 니트 탑  박미화  61813fbd26685ff051754d3c\n"
     ]
    }
   ],
   "source": [
    "o = Order.objects(id=OrderCodeMap.objects(code=\"ORD-E7RP4\").first().orderid).first()\n",
    "p = o.get_payment()\n",
    "print(p.name, p.buyername, str(o.id))"
   ]
  },
  {
   "cell_type": "code",
   "execution_count": 81,
   "id": "15b041ab",
   "metadata": {},
   "outputs": [],
   "source": [
    "can_ship = [\n",
    "    \"617ff99b17fc2e5a1f9eb3a8\",\n",
    "    \"617ff99b17fc2e5a1f9eb3a8\",\n",
    "    \"617114a117fc2e5a1f9e9768\",\n",
    "    \"617e6bf517fc2e5a1f9eb114\",\n",
    "    \"6180ffde26685ff051754c66\",\n",
    "    \"617e4d7717fc2e5a1f9eb0f4\",\n",
    "    \"618139cf26685ff051754d2a\",\n",
    "    \"6180fe1b26685ff051754c57\",\n",
    "    \"6180fe8626685ff051754c5a\",\n",
    "    \"6180fd6d26685ff051754c51\",\n",
    "    \"6181bbf926685ff051754e40\",\n",
    "    \"6181415426685ff051754d4d\",\n",
    "    \"61813fbd26685ff051754d3c\",\n",
    "    \"618145d826685ff051754d89\",\n",
    "    \"617e965017fc2e5a1f9eb18e\",\n",
    "    \"61792ac017fc2e5a1f9ea8f0\",\n",
    "    \"6178c83d17fc2e5a1f9ea7c6\",\n",
    "    \"61812a1526685ff051754cdd\",\n",
    "    \"618116fc26685ff051754ca1\",\n",
    "    \"617a086e17fc2e5a1f9eaaba\",\n",
    "    \"617cad7017fc2e5a1f9eaf6b\",\n",
    "    \"6178d5d217fc2e5a1f9ea810\",\n",
    "]\n",
    "\n",
    "can_ship_orders = Order.objects(id__in=[ObjectId(x) for x in can_ship]).all()"
   ]
  },
  {
   "cell_type": "code",
   "execution_count": 82,
   "id": "a741dda6",
   "metadata": {},
   "outputs": [
    {
     "name": "stdout",
     "output_type": "stream",
     "text": [
      "DELIVERY_PREPARING 617114a117fc2e5a1f9e9768\n",
      "CANCEL_FINISHED 6178c83d17fc2e5a1f9ea7c6\n",
      "CANCEL_FINISHED 6178d5d217fc2e5a1f9ea810\n",
      "DELIVERY_PREPARING 61792ac017fc2e5a1f9ea8f0\n",
      "DELIVERY_PREPARING 617a086e17fc2e5a1f9eaaba\n",
      "DELIVERY_PREPARING 617cad7017fc2e5a1f9eaf6b\n",
      "DELIVERY_PREPARING 617e4d7717fc2e5a1f9eb0f4\n",
      "DELIVERY_STARTED 617e6bf517fc2e5a1f9eb114\n",
      "PRODUCT_PREPARING 617e965017fc2e5a1f9eb18e\n",
      "DELIVERY_PREPARING 617ff99b17fc2e5a1f9eb3a8\n",
      "CANCEL_FINISHED 6180fd6d26685ff051754c51\n",
      "DELIVERY_PREPARING 6180fe1b26685ff051754c57\n",
      "DELIVERY_PREPARING 6180fe8626685ff051754c5a\n",
      "DELIVERY_PREPARING 6180ffde26685ff051754c66\n",
      "DELIVERY_PREPARING 618116fc26685ff051754ca1\n",
      "DELIVERY_PREPARING 61812a1526685ff051754cdd\n",
      "DELIVERY_PREPARING 618139cf26685ff051754d2a\n",
      "DELIVERY_PREPARING 61813fbd26685ff051754d3c\n",
      "DELIVERY_PREPARING 6181415426685ff051754d4d\n",
      "DELIVERY_PREPARING 618145d826685ff051754d89\n",
      "DELIVERY_PREPARING 6181bbf926685ff051754e40\n"
     ]
    }
   ],
   "source": [
    "for c in can_ship_orders:\n",
    "    print(c.orderstatus, c.id)"
   ]
  },
  {
   "cell_type": "code",
   "execution_count": null,
   "id": "92fb1ead",
   "metadata": {},
   "outputs": [],
   "source": []
  }
 ],
 "metadata": {
  "kernelspec": {
   "display_name": "Django Shell-Plus",
   "language": "python",
   "name": "django_extensions"
  },
  "language_info": {
   "codemirror_mode": {
    "name": "ipython",
    "version": 3
   },
   "file_extension": ".py",
   "mimetype": "text/x-python",
   "name": "python",
   "nbconvert_exporter": "python",
   "pygments_lexer": "ipython3",
   "version": "3.9.6"
  }
 },
 "nbformat": 4,
 "nbformat_minor": 5
}
