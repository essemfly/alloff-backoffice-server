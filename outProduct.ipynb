{
 "cells": [
  {
   "cell_type": "code",
   "execution_count": 4,
   "id": "03291f1f",
   "metadata": {},
   "outputs": [],
   "source": [
    "import os\n",
    "import pandas as pd\n",
    "import django\n",
    "os.environ.setdefault('DJANGO_SETTINGS_MODULE', 'rest.settings')\n",
    "os.environ[\"DJANGO_ALLOW_ASYNC_UNSAFE\"] = \"true\"\n",
    "django.setup()\n",
    "\n",
    "from tagger.core.mongo.models.order import Order, OrderType, Payment\n",
    "from tagger.models.inventory import Inventory, InventoryStatus\n",
    "from tagger.core.label.print_label import print_label\n",
    "from tagger.core.label.shipping_label import make_shipping_label\n",
    "from bson import ObjectId\n",
    "\n",
    "def ready_for_shipping(order_id: str, inventory: Inventory):\n",
    "    order = Order.objects(id=ObjectId(order_id)).first()\n",
    "    inventory.out_order_id = order_id\n",
    "    inventory.status = InventoryStatus.SHIPPING_PENDING\n",
    "    inventory.save()\n",
    "    print_label(make_shipping_label(order, inventory))\n",
    "\n"
   ]
  },
  {
   "cell_type": "code",
   "execution_count": 7,
   "id": "d17ad384",
   "metadata": {},
   "outputs": [],
   "source": [
    "in_stock_query = Inventory.objects.filter(status=InventoryStatus.IN_STOCK).order_by(\"id\")\n",
    "inventories = in_stock_query.all()\n",
    "orders = (\n",
    "            Order.objects(\n",
    "                orderstatus__in=[\n",
    "                    \"PAYMENT_FINISHED\",\n",
    "                    \"PRODUCT_PREPARING\",\n",
    "                    \"DELIVERY_PREPARING\",\n",
    "                ],\n",
    "            )\n",
    "            .order_by(\"id\")\n",
    "            .all()\n",
    "        )\n",
    "inventory_map = {}\n",
    "exhausted_inventory_ids = []\n",
    "for inv in inventories:\n",
    "    key = (inv.product_name.replace(\" \", \"\") + \"-\" + inv.product_brand, inv.size.replace(\" \", \"\"))\n",
    "    if key in inventory_map:\n",
    "        inventory_map[key].append(inv)\n",
    "    else:\n",
    "        inventory_map[key] = [inv]\n",
    "        \n",
    "order_item_inventory_matches = []\n",
    "\n",
    "for order in orders:\n",
    "    # Skip if already fully fulfilled\n",
    "    if len(order.orders) == Inventory.objects.filter(status=InventoryStatus.SHIPPING_PENDING, out_order_id=str(order.id)).count():\n",
    "        continue\n",
    "    \n",
    "    payment = order.payment\n",
    "    \n",
    "    \n",
    "    for item in order.orders:\n",
    "        p = item.alloffproduct if item.alloffproduct is not None else item.product\n",
    "\n",
    "        # Directly matching inventory\n",
    "        direct_matches = [x for x in in_stock_query.filter(\n",
    "            product_id=p._id\n",
    "        ).exclude(\n",
    "            id__in=exhausted_inventory_ids\n",
    "        ).all() if x.size.replace(\" \", \"\") == item.size.replace(\" \", \"\")]\n",
    "        \n",
    "        if len(direct_matches) > 0:\n",
    "            match = direct_matches[0]\n",
    "            exhausted_inventory_ids.append(match.id)\n",
    "            order_item_inventory_matches.append((order, item, match))\n",
    "        \n",
    "        # No direct matches --- start string matching\n",
    "        else:\n",
    "            stringmatch_key = (p.name.replace(\" \", \"\") + \"-\" + p.brand.keyname, item.size.replace(\" \", \"\"))\n",
    "#             print(stringmatch_key)\n",
    "            if stringmatch_key in inventory_map:\n",
    "                # Matches excluding exhausted inventories\n",
    "                matches = [x for x in inventory_map[stringmatch_key] if x.id not in exhausted_inventory_ids]\n",
    "                \n",
    "                # If all are exhausted, pass\n",
    "                if len(matches) == 0:\n",
    "                    pass\n",
    "                # Match found!\n",
    "                else:\n",
    "                    match = matches[0]\n",
    "                    exhausted_inventory_ids.append(match.id)\n",
    "                    order_item_inventory_matches.append((order, item, match))\n",
    "            else:\n",
    "                # no hope\n",
    "                pass\n",
    "            \n",
    "\n",
    "df_items = []\n",
    "for order, item, inv in order_item_inventory_matches:\n",
    "    payment = order.payment\n",
    "    df_items.append({\n",
    "        \"order_id\": order.id,\n",
    "        \"orderstatus\": order.orderstatus,\n",
    "        \"buyername\": payment.buyername,\n",
    "        \"ordername\": payment.name,\n",
    "        \"size\": inv.size,\n",
    "        \"ordered\": order.created.date(),\n",
    "        \"inventory_id\": inv.id,\n",
    "        \"inventory_code\": inv.code,\n",
    "    })"
   ]
  },
  {
   "cell_type": "code",
   "execution_count": 8,
   "id": "2b797f7b",
   "metadata": {},
   "outputs": [
    {
     "data": {
      "text/html": [
       "<div>\n",
       "<style scoped>\n",
       "    .dataframe tbody tr th:only-of-type {\n",
       "        vertical-align: middle;\n",
       "    }\n",
       "\n",
       "    .dataframe tbody tr th {\n",
       "        vertical-align: top;\n",
       "    }\n",
       "\n",
       "    .dataframe thead th {\n",
       "        text-align: right;\n",
       "    }\n",
       "</style>\n",
       "<table border=\"1\" class=\"dataframe\">\n",
       "  <thead>\n",
       "    <tr style=\"text-align: right;\">\n",
       "      <th></th>\n",
       "      <th>order_id</th>\n",
       "      <th>orderstatus</th>\n",
       "      <th>buyername</th>\n",
       "      <th>ordername</th>\n",
       "      <th>size</th>\n",
       "      <th>ordered</th>\n",
       "      <th>inventory_id</th>\n",
       "      <th>inventory_code</th>\n",
       "    </tr>\n",
       "  </thead>\n",
       "  <tbody>\n",
       "    <tr>\n",
       "      <th>0</th>\n",
       "      <td>618d1f7526685ff05175627e</td>\n",
       "      <td>DELIVERY_PREPARING</td>\n",
       "      <td>인지현</td>\n",
       "      <td>클래식 롱 다운 코트</td>\n",
       "      <td>95</td>\n",
       "      <td>2021-11-11</td>\n",
       "      <td>242</td>\n",
       "      <td>211117-019</td>\n",
       "    </tr>\n",
       "  </tbody>\n",
       "</table>\n",
       "</div>"
      ],
      "text/plain": [
       "                   order_id         orderstatus buyername     ordername size  \\\n",
       "0  618d1f7526685ff05175627e  DELIVERY_PREPARING       인지현  클래식 롱 다운 코트    95   \n",
       "\n",
       "      ordered  inventory_id inventory_code  \n",
       "0  2021-11-11           242     211117-019  "
      ]
     },
     "execution_count": 8,
     "metadata": {},
     "output_type": "execute_result"
    }
   ],
   "source": [
    "df = pd.DataFrame(df_items)\n",
    "# df = df.sort_values(by=\"buyername\")\n",
    "df"
   ]
  },
  {
   "cell_type": "code",
   "execution_count": 7,
   "id": "f7da4512",
   "metadata": {
    "scrolled": true
   },
   "outputs": [],
   "source": [
    "for order, item, inv in order_item_inventory_matches:\n",
    "    ready_for_shipping(order.id, inv)\n"
   ]
  },
  {
   "cell_type": "code",
   "execution_count": 8,
   "id": "490b0b3b",
   "metadata": {
    "scrolled": false
   },
   "outputs": [
    {
     "data": {
      "text/plain": [
       "{('[Re-order]알파카블렌드니트가디건(스모크핑크)-TIME',\n",
       "  '90(F)'): [<Inventory: Inventory #25 [IN_STOCK] [Re-order] 알파카 블렌드 니트 가디건(스모크 핑크) (201104)>],\n",
       " ('[기획]핸드메이드벨티드코트-SJSJ',\n",
       "  '82(55)'): [<Inventory: Inventory #26 [IN_STOCK] [기획] 핸드메이드 벨티드 코트 (201104)>],\n",
       " ('[빈폴스포츠]듀얼후드코어쇼트다운(옐로우)-BEANPOLEL',\n",
       "  '85'): [<Inventory: Inventory #27 [IN_STOCK] [빈폴스포츠] 듀얼 후드 코어 쇼트 다운(옐로우) (201104)>],\n",
       " ('리브블록후드구스다운점퍼-MINE',\n",
       "  '82(55)'): [<Inventory: Inventory #29 [IN_STOCK] 리브 블록 후드 구스다운 점퍼 (201104)>],\n",
       " ('볼륨소매니트풀오버(민트)-DEWL',\n",
       "  'FREE(99)'): [<Inventory: Inventory #30 [IN_STOCK] 볼륨 소매 니트 풀오버(민트) (201104)>],\n",
       " ('스티치디테일핸드메이드코트(그린)-CCCOLLECT',\n",
       "  '88(66)'): [<Inventory: Inventory #31 [IN_STOCK] 스티치 디테일 핸드메이드 코트(그린) (201104)>],\n",
       " ('스플릿드레스-TIME',\n",
       "  '82(55)'): [<Inventory: Inventory #32 [IN_STOCK] 스플릿 드레스 (201104)>],\n",
       " ('아노락퀼팅점퍼(오렌지)-THECASHMERE',\n",
       "  '82(F)'): [<Inventory: Inventory #33 [IN_STOCK] 아노락 퀼팅 점퍼(오렌지) (201104)>],\n",
       " ('워싱코튼패딩점퍼(그레이)-CCCOLLECT',\n",
       "  '82(55)'): [<Inventory: Inventory #35 [IN_STOCK] 워싱 코튼 패딩 점퍼(그레이) (201104)>],\n",
       " ('캐시미어니트롱드레스-SYSTEM',\n",
       "  '90(F)'): [<Inventory: Inventory #39 [IN_STOCK] 캐시미어 니트 롱 드레스 (201104)>,\n",
       "  <Inventory: Inventory #40 [IN_STOCK] 캐시미어 니트 롱 드레스 (201104)>,\n",
       "  <Inventory: Inventory #41 [IN_STOCK] 캐시미어 니트 롱 드레스 (201104)>],\n",
       " ('컬러블록페이크무스탕자켓(그레이)-CCCOLLECT',\n",
       "  '82(55)'): [<Inventory: Inventory #42 [IN_STOCK] 컬러 블록 페이크 무스탕 자켓(그레이) (201104)>],\n",
       " ('프레이드트위드드레스(다크네이비)-CCCOLLECT',\n",
       "  '82(55)'): [<Inventory: Inventory #43 [IN_STOCK] 프레이드 트위드 드레스(다크네이비) (201104-004-R)>],\n",
       " ('핸드메이드더블코트-TIME',\n",
       "  '82(55)'): [<Inventory: Inventory #46 [IN_STOCK] 핸드메이드 더블 코트 (201104)>, <Inventory: Inventory #47 [IN_STOCK] 핸드메이드 더블 코트 (201104)>],\n",
       " ('벨티드플랩코트(카멜)-CCCOLLECT',\n",
       "  '88(66)'): [<Inventory: Inventory #74 [IN_STOCK] 벨티드 플랩 코트(카멜)  (211108-009-R)>],\n",
       " ('테일러드더블코트(블랙)-DEWL',\n",
       "  '88(66)'): [<Inventory: Inventory #75 [IN_STOCK] 테일러드 더블 코트(블랙)  (211108-010-R)>],\n",
       " ('워싱코튼패딩점퍼(그레이)-CCCOLLECT',\n",
       "  '88(66)'): [<Inventory: Inventory #115 [IN_STOCK] 워싱 코튼 패딩 점퍼(그레이)  (211110-005-R)>],\n",
       " ('백플랩니트드레스(OTMEAL)-TIME',\n",
       "  '90'): [<Inventory: Inventory #138 [IN_STOCK] 백 플랩 니트 드레스(OTMEAL) (211111-011)>],\n",
       " ('핸드메이드캐시미어코트(그레이)-BEANPOLEL',\n",
       "  '95'): [<Inventory: Inventory #139 [IN_STOCK] 핸드메이드 캐시미어 코트 (그레이)  (211111-012)>, <Inventory: Inventory #165 [IN_STOCK] 핸드메이드 캐시미어 코트 (그레이)  (211112-021-R)>],\n",
       " ('더블핸드메이드자켓-SJSJ',\n",
       "  '76(44)'): [<Inventory: Inventory #141 [IN_STOCK] 더블 핸드메이드 자켓  (211111-014-R)>],\n",
       " ('벨티드후드코트(멜란지그레이)-CCCOLLECT',\n",
       "  '82(55)'): [<Inventory: Inventory #143 [IN_STOCK] 벨티드 후드 코트(멜란지 그레이) (211111-015)>],\n",
       " ('하이넥울니트탑-SYSTEM',\n",
       "  '90(F)'): [<Inventory: Inventory #144 [IN_STOCK] 하이넥 울 니트 탑  (211112-001)>, <Inventory: Inventory #205 [IN_STOCK] 하이넥 울 니트 탑  (211115-028-R)>],\n",
       " ('배색하이넥니트드레스-THECASHMERE',\n",
       "  '90(F)'): [<Inventory: Inventory #146 [IN_STOCK] 배색 하이넥 니트 드레스  (211112-003)>],\n",
       " ('언밸런스울스커트-SYSTEM',\n",
       "  '64(66)'): [<Inventory: Inventory #204 [IN_STOCK] 언밸런스 울 스커트  (211115-027-R)>]}"
      ]
     },
     "execution_count": 8,
     "metadata": {},
     "output_type": "execute_result"
    }
   ],
   "source": [
    "inventory_map"
   ]
  },
  {
   "cell_type": "code",
   "execution_count": 9,
   "id": "6bd1807c",
   "metadata": {},
   "outputs": [],
   "source": [
    "# ready_for_shipping(\"618516ef26685ff0517554c5\",\n",
    "#                    Inventory.objects.get(id=92)\n",
    "#                   )"
   ]
  },
  {
   "cell_type": "code",
   "execution_count": 10,
   "id": "f3370e9c",
   "metadata": {},
   "outputs": [],
   "source": [
    "df.to_clipboard()"
   ]
  },
  {
   "cell_type": "code",
   "execution_count": 19,
   "id": "c7e38697",
   "metadata": {},
   "outputs": [],
   "source": [
    "ready_for_shipping(\"6185018c26685ff051755440\",\n",
    "                   Inventory.objects.get(code=\"211109-010\")\n",
    "                  )"
   ]
  },
  {
   "cell_type": "code",
   "execution_count": 7,
   "id": "8b1a7ebe",
   "metadata": {},
   "outputs": [],
   "source": [
    "ready_for_shipping(str(Order.get_by_code(\"bq3nu\").id),\n",
    "                   Inventory.objects.get(code=\"211109-007\")\n",
    "                  )"
   ]
  },
  {
   "cell_type": "code",
   "execution_count": null,
   "id": "72678214",
   "metadata": {},
   "outputs": [],
   "source": []
  },
  {
   "cell_type": "code",
   "execution_count": 2,
   "id": "e4181a07",
   "metadata": {},
   "outputs": [],
   "source": [
    "to_be_shipped = Inventory.objects.filter(status=InventoryStatus.SHIPPING_PENDING).all()"
   ]
  },
  {
   "cell_type": "code",
   "execution_count": 7,
   "id": "5f0e4224",
   "metadata": {},
   "outputs": [],
   "source": [
    "df = pd.DataFrame([{\n",
    "    \"order_id\": x.out_order_id,\n",
    "    \"name\": x.out_order.get_payment().buyername,\n",
    "    \"order_name\": x.out_order.get_payment().name,\n",
    "    \"inventory_code\": x.code\n",
    "} for x in to_be_shipped])"
   ]
  },
  {
   "cell_type": "code",
   "execution_count": 8,
   "id": "80e7dadc",
   "metadata": {},
   "outputs": [],
   "source": [
    "df.to_clipboard()"
   ]
  },
  {
   "cell_type": "code",
   "execution_count": 9,
   "id": "b8486232",
   "metadata": {},
   "outputs": [
    {
     "data": {
      "text/plain": [
       "70"
      ]
     },
     "execution_count": 9,
     "metadata": {},
     "output_type": "execute_result"
    }
   ],
   "source": [
    "Inventory.objects.filter(out_order_id=\"6188765726685ff051755a57\").first().id"
   ]
  },
  {
   "cell_type": "code",
   "execution_count": 6,
   "id": "ddc91da6",
   "metadata": {},
   "outputs": [
    {
     "data": {
      "text/plain": [
       "[]"
      ]
     },
     "execution_count": 6,
     "metadata": {},
     "output_type": "execute_result"
    }
   ],
   "source": [
    "order_item_inventory_matches"
   ]
  },
  {
   "cell_type": "code",
   "execution_count": 3,
   "id": "e8de677b",
   "metadata": {},
   "outputs": [],
   "source": [
    "ready_for_shipping(\"6178d20c17fc2e5a1f9ea805\", Inventory.objects.get(code=\"211111-006-NP\"))"
   ]
  },
  {
   "cell_type": "code",
   "execution_count": null,
   "id": "8e3bde1f",
   "metadata": {},
   "outputs": [],
   "source": []
  }
 ],
 "metadata": {
  "kernelspec": {
   "display_name": "Django Shell-Plus",
   "language": "python",
   "name": "django_extensions"
  },
  "language_info": {
   "codemirror_mode": {
    "name": "ipython",
    "version": 3
   },
   "file_extension": ".py",
   "mimetype": "text/x-python",
   "name": "python",
   "nbconvert_exporter": "python",
   "pygments_lexer": "ipython3",
   "version": "3.9.6"
  }
 },
 "nbformat": 4,
 "nbformat_minor": 5
}
