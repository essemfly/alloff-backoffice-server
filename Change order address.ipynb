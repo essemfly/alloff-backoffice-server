{
 "cells": [
  {
   "cell_type": "code",
   "execution_count": 13,
   "id": "6d01bdb2",
   "metadata": {},
   "outputs": [],
   "source": [
    "import os\n",
    "import pandas as pd\n",
    "import django\n",
    "os.environ.setdefault('DJANGO_SETTINGS_MODULE', 'rest.settings')\n",
    "os.environ[\"DJANGO_ALLOW_ASYNC_UNSAFE\"] = \"true\"\n",
    "django.setup()\n",
    "\n",
    "from tagger.core.mongo.models.order import Order\n",
    "from bson import ObjectId\n",
    "from tagger.models.order_memo import OrderMemo\n",
    "from django.contrib.auth.models import User"
   ]
  },
  {
   "cell_type": "code",
   "execution_count": 7,
   "id": "444de76d",
   "metadata": {},
   "outputs": [],
   "source": [
    "orders = Order.objects(user__mobile=\"01093389145\")"
   ]
  },
  {
   "cell_type": "code",
   "execution_count": 14,
   "id": "b0da00c7",
   "metadata": {},
   "outputs": [
    {
     "name": "stdout",
     "output_type": "stream",
     "text": [
      "618dbae426685ff05175632d CREATED\n"
     ]
    }
   ],
   "source": [
    "for o in orders:\n",
    "    payment = o.payment\n",
    "    if payment is None:\n",
    "        print(o.id, o.orderstatus)\n",
    "        continue\n",
    "    memo = OrderMemo.objects.create(\n",
    "        order_id=str(o.id),\n",
    "        admin=User.objects.get(username=\"backoffice_server\"),\n",
    "        body=\"주소 강제변경 -> 인천 연수구 컨벤시아대로42번길 20 302동904호 (22001)\"\n",
    "    )\n",
    "    payment.buyeraddress = \"인천 연수구 컨벤시아대로42번길 20 302동904호\"\n",
    "    payment.buyerpostcode = \"22001\"\n",
    "    payment.save()"
   ]
  },
  {
   "cell_type": "code",
   "execution_count": null,
   "id": "06260521",
   "metadata": {},
   "outputs": [],
   "source": []
  }
 ],
 "metadata": {
  "kernelspec": {
   "display_name": "Django Shell-Plus",
   "language": "python",
   "name": "django_extensions"
  },
  "language_info": {
   "codemirror_mode": {
    "name": "ipython",
    "version": 3
   },
   "file_extension": ".py",
   "mimetype": "text/x-python",
   "name": "python",
   "nbconvert_exporter": "python",
   "pygments_lexer": "ipython3",
   "version": "3.9.6"
  }
 },
 "nbformat": 4,
 "nbformat_minor": 5
}
